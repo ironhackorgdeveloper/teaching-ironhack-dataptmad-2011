{
 "cells": [
  {
   "cell_type": "markdown",
   "metadata": {},
   "source": [
    "<div style=\"float:right; padding-top: 15px; padding-right: 15px\">\n",
    "    <div>\n",
    "        <a href=\"https://whiteboxml.com\">\n",
    "            <img src=\"https://whiteboxml.com/static/img/logo/black_bg_white.svg\" width=\"250\">\n",
    "        </a>\n",
    "    </div>\n",
    "</div>"
   ]
  },
  {
   "cell_type": "markdown",
   "metadata": {},
   "source": [
    "# multiprocessing & parallelization"
   ]
  },
  {
   "cell_type": "markdown",
   "metadata": {},
   "source": [
    "## 1. introduction"
   ]
  },
  {
   "cell_type": "markdown",
   "metadata": {},
   "source": [
    "* difficult to apply module (it's hard to see where to apply efectively)\n",
    "* python is simple threaded and sequential by default"
   ]
  },
  {
   "cell_type": "markdown",
   "metadata": {},
   "source": [
    "## 2. get advantage of multiple cpus"
   ]
  },
  {
   "cell_type": "code",
   "execution_count": null,
   "metadata": {},
   "outputs": [],
   "source": [
    "import multiprocessing"
   ]
  },
  {
   "cell_type": "code",
   "execution_count": null,
   "metadata": {},
   "outputs": [],
   "source": [
    "multiprocessing.cpu_count()"
   ]
  },
  {
   "cell_type": "markdown",
   "metadata": {},
   "source": [
    "## 3. processing pool"
   ]
  },
  {
   "cell_type": "markdown",
   "metadata": {},
   "source": [
    "Let's create a square function and a lot of random numbers..."
   ]
  },
  {
   "cell_type": "code",
   "execution_count": 3,
   "metadata": {},
   "outputs": [],
   "source": [
    "import numpy as np\n",
    "\n",
    "def square(x):\n",
    "    return x * x\n",
    "\n",
    "data = list(np.random.randint(0, \n",
    "                              high=10000, \n",
    "                              size=int(1e3)))"
   ]
  },
  {
   "cell_type": "markdown",
   "metadata": {},
   "source": [
    "Our data is a list of 1000 random integers from 0 to 10000..."
   ]
  },
  {
   "cell_type": "code",
   "execution_count": 4,
   "metadata": {},
   "outputs": [
    {
     "data": {
      "text/plain": [
       "[4557, 9957, 5183, 877, 7103, 5864, 66, 7956, 5132, 5725]"
      ]
     },
     "execution_count": 4,
     "metadata": {},
     "output_type": "execute_result"
    }
   ],
   "source": [
    "data[:10]"
   ]
  },
  {
   "cell_type": "markdown",
   "metadata": {},
   "source": [
    "Let's make a benchmark about the best way of processing this data... to perform a benchmark we will use `%%timeit` Jupyter magic. You can read more about this magic here: https://ipython.readthedocs.io/en/stable/interactive/magics.html"
   ]
  },
  {
   "cell_type": "markdown",
   "metadata": {},
   "source": [
    "Processing it sequentially looks like this:"
   ]
  },
  {
   "cell_type": "code",
   "execution_count": 5,
   "metadata": {},
   "outputs": [
    {
     "name": "stdout",
     "output_type": "stream",
     "text": [
      "139 µs ± 2.88 µs per loop (mean ± std. dev. of 7 runs, 10000 loops each)\n"
     ]
    }
   ],
   "source": [
    "%%timeit\n",
    "\n",
    "seq_square = list(map(square, data))"
   ]
  },
  {
   "cell_type": "markdown",
   "metadata": {},
   "source": [
    "Now, let's use multiprocessing module to square all these numbers in parallel..."
   ]
  },
  {
   "cell_type": "code",
   "execution_count": 6,
   "metadata": {},
   "outputs": [
    {
     "name": "stdout",
     "output_type": "stream",
     "text": [
      "141 ms ± 3.47 ms per loop (mean ± std. dev. of 7 runs, 10 loops each)\n"
     ]
    }
   ],
   "source": [
    "%%timeit\n",
    "\n",
    "pool = multiprocessing.Pool(processes=8)\n",
    "result = pool.map(square, data)\n",
    "pool.terminate()\n",
    "pool.join()"
   ]
  },
  {
   "cell_type": "markdown",
   "metadata": {},
   "source": [
    "What is happening? -> Inter-Process Communication (https://stackoverflow.com/a/35862168)"
   ]
  },
  {
   "cell_type": "markdown",
   "metadata": {},
   "source": [
    "Let's repeat the example adding a 0.1 seconds sleep..."
   ]
  },
  {
   "cell_type": "code",
   "execution_count": 7,
   "metadata": {},
   "outputs": [],
   "source": [
    "import time\n",
    "\n",
    "def square(x):\n",
    "    time.sleep(0.01)\n",
    "    return x * x"
   ]
  },
  {
   "cell_type": "markdown",
   "metadata": {},
   "source": [
    "With our standard approach..."
   ]
  },
  {
   "cell_type": "code",
   "execution_count": 8,
   "metadata": {},
   "outputs": [
    {
     "name": "stdout",
     "output_type": "stream",
     "text": [
      "10.1 s ± 10.7 ms per loop (mean ± std. dev. of 7 runs, 1 loop each)\n"
     ]
    }
   ],
   "source": [
    "%%timeit\n",
    "\n",
    "seq_square = list(map(square, data))"
   ]
  },
  {
   "cell_type": "markdown",
   "metadata": {},
   "source": [
    "In case of using multiprocessing, it runs much faster..."
   ]
  },
  {
   "cell_type": "code",
   "execution_count": 9,
   "metadata": {},
   "outputs": [
    {
     "name": "stdout",
     "output_type": "stream",
     "text": [
      "1.35 s ± 42.4 ms per loop (mean ± std. dev. of 7 runs, 1 loop each)\n"
     ]
    }
   ],
   "source": [
    "%%timeit\n",
    "\n",
    "pool = multiprocessing.Pool(processes=8)\n",
    "result = pool.map(square, data)\n",
    "pool.terminate()\n",
    "pool.join()"
   ]
  },
  {
   "cell_type": "markdown",
   "metadata": {},
   "source": [
    "But the fastest way is using a vectorized implementation (NumPy)..."
   ]
  },
  {
   "cell_type": "code",
   "execution_count": 10,
   "metadata": {},
   "outputs": [],
   "source": [
    "data = np.array(data)"
   ]
  },
  {
   "cell_type": "code",
   "execution_count": 11,
   "metadata": {},
   "outputs": [
    {
     "name": "stdout",
     "output_type": "stream",
     "text": [
      "1.04 µs ± 27.3 ns per loop (mean ± std. dev. of 7 runs, 1000000 loops each)\n"
     ]
    }
   ],
   "source": [
    "%%timeit\n",
    "\n",
    "np.square(data)"
   ]
  },
  {
   "cell_type": "markdown",
   "metadata": {},
   "source": [
    "## 3. managing filesystem faster with multiprocessing"
   ]
  },
  {
   "cell_type": "code",
   "execution_count": 12,
   "metadata": {},
   "outputs": [],
   "source": [
    "import os\n",
    "import itertools"
   ]
  },
  {
   "cell_type": "code",
   "execution_count": 13,
   "metadata": {},
   "outputs": [
    {
     "data": {
      "text/plain": [
       "['/home/david/Nextcloud/repos/pragsis',\n",
       " '/home/david/Nextcloud/repos/freelance',\n",
       " '/home/david/Nextcloud/repos/infrastructure',\n",
       " '/home/david/Nextcloud/repos/learning',\n",
       " '/home/david/Nextcloud/repos/products',\n",
       " '/home/david/Nextcloud/repos/rrss']"
      ]
     },
     "execution_count": 13,
     "metadata": {},
     "output_type": "execute_result"
    }
   ],
   "source": [
    "root_path = '/home/david/Nextcloud/repos/'\n",
    "\n",
    "directories = [root_path + \n",
    "               path for path in os.listdir(root_path)]\n",
    "\n",
    "directories"
   ]
  },
  {
   "cell_type": "markdown",
   "metadata": {},
   "source": [
    "Let's find Python files the lesson way:"
   ]
  },
  {
   "cell_type": "code",
   "execution_count": 14,
   "metadata": {},
   "outputs": [],
   "source": [
    "def find_py_file(path):\n",
    "    files_list = []\n",
    "    for root, dirs, files in os.walk(path):\n",
    "        for file in files:\n",
    "            if file.endswith('.py'):\n",
    "                files_list.append(os.path.join(path, root, file))\n",
    "    return files_list"
   ]
  },
  {
   "cell_type": "code",
   "execution_count": 15,
   "metadata": {},
   "outputs": [
    {
     "data": {
      "text/plain": [
       "'/home/david/Nextcloud/repos/freelance'"
      ]
     },
     "execution_count": 15,
     "metadata": {},
     "output_type": "execute_result"
    }
   ],
   "source": [
    "directories[1]"
   ]
  },
  {
   "cell_type": "markdown",
   "metadata": {},
   "source": [
    "Let's test our function..."
   ]
  },
  {
   "cell_type": "code",
   "execution_count": 16,
   "metadata": {},
   "outputs": [
    {
     "data": {
      "text/plain": [
       "['/home/david/Nextcloud/repos/freelance/teaching/ironhack/ironhack-data-analytics-gurus/materials/week_7/supervised_learning_more_models/pytorch_mnist.py',\n",
       " '/home/david/Nextcloud/repos/freelance/teaching/ironhack/dataptmad-0420-classes/week_8/data_pipelines/data_pipelines_project/main_script.py',\n",
       " '/home/david/Nextcloud/repos/freelance/teaching/ironhack/dataptmad-0420-classes/week_8/data_pipelines/data_pipelines_project/p_wrangling/__init__.py',\n",
       " '/home/david/Nextcloud/repos/freelance/teaching/ironhack/dataptmad-0420-classes/week_8/data_pipelines/data_pipelines_project/p_wrangling/m_wrangling.py',\n",
       " '/home/david/Nextcloud/repos/freelance/teaching/ironhack/dataptmad-0420-classes/week_8/data_pipelines/data_pipelines_project/p_acquisition/m_acquisition.py',\n",
       " '/home/david/Nextcloud/repos/freelance/teaching/ironhack/dataptmad-0420-classes/week_8/data_pipelines/data_pipelines_project/p_acquisition/__init__.py',\n",
       " '/home/david/Nextcloud/repos/freelance/teaching/ironhack/dataptmad-0420-classes/week_8/data_pipelines/data_pipelines_project/p_reporting/__init__.py',\n",
       " '/home/david/Nextcloud/repos/freelance/teaching/ironhack/dataptmad-0420-classes/week_8/data_pipelines/data_pipelines_project/p_reporting/m_reporting.py',\n",
       " '/home/david/Nextcloud/repos/freelance/teaching/ironhack/dataptmad-0420-classes/week_8/data_pipelines/data_pipelines_project/p_analysis/__init__.py',\n",
       " '/home/david/Nextcloud/repos/freelance/teaching/ironhack/dataptmad-0420-classes/week_8/data_pipelines/data_pipelines_project/p_analysis/m_analysis.py']"
      ]
     },
     "execution_count": 16,
     "metadata": {},
     "output_type": "execute_result"
    }
   ],
   "source": [
    "find_py_file(directories[1])[:10]"
   ]
  },
  {
   "cell_type": "code",
   "execution_count": 17,
   "metadata": {},
   "outputs": [
    {
     "name": "stdout",
     "output_type": "stream",
     "text": [
      "80.9 ms ± 1.69 ms per loop (mean ± std. dev. of 7 runs, 10 loops each)\n"
     ]
    }
   ],
   "source": [
    "%%timeit\n",
    "\n",
    "py_files = map(find_py_file, directories)\n",
    "py_files_flatten = list(itertools.chain.from_iterable(py_files))"
   ]
  },
  {
   "cell_type": "code",
   "execution_count": 18,
   "metadata": {},
   "outputs": [
    {
     "name": "stdout",
     "output_type": "stream",
     "text": [
      "141 ms ± 2.81 ms per loop (mean ± std. dev. of 7 runs, 10 loops each)\n"
     ]
    }
   ],
   "source": [
    "%%timeit\n",
    "\n",
    "pool = multiprocessing.Pool()\n",
    "py_files = pool.map(find_py_file, directories)\n",
    "pool.terminate()\n",
    "pool.join()\n",
    "py_files_flatten = list(itertools.chain.from_iterable(py_files))"
   ]
  },
  {
   "cell_type": "markdown",
   "metadata": {},
   "source": [
    "## 5. the best way to do it..."
   ]
  },
  {
   "cell_type": "markdown",
   "metadata": {},
   "source": [
    "The Pythonist way to do this 😎 (maybe not the fastest...):"
   ]
  },
  {
   "cell_type": "code",
   "execution_count": 19,
   "metadata": {},
   "outputs": [],
   "source": [
    "from pathlib import Path"
   ]
  },
  {
   "cell_type": "code",
   "execution_count": 20,
   "metadata": {},
   "outputs": [],
   "source": [
    "my_directory = Path(root_path)"
   ]
  },
  {
   "cell_type": "code",
   "execution_count": 21,
   "metadata": {},
   "outputs": [
    {
     "name": "stdout",
     "output_type": "stream",
     "text": [
      "134 ms ± 2.63 ms per loop (mean ± std. dev. of 7 runs, 10 loops each)\n"
     ]
    }
   ],
   "source": [
    "%%timeit\n",
    "py_files_flatten = list(my_directory.glob('**/*.py'))"
   ]
  },
  {
   "cell_type": "code",
   "execution_count": 22,
   "metadata": {},
   "outputs": [
    {
     "data": {
      "text/plain": [
       "[PosixPath('/home/david/Nextcloud/repos/freelance/teaching/ironhack/ironhack-data-analytics-gurus/materials/week_7/supervised_learning_more_models/pytorch_mnist.py'),\n",
       " PosixPath('/home/david/Nextcloud/repos/freelance/teaching/ironhack/dataptmad-0420-classes/week_8/data_pipelines/data_pipelines_project/main_script.py'),\n",
       " PosixPath('/home/david/Nextcloud/repos/freelance/teaching/ironhack/dataptmad-0420-classes/week_8/data_pipelines/data_pipelines_project/p_wrangling/__init__.py'),\n",
       " PosixPath('/home/david/Nextcloud/repos/freelance/teaching/ironhack/dataptmad-0420-classes/week_8/data_pipelines/data_pipelines_project/p_wrangling/m_wrangling.py'),\n",
       " PosixPath('/home/david/Nextcloud/repos/freelance/teaching/ironhack/dataptmad-0420-classes/week_8/data_pipelines/data_pipelines_project/p_acquisition/m_acquisition.py'),\n",
       " PosixPath('/home/david/Nextcloud/repos/freelance/teaching/ironhack/dataptmad-0420-classes/week_8/data_pipelines/data_pipelines_project/p_acquisition/__init__.py'),\n",
       " PosixPath('/home/david/Nextcloud/repos/freelance/teaching/ironhack/dataptmad-0420-classes/week_8/data_pipelines/data_pipelines_project/p_reporting/__init__.py'),\n",
       " PosixPath('/home/david/Nextcloud/repos/freelance/teaching/ironhack/dataptmad-0420-classes/week_8/data_pipelines/data_pipelines_project/p_reporting/m_reporting.py'),\n",
       " PosixPath('/home/david/Nextcloud/repos/freelance/teaching/ironhack/dataptmad-0420-classes/week_8/data_pipelines/data_pipelines_project/p_analysis/__init__.py'),\n",
       " PosixPath('/home/david/Nextcloud/repos/freelance/teaching/ironhack/dataptmad-0420-classes/week_8/data_pipelines/data_pipelines_project/p_analysis/m_analysis.py')]"
      ]
     },
     "execution_count": 22,
     "metadata": {},
     "output_type": "execute_result"
    }
   ],
   "source": [
    "py_files_flatten = list(my_directory.glob('**/*.py'))\n",
    "py_files_flatten[:10]"
   ]
  },
  {
   "cell_type": "code",
   "execution_count": 23,
   "metadata": {},
   "outputs": [
    {
     "data": {
      "text/plain": [
       "os.stat_result(st_mode=33204, st_ino=4854457, st_dev=2053, st_nlink=1, st_uid=1000, st_gid=1000, st_size=4867, st_atime=1571736617, st_mtime=1571736617, st_ctime=1588267543)"
      ]
     },
     "execution_count": 23,
     "metadata": {},
     "output_type": "execute_result"
    }
   ],
   "source": [
    "py_files_flatten[0].stat()"
   ]
  },
  {
   "cell_type": "markdown",
   "metadata": {},
   "source": [
    "## 5. other important concepts about multiprocessing"
   ]
  },
  {
   "cell_type": "markdown",
   "metadata": {},
   "source": [
    "* spawn:\n",
    "\n",
    "The parent process starts a fresh python interpreter process. The child process will only inherit those resources necessary to run the process objects run() method. In particular, unnecessary file descriptors and handles from the parent process will not be inherited. Starting a process using this method is rather slow compared to using fork or forkserver.\n",
    "\n",
    "Available on Unix and Windows. The default on Windows and macOS.\n",
    "    \n",
    "* fork:\n",
    "\n",
    "The parent process uses os.fork() to fork the Python interpreter. The child process, when it begins, is effectively identical to the parent process. All resources of the parent are inherited by the child process. Note that safely forking a multithreaded process is problematic.\n",
    "\n",
    "Available on Unix only. The default on Unix.\n",
    "\n",
    "* forkserver\n",
    "\n",
    "When the program starts and selects the forkserver start method, a server process is started. From then on, whenever a new process is needed, the parent process connects to the server and requests that it fork a new process. The fork server process is single threaded so it is safe for it to use os.fork(). No unnecessary resources are inherited.\n",
    "\n",
    "Available on Unix platforms which support passing file descriptors over Unix pipes."
   ]
  },
  {
   "cell_type": "markdown",
   "metadata": {},
   "source": [
    "## 6. process and queues"
   ]
  },
  {
   "cell_type": "code",
   "execution_count": 24,
   "metadata": {},
   "outputs": [],
   "source": [
    "from multiprocessing import Process, Queue\n",
    "\n",
    "def f(q, number):\n",
    "    q.put(number)\n",
    "\n",
    "q = Queue()\n",
    "\n",
    "for i in range(10):\n",
    "    p = Process(target=f, args=(q, np.random.randint(128)))\n",
    "    p.start()\n",
    "    p.join()"
   ]
  },
  {
   "cell_type": "code",
   "execution_count": 25,
   "metadata": {},
   "outputs": [
    {
     "data": {
      "text/plain": [
       "88"
      ]
     },
     "execution_count": 25,
     "metadata": {},
     "output_type": "execute_result"
    }
   ],
   "source": [
    "q.get()"
   ]
  },
  {
   "cell_type": "code",
   "execution_count": 26,
   "metadata": {},
   "outputs": [],
   "source": [
    "q.put(50)"
   ]
  },
  {
   "cell_type": "markdown",
   "metadata": {},
   "source": [
    "<div style=\"padding-top: 25px; float: right\">\n",
    "    <div>    \n",
    "        <i>&nbsp;&nbsp;© Copyright by</i>\n",
    "    </div>\n",
    "    <div>\n",
    "        <a href=\"https://whiteboxml.com\">\n",
    "            <img src=\"https://whiteboxml.com/static/img/logo/black_bg_white.svg\" width=\"125\">\n",
    "        </a>\n",
    "    </div>\n",
    "</div>"
   ]
  }
 ],
 "metadata": {
  "kernelspec": {
   "display_name": "Python [conda env:ml_env]",
   "language": "python",
   "name": "conda-env-ml_env-py"
  },
  "language_info": {
   "codemirror_mode": {
    "name": "ipython",
    "version": 3
   },
   "file_extension": ".py",
   "mimetype": "text/x-python",
   "name": "python",
   "nbconvert_exporter": "python",
   "pygments_lexer": "ipython3",
   "version": "3.7.6"
  }
 },
 "nbformat": 4,
 "nbformat_minor": 4
}
