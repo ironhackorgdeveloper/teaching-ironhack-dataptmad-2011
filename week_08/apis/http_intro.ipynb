{
 "cells": [
  {
   "cell_type": "markdown",
   "metadata": {},
   "source": [
    "<div style=\"float:right; padding-top: 15px; padding-right: 15px\">\n",
    "    <div>\n",
    "        <a href=\"https://whiteboxml.com\">\n",
    "            <img src=\"https://whiteboxml.com/static/img/logo/black_bg_white.svg\" width=\"250\">\n",
    "        </a>\n",
    "    </div>\n",
    "</div>"
   ]
  },
  {
   "cell_type": "markdown",
   "metadata": {},
   "source": [
    "# Advanced APIs"
   ]
  },
  {
   "cell_type": "markdown",
   "metadata": {},
   "source": [
    "## 1. HTTP"
   ]
  },
  {
   "cell_type": "markdown",
   "metadata": {},
   "source": [
    "HTTP is the foundation of data communication for the World Wide Web."
   ]
  },
  {
   "cell_type": "markdown",
   "metadata": {},
   "source": [
    "https://en.wikipedia.org/wiki/Hypertext_Transfer_Protocol"
   ]
  },
  {
   "cell_type": "markdown",
   "metadata": {},
   "source": [
    "In an overview, the HTTP protocol consists on one participant computer making questions to a source of information that is in another computer (but it can be the same one). The one that makes the question is known as the CLIENT and the one responding to those questions is named the SERVER. For each question there must be always an answer, even if the answer is \"i don't have an answer for what you are asking for\", this is what we call the request-response cycle.\n",
    "\n",
    "The proper way to refer when a CLIENT makes a question to a SERVER is known in HTTP jargon to say we are making a REQUEST, and for each request the server sends a RESPONSE."
   ]
  },
  {
   "cell_type": "markdown",
   "metadata": {},
   "source": [
    "### 1.1 HTTP url"
   ]
  },
  {
   "cell_type": "markdown",
   "metadata": {},
   "source": [
    "It contains information of which resource we are asking the SERVER for."
   ]
  },
  {
   "cell_type": "markdown",
   "metadata": {},
   "source": [
    "Format:\n",
    "\n",
    "scheme:[//authority]path[?query][#fragment]\n",
    "\n",
    "- scheme: in this case it's http, but it can be also https in case we are connecting securely.\n",
    "- authority: this is the server we are connecting to send the REQUEST.\n",
    "- path: also known as the RESOURCE we are asking for\n",
    "\n",
    "Examples:\n",
    "\n",
    "- https://www.google.com/webhp?authuser=2\n",
    "- https://datatau.net/post/2004\n",
    "- https://whiteboxml.com/portfolio#products\n"
   ]
  },
  {
   "cell_type": "markdown",
   "metadata": {},
   "source": [
    "### 1.2 HTTP vs HTTPS"
   ]
  },
  {
   "cell_type": "markdown",
   "metadata": {},
   "source": [
    "- HTTP by default operates on port 80 whereas HTTPS by default operates on port 443. \n",
    "- HTTP transfers data in plain text while HTTPS transfers data in cipher text (encrypt text). \n",
    "- HTTP is fast as compared to HTTPS because HTTPS consumes computation power to encrypt the communication channel."
   ]
  },
  {
   "cell_type": "markdown",
   "metadata": {},
   "source": [
    "### 1.3 Request"
   ]
  },
  {
   "cell_type": "markdown",
   "metadata": {},
   "source": [
    "The request is a question we formulate to a SERVER in order to receive a piece of information. This piece of information can be anything, is not defined in the HTTP standard what information the SERVER should answer with. It can be anything: an image, a video, a HTML page, a PDF file, etc.\n",
    "\n",
    "The most common types are GET and POST:\n",
    "\n",
    "- __GET:__ Just expreses that we want some resource from a SERVER\n",
    "- __POST:__ They contain information for the SERVER to respond according to it\n"
   ]
  },
  {
   "cell_type": "markdown",
   "metadata": {},
   "source": [
    "### 1.4 Response"
   ]
  },
  {
   "cell_type": "markdown",
   "metadata": {},
   "source": [
    "All responses follow the same structure. They have a HEADER section that contains metadata about what the behaviour of the server and a BODY that contains the desired piece of information.\n",
    "\n",
    "One important part of the RESPONSE HEADER is the status code. This code is a numerical code indicating the result of the server. There are different status codes depending if the server succedded to perform the REQUEST of didn't manage to do anything at all. This are some groups of status codes:\n",
    "\n",
    "- __2xx successful__: the request was successfully received, understood and accepted\n",
    "- __3xx redirection__: further action needs to be taken in order to complete the request\n",
    "- __4xx client error__: the request contains bad syntax or cannot be fulfilled\n",
    "- __5xx server error__: the server failed to fulfill an apparently valid request\n",
    "\n",
    "Complete list:\n",
    "- https://en.wikipedia.org/wiki/List_of_HTTP_status_codes\n",
    "- https://http.cat"
   ]
  },
  {
   "cell_type": "markdown",
   "metadata": {},
   "source": [
    "### 1.5 Useful material"
   ]
  },
  {
   "cell_type": "markdown",
   "metadata": {},
   "source": [
    "Ctrl+Shift+C/I, F12, Inspect..."
   ]
  },
  {
   "cell_type": "markdown",
   "metadata": {},
   "source": [
    "https://2.python-requests.org/en/latest/user/quickstart/"
   ]
  },
  {
   "cell_type": "markdown",
   "metadata": {},
   "source": [
    "https://www.getpostman.com/"
   ]
  },
  {
   "cell_type": "markdown",
   "metadata": {},
   "source": [
    "https://curl.trillworks.com/"
   ]
  },
  {
   "cell_type": "markdown",
   "metadata": {},
   "source": [
    "<div style=\"padding-top: 25px; float: right\">\n",
    "    <div>    \n",
    "        <i>&nbsp;&nbsp;© Copyright by</i>\n",
    "    </div>\n",
    "    <div>\n",
    "        <a href=\"https://whiteboxml.com\">\n",
    "            <img src=\"https://whiteboxml.com/static/img/logo/black_bg_white.svg\" width=\"125\">\n",
    "        </a>\n",
    "    </div>\n",
    "</div>"
   ]
  }
 ],
 "metadata": {
  "kernelspec": {
   "display_name": "Python [conda env:ironhack_env]",
   "language": "python",
   "name": "conda-env-ironhack_env-py"
  },
  "language_info": {
   "codemirror_mode": {
    "name": "ipython",
    "version": 3
   },
   "file_extension": ".py",
   "mimetype": "text/x-python",
   "name": "python",
   "nbconvert_exporter": "python",
   "pygments_lexer": "ipython3",
   "version": "3.7.9"
  }
 },
 "nbformat": 4,
 "nbformat_minor": 4
}
