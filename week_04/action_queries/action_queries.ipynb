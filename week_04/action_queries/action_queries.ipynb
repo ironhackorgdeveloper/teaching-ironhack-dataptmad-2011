{
 "cells": [
  {
   "cell_type": "markdown",
   "metadata": {},
   "source": [
    "<div style=\"float:right; padding-top: 15px; padding-right: 15px\">\n",
    "    <div>\n",
    "        <a href=\"https://whiteboxml.com\">\n",
    "            <img src=\"https://whiteboxml.com/static/img/logo/black_bg_white.svg\" width=\"250\">\n",
    "        </a>\n",
    "    </div>\n",
    "</div>"
   ]
  },
  {
   "cell_type": "markdown",
   "metadata": {},
   "source": [
    "# action queries"
   ]
  },
  {
   "cell_type": "markdown",
   "metadata": {},
   "source": [
    "## 1. introduction"
   ]
  },
  {
   "cell_type": "markdown",
   "metadata": {},
   "source": [
    "* action queries **modify databases**\n",
    "* action queries are **not to retrieve information**, but to :\n",
    "    * write new info\n",
    "    * modify existing information\n",
    "    * modify database structure (tables, etc.)"
   ]
  },
  {
   "cell_type": "markdown",
   "metadata": {},
   "source": [
    "## 2. sample database (publications 📘)"
   ]
  },
  {
   "cell_type": "code",
   "execution_count": 1,
   "metadata": {},
   "outputs": [],
   "source": [
    "# let's load jupyter sql extension\n",
    "\n",
    "%load_ext sql\n",
    "%config SqlMagic.autocommit = False"
   ]
  },
  {
   "cell_type": "code",
   "execution_count": 2,
   "metadata": {},
   "outputs": [],
   "source": [
    "# load database\n",
    "\n",
    "%sql sqlite:///data/publications.db"
   ]
  },
  {
   "cell_type": "markdown",
   "metadata": {},
   "source": [
    "getting tables in publications database:"
   ]
  },
  {
   "cell_type": "code",
   "execution_count": 3,
   "metadata": {},
   "outputs": [
    {
     "name": "stdout",
     "output_type": "stream",
     "text": [
      " * sqlite:///data/publications.db\n",
      "Done.\n",
      "Returning data to local variable tables\n"
     ]
    }
   ],
   "source": [
    "%%sql tables <<\n",
    "\n",
    "SELECT \n",
    "    name\n",
    "FROM \n",
    "    sqlite_master \n",
    "WHERE \n",
    "    type ='table' AND \n",
    "    name NOT LIKE 'sqlite_%';"
   ]
  },
  {
   "cell_type": "code",
   "execution_count": 4,
   "metadata": {},
   "outputs": [
    {
     "data": {
      "text/html": [
       "<div>\n",
       "<style scoped>\n",
       "    .dataframe tbody tr th:only-of-type {\n",
       "        vertical-align: middle;\n",
       "    }\n",
       "\n",
       "    .dataframe tbody tr th {\n",
       "        vertical-align: top;\n",
       "    }\n",
       "\n",
       "    .dataframe thead th {\n",
       "        text-align: right;\n",
       "    }\n",
       "</style>\n",
       "<table border=\"1\" class=\"dataframe\">\n",
       "  <thead>\n",
       "    <tr style=\"text-align: right;\">\n",
       "      <th></th>\n",
       "    </tr>\n",
       "  </thead>\n",
       "  <tbody>\n",
       "  </tbody>\n",
       "</table>\n",
       "</div>"
      ],
      "text/plain": [
       "Empty DataFrame\n",
       "Columns: []\n",
       "Index: []"
      ]
     },
     "execution_count": 4,
     "metadata": {},
     "output_type": "execute_result"
    }
   ],
   "source": [
    "tables.DataFrame()"
   ]
  },
  {
   "cell_type": "markdown",
   "metadata": {},
   "source": [
    "## 3. types of action queries"
   ]
  },
  {
   "cell_type": "markdown",
   "metadata": {},
   "source": [
    "* create / delete / modify tables\n",
    "* appending / deleting / updating records in a table"
   ]
  },
  {
   "cell_type": "markdown",
   "metadata": {},
   "source": [
    "### table creation"
   ]
  },
  {
   "cell_type": "markdown",
   "metadata": {},
   "source": [
    "![sqlite create table](https://www.sqlite.org/images/syntax/create-table-stmt.gif \"SQLite CREATE TABLE\")"
   ]
  },
  {
   "cell_type": "markdown",
   "metadata": {},
   "source": [
    "### a) create table (as is, not as select)"
   ]
  },
  {
   "cell_type": "markdown",
   "metadata": {},
   "source": [
    "```sql\n",
    "CREATE TABLE [IF NOT EXISTS] [schema_name].table_name (\n",
    "    column_1 data_type PRIMARY KEY,\n",
    "       column_2 data_type NOT NULL,\n",
    "    column_3 data_type DEFAULT 0,\n",
    "    table_constraints\n",
    ") [WITHOUT ROWID];\n",
    "```"
   ]
  },
  {
   "cell_type": "markdown",
   "metadata": {},
   "source": [
    "Let's create an empty table with:\n",
    "* a primary key called **my_pk_col** which is as integer\n",
    "* a string column called **one_column**\n",
    "* a datetime column called **another_column**"
   ]
  },
  {
   "cell_type": "code",
   "execution_count": 5,
   "metadata": {},
   "outputs": [
    {
     "name": "stdout",
     "output_type": "stream",
     "text": [
      " * sqlite:///data/publications.db\n",
      "Done.\n",
      "Returning data to local variable create\n"
     ]
    }
   ],
   "source": [
    "%%sql create <<\n",
    "\n",
    "CREATE TABLE IF NOT EXISTS my_custom_table(\n",
    "    my_pk_col integer primary key,\n",
    "    one_column string,\n",
    "    another_column datetime default '1989-07-21 01:00:00'\n",
    ")"
   ]
  },
  {
   "cell_type": "code",
   "execution_count": 6,
   "metadata": {},
   "outputs": [
    {
     "data": {
      "text/html": [
       "<div>\n",
       "<style scoped>\n",
       "    .dataframe tbody tr th:only-of-type {\n",
       "        vertical-align: middle;\n",
       "    }\n",
       "\n",
       "    .dataframe tbody tr th {\n",
       "        vertical-align: top;\n",
       "    }\n",
       "\n",
       "    .dataframe thead th {\n",
       "        text-align: right;\n",
       "    }\n",
       "</style>\n",
       "<table border=\"1\" class=\"dataframe\">\n",
       "  <thead>\n",
       "    <tr style=\"text-align: right;\">\n",
       "      <th></th>\n",
       "    </tr>\n",
       "  </thead>\n",
       "  <tbody>\n",
       "  </tbody>\n",
       "</table>\n",
       "</div>"
      ],
      "text/plain": [
       "Empty DataFrame\n",
       "Columns: []\n",
       "Index: []"
      ]
     },
     "execution_count": 6,
     "metadata": {},
     "output_type": "execute_result"
    }
   ],
   "source": [
    "create.DataFrame()  # no output for action queries!"
   ]
  },
  {
   "cell_type": "markdown",
   "metadata": {},
   "source": [
    "let's check tables in database again!"
   ]
  },
  {
   "cell_type": "code",
   "execution_count": 7,
   "metadata": {},
   "outputs": [
    {
     "name": "stdout",
     "output_type": "stream",
     "text": [
      " * sqlite:///data/publications.db\n",
      "Done.\n",
      "Returning data to local variable tables\n"
     ]
    }
   ],
   "source": [
    "%%sql tables <<\n",
    "\n",
    "SELECT \n",
    "    name\n",
    "FROM \n",
    "    sqlite_master \n",
    "WHERE \n",
    "    type ='table' AND \n",
    "    name NOT LIKE 'sqlite_%';"
   ]
  },
  {
   "cell_type": "code",
   "execution_count": 8,
   "metadata": {},
   "outputs": [
    {
     "data": {
      "text/html": [
       "<div>\n",
       "<style scoped>\n",
       "    .dataframe tbody tr th:only-of-type {\n",
       "        vertical-align: middle;\n",
       "    }\n",
       "\n",
       "    .dataframe tbody tr th {\n",
       "        vertical-align: top;\n",
       "    }\n",
       "\n",
       "    .dataframe thead th {\n",
       "        text-align: right;\n",
       "    }\n",
       "</style>\n",
       "<table border=\"1\" class=\"dataframe\">\n",
       "  <thead>\n",
       "    <tr style=\"text-align: right;\">\n",
       "      <th></th>\n",
       "      <th>name</th>\n",
       "    </tr>\n",
       "  </thead>\n",
       "  <tbody>\n",
       "    <tr>\n",
       "      <th>0</th>\n",
       "      <td>authors</td>\n",
       "    </tr>\n",
       "    <tr>\n",
       "      <th>1</th>\n",
       "      <td>discounts</td>\n",
       "    </tr>\n",
       "    <tr>\n",
       "      <th>2</th>\n",
       "      <td>employee</td>\n",
       "    </tr>\n",
       "    <tr>\n",
       "      <th>3</th>\n",
       "      <td>jobs</td>\n",
       "    </tr>\n",
       "    <tr>\n",
       "      <th>4</th>\n",
       "      <td>pub_info</td>\n",
       "    </tr>\n",
       "    <tr>\n",
       "      <th>5</th>\n",
       "      <td>publishers</td>\n",
       "    </tr>\n",
       "    <tr>\n",
       "      <th>6</th>\n",
       "      <td>roysched</td>\n",
       "    </tr>\n",
       "    <tr>\n",
       "      <th>7</th>\n",
       "      <td>sales</td>\n",
       "    </tr>\n",
       "    <tr>\n",
       "      <th>8</th>\n",
       "      <td>stores</td>\n",
       "    </tr>\n",
       "    <tr>\n",
       "      <th>9</th>\n",
       "      <td>titleauthor</td>\n",
       "    </tr>\n",
       "    <tr>\n",
       "      <th>10</th>\n",
       "      <td>titles</td>\n",
       "    </tr>\n",
       "    <tr>\n",
       "      <th>11</th>\n",
       "      <td>my_custom_table</td>\n",
       "    </tr>\n",
       "  </tbody>\n",
       "</table>\n",
       "</div>"
      ],
      "text/plain": [
       "               name\n",
       "0           authors\n",
       "1         discounts\n",
       "2          employee\n",
       "3              jobs\n",
       "4          pub_info\n",
       "5        publishers\n",
       "6          roysched\n",
       "7             sales\n",
       "8            stores\n",
       "9       titleauthor\n",
       "10           titles\n",
       "11  my_custom_table"
      ]
     },
     "execution_count": 8,
     "metadata": {},
     "output_type": "execute_result"
    }
   ],
   "source": [
    "tables.DataFrame()"
   ]
  },
  {
   "cell_type": "markdown",
   "metadata": {},
   "source": [
    "see **my custom table**? use DBeaver to check its content..."
   ]
  },
  {
   "cell_type": "markdown",
   "metadata": {},
   "source": [
    "### b) create table (as select)"
   ]
  },
  {
   "cell_type": "markdown",
   "metadata": {},
   "source": [
    "now, let's create a new table with the result of a query... first let's make a query to retrieve the number of distinct orders, titles for every book store, as well as total sales..."
   ]
  },
  {
   "cell_type": "code",
   "execution_count": 9,
   "metadata": {},
   "outputs": [
    {
     "name": "stdout",
     "output_type": "stream",
     "text": [
      " * sqlite:///data/publications.db\n",
      "Done.\n",
      "Returning data to local variable select\n"
     ]
    }
   ],
   "source": [
    "%%sql select <<\n",
    "\n",
    "select\n",
    "stores.stor_id, \n",
    "stores.stor_name, \n",
    "count(distinct sales.ord_num),\n",
    "count(distinct sales.title_id),\n",
    "sum(sales.qty)\n",
    "from sales join stores on\n",
    "stores.stor_id = sales.stor_id\n",
    "group by stores.stor_id, stores.stor_name;"
   ]
  },
  {
   "cell_type": "code",
   "execution_count": 10,
   "metadata": {},
   "outputs": [
    {
     "data": {
      "text/html": [
       "<div>\n",
       "<style scoped>\n",
       "    .dataframe tbody tr th:only-of-type {\n",
       "        vertical-align: middle;\n",
       "    }\n",
       "\n",
       "    .dataframe tbody tr th {\n",
       "        vertical-align: top;\n",
       "    }\n",
       "\n",
       "    .dataframe thead th {\n",
       "        text-align: right;\n",
       "    }\n",
       "</style>\n",
       "<table border=\"1\" class=\"dataframe\">\n",
       "  <thead>\n",
       "    <tr style=\"text-align: right;\">\n",
       "      <th></th>\n",
       "      <th>stor_id</th>\n",
       "      <th>stor_name</th>\n",
       "      <th>count(distinct sales.ord_num)</th>\n",
       "      <th>count(distinct sales.title_id)</th>\n",
       "      <th>sum(sales.qty)</th>\n",
       "    </tr>\n",
       "  </thead>\n",
       "  <tbody>\n",
       "    <tr>\n",
       "      <th>0</th>\n",
       "      <td>6380</td>\n",
       "      <td>Eric the Read Books</td>\n",
       "      <td>2</td>\n",
       "      <td>2</td>\n",
       "      <td>8</td>\n",
       "    </tr>\n",
       "    <tr>\n",
       "      <th>1</th>\n",
       "      <td>7066</td>\n",
       "      <td>Barnum's</td>\n",
       "      <td>2</td>\n",
       "      <td>2</td>\n",
       "      <td>125</td>\n",
       "    </tr>\n",
       "    <tr>\n",
       "      <th>2</th>\n",
       "      <td>7067</td>\n",
       "      <td>News &amp; Brews</td>\n",
       "      <td>2</td>\n",
       "      <td>4</td>\n",
       "      <td>90</td>\n",
       "    </tr>\n",
       "    <tr>\n",
       "      <th>3</th>\n",
       "      <td>7131</td>\n",
       "      <td>Doc-U-Mat: Quality Laundry and Books</td>\n",
       "      <td>3</td>\n",
       "      <td>6</td>\n",
       "      <td>130</td>\n",
       "    </tr>\n",
       "    <tr>\n",
       "      <th>4</th>\n",
       "      <td>7896</td>\n",
       "      <td>Fricative Bookshop</td>\n",
       "      <td>3</td>\n",
       "      <td>3</td>\n",
       "      <td>60</td>\n",
       "    </tr>\n",
       "    <tr>\n",
       "      <th>5</th>\n",
       "      <td>8042</td>\n",
       "      <td>Bookbeat</td>\n",
       "      <td>4</td>\n",
       "      <td>4</td>\n",
       "      <td>80</td>\n",
       "    </tr>\n",
       "  </tbody>\n",
       "</table>\n",
       "</div>"
      ],
      "text/plain": [
       "  stor_id                             stor_name  \\\n",
       "0    6380                   Eric the Read Books   \n",
       "1    7066                              Barnum's   \n",
       "2    7067                          News & Brews   \n",
       "3    7131  Doc-U-Mat: Quality Laundry and Books   \n",
       "4    7896                    Fricative Bookshop   \n",
       "5    8042                              Bookbeat   \n",
       "\n",
       "   count(distinct sales.ord_num)  count(distinct sales.title_id)  \\\n",
       "0                              2                               2   \n",
       "1                              2                               2   \n",
       "2                              2                               4   \n",
       "3                              3                               6   \n",
       "4                              3                               3   \n",
       "5                              4                               4   \n",
       "\n",
       "   sum(sales.qty)  \n",
       "0               8  \n",
       "1             125  \n",
       "2              90  \n",
       "3             130  \n",
       "4              60  \n",
       "5              80  "
      ]
     },
     "execution_count": 10,
     "metadata": {},
     "output_type": "execute_result"
    }
   ],
   "source": [
    "select.DataFrame()"
   ]
  },
  {
   "cell_type": "markdown",
   "metadata": {},
   "source": [
    "finally, let's create a table from this query: "
   ]
  },
  {
   "cell_type": "code",
   "execution_count": 11,
   "metadata": {},
   "outputs": [
    {
     "name": "stdout",
     "output_type": "stream",
     "text": [
      " * sqlite:///data/publications.db\n",
      "Done.\n",
      "Returning data to local variable create_as_select\n"
     ]
    }
   ],
   "source": [
    "%%sql create_as_select <<\n",
    "\n",
    "create table if not exists store_sales_summary \n",
    "as \n",
    "select\n",
    "stores.stor_id, \n",
    "stores.stor_name, \n",
    "count(distinct sales.ord_num),\n",
    "count(distinct sales.title_id),\n",
    "sum(sales.qty)\n",
    "from sales join stores on\n",
    "stores.stor_id = sales.stor_id\n",
    "group by stores.stor_id, stores.stor_name;"
   ]
  },
  {
   "cell_type": "code",
   "execution_count": 12,
   "metadata": {},
   "outputs": [
    {
     "data": {
      "text/html": [
       "<div>\n",
       "<style scoped>\n",
       "    .dataframe tbody tr th:only-of-type {\n",
       "        vertical-align: middle;\n",
       "    }\n",
       "\n",
       "    .dataframe tbody tr th {\n",
       "        vertical-align: top;\n",
       "    }\n",
       "\n",
       "    .dataframe thead th {\n",
       "        text-align: right;\n",
       "    }\n",
       "</style>\n",
       "<table border=\"1\" class=\"dataframe\">\n",
       "  <thead>\n",
       "    <tr style=\"text-align: right;\">\n",
       "      <th></th>\n",
       "    </tr>\n",
       "  </thead>\n",
       "  <tbody>\n",
       "  </tbody>\n",
       "</table>\n",
       "</div>"
      ],
      "text/plain": [
       "Empty DataFrame\n",
       "Columns: []\n",
       "Index: []"
      ]
     },
     "execution_count": 12,
     "metadata": {},
     "output_type": "execute_result"
    }
   ],
   "source": [
    "create_as_select.DataFrame()  # no output for action queries!"
   ]
  },
  {
   "cell_type": "markdown",
   "metadata": {},
   "source": [
    "new table should be in the database. this one will have the columns and rows from specified query:"
   ]
  },
  {
   "cell_type": "code",
   "execution_count": 13,
   "metadata": {},
   "outputs": [
    {
     "name": "stdout",
     "output_type": "stream",
     "text": [
      " * sqlite:///data/publications.db\n",
      "Done.\n",
      "Returning data to local variable select\n"
     ]
    }
   ],
   "source": [
    "%%sql select <<\n",
    "\n",
    "select * from store_sales_summary;"
   ]
  },
  {
   "cell_type": "code",
   "execution_count": 14,
   "metadata": {},
   "outputs": [
    {
     "data": {
      "text/html": [
       "<div>\n",
       "<style scoped>\n",
       "    .dataframe tbody tr th:only-of-type {\n",
       "        vertical-align: middle;\n",
       "    }\n",
       "\n",
       "    .dataframe tbody tr th {\n",
       "        vertical-align: top;\n",
       "    }\n",
       "\n",
       "    .dataframe thead th {\n",
       "        text-align: right;\n",
       "    }\n",
       "</style>\n",
       "<table border=\"1\" class=\"dataframe\">\n",
       "  <thead>\n",
       "    <tr style=\"text-align: right;\">\n",
       "      <th></th>\n",
       "      <th>stor_id</th>\n",
       "      <th>stor_name</th>\n",
       "      <th>count(distinct sales.ord_num)</th>\n",
       "      <th>count(distinct sales.title_id)</th>\n",
       "      <th>sum(sales.qty)</th>\n",
       "    </tr>\n",
       "  </thead>\n",
       "  <tbody>\n",
       "    <tr>\n",
       "      <th>0</th>\n",
       "      <td>6380</td>\n",
       "      <td>Eric the Read Books</td>\n",
       "      <td>2</td>\n",
       "      <td>2</td>\n",
       "      <td>8</td>\n",
       "    </tr>\n",
       "    <tr>\n",
       "      <th>1</th>\n",
       "      <td>7066</td>\n",
       "      <td>Barnum's</td>\n",
       "      <td>2</td>\n",
       "      <td>2</td>\n",
       "      <td>125</td>\n",
       "    </tr>\n",
       "    <tr>\n",
       "      <th>2</th>\n",
       "      <td>7067</td>\n",
       "      <td>News &amp; Brews</td>\n",
       "      <td>2</td>\n",
       "      <td>4</td>\n",
       "      <td>90</td>\n",
       "    </tr>\n",
       "    <tr>\n",
       "      <th>3</th>\n",
       "      <td>7131</td>\n",
       "      <td>Doc-U-Mat: Quality Laundry and Books</td>\n",
       "      <td>3</td>\n",
       "      <td>6</td>\n",
       "      <td>130</td>\n",
       "    </tr>\n",
       "    <tr>\n",
       "      <th>4</th>\n",
       "      <td>7896</td>\n",
       "      <td>Fricative Bookshop</td>\n",
       "      <td>3</td>\n",
       "      <td>3</td>\n",
       "      <td>60</td>\n",
       "    </tr>\n",
       "    <tr>\n",
       "      <th>5</th>\n",
       "      <td>8042</td>\n",
       "      <td>Bookbeat</td>\n",
       "      <td>4</td>\n",
       "      <td>4</td>\n",
       "      <td>80</td>\n",
       "    </tr>\n",
       "  </tbody>\n",
       "</table>\n",
       "</div>"
      ],
      "text/plain": [
       "  stor_id                             stor_name  \\\n",
       "0    6380                   Eric the Read Books   \n",
       "1    7066                              Barnum's   \n",
       "2    7067                          News & Brews   \n",
       "3    7131  Doc-U-Mat: Quality Laundry and Books   \n",
       "4    7896                    Fricative Bookshop   \n",
       "5    8042                              Bookbeat   \n",
       "\n",
       "   count(distinct sales.ord_num)  count(distinct sales.title_id)  \\\n",
       "0                              2                               2   \n",
       "1                              2                               2   \n",
       "2                              2                               4   \n",
       "3                              3                               6   \n",
       "4                              3                               3   \n",
       "5                              4                               4   \n",
       "\n",
       "   sum(sales.qty)  \n",
       "0               8  \n",
       "1             125  \n",
       "2              90  \n",
       "3             130  \n",
       "4              60  \n",
       "5              80  "
      ]
     },
     "execution_count": 14,
     "metadata": {},
     "output_type": "execute_result"
    }
   ],
   "source": [
    "select.DataFrame()"
   ]
  },
  {
   "cell_type": "markdown",
   "metadata": {},
   "source": [
    "### drop table (be careful! 🚨)"
   ]
  },
  {
   "cell_type": "markdown",
   "metadata": {},
   "source": [
    "![sqlite drop table](https://www.sqlite.org/images/syntax/drop-table-stmt.gif \"SQLite DROP TABLE\")"
   ]
  },
  {
   "cell_type": "markdown",
   "metadata": {},
   "source": [
    "be very careful, specially if you do not have a backup... how to make a backup? (production server example)... let's drop **my_custom_table**..."
   ]
  },
  {
   "cell_type": "code",
   "execution_count": 15,
   "metadata": {},
   "outputs": [
    {
     "name": "stdout",
     "output_type": "stream",
     "text": [
      " * sqlite:///data/publications.db\n",
      "Done.\n",
      "Returning data to local variable drop\n"
     ]
    }
   ],
   "source": [
    "%%sql drop <<\n",
    "\n",
    "drop table if exists my_custom_table;"
   ]
  },
  {
   "cell_type": "code",
   "execution_count": 16,
   "metadata": {},
   "outputs": [
    {
     "data": {
      "text/html": [
       "<div>\n",
       "<style scoped>\n",
       "    .dataframe tbody tr th:only-of-type {\n",
       "        vertical-align: middle;\n",
       "    }\n",
       "\n",
       "    .dataframe tbody tr th {\n",
       "        vertical-align: top;\n",
       "    }\n",
       "\n",
       "    .dataframe thead th {\n",
       "        text-align: right;\n",
       "    }\n",
       "</style>\n",
       "<table border=\"1\" class=\"dataframe\">\n",
       "  <thead>\n",
       "    <tr style=\"text-align: right;\">\n",
       "      <th></th>\n",
       "    </tr>\n",
       "  </thead>\n",
       "  <tbody>\n",
       "  </tbody>\n",
       "</table>\n",
       "</div>"
      ],
      "text/plain": [
       "Empty DataFrame\n",
       "Columns: []\n",
       "Index: []"
      ]
     },
     "execution_count": 16,
     "metadata": {},
     "output_type": "execute_result"
    }
   ],
   "source": [
    "drop.DataFrame()"
   ]
  },
  {
   "cell_type": "markdown",
   "metadata": {},
   "source": [
    "now the table should not be in the database anymore..."
   ]
  },
  {
   "cell_type": "code",
   "execution_count": 17,
   "metadata": {},
   "outputs": [
    {
     "name": "stdout",
     "output_type": "stream",
     "text": [
      " * sqlite:///data/publications.db\n",
      "Done.\n",
      "Returning data to local variable tables\n"
     ]
    }
   ],
   "source": [
    "%%sql tables <<\n",
    "\n",
    "SELECT \n",
    "    name\n",
    "FROM \n",
    "    sqlite_master \n",
    "WHERE \n",
    "    type ='table' AND \n",
    "    name NOT LIKE 'sqlite_%';"
   ]
  },
  {
   "cell_type": "code",
   "execution_count": 18,
   "metadata": {},
   "outputs": [
    {
     "data": {
      "text/html": [
       "<div>\n",
       "<style scoped>\n",
       "    .dataframe tbody tr th:only-of-type {\n",
       "        vertical-align: middle;\n",
       "    }\n",
       "\n",
       "    .dataframe tbody tr th {\n",
       "        vertical-align: top;\n",
       "    }\n",
       "\n",
       "    .dataframe thead th {\n",
       "        text-align: right;\n",
       "    }\n",
       "</style>\n",
       "<table border=\"1\" class=\"dataframe\">\n",
       "  <thead>\n",
       "    <tr style=\"text-align: right;\">\n",
       "      <th></th>\n",
       "      <th>name</th>\n",
       "    </tr>\n",
       "  </thead>\n",
       "  <tbody>\n",
       "    <tr>\n",
       "      <th>0</th>\n",
       "      <td>authors</td>\n",
       "    </tr>\n",
       "    <tr>\n",
       "      <th>1</th>\n",
       "      <td>discounts</td>\n",
       "    </tr>\n",
       "    <tr>\n",
       "      <th>2</th>\n",
       "      <td>employee</td>\n",
       "    </tr>\n",
       "    <tr>\n",
       "      <th>3</th>\n",
       "      <td>jobs</td>\n",
       "    </tr>\n",
       "    <tr>\n",
       "      <th>4</th>\n",
       "      <td>pub_info</td>\n",
       "    </tr>\n",
       "    <tr>\n",
       "      <th>5</th>\n",
       "      <td>publishers</td>\n",
       "    </tr>\n",
       "    <tr>\n",
       "      <th>6</th>\n",
       "      <td>roysched</td>\n",
       "    </tr>\n",
       "    <tr>\n",
       "      <th>7</th>\n",
       "      <td>sales</td>\n",
       "    </tr>\n",
       "    <tr>\n",
       "      <th>8</th>\n",
       "      <td>stores</td>\n",
       "    </tr>\n",
       "    <tr>\n",
       "      <th>9</th>\n",
       "      <td>titleauthor</td>\n",
       "    </tr>\n",
       "    <tr>\n",
       "      <th>10</th>\n",
       "      <td>titles</td>\n",
       "    </tr>\n",
       "    <tr>\n",
       "      <th>11</th>\n",
       "      <td>store_sales_summary</td>\n",
       "    </tr>\n",
       "  </tbody>\n",
       "</table>\n",
       "</div>"
      ],
      "text/plain": [
       "                   name\n",
       "0               authors\n",
       "1             discounts\n",
       "2              employee\n",
       "3                  jobs\n",
       "4              pub_info\n",
       "5            publishers\n",
       "6              roysched\n",
       "7                 sales\n",
       "8                stores\n",
       "9           titleauthor\n",
       "10               titles\n",
       "11  store_sales_summary"
      ]
     },
     "execution_count": 18,
     "metadata": {},
     "output_type": "execute_result"
    }
   ],
   "source": [
    "tables.DataFrame()"
   ]
  },
  {
   "cell_type": "markdown",
   "metadata": {},
   "source": [
    "perfect!"
   ]
  },
  {
   "cell_type": "markdown",
   "metadata": {},
   "source": [
    "### alter table"
   ]
  },
  {
   "cell_type": "markdown",
   "metadata": {},
   "source": [
    "![sqlite alter table](https://www.sqlite.org/images/syntax/alter-table-stmt.gif \"SQLite ALTER TABLE\")"
   ]
  },
  {
   "cell_type": "markdown",
   "metadata": {},
   "source": [
    "### a) add new column to table"
   ]
  },
  {
   "cell_type": "markdown",
   "metadata": {},
   "source": [
    "let's add a new column to this table with the sales goal for every store... will set a default of 100 units and the column must not be nullable..."
   ]
  },
  {
   "cell_type": "code",
   "execution_count": 19,
   "metadata": {},
   "outputs": [
    {
     "name": "stdout",
     "output_type": "stream",
     "text": [
      " * sqlite:///data/publications.db\n",
      "Done.\n",
      "Returning data to local variable alter_table_add_col\n"
     ]
    }
   ],
   "source": [
    "%%sql alter_table_add_col <<\n",
    "\n",
    "ALTER TABLE store_sales_summary \n",
    "ADD COLUMN goal INTEGER DEFAULT 100 NOT NULL;"
   ]
  },
  {
   "cell_type": "code",
   "execution_count": 20,
   "metadata": {},
   "outputs": [
    {
     "data": {
      "text/html": [
       "<div>\n",
       "<style scoped>\n",
       "    .dataframe tbody tr th:only-of-type {\n",
       "        vertical-align: middle;\n",
       "    }\n",
       "\n",
       "    .dataframe tbody tr th {\n",
       "        vertical-align: top;\n",
       "    }\n",
       "\n",
       "    .dataframe thead th {\n",
       "        text-align: right;\n",
       "    }\n",
       "</style>\n",
       "<table border=\"1\" class=\"dataframe\">\n",
       "  <thead>\n",
       "    <tr style=\"text-align: right;\">\n",
       "      <th></th>\n",
       "    </tr>\n",
       "  </thead>\n",
       "  <tbody>\n",
       "  </tbody>\n",
       "</table>\n",
       "</div>"
      ],
      "text/plain": [
       "Empty DataFrame\n",
       "Columns: []\n",
       "Index: []"
      ]
     },
     "execution_count": 20,
     "metadata": {},
     "output_type": "execute_result"
    }
   ],
   "source": [
    "alter_table_add_col.DataFrame()"
   ]
  },
  {
   "cell_type": "code",
   "execution_count": 21,
   "metadata": {},
   "outputs": [
    {
     "name": "stdout",
     "output_type": "stream",
     "text": [
      " * sqlite:///data/publications.db\n",
      "Done.\n",
      "Returning data to local variable select\n"
     ]
    }
   ],
   "source": [
    "%%sql select <<\n",
    "\n",
    "select * from store_sales_summary;"
   ]
  },
  {
   "cell_type": "code",
   "execution_count": 22,
   "metadata": {},
   "outputs": [
    {
     "data": {
      "text/html": [
       "<div>\n",
       "<style scoped>\n",
       "    .dataframe tbody tr th:only-of-type {\n",
       "        vertical-align: middle;\n",
       "    }\n",
       "\n",
       "    .dataframe tbody tr th {\n",
       "        vertical-align: top;\n",
       "    }\n",
       "\n",
       "    .dataframe thead th {\n",
       "        text-align: right;\n",
       "    }\n",
       "</style>\n",
       "<table border=\"1\" class=\"dataframe\">\n",
       "  <thead>\n",
       "    <tr style=\"text-align: right;\">\n",
       "      <th></th>\n",
       "      <th>stor_id</th>\n",
       "      <th>stor_name</th>\n",
       "      <th>count(distinct sales.ord_num)</th>\n",
       "      <th>count(distinct sales.title_id)</th>\n",
       "      <th>sum(sales.qty)</th>\n",
       "      <th>goal</th>\n",
       "    </tr>\n",
       "  </thead>\n",
       "  <tbody>\n",
       "    <tr>\n",
       "      <th>0</th>\n",
       "      <td>6380</td>\n",
       "      <td>Eric the Read Books</td>\n",
       "      <td>2</td>\n",
       "      <td>2</td>\n",
       "      <td>8</td>\n",
       "      <td>100</td>\n",
       "    </tr>\n",
       "    <tr>\n",
       "      <th>1</th>\n",
       "      <td>7066</td>\n",
       "      <td>Barnum's</td>\n",
       "      <td>2</td>\n",
       "      <td>2</td>\n",
       "      <td>125</td>\n",
       "      <td>100</td>\n",
       "    </tr>\n",
       "    <tr>\n",
       "      <th>2</th>\n",
       "      <td>7067</td>\n",
       "      <td>News &amp; Brews</td>\n",
       "      <td>2</td>\n",
       "      <td>4</td>\n",
       "      <td>90</td>\n",
       "      <td>100</td>\n",
       "    </tr>\n",
       "    <tr>\n",
       "      <th>3</th>\n",
       "      <td>7131</td>\n",
       "      <td>Doc-U-Mat: Quality Laundry and Books</td>\n",
       "      <td>3</td>\n",
       "      <td>6</td>\n",
       "      <td>130</td>\n",
       "      <td>100</td>\n",
       "    </tr>\n",
       "    <tr>\n",
       "      <th>4</th>\n",
       "      <td>7896</td>\n",
       "      <td>Fricative Bookshop</td>\n",
       "      <td>3</td>\n",
       "      <td>3</td>\n",
       "      <td>60</td>\n",
       "      <td>100</td>\n",
       "    </tr>\n",
       "    <tr>\n",
       "      <th>5</th>\n",
       "      <td>8042</td>\n",
       "      <td>Bookbeat</td>\n",
       "      <td>4</td>\n",
       "      <td>4</td>\n",
       "      <td>80</td>\n",
       "      <td>100</td>\n",
       "    </tr>\n",
       "  </tbody>\n",
       "</table>\n",
       "</div>"
      ],
      "text/plain": [
       "  stor_id                             stor_name  \\\n",
       "0    6380                   Eric the Read Books   \n",
       "1    7066                              Barnum's   \n",
       "2    7067                          News & Brews   \n",
       "3    7131  Doc-U-Mat: Quality Laundry and Books   \n",
       "4    7896                    Fricative Bookshop   \n",
       "5    8042                              Bookbeat   \n",
       "\n",
       "   count(distinct sales.ord_num)  count(distinct sales.title_id)  \\\n",
       "0                              2                               2   \n",
       "1                              2                               2   \n",
       "2                              2                               4   \n",
       "3                              3                               6   \n",
       "4                              3                               3   \n",
       "5                              4                               4   \n",
       "\n",
       "   sum(sales.qty)  goal  \n",
       "0               8   100  \n",
       "1             125   100  \n",
       "2              90   100  \n",
       "3             130   100  \n",
       "4              60   100  \n",
       "5              80   100  "
      ]
     },
     "execution_count": 22,
     "metadata": {},
     "output_type": "execute_result"
    }
   ],
   "source": [
    "select.DataFrame()"
   ]
  },
  {
   "cell_type": "markdown",
   "metadata": {},
   "source": [
    "### b) rename table"
   ]
  },
  {
   "cell_type": "markdown",
   "metadata": {},
   "source": [
    "we have create a sales benchmarking table with a goal for every store... let's rename our table to reflect this..."
   ]
  },
  {
   "cell_type": "code",
   "execution_count": 23,
   "metadata": {},
   "outputs": [
    {
     "name": "stdout",
     "output_type": "stream",
     "text": [
      " * sqlite:///data/publications.db\n",
      "Done.\n",
      "Returning data to local variable alter_table_rename_table\n"
     ]
    }
   ],
   "source": [
    "%%sql alter_table_rename_table <<\n",
    "\n",
    "ALTER TABLE store_sales_summary RENAME TO sales_benchmarking;"
   ]
  },
  {
   "cell_type": "code",
   "execution_count": 24,
   "metadata": {},
   "outputs": [
    {
     "data": {
      "text/html": [
       "<div>\n",
       "<style scoped>\n",
       "    .dataframe tbody tr th:only-of-type {\n",
       "        vertical-align: middle;\n",
       "    }\n",
       "\n",
       "    .dataframe tbody tr th {\n",
       "        vertical-align: top;\n",
       "    }\n",
       "\n",
       "    .dataframe thead th {\n",
       "        text-align: right;\n",
       "    }\n",
       "</style>\n",
       "<table border=\"1\" class=\"dataframe\">\n",
       "  <thead>\n",
       "    <tr style=\"text-align: right;\">\n",
       "      <th></th>\n",
       "    </tr>\n",
       "  </thead>\n",
       "  <tbody>\n",
       "  </tbody>\n",
       "</table>\n",
       "</div>"
      ],
      "text/plain": [
       "Empty DataFrame\n",
       "Columns: []\n",
       "Index: []"
      ]
     },
     "execution_count": 24,
     "metadata": {},
     "output_type": "execute_result"
    }
   ],
   "source": [
    "alter_table_rename_table.DataFrame()"
   ]
  },
  {
   "cell_type": "markdown",
   "metadata": {},
   "source": [
    "let's check table names in database..."
   ]
  },
  {
   "cell_type": "code",
   "execution_count": 25,
   "metadata": {},
   "outputs": [
    {
     "name": "stdout",
     "output_type": "stream",
     "text": [
      " * sqlite:///data/publications.db\n",
      "Done.\n",
      "Returning data to local variable tables\n"
     ]
    }
   ],
   "source": [
    "%%sql tables <<\n",
    "\n",
    "SELECT \n",
    "    name\n",
    "FROM \n",
    "    sqlite_master \n",
    "WHERE \n",
    "    type ='table' AND \n",
    "    name NOT LIKE 'sqlite_%';"
   ]
  },
  {
   "cell_type": "code",
   "execution_count": 26,
   "metadata": {},
   "outputs": [
    {
     "data": {
      "text/html": [
       "<div>\n",
       "<style scoped>\n",
       "    .dataframe tbody tr th:only-of-type {\n",
       "        vertical-align: middle;\n",
       "    }\n",
       "\n",
       "    .dataframe tbody tr th {\n",
       "        vertical-align: top;\n",
       "    }\n",
       "\n",
       "    .dataframe thead th {\n",
       "        text-align: right;\n",
       "    }\n",
       "</style>\n",
       "<table border=\"1\" class=\"dataframe\">\n",
       "  <thead>\n",
       "    <tr style=\"text-align: right;\">\n",
       "      <th></th>\n",
       "      <th>name</th>\n",
       "    </tr>\n",
       "  </thead>\n",
       "  <tbody>\n",
       "    <tr>\n",
       "      <th>0</th>\n",
       "      <td>authors</td>\n",
       "    </tr>\n",
       "    <tr>\n",
       "      <th>1</th>\n",
       "      <td>discounts</td>\n",
       "    </tr>\n",
       "    <tr>\n",
       "      <th>2</th>\n",
       "      <td>employee</td>\n",
       "    </tr>\n",
       "    <tr>\n",
       "      <th>3</th>\n",
       "      <td>jobs</td>\n",
       "    </tr>\n",
       "    <tr>\n",
       "      <th>4</th>\n",
       "      <td>pub_info</td>\n",
       "    </tr>\n",
       "    <tr>\n",
       "      <th>5</th>\n",
       "      <td>publishers</td>\n",
       "    </tr>\n",
       "    <tr>\n",
       "      <th>6</th>\n",
       "      <td>roysched</td>\n",
       "    </tr>\n",
       "    <tr>\n",
       "      <th>7</th>\n",
       "      <td>sales</td>\n",
       "    </tr>\n",
       "    <tr>\n",
       "      <th>8</th>\n",
       "      <td>stores</td>\n",
       "    </tr>\n",
       "    <tr>\n",
       "      <th>9</th>\n",
       "      <td>titleauthor</td>\n",
       "    </tr>\n",
       "    <tr>\n",
       "      <th>10</th>\n",
       "      <td>titles</td>\n",
       "    </tr>\n",
       "    <tr>\n",
       "      <th>11</th>\n",
       "      <td>sales_benchmarking</td>\n",
       "    </tr>\n",
       "  </tbody>\n",
       "</table>\n",
       "</div>"
      ],
      "text/plain": [
       "                  name\n",
       "0              authors\n",
       "1            discounts\n",
       "2             employee\n",
       "3                 jobs\n",
       "4             pub_info\n",
       "5           publishers\n",
       "6             roysched\n",
       "7                sales\n",
       "8               stores\n",
       "9          titleauthor\n",
       "10              titles\n",
       "11  sales_benchmarking"
      ]
     },
     "execution_count": 26,
     "metadata": {},
     "output_type": "execute_result"
    }
   ],
   "source": [
    "tables.DataFrame()"
   ]
  },
  {
   "cell_type": "markdown",
   "metadata": {},
   "source": [
    "### c) alter table drop column"
   ]
  },
  {
   "cell_type": "markdown",
   "metadata": {},
   "source": [
    "not available for SQLite 😓, maybe for Postgres or MySQL..."
   ]
  },
  {
   "cell_type": "markdown",
   "metadata": {},
   "source": [
    "### d) alter table rename column"
   ]
  },
  {
   "cell_type": "markdown",
   "metadata": {},
   "source": [
    "let's rename those ugly column names!"
   ]
  },
  {
   "cell_type": "code",
   "execution_count": 27,
   "metadata": {},
   "outputs": [
    {
     "name": "stdout",
     "output_type": "stream",
     "text": [
      " * sqlite:///data/publications.db\n",
      "Done.\n",
      "Returning data to local variable alter_table_rename_col\n"
     ]
    }
   ],
   "source": [
    "%%sql alter_table_rename_col <<\n",
    "\n",
    "ALTER TABLE  sales_benchmarking RENAME COLUMN  \n",
    "\"count(distinct sales.ord_num)\" TO total_orders;"
   ]
  },
  {
   "cell_type": "code",
   "execution_count": 28,
   "metadata": {},
   "outputs": [
    {
     "name": "stdout",
     "output_type": "stream",
     "text": [
      " * sqlite:///data/publications.db\n",
      "Done.\n",
      "Returning data to local variable alter_table_rename_col\n"
     ]
    }
   ],
   "source": [
    "%%sql alter_table_rename_col <<\n",
    "\n",
    "ALTER TABLE  sales_benchmarking RENAME COLUMN  \n",
    "\"count(distinct sales.title_id)\" TO unique_titles;"
   ]
  },
  {
   "cell_type": "code",
   "execution_count": 29,
   "metadata": {},
   "outputs": [
    {
     "name": "stdout",
     "output_type": "stream",
     "text": [
      " * sqlite:///data/publications.db\n",
      "Done.\n",
      "Returning data to local variable alter_table_rename_col\n"
     ]
    }
   ],
   "source": [
    "%%sql alter_table_rename_col <<\n",
    "\n",
    "ALTER TABLE  sales_benchmarking RENAME COLUMN  \n",
    "\"sum(sales.qty)\" TO total_qty;"
   ]
  },
  {
   "cell_type": "code",
   "execution_count": 30,
   "metadata": {},
   "outputs": [
    {
     "name": "stdout",
     "output_type": "stream",
     "text": [
      " * sqlite:///data/publications.db\n",
      "Done.\n",
      "Returning data to local variable select\n"
     ]
    }
   ],
   "source": [
    "%%sql select <<\n",
    "\n",
    "select * from sales_benchmarking;"
   ]
  },
  {
   "cell_type": "code",
   "execution_count": 31,
   "metadata": {},
   "outputs": [
    {
     "data": {
      "text/html": [
       "<table>\n",
       "    <tr>\n",
       "        <th>stor_id</th>\n",
       "        <th>stor_name</th>\n",
       "        <th>total_orders</th>\n",
       "        <th>unique_titles</th>\n",
       "        <th>total_qty</th>\n",
       "        <th>goal</th>\n",
       "    </tr>\n",
       "    <tr>\n",
       "        <td>6380</td>\n",
       "        <td>Eric the Read Books</td>\n",
       "        <td>2</td>\n",
       "        <td>2</td>\n",
       "        <td>8</td>\n",
       "        <td>100</td>\n",
       "    </tr>\n",
       "    <tr>\n",
       "        <td>7066</td>\n",
       "        <td>Barnum&#x27;s</td>\n",
       "        <td>2</td>\n",
       "        <td>2</td>\n",
       "        <td>125</td>\n",
       "        <td>100</td>\n",
       "    </tr>\n",
       "    <tr>\n",
       "        <td>7067</td>\n",
       "        <td>News &amp; Brews</td>\n",
       "        <td>2</td>\n",
       "        <td>4</td>\n",
       "        <td>90</td>\n",
       "        <td>100</td>\n",
       "    </tr>\n",
       "    <tr>\n",
       "        <td>7131</td>\n",
       "        <td>Doc-U-Mat: Quality Laundry and Books</td>\n",
       "        <td>3</td>\n",
       "        <td>6</td>\n",
       "        <td>130</td>\n",
       "        <td>100</td>\n",
       "    </tr>\n",
       "    <tr>\n",
       "        <td>7896</td>\n",
       "        <td>Fricative Bookshop</td>\n",
       "        <td>3</td>\n",
       "        <td>3</td>\n",
       "        <td>60</td>\n",
       "        <td>100</td>\n",
       "    </tr>\n",
       "    <tr>\n",
       "        <td>8042</td>\n",
       "        <td>Bookbeat</td>\n",
       "        <td>4</td>\n",
       "        <td>4</td>\n",
       "        <td>80</td>\n",
       "        <td>100</td>\n",
       "    </tr>\n",
       "</table>"
      ],
      "text/plain": [
       "[('6380', 'Eric the Read Books', 2, 2, 8, 100),\n",
       " ('7066', \"Barnum's\", 2, 2, 125, 100),\n",
       " ('7067', 'News & Brews', 2, 4, 90, 100),\n",
       " ('7131', 'Doc-U-Mat: Quality Laundry and Books', 3, 6, 130, 100),\n",
       " ('7896', 'Fricative Bookshop', 3, 3, 60, 100),\n",
       " ('8042', 'Bookbeat', 4, 4, 80, 100)]"
      ]
     },
     "execution_count": 31,
     "metadata": {},
     "output_type": "execute_result"
    }
   ],
   "source": [
    "select"
   ]
  },
  {
   "cell_type": "markdown",
   "metadata": {},
   "source": [
    "### delete records in a table"
   ]
  },
  {
   "cell_type": "markdown",
   "metadata": {},
   "source": [
    "![sqlite delete](https://www.sqlite.org/images/syntax/delete-stmt.gif \"SQLite DELETE\")"
   ]
  },
  {
   "cell_type": "markdown",
   "metadata": {},
   "source": [
    "let's drop poor performance stores with less than 90 units sold..."
   ]
  },
  {
   "cell_type": "code",
   "execution_count": 32,
   "metadata": {},
   "outputs": [
    {
     "name": "stdout",
     "output_type": "stream",
     "text": [
      " * sqlite:///data/publications.db\n",
      "3 rows affected.\n",
      "Returning data to local variable drop_records\n"
     ]
    }
   ],
   "source": [
    "%%sql drop_records <<\n",
    "\n",
    "DELETE FROM sales_benchmarking\n",
    "WHERE total_qty < 90;"
   ]
  },
  {
   "cell_type": "code",
   "execution_count": 33,
   "metadata": {},
   "outputs": [
    {
     "data": {
      "text/html": [
       "<div>\n",
       "<style scoped>\n",
       "    .dataframe tbody tr th:only-of-type {\n",
       "        vertical-align: middle;\n",
       "    }\n",
       "\n",
       "    .dataframe tbody tr th {\n",
       "        vertical-align: top;\n",
       "    }\n",
       "\n",
       "    .dataframe thead th {\n",
       "        text-align: right;\n",
       "    }\n",
       "</style>\n",
       "<table border=\"1\" class=\"dataframe\">\n",
       "  <thead>\n",
       "    <tr style=\"text-align: right;\">\n",
       "      <th></th>\n",
       "    </tr>\n",
       "  </thead>\n",
       "  <tbody>\n",
       "  </tbody>\n",
       "</table>\n",
       "</div>"
      ],
      "text/plain": [
       "Empty DataFrame\n",
       "Columns: []\n",
       "Index: []"
      ]
     },
     "execution_count": 33,
     "metadata": {},
     "output_type": "execute_result"
    }
   ],
   "source": [
    "drop_records.DataFrame()"
   ]
  },
  {
   "cell_type": "markdown",
   "metadata": {},
   "source": [
    "check results..."
   ]
  },
  {
   "cell_type": "code",
   "execution_count": 35,
   "metadata": {},
   "outputs": [
    {
     "name": "stdout",
     "output_type": "stream",
     "text": [
      " * sqlite:///data/publications.db\n",
      "Done.\n",
      "Returning data to local variable select\n"
     ]
    }
   ],
   "source": [
    "%%sql select <<\n",
    "\n",
    "select * from sales_benchmarking;"
   ]
  },
  {
   "cell_type": "code",
   "execution_count": 36,
   "metadata": {},
   "outputs": [
    {
     "data": {
      "text/html": [
       "<table>\n",
       "    <tr>\n",
       "        <th>stor_id</th>\n",
       "        <th>stor_name</th>\n",
       "        <th>total_orders</th>\n",
       "        <th>unique_titles</th>\n",
       "        <th>total_qty</th>\n",
       "        <th>goal</th>\n",
       "    </tr>\n",
       "    <tr>\n",
       "        <td>7066</td>\n",
       "        <td>Barnum&#x27;s</td>\n",
       "        <td>2</td>\n",
       "        <td>2</td>\n",
       "        <td>125</td>\n",
       "        <td>100</td>\n",
       "    </tr>\n",
       "    <tr>\n",
       "        <td>7067</td>\n",
       "        <td>News &amp; Brews</td>\n",
       "        <td>2</td>\n",
       "        <td>4</td>\n",
       "        <td>90</td>\n",
       "        <td>100</td>\n",
       "    </tr>\n",
       "    <tr>\n",
       "        <td>7131</td>\n",
       "        <td>Doc-U-Mat: Quality Laundry and Books</td>\n",
       "        <td>3</td>\n",
       "        <td>6</td>\n",
       "        <td>130</td>\n",
       "        <td>100</td>\n",
       "    </tr>\n",
       "</table>"
      ],
      "text/plain": [
       "[('7066', \"Barnum's\", 2, 2, 125, 100),\n",
       " ('7067', 'News & Brews', 2, 4, 90, 100),\n",
       " ('7131', 'Doc-U-Mat: Quality Laundry and Books', 3, 6, 130, 100)]"
      ]
     },
     "execution_count": 36,
     "metadata": {},
     "output_type": "execute_result"
    }
   ],
   "source": [
    "select"
   ]
  },
  {
   "cell_type": "markdown",
   "metadata": {},
   "source": [
    "### insert new rows"
   ]
  },
  {
   "cell_type": "markdown",
   "metadata": {},
   "source": [
    "![sqlite insert](https://www.sqlite.org/images/syntax/insert-stmt.gif \"SQLite INSERT\")"
   ]
  },
  {
   "cell_type": "markdown",
   "metadata": {},
   "source": [
    "### a) append (insert) queries, as is (not as select)"
   ]
  },
  {
   "cell_type": "markdown",
   "metadata": {},
   "source": [
    "let's append a top performer fnac store...look at the default value after executing this query... :-D"
   ]
  },
  {
   "cell_type": "code",
   "execution_count": 37,
   "metadata": {},
   "outputs": [
    {
     "name": "stdout",
     "output_type": "stream",
     "text": [
      " * sqlite:///data/publications.db\n",
      "1 rows affected.\n",
      "Returning data to local variable insert_into\n"
     ]
    }
   ],
   "source": [
    "%%sql insert_into <<\n",
    "\n",
    "INSERT INTO sales_benchmarking \n",
    "(stor_id, \n",
    " stor_name, \n",
    " total_orders,\n",
    " unique_titles,\n",
    " total_qty)\n",
    "VALUES (1, \"fnac_callao\", 1000, 1000, 1000);"
   ]
  },
  {
   "cell_type": "code",
   "execution_count": 141,
   "metadata": {},
   "outputs": [
    {
     "data": {
      "text/html": [
       "<div>\n",
       "<style scoped>\n",
       "    .dataframe tbody tr th:only-of-type {\n",
       "        vertical-align: middle;\n",
       "    }\n",
       "\n",
       "    .dataframe tbody tr th {\n",
       "        vertical-align: top;\n",
       "    }\n",
       "\n",
       "    .dataframe thead th {\n",
       "        text-align: right;\n",
       "    }\n",
       "</style>\n",
       "<table border=\"1\" class=\"dataframe\">\n",
       "  <thead>\n",
       "    <tr style=\"text-align: right;\">\n",
       "      <th></th>\n",
       "    </tr>\n",
       "  </thead>\n",
       "  <tbody>\n",
       "  </tbody>\n",
       "</table>\n",
       "</div>"
      ],
      "text/plain": [
       "Empty DataFrame\n",
       "Columns: []\n",
       "Index: []"
      ]
     },
     "execution_count": 141,
     "metadata": {},
     "output_type": "execute_result"
    }
   ],
   "source": [
    "insert_into.DataFrame()"
   ]
  },
  {
   "cell_type": "markdown",
   "metadata": {},
   "source": [
    "check results..."
   ]
  },
  {
   "cell_type": "code",
   "execution_count": 38,
   "metadata": {},
   "outputs": [
    {
     "name": "stdout",
     "output_type": "stream",
     "text": [
      " * sqlite:///data/publications.db\n",
      "Done.\n",
      "Returning data to local variable select\n"
     ]
    }
   ],
   "source": [
    "%%sql select <<\n",
    "\n",
    "select * from sales_benchmarking;"
   ]
  },
  {
   "cell_type": "code",
   "execution_count": 39,
   "metadata": {},
   "outputs": [
    {
     "data": {
      "text/html": [
       "<table>\n",
       "    <tr>\n",
       "        <th>stor_id</th>\n",
       "        <th>stor_name</th>\n",
       "        <th>total_orders</th>\n",
       "        <th>unique_titles</th>\n",
       "        <th>total_qty</th>\n",
       "        <th>goal</th>\n",
       "    </tr>\n",
       "    <tr>\n",
       "        <td>7066</td>\n",
       "        <td>Barnum&#x27;s</td>\n",
       "        <td>2</td>\n",
       "        <td>2</td>\n",
       "        <td>125</td>\n",
       "        <td>100</td>\n",
       "    </tr>\n",
       "    <tr>\n",
       "        <td>7067</td>\n",
       "        <td>News &amp; Brews</td>\n",
       "        <td>2</td>\n",
       "        <td>4</td>\n",
       "        <td>90</td>\n",
       "        <td>100</td>\n",
       "    </tr>\n",
       "    <tr>\n",
       "        <td>7131</td>\n",
       "        <td>Doc-U-Mat: Quality Laundry and Books</td>\n",
       "        <td>3</td>\n",
       "        <td>6</td>\n",
       "        <td>130</td>\n",
       "        <td>100</td>\n",
       "    </tr>\n",
       "    <tr>\n",
       "        <td>1</td>\n",
       "        <td>fnac_callao</td>\n",
       "        <td>1000</td>\n",
       "        <td>1000</td>\n",
       "        <td>1000</td>\n",
       "        <td>100</td>\n",
       "    </tr>\n",
       "</table>"
      ],
      "text/plain": [
       "[('7066', \"Barnum's\", 2, 2, 125, 100),\n",
       " ('7067', 'News & Brews', 2, 4, 90, 100),\n",
       " ('7131', 'Doc-U-Mat: Quality Laundry and Books', 3, 6, 130, 100),\n",
       " ('1', 'fnac_callao', 1000, 1000, 1000, 100)]"
      ]
     },
     "execution_count": 39,
     "metadata": {},
     "output_type": "execute_result"
    }
   ],
   "source": [
    "select"
   ]
  },
  {
   "cell_type": "markdown",
   "metadata": {},
   "source": [
    "### b) append (insert) queries as select"
   ]
  },
  {
   "cell_type": "markdown",
   "metadata": {},
   "source": [
    "let's recover our poor performers..."
   ]
  },
  {
   "cell_type": "markdown",
   "metadata": {},
   "source": [
    "be careful if modifications have been made to the table... rows must be equivalent, run the cell to drop and create store_sales_summary before this one..."
   ]
  },
  {
   "cell_type": "code",
   "execution_count": 40,
   "metadata": {},
   "outputs": [
    {
     "name": "stdout",
     "output_type": "stream",
     "text": [
      " * sqlite:///data/publications.db\n",
      "3 rows affected.\n",
      "Returning data to local variable insert_into_as_select\n"
     ]
    }
   ],
   "source": [
    "%%sql insert_into_as_select <<\n",
    "\n",
    "insert into sales_benchmarking\n",
    "select \n",
    "stores.stor_id, \n",
    "stores.stor_name, \n",
    "count(distinct sales.ord_num) as total_orders,\n",
    "count(distinct sales.title_id) as unique_titles,\n",
    "sum(sales.qty) as total_qty,\n",
    "100\n",
    "from sales join stores on\n",
    "stores.stor_id = sales.stor_id\n",
    "group by stores.stor_id, stores.stor_name\n",
    "having sum(sales.qty) < 90;"
   ]
  },
  {
   "cell_type": "code",
   "execution_count": 145,
   "metadata": {},
   "outputs": [
    {
     "data": {
      "text/html": [
       "<div>\n",
       "<style scoped>\n",
       "    .dataframe tbody tr th:only-of-type {\n",
       "        vertical-align: middle;\n",
       "    }\n",
       "\n",
       "    .dataframe tbody tr th {\n",
       "        vertical-align: top;\n",
       "    }\n",
       "\n",
       "    .dataframe thead th {\n",
       "        text-align: right;\n",
       "    }\n",
       "</style>\n",
       "<table border=\"1\" class=\"dataframe\">\n",
       "  <thead>\n",
       "    <tr style=\"text-align: right;\">\n",
       "      <th></th>\n",
       "    </tr>\n",
       "  </thead>\n",
       "  <tbody>\n",
       "  </tbody>\n",
       "</table>\n",
       "</div>"
      ],
      "text/plain": [
       "Empty DataFrame\n",
       "Columns: []\n",
       "Index: []"
      ]
     },
     "execution_count": 145,
     "metadata": {},
     "output_type": "execute_result"
    }
   ],
   "source": [
    "insert_into_as_select.DataFrame()"
   ]
  },
  {
   "cell_type": "markdown",
   "metadata": {},
   "source": [
    "check results..."
   ]
  },
  {
   "cell_type": "code",
   "execution_count": 41,
   "metadata": {},
   "outputs": [
    {
     "name": "stdout",
     "output_type": "stream",
     "text": [
      " * sqlite:///data/publications.db\n",
      "Done.\n",
      "Returning data to local variable select\n"
     ]
    }
   ],
   "source": [
    "%%sql select <<\n",
    "\n",
    "select * from sales_benchmarking;"
   ]
  },
  {
   "cell_type": "code",
   "execution_count": 42,
   "metadata": {},
   "outputs": [
    {
     "data": {
      "text/html": [
       "<table>\n",
       "    <tr>\n",
       "        <th>stor_id</th>\n",
       "        <th>stor_name</th>\n",
       "        <th>total_orders</th>\n",
       "        <th>unique_titles</th>\n",
       "        <th>total_qty</th>\n",
       "        <th>goal</th>\n",
       "    </tr>\n",
       "    <tr>\n",
       "        <td>7066</td>\n",
       "        <td>Barnum&#x27;s</td>\n",
       "        <td>2</td>\n",
       "        <td>2</td>\n",
       "        <td>125</td>\n",
       "        <td>100</td>\n",
       "    </tr>\n",
       "    <tr>\n",
       "        <td>7067</td>\n",
       "        <td>News &amp; Brews</td>\n",
       "        <td>2</td>\n",
       "        <td>4</td>\n",
       "        <td>90</td>\n",
       "        <td>100</td>\n",
       "    </tr>\n",
       "    <tr>\n",
       "        <td>7131</td>\n",
       "        <td>Doc-U-Mat: Quality Laundry and Books</td>\n",
       "        <td>3</td>\n",
       "        <td>6</td>\n",
       "        <td>130</td>\n",
       "        <td>100</td>\n",
       "    </tr>\n",
       "    <tr>\n",
       "        <td>1</td>\n",
       "        <td>fnac_callao</td>\n",
       "        <td>1000</td>\n",
       "        <td>1000</td>\n",
       "        <td>1000</td>\n",
       "        <td>100</td>\n",
       "    </tr>\n",
       "    <tr>\n",
       "        <td>6380</td>\n",
       "        <td>Eric the Read Books</td>\n",
       "        <td>2</td>\n",
       "        <td>2</td>\n",
       "        <td>8</td>\n",
       "        <td>100</td>\n",
       "    </tr>\n",
       "    <tr>\n",
       "        <td>7896</td>\n",
       "        <td>Fricative Bookshop</td>\n",
       "        <td>3</td>\n",
       "        <td>3</td>\n",
       "        <td>60</td>\n",
       "        <td>100</td>\n",
       "    </tr>\n",
       "    <tr>\n",
       "        <td>8042</td>\n",
       "        <td>Bookbeat</td>\n",
       "        <td>4</td>\n",
       "        <td>4</td>\n",
       "        <td>80</td>\n",
       "        <td>100</td>\n",
       "    </tr>\n",
       "</table>"
      ],
      "text/plain": [
       "[('7066', \"Barnum's\", 2, 2, 125, 100),\n",
       " ('7067', 'News & Brews', 2, 4, 90, 100),\n",
       " ('7131', 'Doc-U-Mat: Quality Laundry and Books', 3, 6, 130, 100),\n",
       " ('1', 'fnac_callao', 1000, 1000, 1000, 100),\n",
       " ('6380', 'Eric the Read Books', 2, 2, 8, 100),\n",
       " ('7896', 'Fricative Bookshop', 3, 3, 60, 100),\n",
       " ('8042', 'Bookbeat', 4, 4, 80, 100)]"
      ]
     },
     "execution_count": 42,
     "metadata": {},
     "output_type": "execute_result"
    }
   ],
   "source": [
    "select"
   ]
  },
  {
   "cell_type": "markdown",
   "metadata": {},
   "source": [
    "### update"
   ]
  },
  {
   "cell_type": "markdown",
   "metadata": {},
   "source": [
    "![sqlite insert](https://www.sqlite.org/images/syntax/update-stmt.gif \"SQLite INSERT\")"
   ]
  },
  {
   "cell_type": "markdown",
   "metadata": {},
   "source": [
    "### a) update all rows"
   ]
  },
  {
   "cell_type": "markdown",
   "metadata": {},
   "source": [
    "let's increate the goal for all our stores..."
   ]
  },
  {
   "cell_type": "code",
   "execution_count": 43,
   "metadata": {},
   "outputs": [
    {
     "name": "stdout",
     "output_type": "stream",
     "text": [
      " * sqlite:///data/publications.db\n",
      "7 rows affected.\n",
      "Returning data to local variable update\n"
     ]
    }
   ],
   "source": [
    "%%sql update <<\n",
    "\n",
    "update sales_benchmarking\n",
    "set goal = goal + 50;"
   ]
  },
  {
   "cell_type": "code",
   "execution_count": 44,
   "metadata": {},
   "outputs": [
    {
     "data": {
      "text/html": [
       "<div>\n",
       "<style scoped>\n",
       "    .dataframe tbody tr th:only-of-type {\n",
       "        vertical-align: middle;\n",
       "    }\n",
       "\n",
       "    .dataframe tbody tr th {\n",
       "        vertical-align: top;\n",
       "    }\n",
       "\n",
       "    .dataframe thead th {\n",
       "        text-align: right;\n",
       "    }\n",
       "</style>\n",
       "<table border=\"1\" class=\"dataframe\">\n",
       "  <thead>\n",
       "    <tr style=\"text-align: right;\">\n",
       "      <th></th>\n",
       "    </tr>\n",
       "  </thead>\n",
       "  <tbody>\n",
       "  </tbody>\n",
       "</table>\n",
       "</div>"
      ],
      "text/plain": [
       "Empty DataFrame\n",
       "Columns: []\n",
       "Index: []"
      ]
     },
     "execution_count": 44,
     "metadata": {},
     "output_type": "execute_result"
    }
   ],
   "source": [
    "update.DataFrame()"
   ]
  },
  {
   "cell_type": "markdown",
   "metadata": {},
   "source": [
    "check results..."
   ]
  },
  {
   "cell_type": "code",
   "execution_count": 45,
   "metadata": {},
   "outputs": [
    {
     "name": "stdout",
     "output_type": "stream",
     "text": [
      " * sqlite:///data/publications.db\n",
      "Done.\n",
      "Returning data to local variable select\n"
     ]
    }
   ],
   "source": [
    "%%sql select <<\n",
    "\n",
    "select * from sales_benchmarking;"
   ]
  },
  {
   "cell_type": "code",
   "execution_count": 46,
   "metadata": {},
   "outputs": [
    {
     "data": {
      "text/html": [
       "<table>\n",
       "    <tr>\n",
       "        <th>stor_id</th>\n",
       "        <th>stor_name</th>\n",
       "        <th>total_orders</th>\n",
       "        <th>unique_titles</th>\n",
       "        <th>total_qty</th>\n",
       "        <th>goal</th>\n",
       "    </tr>\n",
       "    <tr>\n",
       "        <td>7066</td>\n",
       "        <td>Barnum&#x27;s</td>\n",
       "        <td>2</td>\n",
       "        <td>2</td>\n",
       "        <td>125</td>\n",
       "        <td>150</td>\n",
       "    </tr>\n",
       "    <tr>\n",
       "        <td>7067</td>\n",
       "        <td>News &amp; Brews</td>\n",
       "        <td>2</td>\n",
       "        <td>4</td>\n",
       "        <td>90</td>\n",
       "        <td>150</td>\n",
       "    </tr>\n",
       "    <tr>\n",
       "        <td>7131</td>\n",
       "        <td>Doc-U-Mat: Quality Laundry and Books</td>\n",
       "        <td>3</td>\n",
       "        <td>6</td>\n",
       "        <td>130</td>\n",
       "        <td>150</td>\n",
       "    </tr>\n",
       "    <tr>\n",
       "        <td>1</td>\n",
       "        <td>fnac_callao</td>\n",
       "        <td>1000</td>\n",
       "        <td>1000</td>\n",
       "        <td>1000</td>\n",
       "        <td>150</td>\n",
       "    </tr>\n",
       "    <tr>\n",
       "        <td>6380</td>\n",
       "        <td>Eric the Read Books</td>\n",
       "        <td>2</td>\n",
       "        <td>2</td>\n",
       "        <td>8</td>\n",
       "        <td>150</td>\n",
       "    </tr>\n",
       "    <tr>\n",
       "        <td>7896</td>\n",
       "        <td>Fricative Bookshop</td>\n",
       "        <td>3</td>\n",
       "        <td>3</td>\n",
       "        <td>60</td>\n",
       "        <td>150</td>\n",
       "    </tr>\n",
       "    <tr>\n",
       "        <td>8042</td>\n",
       "        <td>Bookbeat</td>\n",
       "        <td>4</td>\n",
       "        <td>4</td>\n",
       "        <td>80</td>\n",
       "        <td>150</td>\n",
       "    </tr>\n",
       "</table>"
      ],
      "text/plain": [
       "[('7066', \"Barnum's\", 2, 2, 125, 150),\n",
       " ('7067', 'News & Brews', 2, 4, 90, 150),\n",
       " ('7131', 'Doc-U-Mat: Quality Laundry and Books', 3, 6, 130, 150),\n",
       " ('1', 'fnac_callao', 1000, 1000, 1000, 150),\n",
       " ('6380', 'Eric the Read Books', 2, 2, 8, 150),\n",
       " ('7896', 'Fricative Bookshop', 3, 3, 60, 150),\n",
       " ('8042', 'Bookbeat', 4, 4, 80, 150)]"
      ]
     },
     "execution_count": 46,
     "metadata": {},
     "output_type": "execute_result"
    }
   ],
   "source": [
    "select"
   ]
  },
  {
   "cell_type": "markdown",
   "metadata": {},
   "source": [
    "### update rows conditionally"
   ]
  },
  {
   "cell_type": "markdown",
   "metadata": {},
   "source": [
    "let's increate goal in +50 units only for those stores with less than 4 total orders..."
   ]
  },
  {
   "cell_type": "code",
   "execution_count": 47,
   "metadata": {},
   "outputs": [
    {
     "name": "stdout",
     "output_type": "stream",
     "text": [
      " * sqlite:///data/publications.db\n",
      "5 rows affected.\n",
      "Returning data to local variable update_conditional\n"
     ]
    }
   ],
   "source": [
    "%%sql update_conditional <<\n",
    "\n",
    "update sales_benchmarking\n",
    "set goal = goal + 50\n",
    "where total_orders < 4;"
   ]
  },
  {
   "cell_type": "code",
   "execution_count": 48,
   "metadata": {},
   "outputs": [
    {
     "data": {
      "text/html": [
       "<div>\n",
       "<style scoped>\n",
       "    .dataframe tbody tr th:only-of-type {\n",
       "        vertical-align: middle;\n",
       "    }\n",
       "\n",
       "    .dataframe tbody tr th {\n",
       "        vertical-align: top;\n",
       "    }\n",
       "\n",
       "    .dataframe thead th {\n",
       "        text-align: right;\n",
       "    }\n",
       "</style>\n",
       "<table border=\"1\" class=\"dataframe\">\n",
       "  <thead>\n",
       "    <tr style=\"text-align: right;\">\n",
       "      <th></th>\n",
       "    </tr>\n",
       "  </thead>\n",
       "  <tbody>\n",
       "  </tbody>\n",
       "</table>\n",
       "</div>"
      ],
      "text/plain": [
       "Empty DataFrame\n",
       "Columns: []\n",
       "Index: []"
      ]
     },
     "execution_count": 48,
     "metadata": {},
     "output_type": "execute_result"
    }
   ],
   "source": [
    "update_conditional.DataFrame()"
   ]
  },
  {
   "cell_type": "markdown",
   "metadata": {},
   "source": [
    "check results..."
   ]
  },
  {
   "cell_type": "code",
   "execution_count": 49,
   "metadata": {},
   "outputs": [
    {
     "name": "stdout",
     "output_type": "stream",
     "text": [
      " * sqlite:///data/publications.db\n",
      "Done.\n",
      "Returning data to local variable select\n"
     ]
    }
   ],
   "source": [
    "%%sql select <<\n",
    "\n",
    "select * from sales_benchmarking;"
   ]
  },
  {
   "cell_type": "code",
   "execution_count": 50,
   "metadata": {},
   "outputs": [
    {
     "data": {
      "text/html": [
       "<table>\n",
       "    <tr>\n",
       "        <th>stor_id</th>\n",
       "        <th>stor_name</th>\n",
       "        <th>total_orders</th>\n",
       "        <th>unique_titles</th>\n",
       "        <th>total_qty</th>\n",
       "        <th>goal</th>\n",
       "    </tr>\n",
       "    <tr>\n",
       "        <td>7066</td>\n",
       "        <td>Barnum&#x27;s</td>\n",
       "        <td>2</td>\n",
       "        <td>2</td>\n",
       "        <td>125</td>\n",
       "        <td>200</td>\n",
       "    </tr>\n",
       "    <tr>\n",
       "        <td>7067</td>\n",
       "        <td>News &amp; Brews</td>\n",
       "        <td>2</td>\n",
       "        <td>4</td>\n",
       "        <td>90</td>\n",
       "        <td>200</td>\n",
       "    </tr>\n",
       "    <tr>\n",
       "        <td>7131</td>\n",
       "        <td>Doc-U-Mat: Quality Laundry and Books</td>\n",
       "        <td>3</td>\n",
       "        <td>6</td>\n",
       "        <td>130</td>\n",
       "        <td>200</td>\n",
       "    </tr>\n",
       "    <tr>\n",
       "        <td>1</td>\n",
       "        <td>fnac_callao</td>\n",
       "        <td>1000</td>\n",
       "        <td>1000</td>\n",
       "        <td>1000</td>\n",
       "        <td>150</td>\n",
       "    </tr>\n",
       "    <tr>\n",
       "        <td>6380</td>\n",
       "        <td>Eric the Read Books</td>\n",
       "        <td>2</td>\n",
       "        <td>2</td>\n",
       "        <td>8</td>\n",
       "        <td>200</td>\n",
       "    </tr>\n",
       "    <tr>\n",
       "        <td>7896</td>\n",
       "        <td>Fricative Bookshop</td>\n",
       "        <td>3</td>\n",
       "        <td>3</td>\n",
       "        <td>60</td>\n",
       "        <td>200</td>\n",
       "    </tr>\n",
       "    <tr>\n",
       "        <td>8042</td>\n",
       "        <td>Bookbeat</td>\n",
       "        <td>4</td>\n",
       "        <td>4</td>\n",
       "        <td>80</td>\n",
       "        <td>150</td>\n",
       "    </tr>\n",
       "</table>"
      ],
      "text/plain": [
       "[('7066', \"Barnum's\", 2, 2, 125, 200),\n",
       " ('7067', 'News & Brews', 2, 4, 90, 200),\n",
       " ('7131', 'Doc-U-Mat: Quality Laundry and Books', 3, 6, 130, 200),\n",
       " ('1', 'fnac_callao', 1000, 1000, 1000, 150),\n",
       " ('6380', 'Eric the Read Books', 2, 2, 8, 200),\n",
       " ('7896', 'Fricative Bookshop', 3, 3, 60, 200),\n",
       " ('8042', 'Bookbeat', 4, 4, 80, 150)]"
      ]
     },
     "execution_count": 50,
     "metadata": {},
     "output_type": "execute_result"
    }
   ],
   "source": [
    "select"
   ]
  },
  {
   "cell_type": "markdown",
   "metadata": {},
   "source": [
    "## 4. bonus: operate with sqlalchemy over databases"
   ]
  },
  {
   "cell_type": "code",
   "execution_count": 51,
   "metadata": {},
   "outputs": [],
   "source": [
    "from sqlalchemy import create_engine"
   ]
  },
  {
   "cell_type": "code",
   "execution_count": 52,
   "metadata": {},
   "outputs": [],
   "source": [
    "eng = create_engine('sqlite:///data/publications.db')"
   ]
  },
  {
   "cell_type": "code",
   "execution_count": 53,
   "metadata": {},
   "outputs": [
    {
     "data": {
      "text/plain": [
       "('6380', '6871', '1994-09-14 00:00:00', 5, 'Net 60', 'BU1032')"
      ]
     },
     "execution_count": 53,
     "metadata": {},
     "output_type": "execute_result"
    }
   ],
   "source": [
    "eng.execute(\"select * from sales;\").fetchone()"
   ]
  },
  {
   "cell_type": "markdown",
   "metadata": {},
   "source": [
    "https://docs.sqlalchemy.org/en/13/core/connections.html"
   ]
  },
  {
   "cell_type": "markdown",
   "metadata": {},
   "source": [
    "## 5. bonus: case when"
   ]
  },
  {
   "cell_type": "markdown",
   "metadata": {},
   "source": [
    "### select"
   ]
  },
  {
   "cell_type": "markdown",
   "metadata": {},
   "source": [
    "https://www.sqlitetutorial.net/sqlite-case/"
   ]
  },
  {
   "cell_type": "code",
   "execution_count": 54,
   "metadata": {},
   "outputs": [
    {
     "name": "stdout",
     "output_type": "stream",
     "text": [
      " * sqlite:///data/publications.db\n",
      "Done.\n",
      "Returning data to local variable case_when_select\n"
     ]
    }
   ],
   "source": [
    "%%sql case_when_select <<\n",
    "\n",
    "select \n",
    "    case\n",
    "        when goal >= 200 \n",
    "        then 'too much'\n",
    "        else 'ok'\n",
    "    end\n",
    "from sales_benchmarking;"
   ]
  },
  {
   "cell_type": "code",
   "execution_count": 55,
   "metadata": {},
   "outputs": [
    {
     "data": {
      "text/html": [
       "<div>\n",
       "<style scoped>\n",
       "    .dataframe tbody tr th:only-of-type {\n",
       "        vertical-align: middle;\n",
       "    }\n",
       "\n",
       "    .dataframe tbody tr th {\n",
       "        vertical-align: top;\n",
       "    }\n",
       "\n",
       "    .dataframe thead th {\n",
       "        text-align: right;\n",
       "    }\n",
       "</style>\n",
       "<table border=\"1\" class=\"dataframe\">\n",
       "  <thead>\n",
       "    <tr style=\"text-align: right;\">\n",
       "      <th></th>\n",
       "      <th>case\\n        when goal &gt;= 200 \\n        then 'too much'\\n        else 'ok'\\n    end</th>\n",
       "    </tr>\n",
       "  </thead>\n",
       "  <tbody>\n",
       "    <tr>\n",
       "      <th>0</th>\n",
       "      <td>too much</td>\n",
       "    </tr>\n",
       "    <tr>\n",
       "      <th>1</th>\n",
       "      <td>too much</td>\n",
       "    </tr>\n",
       "    <tr>\n",
       "      <th>2</th>\n",
       "      <td>too much</td>\n",
       "    </tr>\n",
       "    <tr>\n",
       "      <th>3</th>\n",
       "      <td>ok</td>\n",
       "    </tr>\n",
       "    <tr>\n",
       "      <th>4</th>\n",
       "      <td>too much</td>\n",
       "    </tr>\n",
       "    <tr>\n",
       "      <th>5</th>\n",
       "      <td>too much</td>\n",
       "    </tr>\n",
       "    <tr>\n",
       "      <th>6</th>\n",
       "      <td>ok</td>\n",
       "    </tr>\n",
       "  </tbody>\n",
       "</table>\n",
       "</div>"
      ],
      "text/plain": [
       "  case\\n        when goal >= 200 \\n        then 'too much'\\n        else 'ok'\\n    end\n",
       "0                                           too much                                  \n",
       "1                                           too much                                  \n",
       "2                                           too much                                  \n",
       "3                                                 ok                                  \n",
       "4                                           too much                                  \n",
       "5                                           too much                                  \n",
       "6                                                 ok                                  "
      ]
     },
     "execution_count": 55,
     "metadata": {},
     "output_type": "execute_result"
    }
   ],
   "source": [
    "case_when_select.DataFrame()"
   ]
  },
  {
   "cell_type": "markdown",
   "metadata": {},
   "source": [
    "### update"
   ]
  },
  {
   "cell_type": "code",
   "execution_count": 56,
   "metadata": {},
   "outputs": [
    {
     "name": "stdout",
     "output_type": "stream",
     "text": [
      " * sqlite:///data/publications.db\n",
      "7 rows affected.\n",
      "Returning data to local variable case_when_update\n"
     ]
    }
   ],
   "source": [
    "%%sql case_when_update <<\n",
    "\n",
    "update sales_benchmarking\n",
    "set goal =\n",
    "    case\n",
    "        when goal >= 200 \n",
    "        then 'too much'\n",
    "        else 'ok'\n",
    "    end;"
   ]
  },
  {
   "cell_type": "code",
   "execution_count": 57,
   "metadata": {},
   "outputs": [
    {
     "data": {
      "text/html": [
       "<div>\n",
       "<style scoped>\n",
       "    .dataframe tbody tr th:only-of-type {\n",
       "        vertical-align: middle;\n",
       "    }\n",
       "\n",
       "    .dataframe tbody tr th {\n",
       "        vertical-align: top;\n",
       "    }\n",
       "\n",
       "    .dataframe thead th {\n",
       "        text-align: right;\n",
       "    }\n",
       "</style>\n",
       "<table border=\"1\" class=\"dataframe\">\n",
       "  <thead>\n",
       "    <tr style=\"text-align: right;\">\n",
       "      <th></th>\n",
       "    </tr>\n",
       "  </thead>\n",
       "  <tbody>\n",
       "  </tbody>\n",
       "</table>\n",
       "</div>"
      ],
      "text/plain": [
       "Empty DataFrame\n",
       "Columns: []\n",
       "Index: []"
      ]
     },
     "execution_count": 57,
     "metadata": {},
     "output_type": "execute_result"
    }
   ],
   "source": [
    "case_when_update.DataFrame()"
   ]
  },
  {
   "cell_type": "markdown",
   "metadata": {},
   "source": [
    "check results..."
   ]
  },
  {
   "cell_type": "code",
   "execution_count": 59,
   "metadata": {},
   "outputs": [
    {
     "name": "stdout",
     "output_type": "stream",
     "text": [
      " * sqlite:///data/publications.db\n",
      "Done.\n",
      "Returning data to local variable select\n"
     ]
    }
   ],
   "source": [
    "%%sql select <<\n",
    "\n",
    "select * from sales_benchmarking;"
   ]
  },
  {
   "cell_type": "code",
   "execution_count": 60,
   "metadata": {},
   "outputs": [
    {
     "data": {
      "text/html": [
       "<table>\n",
       "    <tr>\n",
       "        <th>stor_id</th>\n",
       "        <th>stor_name</th>\n",
       "        <th>total_orders</th>\n",
       "        <th>unique_titles</th>\n",
       "        <th>total_qty</th>\n",
       "        <th>goal</th>\n",
       "    </tr>\n",
       "    <tr>\n",
       "        <td>7066</td>\n",
       "        <td>Barnum&#x27;s</td>\n",
       "        <td>2</td>\n",
       "        <td>2</td>\n",
       "        <td>125</td>\n",
       "        <td>too much</td>\n",
       "    </tr>\n",
       "    <tr>\n",
       "        <td>7067</td>\n",
       "        <td>News &amp; Brews</td>\n",
       "        <td>2</td>\n",
       "        <td>4</td>\n",
       "        <td>90</td>\n",
       "        <td>too much</td>\n",
       "    </tr>\n",
       "    <tr>\n",
       "        <td>7131</td>\n",
       "        <td>Doc-U-Mat: Quality Laundry and Books</td>\n",
       "        <td>3</td>\n",
       "        <td>6</td>\n",
       "        <td>130</td>\n",
       "        <td>too much</td>\n",
       "    </tr>\n",
       "    <tr>\n",
       "        <td>1</td>\n",
       "        <td>fnac_callao</td>\n",
       "        <td>1000</td>\n",
       "        <td>1000</td>\n",
       "        <td>1000</td>\n",
       "        <td>ok</td>\n",
       "    </tr>\n",
       "    <tr>\n",
       "        <td>6380</td>\n",
       "        <td>Eric the Read Books</td>\n",
       "        <td>2</td>\n",
       "        <td>2</td>\n",
       "        <td>8</td>\n",
       "        <td>too much</td>\n",
       "    </tr>\n",
       "    <tr>\n",
       "        <td>7896</td>\n",
       "        <td>Fricative Bookshop</td>\n",
       "        <td>3</td>\n",
       "        <td>3</td>\n",
       "        <td>60</td>\n",
       "        <td>too much</td>\n",
       "    </tr>\n",
       "    <tr>\n",
       "        <td>8042</td>\n",
       "        <td>Bookbeat</td>\n",
       "        <td>4</td>\n",
       "        <td>4</td>\n",
       "        <td>80</td>\n",
       "        <td>ok</td>\n",
       "    </tr>\n",
       "</table>"
      ],
      "text/plain": [
       "[('7066', \"Barnum's\", 2, 2, 125, 'too much'),\n",
       " ('7067', 'News & Brews', 2, 4, 90, 'too much'),\n",
       " ('7131', 'Doc-U-Mat: Quality Laundry and Books', 3, 6, 130, 'too much'),\n",
       " ('1', 'fnac_callao', 1000, 1000, 1000, 'ok'),\n",
       " ('6380', 'Eric the Read Books', 2, 2, 8, 'too much'),\n",
       " ('7896', 'Fricative Bookshop', 3, 3, 60, 'too much'),\n",
       " ('8042', 'Bookbeat', 4, 4, 80, 'ok')]"
      ]
     },
     "execution_count": 60,
     "metadata": {},
     "output_type": "execute_result"
    }
   ],
   "source": [
    "select"
   ]
  },
  {
   "cell_type": "markdown",
   "metadata": {},
   "source": [
    "## 6. bonus: transactional vs analytical databases"
   ]
  },
  {
   "cell_type": "markdown",
   "metadata": {},
   "source": [
    "https://techdifferences.com/difference-between-oltp-and-olap.html"
   ]
  },
  {
   "cell_type": "markdown",
   "metadata": {},
   "source": [
    "<div style=\"padding-top: 25px; float: right\">\n",
    "    <div>    \n",
    "        <i>&nbsp;&nbsp;© Copyright by</i>\n",
    "    </div>\n",
    "    <div>\n",
    "        <a href=\"https://whiteboxml.com\">\n",
    "            <img src=\"https://whiteboxml.com/static/img/logo/black_bg_white.svg\" width=\"125\">\n",
    "        </a>\n",
    "    </div>\n",
    "</div>"
   ]
  }
 ],
 "metadata": {
  "kernelspec": {
   "display_name": "Python [conda env:ml_env]",
   "language": "python",
   "name": "conda-env-ml_env-py"
  },
  "language_info": {
   "codemirror_mode": {
    "name": "ipython",
    "version": 3
   },
   "file_extension": ".py",
   "mimetype": "text/x-python",
   "name": "python",
   "nbconvert_exporter": "python",
   "pygments_lexer": "ipython3",
   "version": "3.8.5"
  }
 },
 "nbformat": 4,
 "nbformat_minor": 4
}
