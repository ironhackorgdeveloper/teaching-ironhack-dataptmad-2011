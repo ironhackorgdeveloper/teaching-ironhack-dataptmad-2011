{
 "cells": [
  {
   "cell_type": "markdown",
   "metadata": {},
   "source": [
    "<div style=\"float:right; padding-top: 15px; padding-right: 15px\">\n",
    "    <div>\n",
    "        <a href=\"https://whiteboxml.com\">\n",
    "            <img src=\"https://whiteboxml.com/static/img/logo/black_bg_white.svg\" width=\"250\">\n",
    "        </a>\n",
    "    </div>\n",
    "</div>"
   ]
  },
  {
   "cell_type": "markdown",
   "metadata": {},
   "source": [
    "# subqueries and temptables"
   ]
  },
  {
   "cell_type": "markdown",
   "metadata": {},
   "source": [
    "## 1. introduction"
   ]
  },
  {
   "cell_type": "markdown",
   "metadata": {},
   "source": [
    "* let's practice subqueries again (with clause...)\n",
    "* views and temporary tables"
   ]
  },
  {
   "cell_type": "markdown",
   "metadata": {},
   "source": [
    "## 2. sample database (publications)"
   ]
  },
  {
   "cell_type": "code",
   "execution_count": 5,
   "metadata": {},
   "outputs": [
    {
     "name": "stdout",
     "output_type": "stream",
     "text": [
      "The sql extension is already loaded. To reload it, use:\n",
      "  %reload_ext sql\n"
     ]
    }
   ],
   "source": [
    "# let's load jupyter sql extension\n",
    "\n",
    "%load_ext sql\n",
    "%config SqlMagic.autocommit = False"
   ]
  },
  {
   "cell_type": "code",
   "execution_count": 6,
   "metadata": {},
   "outputs": [],
   "source": [
    "# load database\n",
    "\n",
    "%sql sqlite:///data/publications.db"
   ]
  },
  {
   "cell_type": "markdown",
   "metadata": {},
   "source": [
    "getting tables in publications database:"
   ]
  },
  {
   "cell_type": "code",
   "execution_count": 7,
   "metadata": {},
   "outputs": [
    {
     "name": "stdout",
     "output_type": "stream",
     "text": [
      " * sqlite:///data/publications.db\n",
      "Done.\n",
      "Returning data to local variable tables\n"
     ]
    }
   ],
   "source": [
    "%%sql tables <<\n",
    "\n",
    "SELECT \n",
    "    name\n",
    "FROM \n",
    "    sqlite_master \n",
    "WHERE \n",
    "    type ='table' AND \n",
    "    name NOT LIKE 'sqlite_%';"
   ]
  },
  {
   "cell_type": "code",
   "execution_count": 8,
   "metadata": {},
   "outputs": [
    {
     "data": {
      "text/html": [
       "<div>\n",
       "<style scoped>\n",
       "    .dataframe tbody tr th:only-of-type {\n",
       "        vertical-align: middle;\n",
       "    }\n",
       "\n",
       "    .dataframe tbody tr th {\n",
       "        vertical-align: top;\n",
       "    }\n",
       "\n",
       "    .dataframe thead th {\n",
       "        text-align: right;\n",
       "    }\n",
       "</style>\n",
       "<table border=\"1\" class=\"dataframe\">\n",
       "  <thead>\n",
       "    <tr style=\"text-align: right;\">\n",
       "      <th></th>\n",
       "      <th>name</th>\n",
       "    </tr>\n",
       "  </thead>\n",
       "  <tbody>\n",
       "    <tr>\n",
       "      <th>0</th>\n",
       "      <td>authors</td>\n",
       "    </tr>\n",
       "    <tr>\n",
       "      <th>1</th>\n",
       "      <td>discounts</td>\n",
       "    </tr>\n",
       "    <tr>\n",
       "      <th>2</th>\n",
       "      <td>employee</td>\n",
       "    </tr>\n",
       "    <tr>\n",
       "      <th>3</th>\n",
       "      <td>jobs</td>\n",
       "    </tr>\n",
       "    <tr>\n",
       "      <th>4</th>\n",
       "      <td>pub_info</td>\n",
       "    </tr>\n",
       "    <tr>\n",
       "      <th>5</th>\n",
       "      <td>publishers</td>\n",
       "    </tr>\n",
       "    <tr>\n",
       "      <th>6</th>\n",
       "      <td>roysched</td>\n",
       "    </tr>\n",
       "    <tr>\n",
       "      <th>7</th>\n",
       "      <td>sales</td>\n",
       "    </tr>\n",
       "    <tr>\n",
       "      <th>8</th>\n",
       "      <td>stores</td>\n",
       "    </tr>\n",
       "    <tr>\n",
       "      <th>9</th>\n",
       "      <td>titleauthor</td>\n",
       "    </tr>\n",
       "    <tr>\n",
       "      <th>10</th>\n",
       "      <td>titles</td>\n",
       "    </tr>\n",
       "  </tbody>\n",
       "</table>\n",
       "</div>"
      ],
      "text/plain": [
       "           name\n",
       "0       authors\n",
       "1     discounts\n",
       "2      employee\n",
       "3          jobs\n",
       "4      pub_info\n",
       "5    publishers\n",
       "6      roysched\n",
       "7         sales\n",
       "8        stores\n",
       "9   titleauthor\n",
       "10       titles"
      ]
     },
     "execution_count": 8,
     "metadata": {},
     "output_type": "execute_result"
    }
   ],
   "source": [
    "tables.DataFrame()"
   ]
  },
  {
   "cell_type": "markdown",
   "metadata": {},
   "source": [
    "## 3. subqueries"
   ]
  },
  {
   "cell_type": "markdown",
   "metadata": {},
   "source": [
    "### practice with clause..."
   ]
  },
  {
   "cell_type": "markdown",
   "metadata": {},
   "source": [
    "get a query to replicate our famous benchmarking table with:\n",
    "* store name\n",
    "* total (distinct) orders\n",
    "* total (distinct) items sold\n",
    "* total units sold"
   ]
  },
  {
   "cell_type": "code",
   "execution_count": 9,
   "metadata": {},
   "outputs": [
    {
     "name": "stdout",
     "output_type": "stream",
     "text": [
      " * sqlite:///data/publications.db\n",
      "Done.\n",
      "Returning data to local variable select\n"
     ]
    }
   ],
   "source": [
    "%%sql select <<\n",
    "\n",
    "SELECT \n",
    "stores.stor_name AS Store, \n",
    "COUNT(DISTINCT(sales.ord_num)) AS Orders, \n",
    "COUNT(sales.title_id) AS Items,\n",
    "SUM(sales.qty) AS Qty\n",
    "FROM sales\n",
    "INNER JOIN stores \n",
    "ON stores.stor_id = sales.stor_id\n",
    "GROUP BY Store"
   ]
  },
  {
   "cell_type": "code",
   "execution_count": 10,
   "metadata": {},
   "outputs": [
    {
     "data": {
      "text/html": [
       "<div>\n",
       "<style scoped>\n",
       "    .dataframe tbody tr th:only-of-type {\n",
       "        vertical-align: middle;\n",
       "    }\n",
       "\n",
       "    .dataframe tbody tr th {\n",
       "        vertical-align: top;\n",
       "    }\n",
       "\n",
       "    .dataframe thead th {\n",
       "        text-align: right;\n",
       "    }\n",
       "</style>\n",
       "<table border=\"1\" class=\"dataframe\">\n",
       "  <thead>\n",
       "    <tr style=\"text-align: right;\">\n",
       "      <th></th>\n",
       "      <th>Store</th>\n",
       "      <th>Orders</th>\n",
       "      <th>Items</th>\n",
       "      <th>Qty</th>\n",
       "    </tr>\n",
       "  </thead>\n",
       "  <tbody>\n",
       "    <tr>\n",
       "      <th>0</th>\n",
       "      <td>Barnum's</td>\n",
       "      <td>2</td>\n",
       "      <td>2</td>\n",
       "      <td>125</td>\n",
       "    </tr>\n",
       "    <tr>\n",
       "      <th>1</th>\n",
       "      <td>Bookbeat</td>\n",
       "      <td>4</td>\n",
       "      <td>4</td>\n",
       "      <td>80</td>\n",
       "    </tr>\n",
       "    <tr>\n",
       "      <th>2</th>\n",
       "      <td>Doc-U-Mat: Quality Laundry and Books</td>\n",
       "      <td>3</td>\n",
       "      <td>6</td>\n",
       "      <td>130</td>\n",
       "    </tr>\n",
       "    <tr>\n",
       "      <th>3</th>\n",
       "      <td>Eric the Read Books</td>\n",
       "      <td>2</td>\n",
       "      <td>2</td>\n",
       "      <td>8</td>\n",
       "    </tr>\n",
       "    <tr>\n",
       "      <th>4</th>\n",
       "      <td>Fricative Bookshop</td>\n",
       "      <td>3</td>\n",
       "      <td>3</td>\n",
       "      <td>60</td>\n",
       "    </tr>\n",
       "    <tr>\n",
       "      <th>5</th>\n",
       "      <td>News &amp; Brews</td>\n",
       "      <td>2</td>\n",
       "      <td>4</td>\n",
       "      <td>90</td>\n",
       "    </tr>\n",
       "  </tbody>\n",
       "</table>\n",
       "</div>"
      ],
      "text/plain": [
       "                                  Store  Orders  Items  Qty\n",
       "0                              Barnum's       2      2  125\n",
       "1                              Bookbeat       4      4   80\n",
       "2  Doc-U-Mat: Quality Laundry and Books       3      6  130\n",
       "3                   Eric the Read Books       2      2    8\n",
       "4                    Fricative Bookshop       3      3   60\n",
       "5                          News & Brews       2      4   90"
      ]
     },
     "execution_count": 10,
     "metadata": {},
     "output_type": "execute_result"
    }
   ],
   "source": [
    "select.DataFrame()"
   ]
  },
  {
   "cell_type": "markdown",
   "metadata": {},
   "source": [
    "now made a new query to retrieve:\n",
    "* the average distinct books sold by order\n",
    "* the average items sold by order"
   ]
  },
  {
   "cell_type": "markdown",
   "metadata": {},
   "source": [
    "to compute average items per order and average quantity per item for each store... there are two ways..."
   ]
  },
  {
   "cell_type": "code",
   "execution_count": 11,
   "metadata": {},
   "outputs": [
    {
     "name": "stdout",
     "output_type": "stream",
     "text": [
      " * sqlite:///data/publications.db\n",
      "Done.\n",
      "Returning data to local variable with_example_1\n"
     ]
    }
   ],
   "source": [
    "%%sql with_example_1 <<\n",
    "\n",
    "WITH store_total_sales AS \n",
    "(\n",
    "SELECT \n",
    "stores.stor_name AS Store, \n",
    "COUNT(DISTINCT(sales.ord_num)) AS Orders, \n",
    "COUNT(sales.title_id) AS Items,\n",
    "SUM(sales.qty) AS Qty\n",
    "FROM sales\n",
    "INNER JOIN stores \n",
    "ON stores.stor_id = sales.stor_id\n",
    "GROUP BY Store\n",
    ")\n",
    "SELECT \n",
    "Store, \n",
    "Items/Orders as AvgItems,\n",
    "Qty/Orders as AvgQty\n",
    "from store_total_sales;"
   ]
  },
  {
   "cell_type": "code",
   "execution_count": 12,
   "metadata": {},
   "outputs": [
    {
     "data": {
      "text/html": [
       "<div>\n",
       "<style scoped>\n",
       "    .dataframe tbody tr th:only-of-type {\n",
       "        vertical-align: middle;\n",
       "    }\n",
       "\n",
       "    .dataframe tbody tr th {\n",
       "        vertical-align: top;\n",
       "    }\n",
       "\n",
       "    .dataframe thead th {\n",
       "        text-align: right;\n",
       "    }\n",
       "</style>\n",
       "<table border=\"1\" class=\"dataframe\">\n",
       "  <thead>\n",
       "    <tr style=\"text-align: right;\">\n",
       "      <th></th>\n",
       "      <th>Store</th>\n",
       "      <th>AvgItems</th>\n",
       "      <th>AvgQty</th>\n",
       "    </tr>\n",
       "  </thead>\n",
       "  <tbody>\n",
       "    <tr>\n",
       "      <th>0</th>\n",
       "      <td>Barnum's</td>\n",
       "      <td>1</td>\n",
       "      <td>62</td>\n",
       "    </tr>\n",
       "    <tr>\n",
       "      <th>1</th>\n",
       "      <td>Bookbeat</td>\n",
       "      <td>1</td>\n",
       "      <td>20</td>\n",
       "    </tr>\n",
       "    <tr>\n",
       "      <th>2</th>\n",
       "      <td>Doc-U-Mat: Quality Laundry and Books</td>\n",
       "      <td>2</td>\n",
       "      <td>43</td>\n",
       "    </tr>\n",
       "    <tr>\n",
       "      <th>3</th>\n",
       "      <td>Eric the Read Books</td>\n",
       "      <td>1</td>\n",
       "      <td>4</td>\n",
       "    </tr>\n",
       "    <tr>\n",
       "      <th>4</th>\n",
       "      <td>Fricative Bookshop</td>\n",
       "      <td>1</td>\n",
       "      <td>20</td>\n",
       "    </tr>\n",
       "    <tr>\n",
       "      <th>5</th>\n",
       "      <td>News &amp; Brews</td>\n",
       "      <td>2</td>\n",
       "      <td>45</td>\n",
       "    </tr>\n",
       "  </tbody>\n",
       "</table>\n",
       "</div>"
      ],
      "text/plain": [
       "                                  Store  AvgItems  AvgQty\n",
       "0                              Barnum's         1      62\n",
       "1                              Bookbeat         1      20\n",
       "2  Doc-U-Mat: Quality Laundry and Books         2      43\n",
       "3                   Eric the Read Books         1       4\n",
       "4                    Fricative Bookshop         1      20\n",
       "5                          News & Brews         2      45"
      ]
     },
     "execution_count": 12,
     "metadata": {},
     "output_type": "execute_result"
    }
   ],
   "source": [
    "with_example_1.DataFrame()"
   ]
  },
  {
   "cell_type": "markdown",
   "metadata": {},
   "source": [
    "### another with example (more complex)"
   ]
  },
  {
   "cell_type": "markdown",
   "metadata": {},
   "source": [
    "let's get order details only for those stores with a ratio of distinct titles / orders > 1..."
   ]
  },
  {
   "cell_type": "code",
   "execution_count": 30,
   "metadata": {},
   "outputs": [
    {
     "name": "stdout",
     "output_type": "stream",
     "text": [
      " * sqlite:///data/publications.db\n",
      "Done.\n",
      "Returning data to local variable with_example_2\n"
     ]
    }
   ],
   "source": [
    "%%sql with_example_2 <<\n",
    "\n",
    "WITH store_total_sales AS \n",
    "(\n",
    "SELECT\n",
    "stores.stor_id AS StoreID,\n",
    "stores.stor_name AS Store, \n",
    "COUNT(DISTINCT(sales.ord_num)) AS Orders, \n",
    "COUNT(sales.title_id) AS Items,\n",
    "SUM(sales.qty) AS Qty\n",
    "FROM sales\n",
    "INNER JOIN stores \n",
    "ON stores.stor_id = sales.stor_id\n",
    "GROUP BY Store\n",
    ")\n",
    "SELECT Store, \n",
    "sales.ord_num as OrderNumber,\n",
    "sales.ord_date as OrderDate,\n",
    "titles.title as Title,\n",
    "sales.qty as Qty,\n",
    "titles.price as Price,\n",
    "titles.type as Type\n",
    "FROM store_total_sales\n",
    "JOIN sales ON sales.stor_id = store_total_sales.StoreID\n",
    "JOIN titles ON sales.title_id = titles.title_id\n",
    "WHERE store_total_sales.Items / store_total_sales.Orders > 1;"
   ]
  },
  {
   "cell_type": "code",
   "execution_count": 31,
   "metadata": {},
   "outputs": [
    {
     "data": {
      "text/html": [
       "<div>\n",
       "<style scoped>\n",
       "    .dataframe tbody tr th:only-of-type {\n",
       "        vertical-align: middle;\n",
       "    }\n",
       "\n",
       "    .dataframe tbody tr th {\n",
       "        vertical-align: top;\n",
       "    }\n",
       "\n",
       "    .dataframe thead th {\n",
       "        text-align: right;\n",
       "    }\n",
       "</style>\n",
       "<table border=\"1\" class=\"dataframe\">\n",
       "  <thead>\n",
       "    <tr style=\"text-align: right;\">\n",
       "      <th></th>\n",
       "      <th>Store</th>\n",
       "      <th>OrderNumber</th>\n",
       "      <th>OrderDate</th>\n",
       "      <th>Title</th>\n",
       "      <th>Qty</th>\n",
       "      <th>Price</th>\n",
       "      <th>Type</th>\n",
       "    </tr>\n",
       "  </thead>\n",
       "  <tbody>\n",
       "    <tr>\n",
       "      <th>0</th>\n",
       "      <td>Doc-U-Mat: Quality Laundry and Books</td>\n",
       "      <td>N914008</td>\n",
       "      <td>1994-09-14 00:00:00</td>\n",
       "      <td>Is Anger the Enemy?</td>\n",
       "      <td>20</td>\n",
       "      <td>10.95</td>\n",
       "      <td>psychology</td>\n",
       "    </tr>\n",
       "    <tr>\n",
       "      <th>1</th>\n",
       "      <td>Doc-U-Mat: Quality Laundry and Books</td>\n",
       "      <td>N914014</td>\n",
       "      <td>1994-09-14 00:00:00</td>\n",
       "      <td>The Gourmet Microwave</td>\n",
       "      <td>25</td>\n",
       "      <td>2.99</td>\n",
       "      <td>mod_cook</td>\n",
       "    </tr>\n",
       "    <tr>\n",
       "      <th>2</th>\n",
       "      <td>Doc-U-Mat: Quality Laundry and Books</td>\n",
       "      <td>P3087a</td>\n",
       "      <td>1993-05-29 00:00:00</td>\n",
       "      <td>Computer Phobic AND Non-Phobic Individuals: Be...</td>\n",
       "      <td>20</td>\n",
       "      <td>21.59</td>\n",
       "      <td>psychology</td>\n",
       "    </tr>\n",
       "    <tr>\n",
       "      <th>3</th>\n",
       "      <td>Doc-U-Mat: Quality Laundry and Books</td>\n",
       "      <td>P3087a</td>\n",
       "      <td>1993-05-29 00:00:00</td>\n",
       "      <td>Life Without Fear</td>\n",
       "      <td>25</td>\n",
       "      <td>7.00</td>\n",
       "      <td>psychology</td>\n",
       "    </tr>\n",
       "    <tr>\n",
       "      <th>4</th>\n",
       "      <td>Doc-U-Mat: Quality Laundry and Books</td>\n",
       "      <td>P3087a</td>\n",
       "      <td>1993-05-29 00:00:00</td>\n",
       "      <td>Prolonged Data Deprivation: Four Case Studies</td>\n",
       "      <td>15</td>\n",
       "      <td>19.99</td>\n",
       "      <td>psychology</td>\n",
       "    </tr>\n",
       "    <tr>\n",
       "      <th>5</th>\n",
       "      <td>Doc-U-Mat: Quality Laundry and Books</td>\n",
       "      <td>P3087a</td>\n",
       "      <td>1993-05-29 00:00:00</td>\n",
       "      <td>Emotional Security: A New Algorithm</td>\n",
       "      <td>25</td>\n",
       "      <td>7.99</td>\n",
       "      <td>psychology</td>\n",
       "    </tr>\n",
       "    <tr>\n",
       "      <th>6</th>\n",
       "      <td>News &amp; Brews</td>\n",
       "      <td>D4482</td>\n",
       "      <td>1994-09-14 00:00:00</td>\n",
       "      <td>Is Anger the Enemy?</td>\n",
       "      <td>10</td>\n",
       "      <td>10.95</td>\n",
       "      <td>psychology</td>\n",
       "    </tr>\n",
       "    <tr>\n",
       "      <th>7</th>\n",
       "      <td>News &amp; Brews</td>\n",
       "      <td>P2121</td>\n",
       "      <td>1992-06-15 00:00:00</td>\n",
       "      <td>Onions, Leeks, and Garlic: Cooking Secrets of ...</td>\n",
       "      <td>40</td>\n",
       "      <td>20.95</td>\n",
       "      <td>trad_cook</td>\n",
       "    </tr>\n",
       "    <tr>\n",
       "      <th>8</th>\n",
       "      <td>News &amp; Brews</td>\n",
       "      <td>P2121</td>\n",
       "      <td>1992-06-15 00:00:00</td>\n",
       "      <td>Fifty Years in Buckingham Palace Kitchens</td>\n",
       "      <td>20</td>\n",
       "      <td>11.95</td>\n",
       "      <td>trad_cook</td>\n",
       "    </tr>\n",
       "    <tr>\n",
       "      <th>9</th>\n",
       "      <td>News &amp; Brews</td>\n",
       "      <td>P2121</td>\n",
       "      <td>1992-06-15 00:00:00</td>\n",
       "      <td>Sushi, Anyone?</td>\n",
       "      <td>20</td>\n",
       "      <td>14.99</td>\n",
       "      <td>trad_cook</td>\n",
       "    </tr>\n",
       "  </tbody>\n",
       "</table>\n",
       "</div>"
      ],
      "text/plain": [
       "                                  Store OrderNumber            OrderDate  \\\n",
       "0  Doc-U-Mat: Quality Laundry and Books     N914008  1994-09-14 00:00:00   \n",
       "1  Doc-U-Mat: Quality Laundry and Books     N914014  1994-09-14 00:00:00   \n",
       "2  Doc-U-Mat: Quality Laundry and Books      P3087a  1993-05-29 00:00:00   \n",
       "3  Doc-U-Mat: Quality Laundry and Books      P3087a  1993-05-29 00:00:00   \n",
       "4  Doc-U-Mat: Quality Laundry and Books      P3087a  1993-05-29 00:00:00   \n",
       "5  Doc-U-Mat: Quality Laundry and Books      P3087a  1993-05-29 00:00:00   \n",
       "6                          News & Brews       D4482  1994-09-14 00:00:00   \n",
       "7                          News & Brews       P2121  1992-06-15 00:00:00   \n",
       "8                          News & Brews       P2121  1992-06-15 00:00:00   \n",
       "9                          News & Brews       P2121  1992-06-15 00:00:00   \n",
       "\n",
       "                                               Title  Qty  Price        Type  \n",
       "0                                Is Anger the Enemy?   20  10.95  psychology  \n",
       "1                              The Gourmet Microwave   25   2.99    mod_cook  \n",
       "2  Computer Phobic AND Non-Phobic Individuals: Be...   20  21.59  psychology  \n",
       "3                                  Life Without Fear   25   7.00  psychology  \n",
       "4      Prolonged Data Deprivation: Four Case Studies   15  19.99  psychology  \n",
       "5                Emotional Security: A New Algorithm   25   7.99  psychology  \n",
       "6                                Is Anger the Enemy?   10  10.95  psychology  \n",
       "7  Onions, Leeks, and Garlic: Cooking Secrets of ...   40  20.95   trad_cook  \n",
       "8          Fifty Years in Buckingham Palace Kitchens   20  11.95   trad_cook  \n",
       "9                                     Sushi, Anyone?   20  14.99   trad_cook  "
      ]
     },
     "execution_count": 31,
     "metadata": {},
     "output_type": "execute_result"
    }
   ],
   "source": [
    "with_example_2.DataFrame()"
   ]
  },
  {
   "cell_type": "markdown",
   "metadata": {},
   "source": [
    "## 4. views"
   ]
  },
  {
   "cell_type": "code",
   "execution_count": 24,
   "metadata": {},
   "outputs": [
    {
     "name": "stdout",
     "output_type": "stream",
     "text": [
      " * sqlite:///data/publications.db\n",
      "Done.\n",
      "Returning data to local variable sql_view\n"
     ]
    }
   ],
   "source": [
    "%%sql sql_view <<\n",
    "CREATE VIEW IF NOT EXISTS orders_report AS\n",
    "WITH store_total_sales AS \n",
    "(\n",
    "SELECT\n",
    "stores.stor_id AS StoreID,\n",
    "stores.stor_name AS Store, \n",
    "COUNT(DISTINCT(sales.ord_num)) AS Orders, \n",
    "COUNT(sales.title_id) AS Items,\n",
    "SUM(sales.qty) AS Qty\n",
    "FROM sales\n",
    "INNER JOIN stores \n",
    "ON stores.stor_id = sales.stor_id\n",
    "GROUP BY Store\n",
    ")\n",
    "SELECT\n",
    "Store, \n",
    "sales.ord_num as OrderNumber,\n",
    "sales.ord_date as OrderDate,\n",
    "titles.title as Title,\n",
    "sales.qty as Qty,\n",
    "titles.price as Price,\n",
    "titles.type as Type\n",
    "FROM store_total_sales\n",
    "JOIN sales ON sales.stor_id = store_total_sales.StoreID\n",
    "JOIN titles ON sales.title_id = titles.title_id\n",
    "WHERE store_total_sales.Items / store_total_sales.Orders > 1;"
   ]
  },
  {
   "cell_type": "markdown",
   "metadata": {},
   "source": [
    "action queries return empty querysets as usual..."
   ]
  },
  {
   "cell_type": "code",
   "execution_count": 21,
   "metadata": {},
   "outputs": [
    {
     "data": {
      "text/html": [
       "<div>\n",
       "<style scoped>\n",
       "    .dataframe tbody tr th:only-of-type {\n",
       "        vertical-align: middle;\n",
       "    }\n",
       "\n",
       "    .dataframe tbody tr th {\n",
       "        vertical-align: top;\n",
       "    }\n",
       "\n",
       "    .dataframe thead th {\n",
       "        text-align: right;\n",
       "    }\n",
       "</style>\n",
       "<table border=\"1\" class=\"dataframe\">\n",
       "  <thead>\n",
       "    <tr style=\"text-align: right;\">\n",
       "      <th></th>\n",
       "    </tr>\n",
       "  </thead>\n",
       "  <tbody>\n",
       "  </tbody>\n",
       "</table>\n",
       "</div>"
      ],
      "text/plain": [
       "Empty DataFrame\n",
       "Columns: []\n",
       "Index: []"
      ]
     },
     "execution_count": 21,
     "metadata": {},
     "output_type": "execute_result"
    }
   ],
   "source": [
    "sql_view.DataFrame()"
   ]
  },
  {
   "cell_type": "markdown",
   "metadata": {},
   "source": [
    "let's see if there is a view named **orders_report**:"
   ]
  },
  {
   "cell_type": "code",
   "execution_count": 22,
   "metadata": {},
   "outputs": [
    {
     "name": "stdout",
     "output_type": "stream",
     "text": [
      " * sqlite:///data/publications.db\n",
      "Done.\n",
      "Returning data to local variable sql_view_select\n"
     ]
    }
   ],
   "source": [
    "%%sql sql_view_select <<\n",
    "SELECT * FROM orders_report;"
   ]
  },
  {
   "cell_type": "code",
   "execution_count": 23,
   "metadata": {},
   "outputs": [
    {
     "data": {
      "text/html": [
       "<div>\n",
       "<style scoped>\n",
       "    .dataframe tbody tr th:only-of-type {\n",
       "        vertical-align: middle;\n",
       "    }\n",
       "\n",
       "    .dataframe tbody tr th {\n",
       "        vertical-align: top;\n",
       "    }\n",
       "\n",
       "    .dataframe thead th {\n",
       "        text-align: right;\n",
       "    }\n",
       "</style>\n",
       "<table border=\"1\" class=\"dataframe\">\n",
       "  <thead>\n",
       "    <tr style=\"text-align: right;\">\n",
       "      <th></th>\n",
       "      <th>Store</th>\n",
       "      <th>OrderNumber</th>\n",
       "      <th>OrderDate</th>\n",
       "      <th>Title</th>\n",
       "      <th>Qty</th>\n",
       "      <th>Price</th>\n",
       "      <th>Type</th>\n",
       "    </tr>\n",
       "  </thead>\n",
       "  <tbody>\n",
       "    <tr>\n",
       "      <th>0</th>\n",
       "      <td>Doc-U-Mat: Quality Laundry and Books</td>\n",
       "      <td>N914008</td>\n",
       "      <td>1994-09-14 00:00:00</td>\n",
       "      <td>Is Anger the Enemy?</td>\n",
       "      <td>20</td>\n",
       "      <td>10.95</td>\n",
       "      <td>psychology</td>\n",
       "    </tr>\n",
       "    <tr>\n",
       "      <th>1</th>\n",
       "      <td>Doc-U-Mat: Quality Laundry and Books</td>\n",
       "      <td>N914014</td>\n",
       "      <td>1994-09-14 00:00:00</td>\n",
       "      <td>The Gourmet Microwave</td>\n",
       "      <td>25</td>\n",
       "      <td>2.99</td>\n",
       "      <td>mod_cook</td>\n",
       "    </tr>\n",
       "    <tr>\n",
       "      <th>2</th>\n",
       "      <td>Doc-U-Mat: Quality Laundry and Books</td>\n",
       "      <td>P3087a</td>\n",
       "      <td>1993-05-29 00:00:00</td>\n",
       "      <td>Computer Phobic AND Non-Phobic Individuals: Be...</td>\n",
       "      <td>20</td>\n",
       "      <td>21.59</td>\n",
       "      <td>psychology</td>\n",
       "    </tr>\n",
       "    <tr>\n",
       "      <th>3</th>\n",
       "      <td>Doc-U-Mat: Quality Laundry and Books</td>\n",
       "      <td>P3087a</td>\n",
       "      <td>1993-05-29 00:00:00</td>\n",
       "      <td>Life Without Fear</td>\n",
       "      <td>25</td>\n",
       "      <td>7.00</td>\n",
       "      <td>psychology</td>\n",
       "    </tr>\n",
       "    <tr>\n",
       "      <th>4</th>\n",
       "      <td>Doc-U-Mat: Quality Laundry and Books</td>\n",
       "      <td>P3087a</td>\n",
       "      <td>1993-05-29 00:00:00</td>\n",
       "      <td>Prolonged Data Deprivation: Four Case Studies</td>\n",
       "      <td>15</td>\n",
       "      <td>19.99</td>\n",
       "      <td>psychology</td>\n",
       "    </tr>\n",
       "    <tr>\n",
       "      <th>5</th>\n",
       "      <td>Doc-U-Mat: Quality Laundry and Books</td>\n",
       "      <td>P3087a</td>\n",
       "      <td>1993-05-29 00:00:00</td>\n",
       "      <td>Emotional Security: A New Algorithm</td>\n",
       "      <td>25</td>\n",
       "      <td>7.99</td>\n",
       "      <td>psychology</td>\n",
       "    </tr>\n",
       "    <tr>\n",
       "      <th>6</th>\n",
       "      <td>News &amp; Brews</td>\n",
       "      <td>D4482</td>\n",
       "      <td>1994-09-14 00:00:00</td>\n",
       "      <td>Is Anger the Enemy?</td>\n",
       "      <td>10</td>\n",
       "      <td>10.95</td>\n",
       "      <td>psychology</td>\n",
       "    </tr>\n",
       "    <tr>\n",
       "      <th>7</th>\n",
       "      <td>News &amp; Brews</td>\n",
       "      <td>P2121</td>\n",
       "      <td>1992-06-15 00:00:00</td>\n",
       "      <td>Onions, Leeks, and Garlic: Cooking Secrets of ...</td>\n",
       "      <td>40</td>\n",
       "      <td>20.95</td>\n",
       "      <td>trad_cook</td>\n",
       "    </tr>\n",
       "    <tr>\n",
       "      <th>8</th>\n",
       "      <td>News &amp; Brews</td>\n",
       "      <td>P2121</td>\n",
       "      <td>1992-06-15 00:00:00</td>\n",
       "      <td>Fifty Years in Buckingham Palace Kitchens</td>\n",
       "      <td>20</td>\n",
       "      <td>11.95</td>\n",
       "      <td>trad_cook</td>\n",
       "    </tr>\n",
       "    <tr>\n",
       "      <th>9</th>\n",
       "      <td>News &amp; Brews</td>\n",
       "      <td>P2121</td>\n",
       "      <td>1992-06-15 00:00:00</td>\n",
       "      <td>Sushi, Anyone?</td>\n",
       "      <td>20</td>\n",
       "      <td>14.99</td>\n",
       "      <td>trad_cook</td>\n",
       "    </tr>\n",
       "  </tbody>\n",
       "</table>\n",
       "</div>"
      ],
      "text/plain": [
       "                                  Store OrderNumber            OrderDate  \\\n",
       "0  Doc-U-Mat: Quality Laundry and Books     N914008  1994-09-14 00:00:00   \n",
       "1  Doc-U-Mat: Quality Laundry and Books     N914014  1994-09-14 00:00:00   \n",
       "2  Doc-U-Mat: Quality Laundry and Books      P3087a  1993-05-29 00:00:00   \n",
       "3  Doc-U-Mat: Quality Laundry and Books      P3087a  1993-05-29 00:00:00   \n",
       "4  Doc-U-Mat: Quality Laundry and Books      P3087a  1993-05-29 00:00:00   \n",
       "5  Doc-U-Mat: Quality Laundry and Books      P3087a  1993-05-29 00:00:00   \n",
       "6                          News & Brews       D4482  1994-09-14 00:00:00   \n",
       "7                          News & Brews       P2121  1992-06-15 00:00:00   \n",
       "8                          News & Brews       P2121  1992-06-15 00:00:00   \n",
       "9                          News & Brews       P2121  1992-06-15 00:00:00   \n",
       "\n",
       "                                               Title  Qty  Price        Type  \n",
       "0                                Is Anger the Enemy?   20  10.95  psychology  \n",
       "1                              The Gourmet Microwave   25   2.99    mod_cook  \n",
       "2  Computer Phobic AND Non-Phobic Individuals: Be...   20  21.59  psychology  \n",
       "3                                  Life Without Fear   25   7.00  psychology  \n",
       "4      Prolonged Data Deprivation: Four Case Studies   15  19.99  psychology  \n",
       "5                Emotional Security: A New Algorithm   25   7.99  psychology  \n",
       "6                                Is Anger the Enemy?   10  10.95  psychology  \n",
       "7  Onions, Leeks, and Garlic: Cooking Secrets of ...   40  20.95   trad_cook  \n",
       "8          Fifty Years in Buckingham Palace Kitchens   20  11.95   trad_cook  \n",
       "9                                     Sushi, Anyone?   20  14.99   trad_cook  "
      ]
     },
     "execution_count": 23,
     "metadata": {},
     "output_type": "execute_result"
    }
   ],
   "source": [
    "sql_view_select.DataFrame()"
   ]
  },
  {
   "cell_type": "markdown",
   "metadata": {},
   "source": [
    "some technologies supports materialized views...\n",
    "* https://www.postgresql.org/docs/current/rules-materializedviews.html"
   ]
  },
  {
   "cell_type": "markdown",
   "metadata": {},
   "source": [
    "materialized views can be refreshed, because are created as a query to other tables, standard tables can not be refreshed..."
   ]
  },
  {
   "cell_type": "markdown",
   "metadata": {},
   "source": [
    "## 5. temporary tables"
   ]
  },
  {
   "cell_type": "markdown",
   "metadata": {},
   "source": [
    "temporary tables are valid for the current sql session... and vanish at disconnection..."
   ]
  },
  {
   "cell_type": "code",
   "execution_count": 6,
   "metadata": {},
   "outputs": [
    {
     "name": "stdout",
     "output_type": "stream",
     "text": [
      " * sqlite:///data/publications.db\n",
      "Done.\n",
      "Returning data to local variable create_temp_table\n"
     ]
    }
   ],
   "source": [
    "%%sql create_temp_table <<\n",
    "\n",
    "CREATE TEMPORARY TABLE IF NOT EXISTS store_total_sales AS\n",
    "SELECT\n",
    "stores.stor_id AS StoreID,\n",
    "stores.stor_name AS Store, \n",
    "COUNT(DISTINCT(sales.ord_num)) AS Orders, \n",
    "COUNT(sales.title_id) AS Items,\n",
    "SUM(sales.qty) AS Qty\n",
    "FROM sales\n",
    "INNER JOIN stores \n",
    "ON stores.stor_id = sales.stor_id\n",
    "GROUP BY Store"
   ]
  },
  {
   "cell_type": "code",
   "execution_count": 7,
   "metadata": {},
   "outputs": [
    {
     "data": {
      "text/html": [
       "<div>\n",
       "<style scoped>\n",
       "    .dataframe tbody tr th:only-of-type {\n",
       "        vertical-align: middle;\n",
       "    }\n",
       "\n",
       "    .dataframe tbody tr th {\n",
       "        vertical-align: top;\n",
       "    }\n",
       "\n",
       "    .dataframe thead th {\n",
       "        text-align: right;\n",
       "    }\n",
       "</style>\n",
       "<table border=\"1\" class=\"dataframe\">\n",
       "  <thead>\n",
       "    <tr style=\"text-align: right;\">\n",
       "      <th></th>\n",
       "    </tr>\n",
       "  </thead>\n",
       "  <tbody>\n",
       "  </tbody>\n",
       "</table>\n",
       "</div>"
      ],
      "text/plain": [
       "Empty DataFrame\n",
       "Columns: []\n",
       "Index: []"
      ]
     },
     "execution_count": 7,
     "metadata": {},
     "output_type": "execute_result"
    }
   ],
   "source": [
    "create_temp_table.DataFrame()"
   ]
  },
  {
   "cell_type": "code",
   "execution_count": 8,
   "metadata": {},
   "outputs": [
    {
     "name": "stdout",
     "output_type": "stream",
     "text": [
      " * sqlite:///data/publications.db\n",
      "Done.\n",
      "Returning data to local variable query_temp_table\n"
     ]
    }
   ],
   "source": [
    "%%sql query_temp_table <<\n",
    "\n",
    "SELECT * FROM store_total_sales;"
   ]
  },
  {
   "cell_type": "code",
   "execution_count": 9,
   "metadata": {},
   "outputs": [
    {
     "data": {
      "text/html": [
       "<div>\n",
       "<style scoped>\n",
       "    .dataframe tbody tr th:only-of-type {\n",
       "        vertical-align: middle;\n",
       "    }\n",
       "\n",
       "    .dataframe tbody tr th {\n",
       "        vertical-align: top;\n",
       "    }\n",
       "\n",
       "    .dataframe thead th {\n",
       "        text-align: right;\n",
       "    }\n",
       "</style>\n",
       "<table border=\"1\" class=\"dataframe\">\n",
       "  <thead>\n",
       "    <tr style=\"text-align: right;\">\n",
       "      <th></th>\n",
       "      <th>StoreID</th>\n",
       "      <th>Store</th>\n",
       "      <th>Orders</th>\n",
       "      <th>Items</th>\n",
       "      <th>Qty</th>\n",
       "    </tr>\n",
       "  </thead>\n",
       "  <tbody>\n",
       "    <tr>\n",
       "      <th>0</th>\n",
       "      <td>7066</td>\n",
       "      <td>Barnum's</td>\n",
       "      <td>2</td>\n",
       "      <td>2</td>\n",
       "      <td>125</td>\n",
       "    </tr>\n",
       "    <tr>\n",
       "      <th>1</th>\n",
       "      <td>8042</td>\n",
       "      <td>Bookbeat</td>\n",
       "      <td>4</td>\n",
       "      <td>4</td>\n",
       "      <td>80</td>\n",
       "    </tr>\n",
       "    <tr>\n",
       "      <th>2</th>\n",
       "      <td>7131</td>\n",
       "      <td>Doc-U-Mat: Quality Laundry and Books</td>\n",
       "      <td>3</td>\n",
       "      <td>6</td>\n",
       "      <td>130</td>\n",
       "    </tr>\n",
       "    <tr>\n",
       "      <th>3</th>\n",
       "      <td>6380</td>\n",
       "      <td>Eric the Read Books</td>\n",
       "      <td>2</td>\n",
       "      <td>2</td>\n",
       "      <td>8</td>\n",
       "    </tr>\n",
       "    <tr>\n",
       "      <th>4</th>\n",
       "      <td>7896</td>\n",
       "      <td>Fricative Bookshop</td>\n",
       "      <td>3</td>\n",
       "      <td>3</td>\n",
       "      <td>60</td>\n",
       "    </tr>\n",
       "    <tr>\n",
       "      <th>5</th>\n",
       "      <td>7067</td>\n",
       "      <td>News &amp; Brews</td>\n",
       "      <td>2</td>\n",
       "      <td>4</td>\n",
       "      <td>90</td>\n",
       "    </tr>\n",
       "  </tbody>\n",
       "</table>\n",
       "</div>"
      ],
      "text/plain": [
       "  StoreID                                 Store  Orders  Items  Qty\n",
       "0    7066                              Barnum's       2      2  125\n",
       "1    8042                              Bookbeat       4      4   80\n",
       "2    7131  Doc-U-Mat: Quality Laundry and Books       3      6  130\n",
       "3    6380                   Eric the Read Books       2      2    8\n",
       "4    7896                    Fricative Bookshop       3      3   60\n",
       "5    7067                          News & Brews       2      4   90"
      ]
     },
     "execution_count": 9,
     "metadata": {},
     "output_type": "execute_result"
    }
   ],
   "source": [
    "query_temp_table.DataFrame()"
   ]
  },
  {
   "cell_type": "markdown",
   "metadata": {},
   "source": [
    "this table expires after session ends..."
   ]
  },
  {
   "cell_type": "markdown",
   "metadata": {},
   "source": [
    "## 6. differences between tables, views, and materialized views..."
   ]
  },
  {
   "cell_type": "markdown",
   "metadata": {},
   "source": [
    "can someone explain the main differences at this point?"
   ]
  },
  {
   "cell_type": "markdown",
   "metadata": {},
   "source": [
    "## 7. if there is extra time... let's do the same using pandas"
   ]
  },
  {
   "cell_type": "markdown",
   "metadata": {},
   "source": [
    "let's replicate part of our analysis using pandas..."
   ]
  },
  {
   "cell_type": "code",
   "execution_count": 25,
   "metadata": {},
   "outputs": [],
   "source": [
    "from sqlalchemy import create_engine\n",
    "import pandas as pd"
   ]
  },
  {
   "cell_type": "code",
   "execution_count": 26,
   "metadata": {},
   "outputs": [],
   "source": [
    "eng = create_engine('sqlite:///data/publications.db')"
   ]
  },
  {
   "cell_type": "code",
   "execution_count": 27,
   "metadata": {},
   "outputs": [],
   "source": [
    "sales = pd.read_sql_table('sales', con=eng)\n",
    "stores = pd.read_sql_table('stores', con=eng)"
   ]
  },
  {
   "cell_type": "code",
   "execution_count": 28,
   "metadata": {},
   "outputs": [
    {
     "data": {
      "text/html": [
       "<div>\n",
       "<style scoped>\n",
       "    .dataframe tbody tr th:only-of-type {\n",
       "        vertical-align: middle;\n",
       "    }\n",
       "\n",
       "    .dataframe tbody tr th {\n",
       "        vertical-align: top;\n",
       "    }\n",
       "\n",
       "    .dataframe thead th {\n",
       "        text-align: right;\n",
       "    }\n",
       "</style>\n",
       "<table border=\"1\" class=\"dataframe\">\n",
       "  <thead>\n",
       "    <tr style=\"text-align: right;\">\n",
       "      <th></th>\n",
       "      <th>stor_id</th>\n",
       "      <th>ord_num</th>\n",
       "      <th>ord_date</th>\n",
       "      <th>qty</th>\n",
       "      <th>payterms</th>\n",
       "      <th>title_id</th>\n",
       "    </tr>\n",
       "  </thead>\n",
       "  <tbody>\n",
       "    <tr>\n",
       "      <th>0</th>\n",
       "      <td>6380</td>\n",
       "      <td>6871</td>\n",
       "      <td>1994-09-14</td>\n",
       "      <td>5</td>\n",
       "      <td>Net 60</td>\n",
       "      <td>BU1032</td>\n",
       "    </tr>\n",
       "    <tr>\n",
       "      <th>1</th>\n",
       "      <td>6380</td>\n",
       "      <td>722a</td>\n",
       "      <td>1994-09-13</td>\n",
       "      <td>3</td>\n",
       "      <td>Net 60</td>\n",
       "      <td>PS2091</td>\n",
       "    </tr>\n",
       "    <tr>\n",
       "      <th>2</th>\n",
       "      <td>7066</td>\n",
       "      <td>A2976</td>\n",
       "      <td>1993-05-24</td>\n",
       "      <td>50</td>\n",
       "      <td>Net 30</td>\n",
       "      <td>PC8888</td>\n",
       "    </tr>\n",
       "    <tr>\n",
       "      <th>3</th>\n",
       "      <td>7066</td>\n",
       "      <td>QA7442.3</td>\n",
       "      <td>1994-09-13</td>\n",
       "      <td>75</td>\n",
       "      <td>ON invoice</td>\n",
       "      <td>PS2091</td>\n",
       "    </tr>\n",
       "    <tr>\n",
       "      <th>4</th>\n",
       "      <td>7067</td>\n",
       "      <td>D4482</td>\n",
       "      <td>1994-09-14</td>\n",
       "      <td>10</td>\n",
       "      <td>Net 60</td>\n",
       "      <td>PS2091</td>\n",
       "    </tr>\n",
       "  </tbody>\n",
       "</table>\n",
       "</div>"
      ],
      "text/plain": [
       "  stor_id   ord_num   ord_date  qty    payterms title_id\n",
       "0    6380      6871 1994-09-14    5      Net 60   BU1032\n",
       "1    6380      722a 1994-09-13    3      Net 60   PS2091\n",
       "2    7066     A2976 1993-05-24   50      Net 30   PC8888\n",
       "3    7066  QA7442.3 1994-09-13   75  ON invoice   PS2091\n",
       "4    7067     D4482 1994-09-14   10      Net 60   PS2091"
      ]
     },
     "execution_count": 28,
     "metadata": {},
     "output_type": "execute_result"
    }
   ],
   "source": [
    "sales.head()"
   ]
  },
  {
   "cell_type": "code",
   "execution_count": 29,
   "metadata": {},
   "outputs": [
    {
     "data": {
      "text/html": [
       "<div>\n",
       "<style scoped>\n",
       "    .dataframe tbody tr th:only-of-type {\n",
       "        vertical-align: middle;\n",
       "    }\n",
       "\n",
       "    .dataframe tbody tr th {\n",
       "        vertical-align: top;\n",
       "    }\n",
       "\n",
       "    .dataframe thead th {\n",
       "        text-align: right;\n",
       "    }\n",
       "</style>\n",
       "<table border=\"1\" class=\"dataframe\">\n",
       "  <thead>\n",
       "    <tr style=\"text-align: right;\">\n",
       "      <th></th>\n",
       "      <th>stor_id</th>\n",
       "      <th>stor_name</th>\n",
       "      <th>stor_address</th>\n",
       "      <th>city</th>\n",
       "      <th>state</th>\n",
       "      <th>zip</th>\n",
       "    </tr>\n",
       "  </thead>\n",
       "  <tbody>\n",
       "    <tr>\n",
       "      <th>0</th>\n",
       "      <td>6380</td>\n",
       "      <td>Eric the Read Books</td>\n",
       "      <td>788 Catamaugus Ave.</td>\n",
       "      <td>Seattle</td>\n",
       "      <td>WA</td>\n",
       "      <td>98056</td>\n",
       "    </tr>\n",
       "    <tr>\n",
       "      <th>1</th>\n",
       "      <td>7066</td>\n",
       "      <td>Barnum's</td>\n",
       "      <td>567 Pasadena Ave.</td>\n",
       "      <td>Tustin</td>\n",
       "      <td>CA</td>\n",
       "      <td>92789</td>\n",
       "    </tr>\n",
       "    <tr>\n",
       "      <th>2</th>\n",
       "      <td>7067</td>\n",
       "      <td>News &amp; Brews</td>\n",
       "      <td>577 First St.</td>\n",
       "      <td>Los Gatos</td>\n",
       "      <td>CA</td>\n",
       "      <td>96745</td>\n",
       "    </tr>\n",
       "    <tr>\n",
       "      <th>3</th>\n",
       "      <td>7131</td>\n",
       "      <td>Doc-U-Mat: Quality Laundry and Books</td>\n",
       "      <td>24-A Avogadro Way</td>\n",
       "      <td>Remulade</td>\n",
       "      <td>WA</td>\n",
       "      <td>98014</td>\n",
       "    </tr>\n",
       "    <tr>\n",
       "      <th>4</th>\n",
       "      <td>7896</td>\n",
       "      <td>Fricative Bookshop</td>\n",
       "      <td>89 Madison St.</td>\n",
       "      <td>Fremont</td>\n",
       "      <td>CA</td>\n",
       "      <td>90019</td>\n",
       "    </tr>\n",
       "  </tbody>\n",
       "</table>\n",
       "</div>"
      ],
      "text/plain": [
       "  stor_id                             stor_name         stor_address  \\\n",
       "0    6380                   Eric the Read Books  788 Catamaugus Ave.   \n",
       "1    7066                              Barnum's    567 Pasadena Ave.   \n",
       "2    7067                          News & Brews        577 First St.   \n",
       "3    7131  Doc-U-Mat: Quality Laundry and Books    24-A Avogadro Way   \n",
       "4    7896                    Fricative Bookshop       89 Madison St.   \n",
       "\n",
       "        city state    zip  \n",
       "0    Seattle    WA  98056  \n",
       "1     Tustin    CA  92789  \n",
       "2  Los Gatos    CA  96745  \n",
       "3   Remulade    WA  98014  \n",
       "4    Fremont    CA  90019  "
      ]
     },
     "execution_count": 29,
     "metadata": {},
     "output_type": "execute_result"
    }
   ],
   "source": [
    "stores.head()"
   ]
  },
  {
   "cell_type": "code",
   "execution_count": 30,
   "metadata": {},
   "outputs": [],
   "source": [
    "import numpy as np"
   ]
  },
  {
   "cell_type": "code",
   "execution_count": 31,
   "metadata": {},
   "outputs": [
    {
     "data": {
      "text/html": [
       "<div>\n",
       "<style scoped>\n",
       "    .dataframe tbody tr th:only-of-type {\n",
       "        vertical-align: middle;\n",
       "    }\n",
       "\n",
       "    .dataframe tbody tr th {\n",
       "        vertical-align: top;\n",
       "    }\n",
       "\n",
       "    .dataframe thead th {\n",
       "        text-align: right;\n",
       "    }\n",
       "</style>\n",
       "<table border=\"1\" class=\"dataframe\">\n",
       "  <thead>\n",
       "    <tr style=\"text-align: right;\">\n",
       "      <th></th>\n",
       "      <th>qty</th>\n",
       "      <th>ord_num</th>\n",
       "    </tr>\n",
       "    <tr>\n",
       "      <th>stor_id</th>\n",
       "      <th></th>\n",
       "      <th></th>\n",
       "    </tr>\n",
       "  </thead>\n",
       "  <tbody>\n",
       "    <tr>\n",
       "      <th>6380</th>\n",
       "      <td>8</td>\n",
       "      <td>2</td>\n",
       "    </tr>\n",
       "    <tr>\n",
       "      <th>7066</th>\n",
       "      <td>125</td>\n",
       "      <td>2</td>\n",
       "    </tr>\n",
       "    <tr>\n",
       "      <th>7067</th>\n",
       "      <td>90</td>\n",
       "      <td>4</td>\n",
       "    </tr>\n",
       "    <tr>\n",
       "      <th>7131</th>\n",
       "      <td>130</td>\n",
       "      <td>6</td>\n",
       "    </tr>\n",
       "    <tr>\n",
       "      <th>7896</th>\n",
       "      <td>60</td>\n",
       "      <td>3</td>\n",
       "    </tr>\n",
       "    <tr>\n",
       "      <th>8042</th>\n",
       "      <td>80</td>\n",
       "      <td>4</td>\n",
       "    </tr>\n",
       "  </tbody>\n",
       "</table>\n",
       "</div>"
      ],
      "text/plain": [
       "         qty  ord_num\n",
       "stor_id              \n",
       "6380       8        2\n",
       "7066     125        2\n",
       "7067      90        4\n",
       "7131     130        6\n",
       "7896      60        3\n",
       "8042      80        4"
      ]
     },
     "execution_count": 31,
     "metadata": {},
     "output_type": "execute_result"
    }
   ],
   "source": [
    "pd.merge(sales, stores, on='stor_id').groupby('stor_id').agg({'qty': 'sum', 'ord_num': 'count'})"
   ]
  },
  {
   "cell_type": "code",
   "execution_count": 17,
   "metadata": {},
   "outputs": [
    {
     "data": {
      "text/html": [
       "<div>\n",
       "<style scoped>\n",
       "    .dataframe tbody tr th:only-of-type {\n",
       "        vertical-align: middle;\n",
       "    }\n",
       "\n",
       "    .dataframe tbody tr th {\n",
       "        vertical-align: top;\n",
       "    }\n",
       "\n",
       "    .dataframe thead th {\n",
       "        text-align: right;\n",
       "    }\n",
       "</style>\n",
       "<table border=\"1\" class=\"dataframe\">\n",
       "  <thead>\n",
       "    <tr style=\"text-align: right;\">\n",
       "      <th></th>\n",
       "      <th>stor_id</th>\n",
       "      <th>ord_num</th>\n",
       "      <th>ord_date</th>\n",
       "      <th>qty</th>\n",
       "      <th>payterms</th>\n",
       "      <th>title_id</th>\n",
       "    </tr>\n",
       "  </thead>\n",
       "  <tbody>\n",
       "    <tr>\n",
       "      <th>0</th>\n",
       "      <td>6380</td>\n",
       "      <td>6871</td>\n",
       "      <td>1994-09-14</td>\n",
       "      <td>5</td>\n",
       "      <td>Net 60</td>\n",
       "      <td>BU1032</td>\n",
       "    </tr>\n",
       "    <tr>\n",
       "      <th>1</th>\n",
       "      <td>6380</td>\n",
       "      <td>722a</td>\n",
       "      <td>1994-09-13</td>\n",
       "      <td>3</td>\n",
       "      <td>Net 60</td>\n",
       "      <td>PS2091</td>\n",
       "    </tr>\n",
       "    <tr>\n",
       "      <th>2</th>\n",
       "      <td>7066</td>\n",
       "      <td>A2976</td>\n",
       "      <td>1993-05-24</td>\n",
       "      <td>50</td>\n",
       "      <td>Net 30</td>\n",
       "      <td>PC8888</td>\n",
       "    </tr>\n",
       "    <tr>\n",
       "      <th>3</th>\n",
       "      <td>7066</td>\n",
       "      <td>QA7442.3</td>\n",
       "      <td>1994-09-13</td>\n",
       "      <td>75</td>\n",
       "      <td>ON invoice</td>\n",
       "      <td>PS2091</td>\n",
       "    </tr>\n",
       "    <tr>\n",
       "      <th>4</th>\n",
       "      <td>7067</td>\n",
       "      <td>D4482</td>\n",
       "      <td>1994-09-14</td>\n",
       "      <td>10</td>\n",
       "      <td>Net 60</td>\n",
       "      <td>PS2091</td>\n",
       "    </tr>\n",
       "    <tr>\n",
       "      <th>5</th>\n",
       "      <td>7067</td>\n",
       "      <td>P2121</td>\n",
       "      <td>1992-06-15</td>\n",
       "      <td>40</td>\n",
       "      <td>Net 30</td>\n",
       "      <td>TC3218</td>\n",
       "    </tr>\n",
       "    <tr>\n",
       "      <th>6</th>\n",
       "      <td>7067</td>\n",
       "      <td>P2121</td>\n",
       "      <td>1992-06-15</td>\n",
       "      <td>20</td>\n",
       "      <td>Net 30</td>\n",
       "      <td>TC4203</td>\n",
       "    </tr>\n",
       "    <tr>\n",
       "      <th>7</th>\n",
       "      <td>7067</td>\n",
       "      <td>P2121</td>\n",
       "      <td>1992-06-15</td>\n",
       "      <td>20</td>\n",
       "      <td>Net 30</td>\n",
       "      <td>TC7777</td>\n",
       "    </tr>\n",
       "    <tr>\n",
       "      <th>8</th>\n",
       "      <td>7131</td>\n",
       "      <td>N914008</td>\n",
       "      <td>1994-09-14</td>\n",
       "      <td>20</td>\n",
       "      <td>Net 30</td>\n",
       "      <td>PS2091</td>\n",
       "    </tr>\n",
       "    <tr>\n",
       "      <th>9</th>\n",
       "      <td>7131</td>\n",
       "      <td>N914014</td>\n",
       "      <td>1994-09-14</td>\n",
       "      <td>25</td>\n",
       "      <td>Net 30</td>\n",
       "      <td>MC3021</td>\n",
       "    </tr>\n",
       "    <tr>\n",
       "      <th>10</th>\n",
       "      <td>7131</td>\n",
       "      <td>P3087a</td>\n",
       "      <td>1993-05-29</td>\n",
       "      <td>20</td>\n",
       "      <td>Net 60</td>\n",
       "      <td>PS1372</td>\n",
       "    </tr>\n",
       "    <tr>\n",
       "      <th>11</th>\n",
       "      <td>7131</td>\n",
       "      <td>P3087a</td>\n",
       "      <td>1993-05-29</td>\n",
       "      <td>25</td>\n",
       "      <td>Net 60</td>\n",
       "      <td>PS2106</td>\n",
       "    </tr>\n",
       "    <tr>\n",
       "      <th>12</th>\n",
       "      <td>7131</td>\n",
       "      <td>P3087a</td>\n",
       "      <td>1993-05-29</td>\n",
       "      <td>15</td>\n",
       "      <td>Net 60</td>\n",
       "      <td>PS3333</td>\n",
       "    </tr>\n",
       "    <tr>\n",
       "      <th>13</th>\n",
       "      <td>7131</td>\n",
       "      <td>P3087a</td>\n",
       "      <td>1993-05-29</td>\n",
       "      <td>25</td>\n",
       "      <td>Net 60</td>\n",
       "      <td>PS7777</td>\n",
       "    </tr>\n",
       "    <tr>\n",
       "      <th>14</th>\n",
       "      <td>7896</td>\n",
       "      <td>QQ2299</td>\n",
       "      <td>1993-10-28</td>\n",
       "      <td>15</td>\n",
       "      <td>Net 60</td>\n",
       "      <td>BU7832</td>\n",
       "    </tr>\n",
       "    <tr>\n",
       "      <th>15</th>\n",
       "      <td>7896</td>\n",
       "      <td>TQ456</td>\n",
       "      <td>1993-12-12</td>\n",
       "      <td>10</td>\n",
       "      <td>Net 60</td>\n",
       "      <td>MC2222</td>\n",
       "    </tr>\n",
       "    <tr>\n",
       "      <th>16</th>\n",
       "      <td>7896</td>\n",
       "      <td>X999</td>\n",
       "      <td>1993-02-21</td>\n",
       "      <td>35</td>\n",
       "      <td>ON invoice</td>\n",
       "      <td>BU2075</td>\n",
       "    </tr>\n",
       "    <tr>\n",
       "      <th>17</th>\n",
       "      <td>8042</td>\n",
       "      <td>423LL922</td>\n",
       "      <td>1994-09-14</td>\n",
       "      <td>15</td>\n",
       "      <td>ON invoice</td>\n",
       "      <td>MC3021</td>\n",
       "    </tr>\n",
       "    <tr>\n",
       "      <th>18</th>\n",
       "      <td>8042</td>\n",
       "      <td>423LL930</td>\n",
       "      <td>1994-09-14</td>\n",
       "      <td>10</td>\n",
       "      <td>ON invoice</td>\n",
       "      <td>BU1032</td>\n",
       "    </tr>\n",
       "    <tr>\n",
       "      <th>19</th>\n",
       "      <td>8042</td>\n",
       "      <td>P723</td>\n",
       "      <td>1993-03-11</td>\n",
       "      <td>25</td>\n",
       "      <td>Net 30</td>\n",
       "      <td>BU1111</td>\n",
       "    </tr>\n",
       "    <tr>\n",
       "      <th>20</th>\n",
       "      <td>8042</td>\n",
       "      <td>QA879.1</td>\n",
       "      <td>1993-05-22</td>\n",
       "      <td>30</td>\n",
       "      <td>Net 30</td>\n",
       "      <td>PC1035</td>\n",
       "    </tr>\n",
       "  </tbody>\n",
       "</table>\n",
       "</div>"
      ],
      "text/plain": [
       "   stor_id   ord_num   ord_date  qty    payterms title_id\n",
       "0     6380      6871 1994-09-14    5      Net 60   BU1032\n",
       "1     6380      722a 1994-09-13    3      Net 60   PS2091\n",
       "2     7066     A2976 1993-05-24   50      Net 30   PC8888\n",
       "3     7066  QA7442.3 1994-09-13   75  ON invoice   PS2091\n",
       "4     7067     D4482 1994-09-14   10      Net 60   PS2091\n",
       "5     7067     P2121 1992-06-15   40      Net 30   TC3218\n",
       "6     7067     P2121 1992-06-15   20      Net 30   TC4203\n",
       "7     7067     P2121 1992-06-15   20      Net 30   TC7777\n",
       "8     7131   N914008 1994-09-14   20      Net 30   PS2091\n",
       "9     7131   N914014 1994-09-14   25      Net 30   MC3021\n",
       "10    7131    P3087a 1993-05-29   20      Net 60   PS1372\n",
       "11    7131    P3087a 1993-05-29   25      Net 60   PS2106\n",
       "12    7131    P3087a 1993-05-29   15      Net 60   PS3333\n",
       "13    7131    P3087a 1993-05-29   25      Net 60   PS7777\n",
       "14    7896    QQ2299 1993-10-28   15      Net 60   BU7832\n",
       "15    7896     TQ456 1993-12-12   10      Net 60   MC2222\n",
       "16    7896      X999 1993-02-21   35  ON invoice   BU2075\n",
       "17    8042  423LL922 1994-09-14   15  ON invoice   MC3021\n",
       "18    8042  423LL930 1994-09-14   10  ON invoice   BU1032\n",
       "19    8042      P723 1993-03-11   25      Net 30   BU1111\n",
       "20    8042   QA879.1 1993-05-22   30      Net 30   PC1035"
      ]
     },
     "execution_count": 17,
     "metadata": {},
     "output_type": "execute_result"
    }
   ],
   "source": [
    "sales"
   ]
  },
  {
   "cell_type": "markdown",
   "metadata": {},
   "source": [
    "## 6. query optimization"
   ]
  },
  {
   "cell_type": "markdown",
   "metadata": {},
   "source": [
    "https://www.postgresql.org/docs/10/geqo-intro.html"
   ]
  },
  {
   "cell_type": "markdown",
   "metadata": {},
   "source": [
    "<div style=\"padding-top: 25px; float: right\">\n",
    "    <div>    \n",
    "        <i>&nbsp;&nbsp;© Copyright by</i>\n",
    "    </div>\n",
    "    <div>\n",
    "        <a href=\"https://whiteboxml.com\">\n",
    "            <img src=\"https://whiteboxml.com/static/img/logo/black_bg_white.svg\" width=\"125\">\n",
    "        </a>\n",
    "    </div>\n",
    "</div>"
   ]
  }
 ],
 "metadata": {
  "kernelspec": {
   "display_name": "Python [conda env:ml_env]",
   "language": "python",
   "name": "conda-env-ml_env-py"
  },
  "language_info": {
   "codemirror_mode": {
    "name": "ipython",
    "version": 3
   },
   "file_extension": ".py",
   "mimetype": "text/x-python",
   "name": "python",
   "nbconvert_exporter": "python",
   "pygments_lexer": "ipython3",
   "version": "3.8.5"
  }
 },
 "nbformat": 4,
 "nbformat_minor": 4
}
