{
 "cells": [
  {
   "cell_type": "markdown",
   "metadata": {},
   "source": [
    "<div style=\"float:right; padding-top: 15px; padding-right: 15px\">\n",
    "    <div>\n",
    "        <a href=\"https://whiteboxml.com\">\n",
    "            <img src=\"https://whiteboxml.com/static/img/logo/black_bg_white.svg\" width=\"250\">\n",
    "        </a>\n",
    "    </div>\n",
    "</div>"
   ]
  },
  {
   "cell_type": "markdown",
   "metadata": {},
   "source": [
    "# Code Simplicity and Efficiency"
   ]
  },
  {
   "cell_type": "markdown",
   "metadata": {},
   "source": [
    "__Although you are not a software engineer, writing good code is important for you because your colleagues will read your code and machines will execute your code__"
   ]
  },
  {
   "cell_type": "markdown",
   "metadata": {},
   "source": [
    "## 1. Code Simplicity"
   ]
  },
  {
   "cell_type": "markdown",
   "metadata": {},
   "source": [
    "- Writing simple code allows you to be more productive and prevents your code from running into unnecessary errors. It also makes your code more readable, easier to be debugged, and easier to be updated\n",
    "\n",
    "- Programming has a human/social dimension. At the end of the day the machine is not the only consumer of your code. Your colleagues will read your code because coding is often team work. Your mentor/supervisor will read your code because they need to evaluate your work. You yourself will read your own code because you need to debug errors. If you are in the open-source community there will also be strangers reading your code because they need to build their codes on top of yours. The simplicity of code allows it to be easily understood by human programmers\n",
    "\n",
    "- In order to write simple codes, you need to develop design thinking. There is a famous saying that everybody who writes software is a designer. You write codes to solve problems and to help people. To sum up, please think for a bit before writing thounsands of dirty lines\n",
    "\n",
    "- The \"keep it simple, stupid\" (KISS) principle states that your code should not attempt to achieve unnecessary, \"smart\" features. The more complicated your code is, the more error-prone and less maintainable it becomes\n",
    "\n",
    "- The KISS principle is related to the \"You Aren't Gonna Need It\" (YAGNI) and the Lean Software Development. These principles state that you shouldn't add features to your code unless you absolutely know they are needed\n",
    "\n",
    "- Follow the \"don't repeat yourself\" (DRY) principle. Copy-n-pasting is indeed easy for you to get things done. However, when people read your code it'll be a big waste of time. When you want to fix an error in your code you will also need to make the fix multiple times. The right approach here is to write a function with variables so that you can reuse the same piece of code"
   ]
  },
  {
   "cell_type": "markdown",
   "metadata": {},
   "source": [
    "## 2. Clean Code"
   ]
  },
  {
   "cell_type": "markdown",
   "metadata": {},
   "source": [
    "- Clean code has a lot to overlap with simple code. It means you should keep your code as concise, readable, and maintainable as possible. If you can achieve your goal with one line of code, don't make it two lines unless it seriouly affects readability\n",
    "\n",
    "- The readability of your code means your code should be self-explanatory about what it does. Some techniques to achieve good readability include:\n",
    "\n",
    "    - Organizing your files. Have a coherent project structure (input, output, data...)\n",
    "\n",
    "    - Structuring your code. Imports at the beginning, functions before main code...\n",
    "\n",
    "    - Respect coding conventions (https://www.python.org/dev/peps/pep-0008/). Most importantly, follow naming conventions. For instance, in Python the following are the basic naming conventions:\n",
    "\n",
    "        - Use CapWords to declare class names\n",
    "        - Use words_connected_by_underscores to declare variables and functions\n",
    "        - Use CAPITAL_LETTERS to declare constants\n",
    "        - Use descriptive names for all declarations\n"
   ]
  },
  {
   "cell_type": "markdown",
   "metadata": {},
   "source": [
    "```python\n",
    "USER = 'my_user'\n",
    "PASSWORD = 'my_password'\n",
    "HOST = 'server_where_postgres_live'\n",
    "PORT = '5432'\n",
    "DATABASE = 'my_db'\n",
    "\n",
    "conn_string = f'postgres+psycopg2://{USER}:{PASSWORD}@{HOST}:{PORT}/{DATABASE}'\n",
    "\n",
    "conn_string\n",
    "```"
   ]
  },
  {
   "cell_type": "markdown",
   "metadata": {},
   "source": [
    "```python\n",
    "mylist = [8,2,67,4,5]\n",
    "\n",
    "# usual way, less pythonic\n",
    "for i in range(len(mylist)):\n",
    "    print(f'value {mylist[i]} on index {i}')\n",
    "    \n",
    "# my choice\n",
    "for i, item in enumerate(mylist):\n",
    "    print(f'value {item} on index {i}')\n",
    "\n",
    "```"
   ]
  },
  {
   "cell_type": "markdown",
   "metadata": {},
   "source": [
    "## 3. Code Efficiency"
   ]
  },
  {
   "cell_type": "markdown",
   "metadata": {},
   "source": [
    "- Very important to use String Interpolation instead of any other way to define strings\n",
    "\n",
    "```python\n",
    "\n",
    "cool = True\n",
    "\n",
    "cool_string = f'I am a {cool} string'\n",
    "dirty_string = 'I am a dirty and' + ' unefficient string'\n",
    "\n",
    "```\n",
    "\n",
    "- Avoid loops whenever you can, use list comprehension\n",
    "- more info at: https://pybit.es/faster-python.html"
   ]
  },
  {
   "cell_type": "markdown",
   "metadata": {},
   "source": [
    "<div style=\"padding-top: 25px; float: right\">\n",
    "    <div>    \n",
    "        <i>&nbsp;&nbsp;© Copyright by</i>\n",
    "    </div>\n",
    "    <div>\n",
    "        <a href=\"https://whiteboxml.com\">\n",
    "            <img src=\"https://whiteboxml.com/static/img/logo/black_bg_white.svg\" width=\"125\">\n",
    "        </a>\n",
    "    </div>\n",
    "</div>"
   ]
  }
 ],
 "metadata": {
  "kernelspec": {
   "display_name": "Python [conda env:ironhack_env]",
   "language": "python",
   "name": "conda-env-ironhack_env-py"
  },
  "language_info": {
   "codemirror_mode": {
    "name": "ipython",
    "version": 3
   },
   "file_extension": ".py",
   "mimetype": "text/x-python",
   "name": "python",
   "nbconvert_exporter": "python",
   "pygments_lexer": "ipython3",
   "version": "3.7.9"
  }
 },
 "nbformat": 4,
 "nbformat_minor": 4
}
