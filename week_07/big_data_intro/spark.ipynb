{
 "cells": [
  {
   "cell_type": "markdown",
   "metadata": {},
   "source": [
    "<div style=\"float:right; padding-top: 15px; padding-right: 15px\">\n",
    "    <div>\n",
    "        <a href=\"https://whiteboxml.com\">\n",
    "            <img src=\"https://whiteboxml.com/static/img/logo/black_bg_white.svg\" width=\"250\">\n",
    "        </a>\n",
    "    </div>\n",
    "</div>"
   ]
  },
  {
   "cell_type": "markdown",
   "metadata": {},
   "source": [
    "# Spark"
   ]
  },
  {
   "cell_type": "markdown",
   "metadata": {},
   "source": [
    "## 1. Introduction"
   ]
  },
  {
   "cell_type": "markdown",
   "metadata": {},
   "source": [
    "* When dataset size exceeds your computer memory (RAM or even storage), [Big Data](https://en.wikipedia.org/wiki/Big_data) tools are used to break the dataset in chunks and process it step by step\n",
    "* Big Data tools allow you to make this process automatically and take care of everything under the hood with little extra code\n",
    "* [Spark](https://spark.apache.org/) is the most popular Big Data framework so far\n",
    "* Spark syntax resembles pandas API with some differences"
   ]
  },
  {
   "cell_type": "markdown",
   "metadata": {},
   "source": [
    "## 2. Installation"
   ]
  },
  {
   "cell_type": "markdown",
   "metadata": {},
   "source": [
    "You need Java to run Spark. It is written in [Scala](https://www.scala-lang.org/), a JVM based (and functional style) language"
   ]
  },
  {
   "cell_type": "markdown",
   "metadata": {},
   "source": [
    "### 2.1 Java installation"
   ]
  },
  {
   "cell_type": "markdown",
   "metadata": {},
   "source": [
    "#### 2.1.1 Conda"
   ]
  },
  {
   "cell_type": "markdown",
   "metadata": {},
   "source": [
    "```\n",
    "conda install openjdk -y\n",
    "```"
   ]
  },
  {
   "cell_type": "markdown",
   "metadata": {},
   "source": [
    "#### 2.1.2 Apt"
   ]
  },
  {
   "cell_type": "markdown",
   "metadata": {},
   "source": [
    "```\n",
    "sudo apt install default-jdk\n",
    "```"
   ]
  },
  {
   "cell_type": "markdown",
   "metadata": {},
   "source": [
    "### 2.2 PySpark installation"
   ]
  },
  {
   "cell_type": "markdown",
   "metadata": {},
   "source": [
    "#### 2.2.1 Conda"
   ]
  },
  {
   "cell_type": "markdown",
   "metadata": {},
   "source": [
    "```\n",
    "conda install pyspark -y\n",
    "```"
   ]
  },
  {
   "cell_type": "markdown",
   "metadata": {},
   "source": [
    "#### 2.2.2 Pip"
   ]
  },
  {
   "cell_type": "markdown",
   "metadata": {},
   "source": [
    "```\n",
    "pip install pyspark\n",
    "```"
   ]
  },
  {
   "cell_type": "markdown",
   "metadata": {},
   "source": [
    "## 3. Setup"
   ]
  },
  {
   "cell_type": "code",
   "execution_count": 1,
   "metadata": {},
   "outputs": [],
   "source": [
    "from pyspark.sql import SparkSession\n",
    "\n",
    "spark = SparkSession.builder \\\n",
    "            .appName('big_data_session') \\\n",
    "            .master('local[*]') \\\n",
    "            .config('spark.ui.showConsoleProgress', True) \\\n",
    "            .config('spark.sql.repl.eagerEval.enabled', True) \\\n",
    "            .config('spark.sql.session.timeZone', 'UTC') \\\n",
    "            .getOrCreate()"
   ]
  },
  {
   "cell_type": "code",
   "execution_count": 2,
   "metadata": {},
   "outputs": [
    {
     "data": {
      "text/html": [
       "\n",
       "            <div>\n",
       "                <p><b>SparkSession - in-memory</b></p>\n",
       "                \n",
       "        <div>\n",
       "            <p><b>SparkContext</b></p>\n",
       "\n",
       "            <p><a href=\"http://192.168.1.62:4040\">Spark UI</a></p>\n",
       "\n",
       "            <dl>\n",
       "              <dt>Version</dt>\n",
       "                <dd><code>v2.4.0</code></dd>\n",
       "              <dt>Master</dt>\n",
       "                <dd><code>local[*]</code></dd>\n",
       "              <dt>AppName</dt>\n",
       "                <dd><code>big_data_session</code></dd>\n",
       "            </dl>\n",
       "        </div>\n",
       "        \n",
       "            </div>\n",
       "        "
      ],
      "text/plain": [
       "<pyspark.sql.session.SparkSession at 0x7f4b9d4a8350>"
      ]
     },
     "execution_count": 2,
     "metadata": {},
     "output_type": "execute_result"
    }
   ],
   "source": [
    "spark"
   ]
  },
  {
   "cell_type": "markdown",
   "metadata": {},
   "source": [
    "## 4. Data source"
   ]
  },
  {
   "cell_type": "markdown",
   "metadata": {},
   "source": [
    "All data used in this workshop will be downloaded from [datamarket.es](https://datamarket.es/), the reference website for retrieving external data in Spain. Two sources has been sampled:\n",
    "\n",
    "- Renfe trips\n",
    "- Supermarket products"
   ]
  },
  {
   "cell_type": "markdown",
   "metadata": {},
   "source": [
    "## 5. Data processing"
   ]
  },
  {
   "cell_type": "markdown",
   "metadata": {},
   "source": [
    "### 5.1 Renfe trips"
   ]
  },
  {
   "cell_type": "code",
   "execution_count": 3,
   "metadata": {},
   "outputs": [
    {
     "data": {
      "text/html": [
       "<table border='1'>\n",
       "<tr><th>id</th><th>company</th><th>origin</th><th>destination</th><th>departure</th><th>arrival</th><th>duration</th><th>vehicle_type</th><th>vehicle_class</th><th>price</th><th>fare</th><th>seats</th><th>meta</th><th>insert_date</th></tr>\n",
       "<tr><td>19</td><td>renfe</td><td>MADRID</td><td>BARCELONA</td><td>2019-04-18 12:30:00</td><td>2019-04-18 15:30:00</td><td>3.0</td><td>AVE</td><td>Turista</td><td>107.7</td><td>Flexible</td><td>null</td><td>{}</td><td>2019-04-11 21:49:46</td></tr>\n",
       "<tr><td>23</td><td>renfe</td><td>MADRID</td><td>BARCELONA</td><td>2019-04-18 14:00:00</td><td>2019-04-18 16:30:00</td><td>2.5</td><td>AVE</td><td>Turista</td><td>100.4</td><td>Promo</td><td>null</td><td>{}</td><td>2019-04-11 21:49:46</td></tr>\n",
       "<tr><td>33</td><td>renfe</td><td>MADRID</td><td>BARCELONA</td><td>2019-04-18 19:30:00</td><td>2019-04-18 22:40:00</td><td>3.17</td><td>AVE</td><td>Turista</td><td>85.1</td><td>Promo</td><td>null</td><td>{}</td><td>2019-04-11 21:49:46</td></tr>\n",
       "<tr><td>35</td><td>renfe</td><td>MADRID</td><td>BARCELONA</td><td>2019-04-18 21:25:00</td><td>2019-04-18 23:55:00</td><td>2.5</td><td>AVE</td><td>null</td><td>null</td><td>null</td><td>null</td><td>{}</td><td>2019-04-11 21:49:46</td></tr>\n",
       "<tr><td>60</td><td>renfe</td><td>MADRID</td><td>BARCELONA</td><td>2019-05-18 16:30:00</td><td>2019-05-18 19:15:00</td><td>2.75</td><td>AVE</td><td>Turista Plus</td><td>80.15</td><td>Promo</td><td>null</td><td>{}</td><td>2019-04-11 21:49:48</td></tr>\n",
       "<tr><td>67</td><td>renfe</td><td>MADRID</td><td>BARCELONA</td><td>2019-05-18 12:30:00</td><td>2019-05-18 15:30:00</td><td>3.0</td><td>AVE</td><td>Turista</td><td>75.4</td><td>Promo</td><td>null</td><td>{}</td><td>2019-04-11 21:49:48</td></tr>\n",
       "<tr><td>80</td><td>renfe</td><td>MADRID</td><td>BARCELONA</td><td>2019-05-22 07:20:00</td><td>2019-05-22 09:50:00</td><td>2.5</td><td>AVE</td><td>Turista</td><td>100.4</td><td>Promo</td><td>null</td><td>{}</td><td>2019-04-11 21:50:04</td></tr>\n",
       "<tr><td>89</td><td>renfe</td><td>MADRID</td><td>BARCELONA</td><td>2019-04-22 06:30:00</td><td>2019-04-22 09:20:00</td><td>2.83</td><td>AVE</td><td>Turista</td><td>75.4</td><td>Promo</td><td>null</td><td>{}</td><td>2019-04-11 21:50:04</td></tr>\n",
       "<tr><td>109</td><td>renfe</td><td>MADRID</td><td>BARCELONA</td><td>2019-05-22 08:20:00</td><td>2019-05-22 11:05:00</td><td>2.75</td><td>AVE</td><td>Turista</td><td>40.95</td><td>Promo</td><td>null</td><td>{}</td><td>2019-04-11 21:50:04</td></tr>\n",
       "<tr><td>123</td><td>renfe</td><td>MADRID</td><td>BARCELONA</td><td>2019-05-22 07:15:00</td><td>2019-05-22 16:37:00</td><td>9.37</td><td>R. EXPRES</td><td>Turista</td><td>43.25</td><td>Adulto ida</td><td>null</td><td>{}</td><td>2019-04-11 21:50:04</td></tr>\n",
       "<tr><td>144</td><td>renfe</td><td>MADRID</td><td>BARCELONA</td><td>2019-04-22 08:30:00</td><td>2019-04-22 11:15:00</td><td>2.75</td><td>AVE</td><td>Preferente</td><td>null</td><td>Promo</td><td>null</td><td>{}</td><td>2019-04-11 21:50:04</td></tr>\n",
       "<tr><td>147</td><td>renfe</td><td>MADRID</td><td>BARCELONA</td><td>2019-04-22 15:00:00</td><td>2019-04-22 17:30:00</td><td>2.5</td><td>AVE</td><td>Preferente</td><td>132.8</td><td>Promo</td><td>null</td><td>{}</td><td>2019-04-11 21:50:04</td></tr>\n",
       "<tr><td>152</td><td>renfe</td><td>MADRID</td><td>BARCELONA</td><td>2019-04-22 12:30:00</td><td>2019-04-22 15:30:00</td><td>3.0</td><td>AVE</td><td>Preferente</td><td>181.5</td><td>Flexible</td><td>null</td><td>{}</td><td>2019-04-11 21:50:04</td></tr>\n",
       "<tr><td>167</td><td>renfe</td><td>MADRID</td><td>BARCELONA</td><td>2019-04-22 18:30:00</td><td>2019-04-22 21:20:00</td><td>2.83</td><td>AVE</td><td>Turista</td><td>107.7</td><td>Flexible</td><td>null</td><td>{}</td><td>2019-04-11 21:50:04</td></tr>\n",
       "<tr><td>169</td><td>renfe</td><td>MADRID</td><td>BARCELONA</td><td>2019-04-22 19:30:00</td><td>2019-04-22 22:40:00</td><td>3.17</td><td>AVE</td><td>Preferente</td><td>181.5</td><td>Flexible</td><td>null</td><td>{}</td><td>2019-04-11 21:50:04</td></tr>\n",
       "<tr><td>176</td><td>renfe</td><td>MADRID</td><td>BARCELONA</td><td>2019-04-22 14:00:00</td><td>2019-04-22 16:30:00</td><td>2.5</td><td>AVE</td><td>Turista</td><td>127.1</td><td>Flexible</td><td>null</td><td>{}</td><td>2019-04-11 21:50:04</td></tr>\n",
       "<tr><td>179</td><td>renfe</td><td>MADRID</td><td>BARCELONA</td><td>2019-05-22 08:30:00</td><td>2019-05-22 11:15:00</td><td>2.75</td><td>AVE</td><td>Turista</td><td>75.4</td><td>Promo</td><td>null</td><td>{}</td><td>2019-04-11 21:50:04</td></tr>\n",
       "<tr><td>183</td><td>renfe</td><td>MADRID</td><td>BARCELONA</td><td>2019-04-22 18:00:00</td><td>2019-04-22 20:30:00</td><td>2.5</td><td>AVE</td><td>Preferente</td><td>214.2</td><td>Flexible</td><td>null</td><td>{}</td><td>2019-04-11 21:50:04</td></tr>\n",
       "<tr><td>186</td><td>renfe</td><td>MADRID</td><td>BARCELONA</td><td>2019-04-27 06:20:00</td><td>2019-04-27 09:29:00</td><td>3.15</td><td>AVE</td><td>Preferente</td><td>86.8</td><td>Promo</td><td>null</td><td>{}</td><td>2019-04-11 21:50:20</td></tr>\n",
       "<tr><td>191</td><td>renfe</td><td>MADRID</td><td>BARCELONA</td><td>2019-04-27 16:30:00</td><td>2019-04-27 19:15:00</td><td>2.75</td><td>AVE</td><td>Turista</td><td>107.7</td><td>Flexible</td><td>null</td><td>{}</td><td>2019-04-11 21:50:20</td></tr>\n",
       "</table>\n",
       "only showing top 20 rows\n"
      ],
      "text/plain": [
       "+---+-------+------+-----------+-------------------+-------------------+--------+------------+-------------+-----+----------+-----+----+-------------------+\n",
       "| id|company|origin|destination|          departure|            arrival|duration|vehicle_type|vehicle_class|price|      fare|seats|meta|        insert_date|\n",
       "+---+-------+------+-----------+-------------------+-------------------+--------+------------+-------------+-----+----------+-----+----+-------------------+\n",
       "| 19|  renfe|MADRID|  BARCELONA|2019-04-18 12:30:00|2019-04-18 15:30:00|     3.0|         AVE|      Turista|107.7|  Flexible| null|  {}|2019-04-11 21:49:46|\n",
       "| 23|  renfe|MADRID|  BARCELONA|2019-04-18 14:00:00|2019-04-18 16:30:00|     2.5|         AVE|      Turista|100.4|     Promo| null|  {}|2019-04-11 21:49:46|\n",
       "| 33|  renfe|MADRID|  BARCELONA|2019-04-18 19:30:00|2019-04-18 22:40:00|    3.17|         AVE|      Turista| 85.1|     Promo| null|  {}|2019-04-11 21:49:46|\n",
       "| 35|  renfe|MADRID|  BARCELONA|2019-04-18 21:25:00|2019-04-18 23:55:00|     2.5|         AVE|         null| null|      null| null|  {}|2019-04-11 21:49:46|\n",
       "| 60|  renfe|MADRID|  BARCELONA|2019-05-18 16:30:00|2019-05-18 19:15:00|    2.75|         AVE| Turista Plus|80.15|     Promo| null|  {}|2019-04-11 21:49:48|\n",
       "| 67|  renfe|MADRID|  BARCELONA|2019-05-18 12:30:00|2019-05-18 15:30:00|     3.0|         AVE|      Turista| 75.4|     Promo| null|  {}|2019-04-11 21:49:48|\n",
       "| 80|  renfe|MADRID|  BARCELONA|2019-05-22 07:20:00|2019-05-22 09:50:00|     2.5|         AVE|      Turista|100.4|     Promo| null|  {}|2019-04-11 21:50:04|\n",
       "| 89|  renfe|MADRID|  BARCELONA|2019-04-22 06:30:00|2019-04-22 09:20:00|    2.83|         AVE|      Turista| 75.4|     Promo| null|  {}|2019-04-11 21:50:04|\n",
       "|109|  renfe|MADRID|  BARCELONA|2019-05-22 08:20:00|2019-05-22 11:05:00|    2.75|         AVE|      Turista|40.95|     Promo| null|  {}|2019-04-11 21:50:04|\n",
       "|123|  renfe|MADRID|  BARCELONA|2019-05-22 07:15:00|2019-05-22 16:37:00|    9.37|   R. EXPRES|      Turista|43.25|Adulto ida| null|  {}|2019-04-11 21:50:04|\n",
       "|144|  renfe|MADRID|  BARCELONA|2019-04-22 08:30:00|2019-04-22 11:15:00|    2.75|         AVE|   Preferente| null|     Promo| null|  {}|2019-04-11 21:50:04|\n",
       "|147|  renfe|MADRID|  BARCELONA|2019-04-22 15:00:00|2019-04-22 17:30:00|     2.5|         AVE|   Preferente|132.8|     Promo| null|  {}|2019-04-11 21:50:04|\n",
       "|152|  renfe|MADRID|  BARCELONA|2019-04-22 12:30:00|2019-04-22 15:30:00|     3.0|         AVE|   Preferente|181.5|  Flexible| null|  {}|2019-04-11 21:50:04|\n",
       "|167|  renfe|MADRID|  BARCELONA|2019-04-22 18:30:00|2019-04-22 21:20:00|    2.83|         AVE|      Turista|107.7|  Flexible| null|  {}|2019-04-11 21:50:04|\n",
       "|169|  renfe|MADRID|  BARCELONA|2019-04-22 19:30:00|2019-04-22 22:40:00|    3.17|         AVE|   Preferente|181.5|  Flexible| null|  {}|2019-04-11 21:50:04|\n",
       "|176|  renfe|MADRID|  BARCELONA|2019-04-22 14:00:00|2019-04-22 16:30:00|     2.5|         AVE|      Turista|127.1|  Flexible| null|  {}|2019-04-11 21:50:04|\n",
       "|179|  renfe|MADRID|  BARCELONA|2019-05-22 08:30:00|2019-05-22 11:15:00|    2.75|         AVE|      Turista| 75.4|     Promo| null|  {}|2019-04-11 21:50:04|\n",
       "|183|  renfe|MADRID|  BARCELONA|2019-04-22 18:00:00|2019-04-22 20:30:00|     2.5|         AVE|   Preferente|214.2|  Flexible| null|  {}|2019-04-11 21:50:04|\n",
       "|186|  renfe|MADRID|  BARCELONA|2019-04-27 06:20:00|2019-04-27 09:29:00|    3.15|         AVE|   Preferente| 86.8|     Promo| null|  {}|2019-04-11 21:50:20|\n",
       "|191|  renfe|MADRID|  BARCELONA|2019-04-27 16:30:00|2019-04-27 19:15:00|    2.75|         AVE|      Turista|107.7|  Flexible| null|  {}|2019-04-11 21:50:20|\n",
       "+---+-------+------+-----------+-------------------+-------------------+--------+------------+-------------+-----+----------+-----+----+-------------------+\n",
       "only showing top 20 rows"
      ]
     },
     "execution_count": 3,
     "metadata": {},
     "output_type": "execute_result"
    }
   ],
   "source": [
    "DATA_PATH = '/home/ubuntu/Desktop/renfe.csv'\n",
    "\n",
    "sdf = spark.read.option('quote', '\"').option('escape', '\\\\').csv(DATA_PATH, \n",
    "                                                                 header=True, \n",
    "                                                                 inferSchema=True)\n",
    "\n",
    "sdf"
   ]
  },
  {
   "cell_type": "markdown",
   "metadata": {},
   "source": [
    "__VERY IMPORTANT INFO: sdf is a Spark DataFrame, which means it is a distributed DataFrame, not a typical Python object that lives in RAM memory (Pandas DataFrame)__\n",
    "\n",
    "- From DataBricks (Spark creators) about what a Spark DataFrame is:\n",
    "\n",
    "_\"In Spark, a DataFrame is a distributed collection of data organized into named columns. It is conceptually equivalent to a table in a relational database or a dataframe in Python, but with richer optimizations under the hood. DataFrames can be constructed from a wide array of sources such as: structured data files, tables in Hive, external databases, or existing RDDs (Resilient Distributed Datasets)\"_\n",
    "\n",
    "- Spark DataFrames do no live in computers / cluster nodes memory, they are evaluated at the time some calculations are required"
   ]
  },
  {
   "cell_type": "markdown",
   "metadata": {},
   "source": [
    "#### types"
   ]
  },
  {
   "cell_type": "code",
   "execution_count": 4,
   "metadata": {},
   "outputs": [
    {
     "data": {
      "text/plain": [
       "[('id', 'int'),\n",
       " ('company', 'string'),\n",
       " ('origin', 'string'),\n",
       " ('destination', 'string'),\n",
       " ('departure', 'timestamp'),\n",
       " ('arrival', 'timestamp'),\n",
       " ('duration', 'double'),\n",
       " ('vehicle_type', 'string'),\n",
       " ('vehicle_class', 'string'),\n",
       " ('price', 'double'),\n",
       " ('fare', 'string'),\n",
       " ('seats', 'int'),\n",
       " ('meta', 'string'),\n",
       " ('insert_date', 'timestamp')]"
      ]
     },
     "execution_count": 4,
     "metadata": {},
     "output_type": "execute_result"
    }
   ],
   "source": [
    "sdf.dtypes"
   ]
  },
  {
   "cell_type": "code",
   "execution_count": 5,
   "metadata": {},
   "outputs": [
    {
     "data": {
      "text/html": [
       "<table border='1'>\n",
       "<tr><th>id</th><th>company</th><th>origin</th><th>destination</th><th>departure</th><th>arrival</th><th>duration</th><th>vehicle_type</th><th>vehicle_class</th><th>price</th><th>fare</th><th>seats</th><th>meta</th><th>insert_date</th></tr>\n",
       "<tr><td>19</td><td>renfe</td><td>MADRID</td><td>BARCELONA</td><td>2019-04-18 12:30:00</td><td>2019-04-18 15:30:00</td><td>3.0</td><td>AVE</td><td>Turista</td><td>107.7</td><td>Flexible</td><td>null</td><td>{}</td><td>2019-04-11 21:49:46</td></tr>\n",
       "<tr><td>23</td><td>renfe</td><td>MADRID</td><td>BARCELONA</td><td>2019-04-18 14:00:00</td><td>2019-04-18 16:30:00</td><td>2.5</td><td>AVE</td><td>Turista</td><td>100.4</td><td>Promo</td><td>null</td><td>{}</td><td>2019-04-11 21:49:46</td></tr>\n",
       "<tr><td>33</td><td>renfe</td><td>MADRID</td><td>BARCELONA</td><td>2019-04-18 19:30:00</td><td>2019-04-18 22:40:00</td><td>3.17</td><td>AVE</td><td>Turista</td><td>85.1</td><td>Promo</td><td>null</td><td>{}</td><td>2019-04-11 21:49:46</td></tr>\n",
       "<tr><td>35</td><td>renfe</td><td>MADRID</td><td>BARCELONA</td><td>2019-04-18 21:25:00</td><td>2019-04-18 23:55:00</td><td>2.5</td><td>AVE</td><td>null</td><td>null</td><td>null</td><td>null</td><td>{}</td><td>2019-04-11 21:49:46</td></tr>\n",
       "<tr><td>60</td><td>renfe</td><td>MADRID</td><td>BARCELONA</td><td>2019-05-18 16:30:00</td><td>2019-05-18 19:15:00</td><td>2.75</td><td>AVE</td><td>Turista Plus</td><td>80.15</td><td>Promo</td><td>null</td><td>{}</td><td>2019-04-11 21:49:48</td></tr>\n",
       "<tr><td>67</td><td>renfe</td><td>MADRID</td><td>BARCELONA</td><td>2019-05-18 12:30:00</td><td>2019-05-18 15:30:00</td><td>3.0</td><td>AVE</td><td>Turista</td><td>75.4</td><td>Promo</td><td>null</td><td>{}</td><td>2019-04-11 21:49:48</td></tr>\n",
       "<tr><td>80</td><td>renfe</td><td>MADRID</td><td>BARCELONA</td><td>2019-05-22 07:20:00</td><td>2019-05-22 09:50:00</td><td>2.5</td><td>AVE</td><td>Turista</td><td>100.4</td><td>Promo</td><td>null</td><td>{}</td><td>2019-04-11 21:50:04</td></tr>\n",
       "<tr><td>89</td><td>renfe</td><td>MADRID</td><td>BARCELONA</td><td>2019-04-22 06:30:00</td><td>2019-04-22 09:20:00</td><td>2.83</td><td>AVE</td><td>Turista</td><td>75.4</td><td>Promo</td><td>null</td><td>{}</td><td>2019-04-11 21:50:04</td></tr>\n",
       "<tr><td>109</td><td>renfe</td><td>MADRID</td><td>BARCELONA</td><td>2019-05-22 08:20:00</td><td>2019-05-22 11:05:00</td><td>2.75</td><td>AVE</td><td>Turista</td><td>40.95</td><td>Promo</td><td>null</td><td>{}</td><td>2019-04-11 21:50:04</td></tr>\n",
       "<tr><td>123</td><td>renfe</td><td>MADRID</td><td>BARCELONA</td><td>2019-05-22 07:15:00</td><td>2019-05-22 16:37:00</td><td>9.37</td><td>R. EXPRES</td><td>Turista</td><td>43.25</td><td>Adulto ida</td><td>null</td><td>{}</td><td>2019-04-11 21:50:04</td></tr>\n",
       "<tr><td>144</td><td>renfe</td><td>MADRID</td><td>BARCELONA</td><td>2019-04-22 08:30:00</td><td>2019-04-22 11:15:00</td><td>2.75</td><td>AVE</td><td>Preferente</td><td>null</td><td>Promo</td><td>null</td><td>{}</td><td>2019-04-11 21:50:04</td></tr>\n",
       "<tr><td>147</td><td>renfe</td><td>MADRID</td><td>BARCELONA</td><td>2019-04-22 15:00:00</td><td>2019-04-22 17:30:00</td><td>2.5</td><td>AVE</td><td>Preferente</td><td>132.8</td><td>Promo</td><td>null</td><td>{}</td><td>2019-04-11 21:50:04</td></tr>\n",
       "<tr><td>152</td><td>renfe</td><td>MADRID</td><td>BARCELONA</td><td>2019-04-22 12:30:00</td><td>2019-04-22 15:30:00</td><td>3.0</td><td>AVE</td><td>Preferente</td><td>181.5</td><td>Flexible</td><td>null</td><td>{}</td><td>2019-04-11 21:50:04</td></tr>\n",
       "<tr><td>167</td><td>renfe</td><td>MADRID</td><td>BARCELONA</td><td>2019-04-22 18:30:00</td><td>2019-04-22 21:20:00</td><td>2.83</td><td>AVE</td><td>Turista</td><td>107.7</td><td>Flexible</td><td>null</td><td>{}</td><td>2019-04-11 21:50:04</td></tr>\n",
       "<tr><td>169</td><td>renfe</td><td>MADRID</td><td>BARCELONA</td><td>2019-04-22 19:30:00</td><td>2019-04-22 22:40:00</td><td>3.17</td><td>AVE</td><td>Preferente</td><td>181.5</td><td>Flexible</td><td>null</td><td>{}</td><td>2019-04-11 21:50:04</td></tr>\n",
       "<tr><td>176</td><td>renfe</td><td>MADRID</td><td>BARCELONA</td><td>2019-04-22 14:00:00</td><td>2019-04-22 16:30:00</td><td>2.5</td><td>AVE</td><td>Turista</td><td>127.1</td><td>Flexible</td><td>null</td><td>{}</td><td>2019-04-11 21:50:04</td></tr>\n",
       "<tr><td>179</td><td>renfe</td><td>MADRID</td><td>BARCELONA</td><td>2019-05-22 08:30:00</td><td>2019-05-22 11:15:00</td><td>2.75</td><td>AVE</td><td>Turista</td><td>75.4</td><td>Promo</td><td>null</td><td>{}</td><td>2019-04-11 21:50:04</td></tr>\n",
       "<tr><td>183</td><td>renfe</td><td>MADRID</td><td>BARCELONA</td><td>2019-04-22 18:00:00</td><td>2019-04-22 20:30:00</td><td>2.5</td><td>AVE</td><td>Preferente</td><td>214.2</td><td>Flexible</td><td>null</td><td>{}</td><td>2019-04-11 21:50:04</td></tr>\n",
       "<tr><td>186</td><td>renfe</td><td>MADRID</td><td>BARCELONA</td><td>2019-04-27 06:20:00</td><td>2019-04-27 09:29:00</td><td>3.15</td><td>AVE</td><td>Preferente</td><td>86.8</td><td>Promo</td><td>null</td><td>{}</td><td>2019-04-11 21:50:20</td></tr>\n",
       "<tr><td>191</td><td>renfe</td><td>MADRID</td><td>BARCELONA</td><td>2019-04-27 16:30:00</td><td>2019-04-27 19:15:00</td><td>2.75</td><td>AVE</td><td>Turista</td><td>107.7</td><td>Flexible</td><td>null</td><td>{}</td><td>2019-04-11 21:50:20</td></tr>\n",
       "</table>\n",
       "only showing top 20 rows\n"
      ],
      "text/plain": [
       "+---+-------+------+-----------+-------------------+-------------------+--------+------------+-------------+-----+----------+-----+----+-------------------+\n",
       "| id|company|origin|destination|          departure|            arrival|duration|vehicle_type|vehicle_class|price|      fare|seats|meta|        insert_date|\n",
       "+---+-------+------+-----------+-------------------+-------------------+--------+------------+-------------+-----+----------+-----+----+-------------------+\n",
       "| 19|  renfe|MADRID|  BARCELONA|2019-04-18 12:30:00|2019-04-18 15:30:00|     3.0|         AVE|      Turista|107.7|  Flexible| null|  {}|2019-04-11 21:49:46|\n",
       "| 23|  renfe|MADRID|  BARCELONA|2019-04-18 14:00:00|2019-04-18 16:30:00|     2.5|         AVE|      Turista|100.4|     Promo| null|  {}|2019-04-11 21:49:46|\n",
       "| 33|  renfe|MADRID|  BARCELONA|2019-04-18 19:30:00|2019-04-18 22:40:00|    3.17|         AVE|      Turista| 85.1|     Promo| null|  {}|2019-04-11 21:49:46|\n",
       "| 35|  renfe|MADRID|  BARCELONA|2019-04-18 21:25:00|2019-04-18 23:55:00|     2.5|         AVE|         null| null|      null| null|  {}|2019-04-11 21:49:46|\n",
       "| 60|  renfe|MADRID|  BARCELONA|2019-05-18 16:30:00|2019-05-18 19:15:00|    2.75|         AVE| Turista Plus|80.15|     Promo| null|  {}|2019-04-11 21:49:48|\n",
       "| 67|  renfe|MADRID|  BARCELONA|2019-05-18 12:30:00|2019-05-18 15:30:00|     3.0|         AVE|      Turista| 75.4|     Promo| null|  {}|2019-04-11 21:49:48|\n",
       "| 80|  renfe|MADRID|  BARCELONA|2019-05-22 07:20:00|2019-05-22 09:50:00|     2.5|         AVE|      Turista|100.4|     Promo| null|  {}|2019-04-11 21:50:04|\n",
       "| 89|  renfe|MADRID|  BARCELONA|2019-04-22 06:30:00|2019-04-22 09:20:00|    2.83|         AVE|      Turista| 75.4|     Promo| null|  {}|2019-04-11 21:50:04|\n",
       "|109|  renfe|MADRID|  BARCELONA|2019-05-22 08:20:00|2019-05-22 11:05:00|    2.75|         AVE|      Turista|40.95|     Promo| null|  {}|2019-04-11 21:50:04|\n",
       "|123|  renfe|MADRID|  BARCELONA|2019-05-22 07:15:00|2019-05-22 16:37:00|    9.37|   R. EXPRES|      Turista|43.25|Adulto ida| null|  {}|2019-04-11 21:50:04|\n",
       "|144|  renfe|MADRID|  BARCELONA|2019-04-22 08:30:00|2019-04-22 11:15:00|    2.75|         AVE|   Preferente| null|     Promo| null|  {}|2019-04-11 21:50:04|\n",
       "|147|  renfe|MADRID|  BARCELONA|2019-04-22 15:00:00|2019-04-22 17:30:00|     2.5|         AVE|   Preferente|132.8|     Promo| null|  {}|2019-04-11 21:50:04|\n",
       "|152|  renfe|MADRID|  BARCELONA|2019-04-22 12:30:00|2019-04-22 15:30:00|     3.0|         AVE|   Preferente|181.5|  Flexible| null|  {}|2019-04-11 21:50:04|\n",
       "|167|  renfe|MADRID|  BARCELONA|2019-04-22 18:30:00|2019-04-22 21:20:00|    2.83|         AVE|      Turista|107.7|  Flexible| null|  {}|2019-04-11 21:50:04|\n",
       "|169|  renfe|MADRID|  BARCELONA|2019-04-22 19:30:00|2019-04-22 22:40:00|    3.17|         AVE|   Preferente|181.5|  Flexible| null|  {}|2019-04-11 21:50:04|\n",
       "|176|  renfe|MADRID|  BARCELONA|2019-04-22 14:00:00|2019-04-22 16:30:00|     2.5|         AVE|      Turista|127.1|  Flexible| null|  {}|2019-04-11 21:50:04|\n",
       "|179|  renfe|MADRID|  BARCELONA|2019-05-22 08:30:00|2019-05-22 11:15:00|    2.75|         AVE|      Turista| 75.4|     Promo| null|  {}|2019-04-11 21:50:04|\n",
       "|183|  renfe|MADRID|  BARCELONA|2019-04-22 18:00:00|2019-04-22 20:30:00|     2.5|         AVE|   Preferente|214.2|  Flexible| null|  {}|2019-04-11 21:50:04|\n",
       "|186|  renfe|MADRID|  BARCELONA|2019-04-27 06:20:00|2019-04-27 09:29:00|    3.15|         AVE|   Preferente| 86.8|     Promo| null|  {}|2019-04-11 21:50:20|\n",
       "|191|  renfe|MADRID|  BARCELONA|2019-04-27 16:30:00|2019-04-27 19:15:00|    2.75|         AVE|      Turista|107.7|  Flexible| null|  {}|2019-04-11 21:50:20|\n",
       "+---+-------+------+-----------+-------------------+-------------------+--------+------------+-------------+-----+----------+-----+----+-------------------+\n",
       "only showing top 20 rows"
      ]
     },
     "execution_count": 5,
     "metadata": {},
     "output_type": "execute_result"
    }
   ],
   "source": [
    "from pyspark.sql import functions as sf\n",
    "\n",
    "date_cols_meta = ['departure', 'arrival', 'insert_date']\n",
    "\n",
    "for dt_col in date_cols_meta:\n",
    "    sdf = sdf.withColumn(dt_col, sf.to_timestamp(dt_col))\n",
    "\n",
    "sdf"
   ]
  },
  {
   "cell_type": "markdown",
   "metadata": {},
   "source": [
    "#### sample data"
   ]
  },
  {
   "cell_type": "code",
   "execution_count": 6,
   "metadata": {},
   "outputs": [
    {
     "data": {
      "text/html": [
       "<table border='1'>\n",
       "<tr><th>id</th><th>company</th><th>origin</th><th>destination</th><th>departure</th><th>arrival</th><th>duration</th><th>vehicle_type</th><th>vehicle_class</th><th>price</th><th>fare</th><th>seats</th><th>meta</th><th>insert_date</th></tr>\n",
       "<tr><td>67</td><td>renfe</td><td>MADRID</td><td>BARCELONA</td><td>2019-05-18 12:30:00</td><td>2019-05-18 15:30:00</td><td>3.0</td><td>AVE</td><td>Turista</td><td>75.4</td><td>Promo</td><td>null</td><td>{}</td><td>2019-04-11 21:49:48</td></tr>\n",
       "<tr><td>80</td><td>renfe</td><td>MADRID</td><td>BARCELONA</td><td>2019-05-22 07:20:00</td><td>2019-05-22 09:50:00</td><td>2.5</td><td>AVE</td><td>Turista</td><td>100.4</td><td>Promo</td><td>null</td><td>{}</td><td>2019-04-11 21:50:04</td></tr>\n",
       "<tr><td>89</td><td>renfe</td><td>MADRID</td><td>BARCELONA</td><td>2019-04-22 06:30:00</td><td>2019-04-22 09:20:00</td><td>2.83</td><td>AVE</td><td>Turista</td><td>75.4</td><td>Promo</td><td>null</td><td>{}</td><td>2019-04-11 21:50:04</td></tr>\n",
       "<tr><td>152</td><td>renfe</td><td>MADRID</td><td>BARCELONA</td><td>2019-04-22 12:30:00</td><td>2019-04-22 15:30:00</td><td>3.0</td><td>AVE</td><td>Preferente</td><td>181.5</td><td>Flexible</td><td>null</td><td>{}</td><td>2019-04-11 21:50:04</td></tr>\n",
       "<tr><td>313</td><td>renfe</td><td>MADRID</td><td>SEVILLA</td><td>2019-06-02 20:35:00</td><td>2019-06-02 23:15:00</td><td>2.67</td><td>AVE</td><td>Turista Plus</td><td>64.05</td><td>Promo</td><td>null</td><td>{}</td><td>2019-04-11 21:50:38</td></tr>\n",
       "<tr><td>338</td><td>renfe</td><td>MADRID</td><td>SEVILLA</td><td>2019-06-02 18:00:00</td><td>2019-06-02 20:32:00</td><td>2.53</td><td>AVE</td><td>Preferente</td><td>69.4</td><td>Promo</td><td>null</td><td>{}</td><td>2019-04-11 21:50:38</td></tr>\n",
       "<tr><td>370</td><td>renfe</td><td>MADRID</td><td>SEVILLA</td><td>2019-05-05 14:00:00</td><td>2019-05-05 16:32:00</td><td>2.53</td><td>AVE</td><td>Turista</td><td>53.4</td><td>Promo</td><td>null</td><td>{}</td><td>2019-04-11 21:50:48</td></tr>\n",
       "<tr><td>380</td><td>renfe</td><td>MADRID</td><td>SEVILLA</td><td>2019-05-05 19:00:00</td><td>2019-05-05 21:38:00</td><td>2.63</td><td>AVE</td><td>Turista</td><td>60.3</td><td>Promo</td><td>null</td><td>{}</td><td>2019-04-11 21:50:48</td></tr>\n",
       "<tr><td>415</td><td>renfe</td><td>MADRID</td><td>SEVILLA</td><td>2019-05-06 09:00:00</td><td>2019-05-06 11:38:00</td><td>2.63</td><td>AVE</td><td>Turista</td><td>76.3</td><td>Flexible</td><td>null</td><td>{}</td><td>2019-04-11 21:50:52</td></tr>\n",
       "<tr><td>431</td><td>renfe</td><td>MADRID</td><td>SEVILLA</td><td>2019-05-06 19:00:00</td><td>2019-05-06 21:38:00</td><td>2.63</td><td>AVE</td><td>Turista</td><td>53.4</td><td>Promo</td><td>null</td><td>{}</td><td>2019-04-11 21:50:52</td></tr>\n",
       "<tr><td>444</td><td>renfe</td><td>MADRID</td><td>SEVILLA</td><td>2019-05-10 08:00:00</td><td>2019-05-10 10:32:00</td><td>2.53</td><td>AVE</td><td>Turista</td><td>76.3</td><td>Flexible</td><td>null</td><td>{}</td><td>2019-04-11 21:51:08</td></tr>\n",
       "<tr><td>501</td><td>renfe</td><td>MADRID</td><td>SEVILLA</td><td>2019-04-13 21:25:00</td><td>2019-04-14 00:10:00</td><td>2.75</td><td>AV City</td><td>Turista</td><td>49.15</td><td>Promo</td><td>null</td><td>{}</td><td>2019-04-11 21:51:18</td></tr>\n",
       "<tr><td>511</td><td>renfe</td><td>MADRID</td><td>SEVILLA</td><td>2019-04-13 14:00:00</td><td>2019-04-13 16:32:00</td><td>2.53</td><td>AVE</td><td>Turista</td><td>76.3</td><td>Flexible</td><td>null</td><td>{}</td><td>2019-04-11 21:51:18</td></tr>\n",
       "<tr><td>576</td><td>renfe</td><td>MADRID</td><td>SEVILLA</td><td>2019-05-17 08:30:00</td><td>2019-05-17 11:14:00</td><td>2.73</td><td>ALVIA</td><td>Turista</td><td>null</td><td>Flexible</td><td>null</td><td>{}</td><td>2019-04-11 21:51:34</td></tr>\n",
       "<tr><td>652</td><td>renfe</td><td>MADRID</td><td>SEVILLA</td><td>2019-04-18 21:25:00</td><td>2019-04-19 00:10:00</td><td>2.75</td><td>AV City</td><td>Turista Plus</td><td>58.95</td><td>Promo</td><td>null</td><td>{}</td><td>2019-04-11 21:51:34</td></tr>\n",
       "<tr><td>672</td><td>renfe</td><td>MADRID</td><td>SEVILLA</td><td>2019-05-21 09:00:00</td><td>2019-05-21 11:38:00</td><td>2.63</td><td>AVE</td><td>Turista</td><td>53.4</td><td>Promo</td><td>null</td><td>{}</td><td>2019-04-11 21:51:50</td></tr>\n",
       "<tr><td>877</td><td>renfe</td><td>MADRID</td><td>VALENCIA</td><td>2019-05-11 17:40:00</td><td>2019-05-11 19:20:00</td><td>1.67</td><td>AVE</td><td>Turista</td><td>45.3</td><td>Promo</td><td>null</td><td>{}</td><td>2019-04-11 21:52:27</td></tr>\n",
       "<tr><td>925</td><td>renfe</td><td>MADRID</td><td>VALENCIA</td><td>2019-05-12 11:10:00</td><td>2019-05-12 13:25:00</td><td>2.25</td><td>INTERCITY</td><td>Turista</td><td>29.9</td><td>Promo</td><td>null</td><td>{}</td><td>2019-04-11 21:52:27</td></tr>\n",
       "<tr><td>966</td><td>renfe</td><td>MADRID</td><td>VALENCIA</td><td>2019-05-16 17:40:00</td><td>2019-05-16 19:20:00</td><td>1.67</td><td>AVE</td><td>Turista</td><td>57.75</td><td>Promo</td><td>null</td><td>{}</td><td>2019-04-11 21:52:42</td></tr>\n",
       "<tr><td>1066</td><td>renfe</td><td>MADRID</td><td>BARCELONA</td><td>2019-04-20 17:30:00</td><td>2019-04-20 20:40:00</td><td>3.17</td><td>AVE</td><td>Turista Plus</td><td>102.15</td><td>Promo</td><td>null</td><td>{}</td><td>2019-04-11 21:53:28</td></tr>\n",
       "</table>\n",
       "only showing top 20 rows\n"
      ],
      "text/plain": [
       "+----+-------+------+-----------+-------------------+-------------------+--------+------------+-------------+------+--------+-----+----+-------------------+\n",
       "|  id|company|origin|destination|          departure|            arrival|duration|vehicle_type|vehicle_class| price|    fare|seats|meta|        insert_date|\n",
       "+----+-------+------+-----------+-------------------+-------------------+--------+------------+-------------+------+--------+-----+----+-------------------+\n",
       "|  67|  renfe|MADRID|  BARCELONA|2019-05-18 12:30:00|2019-05-18 15:30:00|     3.0|         AVE|      Turista|  75.4|   Promo| null|  {}|2019-04-11 21:49:48|\n",
       "|  80|  renfe|MADRID|  BARCELONA|2019-05-22 07:20:00|2019-05-22 09:50:00|     2.5|         AVE|      Turista| 100.4|   Promo| null|  {}|2019-04-11 21:50:04|\n",
       "|  89|  renfe|MADRID|  BARCELONA|2019-04-22 06:30:00|2019-04-22 09:20:00|    2.83|         AVE|      Turista|  75.4|   Promo| null|  {}|2019-04-11 21:50:04|\n",
       "| 152|  renfe|MADRID|  BARCELONA|2019-04-22 12:30:00|2019-04-22 15:30:00|     3.0|         AVE|   Preferente| 181.5|Flexible| null|  {}|2019-04-11 21:50:04|\n",
       "| 313|  renfe|MADRID|    SEVILLA|2019-06-02 20:35:00|2019-06-02 23:15:00|    2.67|         AVE| Turista Plus| 64.05|   Promo| null|  {}|2019-04-11 21:50:38|\n",
       "| 338|  renfe|MADRID|    SEVILLA|2019-06-02 18:00:00|2019-06-02 20:32:00|    2.53|         AVE|   Preferente|  69.4|   Promo| null|  {}|2019-04-11 21:50:38|\n",
       "| 370|  renfe|MADRID|    SEVILLA|2019-05-05 14:00:00|2019-05-05 16:32:00|    2.53|         AVE|      Turista|  53.4|   Promo| null|  {}|2019-04-11 21:50:48|\n",
       "| 380|  renfe|MADRID|    SEVILLA|2019-05-05 19:00:00|2019-05-05 21:38:00|    2.63|         AVE|      Turista|  60.3|   Promo| null|  {}|2019-04-11 21:50:48|\n",
       "| 415|  renfe|MADRID|    SEVILLA|2019-05-06 09:00:00|2019-05-06 11:38:00|    2.63|         AVE|      Turista|  76.3|Flexible| null|  {}|2019-04-11 21:50:52|\n",
       "| 431|  renfe|MADRID|    SEVILLA|2019-05-06 19:00:00|2019-05-06 21:38:00|    2.63|         AVE|      Turista|  53.4|   Promo| null|  {}|2019-04-11 21:50:52|\n",
       "| 444|  renfe|MADRID|    SEVILLA|2019-05-10 08:00:00|2019-05-10 10:32:00|    2.53|         AVE|      Turista|  76.3|Flexible| null|  {}|2019-04-11 21:51:08|\n",
       "| 501|  renfe|MADRID|    SEVILLA|2019-04-13 21:25:00|2019-04-14 00:10:00|    2.75|     AV City|      Turista| 49.15|   Promo| null|  {}|2019-04-11 21:51:18|\n",
       "| 511|  renfe|MADRID|    SEVILLA|2019-04-13 14:00:00|2019-04-13 16:32:00|    2.53|         AVE|      Turista|  76.3|Flexible| null|  {}|2019-04-11 21:51:18|\n",
       "| 576|  renfe|MADRID|    SEVILLA|2019-05-17 08:30:00|2019-05-17 11:14:00|    2.73|       ALVIA|      Turista|  null|Flexible| null|  {}|2019-04-11 21:51:34|\n",
       "| 652|  renfe|MADRID|    SEVILLA|2019-04-18 21:25:00|2019-04-19 00:10:00|    2.75|     AV City| Turista Plus| 58.95|   Promo| null|  {}|2019-04-11 21:51:34|\n",
       "| 672|  renfe|MADRID|    SEVILLA|2019-05-21 09:00:00|2019-05-21 11:38:00|    2.63|         AVE|      Turista|  53.4|   Promo| null|  {}|2019-04-11 21:51:50|\n",
       "| 877|  renfe|MADRID|   VALENCIA|2019-05-11 17:40:00|2019-05-11 19:20:00|    1.67|         AVE|      Turista|  45.3|   Promo| null|  {}|2019-04-11 21:52:27|\n",
       "| 925|  renfe|MADRID|   VALENCIA|2019-05-12 11:10:00|2019-05-12 13:25:00|    2.25|   INTERCITY|      Turista|  29.9|   Promo| null|  {}|2019-04-11 21:52:27|\n",
       "| 966|  renfe|MADRID|   VALENCIA|2019-05-16 17:40:00|2019-05-16 19:20:00|    1.67|         AVE|      Turista| 57.75|   Promo| null|  {}|2019-04-11 21:52:42|\n",
       "|1066|  renfe|MADRID|  BARCELONA|2019-04-20 17:30:00|2019-04-20 20:40:00|    3.17|         AVE| Turista Plus|102.15|   Promo| null|  {}|2019-04-11 21:53:28|\n",
       "+----+-------+------+-----------+-------------------+-------------------+--------+------------+-------------+------+--------+-----+----+-------------------+\n",
       "only showing top 20 rows"
      ]
     },
     "execution_count": 6,
     "metadata": {},
     "output_type": "execute_result"
    }
   ],
   "source": [
    "sdf_sample = sdf.sample(fraction=0.1, withReplacement=False)\n",
    "\n",
    "sdf_sample"
   ]
  },
  {
   "cell_type": "markdown",
   "metadata": {},
   "source": [
    "#### persist data"
   ]
  },
  {
   "cell_type": "code",
   "execution_count": 7,
   "metadata": {},
   "outputs": [],
   "source": [
    "SAMPLE_PATH = '/home/ubuntu/Desktop/renfe_sample'\n",
    "\n",
    "sdf_sample.write.mode('overwrite').parquet(SAMPLE_PATH)"
   ]
  },
  {
   "cell_type": "markdown",
   "metadata": {},
   "source": [
    "#### query data"
   ]
  },
  {
   "cell_type": "code",
   "execution_count": 8,
   "metadata": {},
   "outputs": [
    {
     "data": {
      "text/html": [
       "<table border='1'>\n",
       "<tr><th>id</th><th>company</th><th>origin</th><th>destination</th><th>departure</th><th>arrival</th><th>duration</th><th>vehicle_type</th><th>vehicle_class</th><th>price</th><th>fare</th><th>seats</th><th>meta</th><th>insert_date</th></tr>\n",
       "<tr><td>19790784</td><td>renfe</td><td>MADRID</td><td>MALAGA</td><td>2020-03-02 13:00:00</td><td>2020-03-02 16:05:00</td><td>3.08</td><td>AVE</td><td>Turista</td><td>81.2</td><td>Flexible</td><td>null</td><td>{\"Turista\": {\"Fle...</td><td>2020-02-22 00:56:13</td></tr>\n",
       "<tr><td>19790789</td><td>renfe</td><td>MADRID</td><td>MALAGA</td><td>2020-04-17 19:30:00</td><td>2020-04-17 22:23:00</td><td>2.88</td><td>AVE</td><td>Turista</td><td>64.15</td><td>Promo</td><td>null</td><td>{\"Turista\": {\"Pro...</td><td>2020-02-22 00:56:13</td></tr>\n",
       "<tr><td>19790821</td><td>renfe</td><td>MADRID</td><td>MALAGA</td><td>2020-04-13 14:35:00</td><td>2020-04-13 17:21:00</td><td>2.77</td><td>AVE</td><td>Turista</td><td>50.35</td><td>Promo</td><td>null</td><td>{\"Turista\": {\"Pro...</td><td>2020-02-22 00:56:14</td></tr>\n",
       "<tr><td>19790849</td><td>renfe</td><td>MADRID</td><td>MALAGA</td><td>2020-04-21 11:35:00</td><td>2020-04-21 14:17:00</td><td>2.7</td><td>AVE</td><td>Turista</td><td>43.85</td><td>Promo</td><td>null</td><td>{\"Turista\": {\"Pro...</td><td>2020-02-22 00:56:15</td></tr>\n",
       "<tr><td>19790911</td><td>renfe</td><td>MADRID</td><td>SEVILLA</td><td>2020-02-22 17:00:00</td><td>2020-02-22 19:38:00</td><td>2.63</td><td>AVE</td><td>Turista</td><td>77.1</td><td>Flexible</td><td>null</td><td>{\"Turista\": {\"Fle...</td><td>2020-02-22 00:56:17</td></tr>\n",
       "<tr><td>19791062</td><td>renfe</td><td>MADRID</td><td>SEVILLA</td><td>2020-03-18 09:00:00</td><td>2020-03-18 11:38:00</td><td>2.63</td><td>AVE</td><td>Turista</td><td>53.95</td><td>Promo</td><td>null</td><td>{\"Turista\": {\"Pro...</td><td>2020-02-22 00:56:33</td></tr>\n",
       "<tr><td>19791121</td><td>renfe</td><td>MADRID</td><td>SEVILLA</td><td>2020-03-15 13:10:00</td><td>2020-03-15 20:26:00</td><td>7.27</td><td>MD-LD</td><td>Turista con enlace</td><td>34.35</td><td>Promo +</td><td>null</td><td>{\"Turista con enl...</td><td>2020-02-22 00:56:36</td></tr>\n",
       "<tr><td>19791202</td><td>renfe</td><td>MADRID</td><td>SEVILLA</td><td>2020-03-20 21:25:00</td><td>2020-03-21 00:10:00</td><td>2.75</td><td>AV City</td><td>Turista</td><td>49.7</td><td>Promo</td><td>null</td><td>{\"Turista\": {\"Pro...</td><td>2020-02-22 00:56:41</td></tr>\n",
       "<tr><td>19791275</td><td>renfe</td><td>MADRID</td><td>SEVILLA</td><td>2020-03-26 08:30:00</td><td>2020-03-26 11:14:00</td><td>2.73</td><td>ALVIA</td><td>Turista</td><td>67.9</td><td>Flexible</td><td>null</td><td>{\"Turista\": {\"Fle...</td><td>2020-02-22 00:56:45</td></tr>\n",
       "<tr><td>19791396</td><td>renfe</td><td>MADRID</td><td>SEVILLA</td><td>2020-03-09 15:05:00</td><td>2020-03-09 18:30:00</td><td>3.42</td><td>LD-AVE</td><td>null</td><td>null</td><td>null</td><td>null</td><td>{}</td><td>2020-02-22 00:56:50</td></tr>\n",
       "<tr><td>19791730</td><td>renfe</td><td>MADRID</td><td>SEVILLA</td><td>2020-03-31 11:00:00</td><td>2020-03-31 13:32:00</td><td>2.53</td><td>AVE</td><td>Turista</td><td>47.8</td><td>Promo</td><td>null</td><td>{\"Turista\": {\"Mes...</td><td>2020-02-22 00:57:11</td></tr>\n",
       "<tr><td>19792013</td><td>renfe</td><td>MADRID</td><td>SEVILLA</td><td>2020-03-02 13:00:00</td><td>2020-03-02 15:40:00</td><td>2.67</td><td>AVE</td><td>Preferente</td><td>70.15</td><td>Promo</td><td>null</td><td>{\"Turista\": {\"Fle...</td><td>2020-02-22 00:57:32</td></tr>\n",
       "<tr><td>19792040</td><td>renfe</td><td>MADRID</td><td>SEVILLA</td><td>2020-04-17 15:00:00</td><td>2020-04-17 17:21:00</td><td>2.35</td><td>AVE</td><td>Turista</td><td>77.1</td><td>Flexible</td><td>null</td><td>{\"Turista\": {\"Fle...</td><td>2020-02-22 00:57:33</td></tr>\n",
       "<tr><td>19792168</td><td>renfe</td><td>MADRID</td><td>TOLEDO</td><td>2020-03-11 18:50:00</td><td>2020-03-11 19:23:00</td><td>0.55</td><td>AVANT</td><td>Turista</td><td>13.9</td><td>Adulto ida</td><td>null</td><td>{\"Turista\": {\"Adu...</td><td>2020-02-22 00:57:44</td></tr>\n",
       "<tr><td>19792260</td><td>renfe</td><td>MADRID</td><td>SEVILLA</td><td>2020-04-19 14:00:00</td><td>2020-04-19 16:32:00</td><td>2.53</td><td>AVE</td><td>Turista</td><td>47.8</td><td>Promo</td><td>null</td><td>{\"Turista\": {\"Pro...</td><td>2020-02-22 00:57:47</td></tr>\n",
       "<tr><td>19792357</td><td>renfe</td><td>MADRID</td><td>TOLEDO</td><td>2020-03-16 13:50:00</td><td>2020-03-16 14:23:00</td><td>0.55</td><td>AVANT</td><td>Turista</td><td>13.9</td><td>Adulto ida</td><td>null</td><td>{\"Turista\": {\"Adu...</td><td>2020-02-22 00:57:52</td></tr>\n",
       "<tr><td>19792385</td><td>renfe</td><td>MADRID</td><td>TOLEDO</td><td>2020-03-22 09:20:00</td><td>2020-03-22 09:53:00</td><td>0.55</td><td>AVANT</td><td>Turista</td><td>13.9</td><td>Adulto ida</td><td>null</td><td>{\"Turista\": {\"Adu...</td><td>2020-02-22 00:57:53</td></tr>\n",
       "<tr><td>19792541</td><td>renfe</td><td>MADRID</td><td>TOLEDO</td><td>2020-03-29 12:20:00</td><td>2020-03-29 12:53:00</td><td>0.55</td><td>AVANT</td><td>Turista</td><td>13.9</td><td>Adulto ida</td><td>null</td><td>{\"Turista\": {\"Adu...</td><td>2020-02-22 00:58:00</td></tr>\n",
       "<tr><td>19792755</td><td>renfe</td><td>MADRID</td><td>TOLEDO</td><td>2020-04-16 12:20:00</td><td>2020-04-16 12:53:00</td><td>0.55</td><td>AVANT</td><td>Turista</td><td>13.9</td><td>Adulto ida</td><td>null</td><td>{\"Turista\": {\"Adu...</td><td>2020-02-22 00:58:20</td></tr>\n",
       "<tr><td>19792779</td><td>renfe</td><td>MADRID</td><td>TOLEDO</td><td>2020-04-14 09:20:00</td><td>2020-04-14 09:53:00</td><td>0.55</td><td>AVANT</td><td>Turista</td><td>13.9</td><td>Adulto ida</td><td>null</td><td>{\"Turista\": {\"Adu...</td><td>2020-02-22 00:58:20</td></tr>\n",
       "</table>\n",
       "only showing top 20 rows\n"
      ],
      "text/plain": [
       "+--------+-------+------+-----------+-------------------+-------------------+--------+------------+------------------+-----+----------+-----+--------------------+-------------------+\n",
       "|      id|company|origin|destination|          departure|            arrival|duration|vehicle_type|     vehicle_class|price|      fare|seats|                meta|        insert_date|\n",
       "+--------+-------+------+-----------+-------------------+-------------------+--------+------------+------------------+-----+----------+-----+--------------------+-------------------+\n",
       "|19790784|  renfe|MADRID|     MALAGA|2020-03-02 13:00:00|2020-03-02 16:05:00|    3.08|         AVE|           Turista| 81.2|  Flexible| null|{\"Turista\": {\"Fle...|2020-02-22 00:56:13|\n",
       "|19790789|  renfe|MADRID|     MALAGA|2020-04-17 19:30:00|2020-04-17 22:23:00|    2.88|         AVE|           Turista|64.15|     Promo| null|{\"Turista\": {\"Pro...|2020-02-22 00:56:13|\n",
       "|19790821|  renfe|MADRID|     MALAGA|2020-04-13 14:35:00|2020-04-13 17:21:00|    2.77|         AVE|           Turista|50.35|     Promo| null|{\"Turista\": {\"Pro...|2020-02-22 00:56:14|\n",
       "|19790849|  renfe|MADRID|     MALAGA|2020-04-21 11:35:00|2020-04-21 14:17:00|     2.7|         AVE|           Turista|43.85|     Promo| null|{\"Turista\": {\"Pro...|2020-02-22 00:56:15|\n",
       "|19790911|  renfe|MADRID|    SEVILLA|2020-02-22 17:00:00|2020-02-22 19:38:00|    2.63|         AVE|           Turista| 77.1|  Flexible| null|{\"Turista\": {\"Fle...|2020-02-22 00:56:17|\n",
       "|19791062|  renfe|MADRID|    SEVILLA|2020-03-18 09:00:00|2020-03-18 11:38:00|    2.63|         AVE|           Turista|53.95|     Promo| null|{\"Turista\": {\"Pro...|2020-02-22 00:56:33|\n",
       "|19791121|  renfe|MADRID|    SEVILLA|2020-03-15 13:10:00|2020-03-15 20:26:00|    7.27|       MD-LD|Turista con enlace|34.35|   Promo +| null|{\"Turista con enl...|2020-02-22 00:56:36|\n",
       "|19791202|  renfe|MADRID|    SEVILLA|2020-03-20 21:25:00|2020-03-21 00:10:00|    2.75|     AV City|           Turista| 49.7|     Promo| null|{\"Turista\": {\"Pro...|2020-02-22 00:56:41|\n",
       "|19791275|  renfe|MADRID|    SEVILLA|2020-03-26 08:30:00|2020-03-26 11:14:00|    2.73|       ALVIA|           Turista| 67.9|  Flexible| null|{\"Turista\": {\"Fle...|2020-02-22 00:56:45|\n",
       "|19791396|  renfe|MADRID|    SEVILLA|2020-03-09 15:05:00|2020-03-09 18:30:00|    3.42|      LD-AVE|              null| null|      null| null|                  {}|2020-02-22 00:56:50|\n",
       "|19791730|  renfe|MADRID|    SEVILLA|2020-03-31 11:00:00|2020-03-31 13:32:00|    2.53|         AVE|           Turista| 47.8|     Promo| null|{\"Turista\": {\"Mes...|2020-02-22 00:57:11|\n",
       "|19792013|  renfe|MADRID|    SEVILLA|2020-03-02 13:00:00|2020-03-02 15:40:00|    2.67|         AVE|        Preferente|70.15|     Promo| null|{\"Turista\": {\"Fle...|2020-02-22 00:57:32|\n",
       "|19792040|  renfe|MADRID|    SEVILLA|2020-04-17 15:00:00|2020-04-17 17:21:00|    2.35|         AVE|           Turista| 77.1|  Flexible| null|{\"Turista\": {\"Fle...|2020-02-22 00:57:33|\n",
       "|19792168|  renfe|MADRID|     TOLEDO|2020-03-11 18:50:00|2020-03-11 19:23:00|    0.55|       AVANT|           Turista| 13.9|Adulto ida| null|{\"Turista\": {\"Adu...|2020-02-22 00:57:44|\n",
       "|19792260|  renfe|MADRID|    SEVILLA|2020-04-19 14:00:00|2020-04-19 16:32:00|    2.53|         AVE|           Turista| 47.8|     Promo| null|{\"Turista\": {\"Pro...|2020-02-22 00:57:47|\n",
       "|19792357|  renfe|MADRID|     TOLEDO|2020-03-16 13:50:00|2020-03-16 14:23:00|    0.55|       AVANT|           Turista| 13.9|Adulto ida| null|{\"Turista\": {\"Adu...|2020-02-22 00:57:52|\n",
       "|19792385|  renfe|MADRID|     TOLEDO|2020-03-22 09:20:00|2020-03-22 09:53:00|    0.55|       AVANT|           Turista| 13.9|Adulto ida| null|{\"Turista\": {\"Adu...|2020-02-22 00:57:53|\n",
       "|19792541|  renfe|MADRID|     TOLEDO|2020-03-29 12:20:00|2020-03-29 12:53:00|    0.55|       AVANT|           Turista| 13.9|Adulto ida| null|{\"Turista\": {\"Adu...|2020-02-22 00:58:00|\n",
       "|19792755|  renfe|MADRID|     TOLEDO|2020-04-16 12:20:00|2020-04-16 12:53:00|    0.55|       AVANT|           Turista| 13.9|Adulto ida| null|{\"Turista\": {\"Adu...|2020-02-22 00:58:20|\n",
       "|19792779|  renfe|MADRID|     TOLEDO|2020-04-14 09:20:00|2020-04-14 09:53:00|    0.55|       AVANT|           Turista| 13.9|Adulto ida| null|{\"Turista\": {\"Adu...|2020-02-22 00:58:20|\n",
       "+--------+-------+------+-----------+-------------------+-------------------+--------+------------+------------------+-----+----------+-----+--------------------+-------------------+\n",
       "only showing top 20 rows"
      ]
     },
     "execution_count": 8,
     "metadata": {},
     "output_type": "execute_result"
    }
   ],
   "source": [
    "sdf_sample = spark.read.parquet(SAMPLE_PATH)\n",
    "\n",
    "sdf_sample"
   ]
  },
  {
   "cell_type": "code",
   "execution_count": 9,
   "metadata": {},
   "outputs": [
    {
     "data": {
      "text/html": [
       "<table border='1'>\n",
       "<tr><th>origin</th><th>destination</th></tr>\n",
       "<tr><td>MADRID</td><td>MALAGA</td></tr>\n",
       "<tr><td>MADRID</td><td>MALAGA</td></tr>\n",
       "<tr><td>MADRID</td><td>MALAGA</td></tr>\n",
       "<tr><td>MADRID</td><td>MALAGA</td></tr>\n",
       "<tr><td>MADRID</td><td>SEVILLA</td></tr>\n",
       "</table>\n"
      ],
      "text/plain": [
       "+------+-----------+\n",
       "|origin|destination|\n",
       "+------+-----------+\n",
       "|MADRID|     MALAGA|\n",
       "|MADRID|     MALAGA|\n",
       "|MADRID|     MALAGA|\n",
       "|MADRID|     MALAGA|\n",
       "|MADRID|    SEVILLA|\n",
       "+------+-----------+"
      ]
     },
     "execution_count": 9,
     "metadata": {},
     "output_type": "execute_result"
    }
   ],
   "source": [
    "sdf_sample.select(['origin', 'destination']).limit(5)"
   ]
  },
  {
   "cell_type": "markdown",
   "metadata": {},
   "source": [
    "#### filter data"
   ]
  },
  {
   "cell_type": "code",
   "execution_count": 10,
   "metadata": {},
   "outputs": [
    {
     "data": {
      "text/html": [
       "<table border='1'>\n",
       "<tr><th>id</th><th>company</th><th>origin</th><th>destination</th><th>departure</th><th>arrival</th><th>duration</th><th>vehicle_type</th><th>vehicle_class</th><th>price</th><th>fare</th><th>seats</th><th>meta</th><th>insert_date</th></tr>\n",
       "<tr><td>37402874</td><td>renfe</td><td>MADRID</td><td>BARCELONA</td><td>2020-10-18 19:00:00</td><td>2020-10-18 21:30:00</td><td>2.5</td><td>AVE</td><td>Turista</td><td>128.5</td><td>Flexible</td><td>259</td><td>{\"Turista\": {\"Fle...</td><td>2020-09-28 16:10:...</td></tr>\n",
       "<tr><td>37403016</td><td>renfe</td><td>MADRID</td><td>BARCELONA</td><td>2020-11-02 07:30:00</td><td>2020-11-02 10:40:12</td><td>3.17</td><td>AVE</td><td>Turista</td><td>91.5</td><td>Promo +</td><td>258</td><td>{\"Turista\": {\"Pro...</td><td>2020-09-28 16:10:...</td></tr>\n",
       "<tr><td>37403170</td><td>renfe</td><td>MADRID</td><td>BARCELONA</td><td>2020-10-27 07:00:00</td><td>2020-10-27 09:30:00</td><td>2.5</td><td>AVE</td><td>Turista</td><td>86.1</td><td>Promo +</td><td>334</td><td>{\"Turista\": {\"Pro...</td><td>2020-09-28 16:10:...</td></tr>\n",
       "<tr><td>37403380</td><td>renfe</td><td>MADRID</td><td>BARCELONA</td><td>2020-11-22 14:30:00</td><td>2020-11-22 17:25:12</td><td>2.92</td><td>AVE</td><td>Turista</td><td>108.9</td><td>Flexible</td><td>246</td><td>{\"Turista\": {\"Fle...</td><td>2020-09-28 16:10:...</td></tr>\n",
       "<tr><td>37403501</td><td>renfe</td><td>MADRID</td><td>BARCELONA</td><td>2020-11-17 09:30:00</td><td>2020-11-17 12:34:12</td><td>3.07</td><td>AVE</td><td>Turista Plus</td><td>87.55</td><td>Promo +</td><td>50</td><td>{\"Turista\": {\"Fle...</td><td>2020-09-28 16:10:...</td></tr>\n",
       "<tr><td>37403561</td><td>renfe</td><td>BARCELONA</td><td>MADRID</td><td>2020-11-10 19:00:00</td><td>2020-11-10 22:00:00</td><td>3.0</td><td>AVE</td><td>Turista</td><td>108.9</td><td>Flexible</td><td>263</td><td>{\"Turista\": {\"Fle...</td><td>2020-09-28 16:11:...</td></tr>\n",
       "<tr><td>37404034</td><td>renfe</td><td>BARCELONA</td><td>MADRID</td><td>2020-11-26 06:05:00</td><td>2020-11-26 09:20:00</td><td>3.25</td><td>AVE</td><td>Turista</td><td>108.9</td><td>Flexible</td><td>263</td><td>{\"Turista\": {\"Fle...</td><td>2020-09-28 16:11:...</td></tr>\n",
       "<tr><td>37404067</td><td>renfe</td><td>BARCELONA</td><td>MADRID</td><td>2020-11-15 19:00:00</td><td>2020-11-15 22:00:00</td><td>3.0</td><td>AVE</td><td>Turista</td><td>108.9</td><td>Flexible</td><td>331</td><td>{\"Turista\": {\"Fle...</td><td>2020-09-28 16:11:...</td></tr>\n",
       "<tr><td>37404135</td><td>renfe</td><td>BARCELONA</td><td>MADRID</td><td>2020-10-06 17:00:00</td><td>2020-10-06 19:45:00</td><td>2.75</td><td>AVE</td><td>Turista</td><td>108.9</td><td>Flexible</td><td>295</td><td>{\"Turista\": {\"Fle...</td><td>2020-09-28 16:11:...</td></tr>\n",
       "<tr><td>37404388</td><td>renfe</td><td>MADRID</td><td>CÓRDOBA</td><td>2020-11-11 14:35:00</td><td>2020-11-11 16:17:00</td><td>1.7</td><td>AVE</td><td>Turista</td><td>27.25</td><td>Promo +</td><td>294</td><td>{\"Turista\": {\"Pro...</td><td>2020-09-28 16:12:...</td></tr>\n",
       "<tr><td>37404421</td><td>renfe</td><td>MADRID</td><td>CÓRDOBA</td><td>2020-11-15 18:05:00</td><td>2020-11-15 19:50:00</td><td>1.75</td><td>ALVIA</td><td>Turista</td><td>55.9</td><td>Flexible</td><td>148</td><td>{\"Turista\": {\"Fle...</td><td>2020-09-28 16:12:...</td></tr>\n",
       "<tr><td>37404430</td><td>renfe</td><td>MADRID</td><td>CÓRDOBA</td><td>2020-10-03 13:30:00</td><td>2020-10-03 15:15:00</td><td>1.75</td><td>ALVIA</td><td>Turista</td><td>46.95</td><td>Promo +</td><td>18</td><td>{\"Turista\": {\"Pro...</td><td>2020-09-28 16:12:...</td></tr>\n",
       "<tr><td>37404601</td><td>renfe</td><td>MADRID</td><td>CÓRDOBA</td><td>2020-10-01 17:00:00</td><td>2020-10-01 18:52:12</td><td>1.87</td><td>AVE</td><td>Turista</td><td>63.4</td><td>Flexible</td><td>195</td><td>{\"Turista\": {\"Fle...</td><td>2020-09-28 16:12:...</td></tr>\n",
       "<tr><td>37404713</td><td>renfe</td><td>MADRID</td><td>CÓRDOBA</td><td>2020-11-03 17:35:00</td><td>2020-11-03 19:23:00</td><td>1.8</td><td>AVE</td><td>Turista</td><td>27.25</td><td>Promo +</td><td>261</td><td>{\"Turista\": {\"Pro...</td><td>2020-09-28 16:12:...</td></tr>\n",
       "<tr><td>37404728</td><td>renfe</td><td>MADRID</td><td>CÓRDOBA</td><td>2020-10-07 16:35:00</td><td>2020-10-07 18:17:00</td><td>1.7</td><td>AVE</td><td>Turista</td><td>63.4</td><td>Flexible</td><td>240</td><td>{\"Turista\": {\"Fle...</td><td>2020-09-28 16:12:...</td></tr>\n",
       "<tr><td>37404890</td><td>renfe</td><td>SEVILLA</td><td>MADRID</td><td>2020-10-04 19:45:00</td><td>2020-10-04 22:16:48</td><td>2.53</td><td>AVE</td><td>Turista Plus</td><td>69.4</td><td>Promo +</td><td>108</td><td>{\"Turista\": {\"Fle...</td><td>2020-09-28 16:13:...</td></tr>\n",
       "<tr><td>37405075</td><td>renfe</td><td>VALENCIA</td><td>BARCELONA</td><td>2020-11-14 09:15:00</td><td>2020-11-14 11:55:12</td><td>2.67</td><td>EUROMED</td><td>Turista</td><td>33.65</td><td>Promo +</td><td>235</td><td>{\"Turista\": {\"Pro...</td><td>2020-09-28 16:13:...</td></tr>\n",
       "<tr><td>37405127</td><td>renfe</td><td>VALENCIA</td><td>BARCELONA</td><td>2020-11-13 09:15:00</td><td>2020-11-13 11:55:12</td><td>2.67</td><td>EUROMED</td><td>Turista</td><td>33.65</td><td>Promo +</td><td>234</td><td>{\"Turista\": {\"Pro...</td><td>2020-09-28 16:13:...</td></tr>\n",
       "<tr><td>37405279</td><td>renfe</td><td>MADRID</td><td>ZARAGOZA</td><td>2020-10-05 18:30:00</td><td>2020-10-05 19:45:00</td><td>1.25</td><td>AVE</td><td>Turista</td><td>55.7</td><td>Flexible</td><td>37</td><td>{\"Turista\": {\"Fle...</td><td>2020-09-28 16:13:...</td></tr>\n",
       "<tr><td>37405631</td><td>renfe</td><td>MADRID</td><td>ZARAGOZA</td><td>2020-11-16 07:30:00</td><td>2020-11-16 08:51:00</td><td>1.35</td><td>AVE</td><td>Turista</td><td>55.7</td><td>Flexible</td><td>264</td><td>{\"Turista\": {\"Fle...</td><td>2020-09-28 16:13:...</td></tr>\n",
       "</table>\n",
       "only showing top 20 rows\n"
      ],
      "text/plain": [
       "+--------+-------+---------+-----------+-------------------+-------------------+--------+------------+-------------+-----+--------+-----+--------------------+--------------------+\n",
       "|      id|company|   origin|destination|          departure|            arrival|duration|vehicle_type|vehicle_class|price|    fare|seats|                meta|         insert_date|\n",
       "+--------+-------+---------+-----------+-------------------+-------------------+--------+------------+-------------+-----+--------+-----+--------------------+--------------------+\n",
       "|37402874|  renfe|   MADRID|  BARCELONA|2020-10-18 19:00:00|2020-10-18 21:30:00|     2.5|         AVE|      Turista|128.5|Flexible|  259|{\"Turista\": {\"Fle...|2020-09-28 16:10:...|\n",
       "|37403016|  renfe|   MADRID|  BARCELONA|2020-11-02 07:30:00|2020-11-02 10:40:12|    3.17|         AVE|      Turista| 91.5| Promo +|  258|{\"Turista\": {\"Pro...|2020-09-28 16:10:...|\n",
       "|37403170|  renfe|   MADRID|  BARCELONA|2020-10-27 07:00:00|2020-10-27 09:30:00|     2.5|         AVE|      Turista| 86.1| Promo +|  334|{\"Turista\": {\"Pro...|2020-09-28 16:10:...|\n",
       "|37403380|  renfe|   MADRID|  BARCELONA|2020-11-22 14:30:00|2020-11-22 17:25:12|    2.92|         AVE|      Turista|108.9|Flexible|  246|{\"Turista\": {\"Fle...|2020-09-28 16:10:...|\n",
       "|37403501|  renfe|   MADRID|  BARCELONA|2020-11-17 09:30:00|2020-11-17 12:34:12|    3.07|         AVE| Turista Plus|87.55| Promo +|   50|{\"Turista\": {\"Fle...|2020-09-28 16:10:...|\n",
       "|37403561|  renfe|BARCELONA|     MADRID|2020-11-10 19:00:00|2020-11-10 22:00:00|     3.0|         AVE|      Turista|108.9|Flexible|  263|{\"Turista\": {\"Fle...|2020-09-28 16:11:...|\n",
       "|37404034|  renfe|BARCELONA|     MADRID|2020-11-26 06:05:00|2020-11-26 09:20:00|    3.25|         AVE|      Turista|108.9|Flexible|  263|{\"Turista\": {\"Fle...|2020-09-28 16:11:...|\n",
       "|37404067|  renfe|BARCELONA|     MADRID|2020-11-15 19:00:00|2020-11-15 22:00:00|     3.0|         AVE|      Turista|108.9|Flexible|  331|{\"Turista\": {\"Fle...|2020-09-28 16:11:...|\n",
       "|37404135|  renfe|BARCELONA|     MADRID|2020-10-06 17:00:00|2020-10-06 19:45:00|    2.75|         AVE|      Turista|108.9|Flexible|  295|{\"Turista\": {\"Fle...|2020-09-28 16:11:...|\n",
       "|37404388|  renfe|   MADRID|    CÓRDOBA|2020-11-11 14:35:00|2020-11-11 16:17:00|     1.7|         AVE|      Turista|27.25| Promo +|  294|{\"Turista\": {\"Pro...|2020-09-28 16:12:...|\n",
       "|37404421|  renfe|   MADRID|    CÓRDOBA|2020-11-15 18:05:00|2020-11-15 19:50:00|    1.75|       ALVIA|      Turista| 55.9|Flexible|  148|{\"Turista\": {\"Fle...|2020-09-28 16:12:...|\n",
       "|37404430|  renfe|   MADRID|    CÓRDOBA|2020-10-03 13:30:00|2020-10-03 15:15:00|    1.75|       ALVIA|      Turista|46.95| Promo +|   18|{\"Turista\": {\"Pro...|2020-09-28 16:12:...|\n",
       "|37404601|  renfe|   MADRID|    CÓRDOBA|2020-10-01 17:00:00|2020-10-01 18:52:12|    1.87|         AVE|      Turista| 63.4|Flexible|  195|{\"Turista\": {\"Fle...|2020-09-28 16:12:...|\n",
       "|37404713|  renfe|   MADRID|    CÓRDOBA|2020-11-03 17:35:00|2020-11-03 19:23:00|     1.8|         AVE|      Turista|27.25| Promo +|  261|{\"Turista\": {\"Pro...|2020-09-28 16:12:...|\n",
       "|37404728|  renfe|   MADRID|    CÓRDOBA|2020-10-07 16:35:00|2020-10-07 18:17:00|     1.7|         AVE|      Turista| 63.4|Flexible|  240|{\"Turista\": {\"Fle...|2020-09-28 16:12:...|\n",
       "|37404890|  renfe|  SEVILLA|     MADRID|2020-10-04 19:45:00|2020-10-04 22:16:48|    2.53|         AVE| Turista Plus| 69.4| Promo +|  108|{\"Turista\": {\"Fle...|2020-09-28 16:13:...|\n",
       "|37405075|  renfe| VALENCIA|  BARCELONA|2020-11-14 09:15:00|2020-11-14 11:55:12|    2.67|     EUROMED|      Turista|33.65| Promo +|  235|{\"Turista\": {\"Pro...|2020-09-28 16:13:...|\n",
       "|37405127|  renfe| VALENCIA|  BARCELONA|2020-11-13 09:15:00|2020-11-13 11:55:12|    2.67|     EUROMED|      Turista|33.65| Promo +|  234|{\"Turista\": {\"Pro...|2020-09-28 16:13:...|\n",
       "|37405279|  renfe|   MADRID|   ZARAGOZA|2020-10-05 18:30:00|2020-10-05 19:45:00|    1.25|         AVE|      Turista| 55.7|Flexible|   37|{\"Turista\": {\"Fle...|2020-09-28 16:13:...|\n",
       "|37405631|  renfe|   MADRID|   ZARAGOZA|2020-11-16 07:30:00|2020-11-16 08:51:00|    1.35|         AVE|      Turista| 55.7|Flexible|  264|{\"Turista\": {\"Fle...|2020-09-28 16:13:...|\n",
       "+--------+-------+---------+-----------+-------------------+-------------------+--------+------------+-------------+-----+--------+-----+--------------------+--------------------+\n",
       "only showing top 20 rows"
      ]
     },
     "execution_count": 10,
     "metadata": {},
     "output_type": "execute_result"
    }
   ],
   "source": [
    "meta_filter = sf.col('meta') != '{}'\n",
    "duration_filter = sf.col('duration') < 4.0\n",
    "seats_filter = sf.col('seats').isNotNull()\n",
    "\n",
    "sdf_filtered = sdf_sample.filter(meta_filter & duration_filter & seats_filter)\n",
    "\n",
    "sdf_filtered"
   ]
  },
  {
   "cell_type": "markdown",
   "metadata": {},
   "source": [
    "#### create new columns"
   ]
  },
  {
   "cell_type": "code",
   "execution_count": 11,
   "metadata": {},
   "outputs": [
    {
     "data": {
      "text/html": [
       "<table border='1'>\n",
       "<tr><th>id</th><th>company</th><th>origin</th><th>destination</th><th>departure</th><th>arrival</th><th>duration</th><th>vehicle_type</th><th>vehicle_class</th><th>price</th><th>fare</th><th>seats</th><th>meta</th><th>insert_date</th><th>duration_computed</th></tr>\n",
       "<tr><td>37402874</td><td>renfe</td><td>MADRID</td><td>BARCELONA</td><td>2020-10-18 19:00:00</td><td>2020-10-18 21:30:00</td><td>2.5</td><td>AVE</td><td>Turista</td><td>128.5</td><td>Flexible</td><td>259</td><td>{\"Turista\": {\"Fle...</td><td>2020-09-28 16:10:...</td><td>2.5</td></tr>\n",
       "<tr><td>37403016</td><td>renfe</td><td>MADRID</td><td>BARCELONA</td><td>2020-11-02 07:30:00</td><td>2020-11-02 10:40:12</td><td>3.17</td><td>AVE</td><td>Turista</td><td>91.5</td><td>Promo +</td><td>258</td><td>{\"Turista\": {\"Pro...</td><td>2020-09-28 16:10:...</td><td>3.17</td></tr>\n",
       "<tr><td>37403170</td><td>renfe</td><td>MADRID</td><td>BARCELONA</td><td>2020-10-27 07:00:00</td><td>2020-10-27 09:30:00</td><td>2.5</td><td>AVE</td><td>Turista</td><td>86.1</td><td>Promo +</td><td>334</td><td>{\"Turista\": {\"Pro...</td><td>2020-09-28 16:10:...</td><td>2.5</td></tr>\n",
       "<tr><td>37403380</td><td>renfe</td><td>MADRID</td><td>BARCELONA</td><td>2020-11-22 14:30:00</td><td>2020-11-22 17:25:12</td><td>2.92</td><td>AVE</td><td>Turista</td><td>108.9</td><td>Flexible</td><td>246</td><td>{\"Turista\": {\"Fle...</td><td>2020-09-28 16:10:...</td><td>2.92</td></tr>\n",
       "<tr><td>37403501</td><td>renfe</td><td>MADRID</td><td>BARCELONA</td><td>2020-11-17 09:30:00</td><td>2020-11-17 12:34:12</td><td>3.07</td><td>AVE</td><td>Turista Plus</td><td>87.55</td><td>Promo +</td><td>50</td><td>{\"Turista\": {\"Fle...</td><td>2020-09-28 16:10:...</td><td>3.07</td></tr>\n",
       "<tr><td>37403561</td><td>renfe</td><td>BARCELONA</td><td>MADRID</td><td>2020-11-10 19:00:00</td><td>2020-11-10 22:00:00</td><td>3.0</td><td>AVE</td><td>Turista</td><td>108.9</td><td>Flexible</td><td>263</td><td>{\"Turista\": {\"Fle...</td><td>2020-09-28 16:11:...</td><td>3.0</td></tr>\n",
       "<tr><td>37404034</td><td>renfe</td><td>BARCELONA</td><td>MADRID</td><td>2020-11-26 06:05:00</td><td>2020-11-26 09:20:00</td><td>3.25</td><td>AVE</td><td>Turista</td><td>108.9</td><td>Flexible</td><td>263</td><td>{\"Turista\": {\"Fle...</td><td>2020-09-28 16:11:...</td><td>3.25</td></tr>\n",
       "<tr><td>37404067</td><td>renfe</td><td>BARCELONA</td><td>MADRID</td><td>2020-11-15 19:00:00</td><td>2020-11-15 22:00:00</td><td>3.0</td><td>AVE</td><td>Turista</td><td>108.9</td><td>Flexible</td><td>331</td><td>{\"Turista\": {\"Fle...</td><td>2020-09-28 16:11:...</td><td>3.0</td></tr>\n",
       "<tr><td>37404135</td><td>renfe</td><td>BARCELONA</td><td>MADRID</td><td>2020-10-06 17:00:00</td><td>2020-10-06 19:45:00</td><td>2.75</td><td>AVE</td><td>Turista</td><td>108.9</td><td>Flexible</td><td>295</td><td>{\"Turista\": {\"Fle...</td><td>2020-09-28 16:11:...</td><td>2.75</td></tr>\n",
       "<tr><td>37404388</td><td>renfe</td><td>MADRID</td><td>CÓRDOBA</td><td>2020-11-11 14:35:00</td><td>2020-11-11 16:17:00</td><td>1.7</td><td>AVE</td><td>Turista</td><td>27.25</td><td>Promo +</td><td>294</td><td>{\"Turista\": {\"Pro...</td><td>2020-09-28 16:12:...</td><td>1.7</td></tr>\n",
       "<tr><td>37404421</td><td>renfe</td><td>MADRID</td><td>CÓRDOBA</td><td>2020-11-15 18:05:00</td><td>2020-11-15 19:50:00</td><td>1.75</td><td>ALVIA</td><td>Turista</td><td>55.9</td><td>Flexible</td><td>148</td><td>{\"Turista\": {\"Fle...</td><td>2020-09-28 16:12:...</td><td>1.75</td></tr>\n",
       "<tr><td>37404430</td><td>renfe</td><td>MADRID</td><td>CÓRDOBA</td><td>2020-10-03 13:30:00</td><td>2020-10-03 15:15:00</td><td>1.75</td><td>ALVIA</td><td>Turista</td><td>46.95</td><td>Promo +</td><td>18</td><td>{\"Turista\": {\"Pro...</td><td>2020-09-28 16:12:...</td><td>1.75</td></tr>\n",
       "<tr><td>37404601</td><td>renfe</td><td>MADRID</td><td>CÓRDOBA</td><td>2020-10-01 17:00:00</td><td>2020-10-01 18:52:12</td><td>1.87</td><td>AVE</td><td>Turista</td><td>63.4</td><td>Flexible</td><td>195</td><td>{\"Turista\": {\"Fle...</td><td>2020-09-28 16:12:...</td><td>1.87</td></tr>\n",
       "<tr><td>37404713</td><td>renfe</td><td>MADRID</td><td>CÓRDOBA</td><td>2020-11-03 17:35:00</td><td>2020-11-03 19:23:00</td><td>1.8</td><td>AVE</td><td>Turista</td><td>27.25</td><td>Promo +</td><td>261</td><td>{\"Turista\": {\"Pro...</td><td>2020-09-28 16:12:...</td><td>1.8</td></tr>\n",
       "<tr><td>37404728</td><td>renfe</td><td>MADRID</td><td>CÓRDOBA</td><td>2020-10-07 16:35:00</td><td>2020-10-07 18:17:00</td><td>1.7</td><td>AVE</td><td>Turista</td><td>63.4</td><td>Flexible</td><td>240</td><td>{\"Turista\": {\"Fle...</td><td>2020-09-28 16:12:...</td><td>1.7</td></tr>\n",
       "<tr><td>37404890</td><td>renfe</td><td>SEVILLA</td><td>MADRID</td><td>2020-10-04 19:45:00</td><td>2020-10-04 22:16:48</td><td>2.53</td><td>AVE</td><td>Turista Plus</td><td>69.4</td><td>Promo +</td><td>108</td><td>{\"Turista\": {\"Fle...</td><td>2020-09-28 16:13:...</td><td>2.53</td></tr>\n",
       "<tr><td>37405075</td><td>renfe</td><td>VALENCIA</td><td>BARCELONA</td><td>2020-11-14 09:15:00</td><td>2020-11-14 11:55:12</td><td>2.67</td><td>EUROMED</td><td>Turista</td><td>33.65</td><td>Promo +</td><td>235</td><td>{\"Turista\": {\"Pro...</td><td>2020-09-28 16:13:...</td><td>2.67</td></tr>\n",
       "<tr><td>37405127</td><td>renfe</td><td>VALENCIA</td><td>BARCELONA</td><td>2020-11-13 09:15:00</td><td>2020-11-13 11:55:12</td><td>2.67</td><td>EUROMED</td><td>Turista</td><td>33.65</td><td>Promo +</td><td>234</td><td>{\"Turista\": {\"Pro...</td><td>2020-09-28 16:13:...</td><td>2.67</td></tr>\n",
       "<tr><td>37405279</td><td>renfe</td><td>MADRID</td><td>ZARAGOZA</td><td>2020-10-05 18:30:00</td><td>2020-10-05 19:45:00</td><td>1.25</td><td>AVE</td><td>Turista</td><td>55.7</td><td>Flexible</td><td>37</td><td>{\"Turista\": {\"Fle...</td><td>2020-09-28 16:13:...</td><td>1.25</td></tr>\n",
       "<tr><td>37405631</td><td>renfe</td><td>MADRID</td><td>ZARAGOZA</td><td>2020-11-16 07:30:00</td><td>2020-11-16 08:51:00</td><td>1.35</td><td>AVE</td><td>Turista</td><td>55.7</td><td>Flexible</td><td>264</td><td>{\"Turista\": {\"Fle...</td><td>2020-09-28 16:13:...</td><td>1.35</td></tr>\n",
       "</table>\n",
       "only showing top 20 rows\n"
      ],
      "text/plain": [
       "+--------+-------+---------+-----------+-------------------+-------------------+--------+------------+-------------+-----+--------+-----+--------------------+--------------------+-----------------+\n",
       "|      id|company|   origin|destination|          departure|            arrival|duration|vehicle_type|vehicle_class|price|    fare|seats|                meta|         insert_date|duration_computed|\n",
       "+--------+-------+---------+-----------+-------------------+-------------------+--------+------------+-------------+-----+--------+-----+--------------------+--------------------+-----------------+\n",
       "|37402874|  renfe|   MADRID|  BARCELONA|2020-10-18 19:00:00|2020-10-18 21:30:00|     2.5|         AVE|      Turista|128.5|Flexible|  259|{\"Turista\": {\"Fle...|2020-09-28 16:10:...|              2.5|\n",
       "|37403016|  renfe|   MADRID|  BARCELONA|2020-11-02 07:30:00|2020-11-02 10:40:12|    3.17|         AVE|      Turista| 91.5| Promo +|  258|{\"Turista\": {\"Pro...|2020-09-28 16:10:...|             3.17|\n",
       "|37403170|  renfe|   MADRID|  BARCELONA|2020-10-27 07:00:00|2020-10-27 09:30:00|     2.5|         AVE|      Turista| 86.1| Promo +|  334|{\"Turista\": {\"Pro...|2020-09-28 16:10:...|              2.5|\n",
       "|37403380|  renfe|   MADRID|  BARCELONA|2020-11-22 14:30:00|2020-11-22 17:25:12|    2.92|         AVE|      Turista|108.9|Flexible|  246|{\"Turista\": {\"Fle...|2020-09-28 16:10:...|             2.92|\n",
       "|37403501|  renfe|   MADRID|  BARCELONA|2020-11-17 09:30:00|2020-11-17 12:34:12|    3.07|         AVE| Turista Plus|87.55| Promo +|   50|{\"Turista\": {\"Fle...|2020-09-28 16:10:...|             3.07|\n",
       "|37403561|  renfe|BARCELONA|     MADRID|2020-11-10 19:00:00|2020-11-10 22:00:00|     3.0|         AVE|      Turista|108.9|Flexible|  263|{\"Turista\": {\"Fle...|2020-09-28 16:11:...|              3.0|\n",
       "|37404034|  renfe|BARCELONA|     MADRID|2020-11-26 06:05:00|2020-11-26 09:20:00|    3.25|         AVE|      Turista|108.9|Flexible|  263|{\"Turista\": {\"Fle...|2020-09-28 16:11:...|             3.25|\n",
       "|37404067|  renfe|BARCELONA|     MADRID|2020-11-15 19:00:00|2020-11-15 22:00:00|     3.0|         AVE|      Turista|108.9|Flexible|  331|{\"Turista\": {\"Fle...|2020-09-28 16:11:...|              3.0|\n",
       "|37404135|  renfe|BARCELONA|     MADRID|2020-10-06 17:00:00|2020-10-06 19:45:00|    2.75|         AVE|      Turista|108.9|Flexible|  295|{\"Turista\": {\"Fle...|2020-09-28 16:11:...|             2.75|\n",
       "|37404388|  renfe|   MADRID|    CÓRDOBA|2020-11-11 14:35:00|2020-11-11 16:17:00|     1.7|         AVE|      Turista|27.25| Promo +|  294|{\"Turista\": {\"Pro...|2020-09-28 16:12:...|              1.7|\n",
       "|37404421|  renfe|   MADRID|    CÓRDOBA|2020-11-15 18:05:00|2020-11-15 19:50:00|    1.75|       ALVIA|      Turista| 55.9|Flexible|  148|{\"Turista\": {\"Fle...|2020-09-28 16:12:...|             1.75|\n",
       "|37404430|  renfe|   MADRID|    CÓRDOBA|2020-10-03 13:30:00|2020-10-03 15:15:00|    1.75|       ALVIA|      Turista|46.95| Promo +|   18|{\"Turista\": {\"Pro...|2020-09-28 16:12:...|             1.75|\n",
       "|37404601|  renfe|   MADRID|    CÓRDOBA|2020-10-01 17:00:00|2020-10-01 18:52:12|    1.87|         AVE|      Turista| 63.4|Flexible|  195|{\"Turista\": {\"Fle...|2020-09-28 16:12:...|             1.87|\n",
       "|37404713|  renfe|   MADRID|    CÓRDOBA|2020-11-03 17:35:00|2020-11-03 19:23:00|     1.8|         AVE|      Turista|27.25| Promo +|  261|{\"Turista\": {\"Pro...|2020-09-28 16:12:...|              1.8|\n",
       "|37404728|  renfe|   MADRID|    CÓRDOBA|2020-10-07 16:35:00|2020-10-07 18:17:00|     1.7|         AVE|      Turista| 63.4|Flexible|  240|{\"Turista\": {\"Fle...|2020-09-28 16:12:...|              1.7|\n",
       "|37404890|  renfe|  SEVILLA|     MADRID|2020-10-04 19:45:00|2020-10-04 22:16:48|    2.53|         AVE| Turista Plus| 69.4| Promo +|  108|{\"Turista\": {\"Fle...|2020-09-28 16:13:...|             2.53|\n",
       "|37405075|  renfe| VALENCIA|  BARCELONA|2020-11-14 09:15:00|2020-11-14 11:55:12|    2.67|     EUROMED|      Turista|33.65| Promo +|  235|{\"Turista\": {\"Pro...|2020-09-28 16:13:...|             2.67|\n",
       "|37405127|  renfe| VALENCIA|  BARCELONA|2020-11-13 09:15:00|2020-11-13 11:55:12|    2.67|     EUROMED|      Turista|33.65| Promo +|  234|{\"Turista\": {\"Pro...|2020-09-28 16:13:...|             2.67|\n",
       "|37405279|  renfe|   MADRID|   ZARAGOZA|2020-10-05 18:30:00|2020-10-05 19:45:00|    1.25|         AVE|      Turista| 55.7|Flexible|   37|{\"Turista\": {\"Fle...|2020-09-28 16:13:...|             1.25|\n",
       "|37405631|  renfe|   MADRID|   ZARAGOZA|2020-11-16 07:30:00|2020-11-16 08:51:00|    1.35|         AVE|      Turista| 55.7|Flexible|  264|{\"Turista\": {\"Fle...|2020-09-28 16:13:...|             1.35|\n",
       "+--------+-------+---------+-----------+-------------------+-------------------+--------+------------+-------------+-----+--------+-----+--------------------+--------------------+-----------------+\n",
       "only showing top 20 rows"
      ]
     },
     "execution_count": 11,
     "metadata": {},
     "output_type": "execute_result"
    }
   ],
   "source": [
    "from pyspark.sql.types import IntegerType\n",
    "\n",
    "sdf_filtered.withColumn('duration_computed', (sf.col('arrival').cast(IntegerType()) - sf.col('departure').cast(IntegerType())) / 3600)"
   ]
  },
  {
   "cell_type": "markdown",
   "metadata": {},
   "source": [
    "#### make aggregations"
   ]
  },
  {
   "cell_type": "code",
   "execution_count": 12,
   "metadata": {},
   "outputs": [
    {
     "data": {
      "text/html": [
       "<table border='1'>\n",
       "<tr><th>origin</th><th>destination</th><th>avg(price)</th></tr>\n",
       "<tr><td>BARCELONA</td><td>VALENCIA</td><td>28.215748663101472</td></tr>\n",
       "<tr><td>ZARAGOZA</td><td>MADRID</td><td>44.62390364422449</td></tr>\n",
       "<tr><td>MADRID</td><td>CÓRDOBA</td><td>48.557590132827656</td></tr>\n",
       "<tr><td>MADRID</td><td>ZARAGOZA</td><td>44.26541476159339</td></tr>\n",
       "<tr><td>MÁLAGA</td><td>MADRID</td><td>56.82871759890891</td></tr>\n",
       "<tr><td>MADRID</td><td>LEON</td><td>35.610778985507366</td></tr>\n",
       "<tr><td>VALLADOLID</td><td>MADRID</td><td>32.214733201581424</td></tr>\n",
       "<tr><td>MADRID</td><td>BARCELONA</td><td>81.89261602034317</td></tr>\n",
       "<tr><td>MADRID</td><td>VALLADOLID</td><td>32.4869668680218</td></tr>\n",
       "<tr><td>CORDOBA</td><td>MADRID</td><td>45.82846938775479</td></tr>\n",
       "<tr><td>ZARAGOZA</td><td>BARCELONA</td><td>43.70668456032713</td></tr>\n",
       "<tr><td>CÓRDOBA</td><td>MADRID</td><td>48.94294510005174</td></tr>\n",
       "<tr><td>MALAGA</td><td>MADRID</td><td>49.42875968992303</td></tr>\n",
       "<tr><td>SEVILLA</td><td>MADRID</td><td>51.40903648802761</td></tr>\n",
       "<tr><td>LEON</td><td>MADRID</td><td>35.8471962616824</td></tr>\n",
       "<tr><td>MADRID</td><td>LEÓN</td><td>32.447047970479765</td></tr>\n",
       "<tr><td>MADRID</td><td>SEVILLA</td><td>53.02640109890138</td></tr>\n",
       "<tr><td>MADRID</td><td>CORDOBA</td><td>45.543652392947</td></tr>\n",
       "<tr><td>BARCELONA</td><td>MADRID</td><td>81.57739938080479</td></tr>\n",
       "<tr><td>VALENCIA</td><td>BARCELONA</td><td>28.911593816630976</td></tr>\n",
       "</table>\n",
       "only showing top 20 rows\n"
      ],
      "text/plain": [
       "+----------+-----------+------------------+\n",
       "|    origin|destination|        avg(price)|\n",
       "+----------+-----------+------------------+\n",
       "| BARCELONA|   VALENCIA|28.215748663101472|\n",
       "|  ZARAGOZA|     MADRID| 44.62390364422449|\n",
       "|    MADRID|    CÓRDOBA|48.557590132827656|\n",
       "|    MADRID|   ZARAGOZA| 44.26541476159339|\n",
       "|    MÁLAGA|     MADRID| 56.82871759890891|\n",
       "|    MADRID|       LEON|35.610778985507366|\n",
       "|VALLADOLID|     MADRID|32.214733201581424|\n",
       "|    MADRID|  BARCELONA| 81.89261602034317|\n",
       "|    MADRID| VALLADOLID|  32.4869668680218|\n",
       "|   CORDOBA|     MADRID| 45.82846938775479|\n",
       "|  ZARAGOZA|  BARCELONA| 43.70668456032713|\n",
       "|   CÓRDOBA|     MADRID| 48.94294510005174|\n",
       "|    MALAGA|     MADRID| 49.42875968992303|\n",
       "|   SEVILLA|     MADRID| 51.40903648802761|\n",
       "|      LEON|     MADRID|  35.8471962616824|\n",
       "|    MADRID|       LEÓN|32.447047970479765|\n",
       "|    MADRID|    SEVILLA| 53.02640109890138|\n",
       "|    MADRID|    CORDOBA|   45.543652392947|\n",
       "| BARCELONA|     MADRID| 81.57739938080479|\n",
       "|  VALENCIA|  BARCELONA|28.911593816630976|\n",
       "+----------+-----------+------------------+\n",
       "only showing top 20 rows"
      ]
     },
     "execution_count": 12,
     "metadata": {},
     "output_type": "execute_result"
    }
   ],
   "source": [
    "sdf_filtered.groupby(['origin', 'destination']).agg({'price': 'mean'})"
   ]
  },
  {
   "cell_type": "code",
   "execution_count": 13,
   "metadata": {},
   "outputs": [
    {
     "data": {
      "text/plain": [
       "55951"
      ]
     },
     "execution_count": 13,
     "metadata": {},
     "output_type": "execute_result"
    }
   ],
   "source": [
    "sdf_filtered.count()"
   ]
  },
  {
   "cell_type": "markdown",
   "metadata": {},
   "source": [
    "#### apply custom functions"
   ]
  },
  {
   "cell_type": "code",
   "execution_count": 14,
   "metadata": {},
   "outputs": [
    {
     "name": "stdout",
     "output_type": "stream",
     "text": [
      "+-----------------------------------------------------------------------------------------------------------------------------------------------------------------------------------------------------------------+\n",
      "|meta                                                                                                                                                                                                             |\n",
      "+-----------------------------------------------------------------------------------------------------------------------------------------------------------------------------------------------------------------+\n",
      "|{\"Turista\": {\"Flexible\": {\"price\": 128.5, \"seats\": 259}}, \"Turista Plus\": {\"Flexible\": {\"price\": 154.2, \"seats\": 118}}}                                                                                          |\n",
      "|{\"Turista\": {\"Promo +\": {\"price\": 91.5, \"seats\": 258}, \"Flexible\": {\"price\": 108.9, \"seats\": 258}}, \"Turista Plus\": {\"Promo +\": {\"price\": 109.8, \"seats\": 103}, \"Flexible\": {\"price\": 130.7, \"seats\": 103}}}     |\n",
      "|{\"Turista\": {\"Promo +\": {\"price\": 86.1, \"seats\": 334}, \"Flexible\": {\"price\": 128.5, \"seats\": 334}}, \"Turista Plus\": {\"Promo +\": {\"price\": 103.3, \"seats\": 65}, \"Flexible\": {\"price\": 154.2, \"seats\": 65}}}       |\n",
      "|{\"Turista\": {\"Flexible\": {\"price\": 108.9, \"seats\": 246}}, \"Turista Plus\": {\"Flexible\": {\"price\": 130.7, \"seats\": 35}}}                                                                                           |\n",
      "|{\"Turista\": {\"Flexible\": {\"price\": 108.9, \"seats\": 298}}, \"Turista Plus\": {\"Promo +\": {\"price\": 87.55, \"seats\": 50}, \"Flexible\": {\"price\": 130.7, \"seats\": 50}}}                                                 |\n",
      "|{\"Turista\": {\"Flexible\": {\"price\": 108.9, \"seats\": 263}}, \"Turista Plus\": {\"Flexible\": {\"price\": 130.7, \"seats\": 103}}}                                                                                          |\n",
      "|{\"Turista\": {\"Flexible\": {\"price\": 108.9, \"seats\": 263}}, \"Turista Plus\": {\"Flexible\": {\"price\": 130.7, \"seats\": 83}}}                                                                                           |\n",
      "|{\"Turista\": {\"Flexible\": {\"price\": 108.9, \"seats\": 331}, \"4 o m\\u00e1s\": {\"price\": 0.0, \"seats\": 331}}, \"Turista Plus\": {\"Flexible\": {\"price\": 130.7, \"seats\": 50}, \"4 o m\\u00e1s\": {\"price\": 0.0, \"seats\": 50}}}|\n",
      "|{\"Turista\": {\"Flexible\": {\"price\": 108.9, \"seats\": 295}}, \"Turista Plus\": {\"Flexible\": {\"price\": 130.7, \"seats\": 55}}}                                                                                           |\n",
      "|{\"Turista\": {\"Promo +\": {\"price\": 27.25, \"seats\": 294}, \"Flexible\": {\"price\": 63.4, \"seats\": 294}}, \"Turista Plus\": {\"Promo +\": {\"price\": 44.9, \"seats\": 26}, \"Flexible\": {\"price\": 76.1, \"seats\": 26}}}         |\n",
      "|{\"Turista\": {\"Flexible\": {\"price\": 55.9, \"seats\": 148}}, \"Turista Plus\": {\"Flexible\": {\"price\": 67.0, \"seats\": 21}}}                                                                                             |\n",
      "|{\"Turista\": {\"Promo +\": {\"price\": 46.95, \"seats\": 18}, \"Flexible\": {\"price\": 55.9, \"seats\": 18}}, \"Turista Plus\": {\"Flexible\": {\"price\": 67.0, \"seats\": 20}}}                                                    |\n",
      "|{\"Turista\": {\"Flexible\": {\"price\": 63.4, \"seats\": 195}}, \"Turista Plus\": {\"Flexible\": {\"price\": 76.1, \"seats\": 37}}}                                                                                             |\n",
      "|{\"Turista\": {\"Promo +\": {\"price\": 27.25, \"seats\": 261}, \"Flexible\": {\"price\": 63.4, \"seats\": 261}}, \"Turista Plus\": {\"Promo +\": {\"price\": 57.1, \"seats\": 26}, \"Flexible\": {\"price\": 76.1, \"seats\": 26}}}         |\n",
      "|{\"Turista\": {\"Flexible\": {\"price\": 63.4, \"seats\": 240}}, \"Turista Plus\": {\"Flexible\": {\"price\": 76.1, \"seats\": 31}}}                                                                                             |\n",
      "|{\"Turista\": {\"Flexible\": {\"price\": 77.1, \"seats\": 311}}, \"Turista Plus\": {\"Promo +\": {\"price\": 69.4, \"seats\": 108}, \"Flexible\": {\"price\": 92.5, \"seats\": 108}}}                                                  |\n",
      "|{\"Turista\": {\"Promo +\": {\"price\": 33.65, \"seats\": 235}, \"Flexible\": {\"price\": 51.8, \"seats\": 235}}, \"Turista Plus\": {\"Promo +\": {\"price\": 40.45, \"seats\": 23}, \"Flexible\": {\"price\": 62.2, \"seats\": 23}}}        |\n",
      "|{\"Turista\": {\"Promo +\": {\"price\": 33.65, \"seats\": 234}, \"Flexible\": {\"price\": 51.8, \"seats\": 234}}, \"Turista Plus\": {\"Promo +\": {\"price\": 40.45, \"seats\": 23}, \"Flexible\": {\"price\": 62.2, \"seats\": 23}}}        |\n",
      "|{\"Turista\": {\"Flexible\": {\"price\": 55.7, \"seats\": 37}}}                                                                                                                                                          |\n",
      "|{\"Turista\": {\"Flexible\": {\"price\": 55.7, \"seats\": 264}}, \"Turista Plus\": {\"Flexible\": {\"price\": 66.8, \"seats\": 103}}}                                                                                            |\n",
      "+-----------------------------------------------------------------------------------------------------------------------------------------------------------------------------------------------------------------+\n",
      "only showing top 20 rows\n",
      "\n"
     ]
    }
   ],
   "source": [
    "sdf_filtered.select(['meta']).show(truncate=False)"
   ]
  },
  {
   "cell_type": "code",
   "execution_count": 15,
   "metadata": {},
   "outputs": [],
   "source": [
    "import json\n",
    "\n",
    "@sf.udf('integer')\n",
    "def get_first_class_first_fare_seats(meta):\n",
    "    try:\n",
    "        meta_dict = eval(meta)\n",
    "        first_available_class = [*meta_dict][0]\n",
    "        first_available_fare = [*meta_dict[first_available_class]][0]\n",
    "        seats = meta_dict[first_available_class][first_available_fare]['seats']\n",
    "        return seats\n",
    "\n",
    "    except:\n",
    "        return 0"
   ]
  },
  {
   "cell_type": "code",
   "execution_count": 16,
   "metadata": {},
   "outputs": [
    {
     "data": {
      "text/html": [
       "<table border='1'>\n",
       "<tr><th>id</th><th>company</th><th>origin</th><th>destination</th><th>departure</th><th>arrival</th><th>duration</th><th>vehicle_type</th><th>vehicle_class</th><th>price</th><th>fare</th><th>seats</th><th>meta</th><th>insert_date</th><th>seats_first_class_first_fare</th></tr>\n",
       "<tr><td>37402874</td><td>renfe</td><td>MADRID</td><td>BARCELONA</td><td>2020-10-18 19:00:00</td><td>2020-10-18 21:30:00</td><td>2.5</td><td>AVE</td><td>Turista</td><td>128.5</td><td>Flexible</td><td>259</td><td>{\"Turista\": {\"Fle...</td><td>2020-09-28 16:10:...</td><td>259</td></tr>\n",
       "<tr><td>37403016</td><td>renfe</td><td>MADRID</td><td>BARCELONA</td><td>2020-11-02 07:30:00</td><td>2020-11-02 10:40:12</td><td>3.17</td><td>AVE</td><td>Turista</td><td>91.5</td><td>Promo +</td><td>258</td><td>{\"Turista\": {\"Pro...</td><td>2020-09-28 16:10:...</td><td>258</td></tr>\n",
       "<tr><td>37403170</td><td>renfe</td><td>MADRID</td><td>BARCELONA</td><td>2020-10-27 07:00:00</td><td>2020-10-27 09:30:00</td><td>2.5</td><td>AVE</td><td>Turista</td><td>86.1</td><td>Promo +</td><td>334</td><td>{\"Turista\": {\"Pro...</td><td>2020-09-28 16:10:...</td><td>334</td></tr>\n",
       "<tr><td>37403380</td><td>renfe</td><td>MADRID</td><td>BARCELONA</td><td>2020-11-22 14:30:00</td><td>2020-11-22 17:25:12</td><td>2.92</td><td>AVE</td><td>Turista</td><td>108.9</td><td>Flexible</td><td>246</td><td>{\"Turista\": {\"Fle...</td><td>2020-09-28 16:10:...</td><td>246</td></tr>\n",
       "<tr><td>37403501</td><td>renfe</td><td>MADRID</td><td>BARCELONA</td><td>2020-11-17 09:30:00</td><td>2020-11-17 12:34:12</td><td>3.07</td><td>AVE</td><td>Turista Plus</td><td>87.55</td><td>Promo +</td><td>50</td><td>{\"Turista\": {\"Fle...</td><td>2020-09-28 16:10:...</td><td>298</td></tr>\n",
       "<tr><td>37403561</td><td>renfe</td><td>BARCELONA</td><td>MADRID</td><td>2020-11-10 19:00:00</td><td>2020-11-10 22:00:00</td><td>3.0</td><td>AVE</td><td>Turista</td><td>108.9</td><td>Flexible</td><td>263</td><td>{\"Turista\": {\"Fle...</td><td>2020-09-28 16:11:...</td><td>263</td></tr>\n",
       "<tr><td>37404034</td><td>renfe</td><td>BARCELONA</td><td>MADRID</td><td>2020-11-26 06:05:00</td><td>2020-11-26 09:20:00</td><td>3.25</td><td>AVE</td><td>Turista</td><td>108.9</td><td>Flexible</td><td>263</td><td>{\"Turista\": {\"Fle...</td><td>2020-09-28 16:11:...</td><td>263</td></tr>\n",
       "<tr><td>37404067</td><td>renfe</td><td>BARCELONA</td><td>MADRID</td><td>2020-11-15 19:00:00</td><td>2020-11-15 22:00:00</td><td>3.0</td><td>AVE</td><td>Turista</td><td>108.9</td><td>Flexible</td><td>331</td><td>{\"Turista\": {\"Fle...</td><td>2020-09-28 16:11:...</td><td>331</td></tr>\n",
       "<tr><td>37404135</td><td>renfe</td><td>BARCELONA</td><td>MADRID</td><td>2020-10-06 17:00:00</td><td>2020-10-06 19:45:00</td><td>2.75</td><td>AVE</td><td>Turista</td><td>108.9</td><td>Flexible</td><td>295</td><td>{\"Turista\": {\"Fle...</td><td>2020-09-28 16:11:...</td><td>295</td></tr>\n",
       "<tr><td>37404388</td><td>renfe</td><td>MADRID</td><td>CÓRDOBA</td><td>2020-11-11 14:35:00</td><td>2020-11-11 16:17:00</td><td>1.7</td><td>AVE</td><td>Turista</td><td>27.25</td><td>Promo +</td><td>294</td><td>{\"Turista\": {\"Pro...</td><td>2020-09-28 16:12:...</td><td>294</td></tr>\n",
       "<tr><td>37404421</td><td>renfe</td><td>MADRID</td><td>CÓRDOBA</td><td>2020-11-15 18:05:00</td><td>2020-11-15 19:50:00</td><td>1.75</td><td>ALVIA</td><td>Turista</td><td>55.9</td><td>Flexible</td><td>148</td><td>{\"Turista\": {\"Fle...</td><td>2020-09-28 16:12:...</td><td>148</td></tr>\n",
       "<tr><td>37404430</td><td>renfe</td><td>MADRID</td><td>CÓRDOBA</td><td>2020-10-03 13:30:00</td><td>2020-10-03 15:15:00</td><td>1.75</td><td>ALVIA</td><td>Turista</td><td>46.95</td><td>Promo +</td><td>18</td><td>{\"Turista\": {\"Pro...</td><td>2020-09-28 16:12:...</td><td>18</td></tr>\n",
       "<tr><td>37404601</td><td>renfe</td><td>MADRID</td><td>CÓRDOBA</td><td>2020-10-01 17:00:00</td><td>2020-10-01 18:52:12</td><td>1.87</td><td>AVE</td><td>Turista</td><td>63.4</td><td>Flexible</td><td>195</td><td>{\"Turista\": {\"Fle...</td><td>2020-09-28 16:12:...</td><td>195</td></tr>\n",
       "<tr><td>37404713</td><td>renfe</td><td>MADRID</td><td>CÓRDOBA</td><td>2020-11-03 17:35:00</td><td>2020-11-03 19:23:00</td><td>1.8</td><td>AVE</td><td>Turista</td><td>27.25</td><td>Promo +</td><td>261</td><td>{\"Turista\": {\"Pro...</td><td>2020-09-28 16:12:...</td><td>261</td></tr>\n",
       "<tr><td>37404728</td><td>renfe</td><td>MADRID</td><td>CÓRDOBA</td><td>2020-10-07 16:35:00</td><td>2020-10-07 18:17:00</td><td>1.7</td><td>AVE</td><td>Turista</td><td>63.4</td><td>Flexible</td><td>240</td><td>{\"Turista\": {\"Fle...</td><td>2020-09-28 16:12:...</td><td>240</td></tr>\n",
       "<tr><td>37404890</td><td>renfe</td><td>SEVILLA</td><td>MADRID</td><td>2020-10-04 19:45:00</td><td>2020-10-04 22:16:48</td><td>2.53</td><td>AVE</td><td>Turista Plus</td><td>69.4</td><td>Promo +</td><td>108</td><td>{\"Turista\": {\"Fle...</td><td>2020-09-28 16:13:...</td><td>311</td></tr>\n",
       "<tr><td>37405075</td><td>renfe</td><td>VALENCIA</td><td>BARCELONA</td><td>2020-11-14 09:15:00</td><td>2020-11-14 11:55:12</td><td>2.67</td><td>EUROMED</td><td>Turista</td><td>33.65</td><td>Promo +</td><td>235</td><td>{\"Turista\": {\"Pro...</td><td>2020-09-28 16:13:...</td><td>235</td></tr>\n",
       "<tr><td>37405127</td><td>renfe</td><td>VALENCIA</td><td>BARCELONA</td><td>2020-11-13 09:15:00</td><td>2020-11-13 11:55:12</td><td>2.67</td><td>EUROMED</td><td>Turista</td><td>33.65</td><td>Promo +</td><td>234</td><td>{\"Turista\": {\"Pro...</td><td>2020-09-28 16:13:...</td><td>234</td></tr>\n",
       "<tr><td>37405279</td><td>renfe</td><td>MADRID</td><td>ZARAGOZA</td><td>2020-10-05 18:30:00</td><td>2020-10-05 19:45:00</td><td>1.25</td><td>AVE</td><td>Turista</td><td>55.7</td><td>Flexible</td><td>37</td><td>{\"Turista\": {\"Fle...</td><td>2020-09-28 16:13:...</td><td>37</td></tr>\n",
       "<tr><td>37405631</td><td>renfe</td><td>MADRID</td><td>ZARAGOZA</td><td>2020-11-16 07:30:00</td><td>2020-11-16 08:51:00</td><td>1.35</td><td>AVE</td><td>Turista</td><td>55.7</td><td>Flexible</td><td>264</td><td>{\"Turista\": {\"Fle...</td><td>2020-09-28 16:13:...</td><td>264</td></tr>\n",
       "</table>\n",
       "only showing top 20 rows\n"
      ],
      "text/plain": [
       "+--------+-------+---------+-----------+-------------------+-------------------+--------+------------+-------------+-----+--------+-----+--------------------+--------------------+----------------------------+\n",
       "|      id|company|   origin|destination|          departure|            arrival|duration|vehicle_type|vehicle_class|price|    fare|seats|                meta|         insert_date|seats_first_class_first_fare|\n",
       "+--------+-------+---------+-----------+-------------------+-------------------+--------+------------+-------------+-----+--------+-----+--------------------+--------------------+----------------------------+\n",
       "|37402874|  renfe|   MADRID|  BARCELONA|2020-10-18 19:00:00|2020-10-18 21:30:00|     2.5|         AVE|      Turista|128.5|Flexible|  259|{\"Turista\": {\"Fle...|2020-09-28 16:10:...|                         259|\n",
       "|37403016|  renfe|   MADRID|  BARCELONA|2020-11-02 07:30:00|2020-11-02 10:40:12|    3.17|         AVE|      Turista| 91.5| Promo +|  258|{\"Turista\": {\"Pro...|2020-09-28 16:10:...|                         258|\n",
       "|37403170|  renfe|   MADRID|  BARCELONA|2020-10-27 07:00:00|2020-10-27 09:30:00|     2.5|         AVE|      Turista| 86.1| Promo +|  334|{\"Turista\": {\"Pro...|2020-09-28 16:10:...|                         334|\n",
       "|37403380|  renfe|   MADRID|  BARCELONA|2020-11-22 14:30:00|2020-11-22 17:25:12|    2.92|         AVE|      Turista|108.9|Flexible|  246|{\"Turista\": {\"Fle...|2020-09-28 16:10:...|                         246|\n",
       "|37403501|  renfe|   MADRID|  BARCELONA|2020-11-17 09:30:00|2020-11-17 12:34:12|    3.07|         AVE| Turista Plus|87.55| Promo +|   50|{\"Turista\": {\"Fle...|2020-09-28 16:10:...|                         298|\n",
       "|37403561|  renfe|BARCELONA|     MADRID|2020-11-10 19:00:00|2020-11-10 22:00:00|     3.0|         AVE|      Turista|108.9|Flexible|  263|{\"Turista\": {\"Fle...|2020-09-28 16:11:...|                         263|\n",
       "|37404034|  renfe|BARCELONA|     MADRID|2020-11-26 06:05:00|2020-11-26 09:20:00|    3.25|         AVE|      Turista|108.9|Flexible|  263|{\"Turista\": {\"Fle...|2020-09-28 16:11:...|                         263|\n",
       "|37404067|  renfe|BARCELONA|     MADRID|2020-11-15 19:00:00|2020-11-15 22:00:00|     3.0|         AVE|      Turista|108.9|Flexible|  331|{\"Turista\": {\"Fle...|2020-09-28 16:11:...|                         331|\n",
       "|37404135|  renfe|BARCELONA|     MADRID|2020-10-06 17:00:00|2020-10-06 19:45:00|    2.75|         AVE|      Turista|108.9|Flexible|  295|{\"Turista\": {\"Fle...|2020-09-28 16:11:...|                         295|\n",
       "|37404388|  renfe|   MADRID|    CÓRDOBA|2020-11-11 14:35:00|2020-11-11 16:17:00|     1.7|         AVE|      Turista|27.25| Promo +|  294|{\"Turista\": {\"Pro...|2020-09-28 16:12:...|                         294|\n",
       "|37404421|  renfe|   MADRID|    CÓRDOBA|2020-11-15 18:05:00|2020-11-15 19:50:00|    1.75|       ALVIA|      Turista| 55.9|Flexible|  148|{\"Turista\": {\"Fle...|2020-09-28 16:12:...|                         148|\n",
       "|37404430|  renfe|   MADRID|    CÓRDOBA|2020-10-03 13:30:00|2020-10-03 15:15:00|    1.75|       ALVIA|      Turista|46.95| Promo +|   18|{\"Turista\": {\"Pro...|2020-09-28 16:12:...|                          18|\n",
       "|37404601|  renfe|   MADRID|    CÓRDOBA|2020-10-01 17:00:00|2020-10-01 18:52:12|    1.87|         AVE|      Turista| 63.4|Flexible|  195|{\"Turista\": {\"Fle...|2020-09-28 16:12:...|                         195|\n",
       "|37404713|  renfe|   MADRID|    CÓRDOBA|2020-11-03 17:35:00|2020-11-03 19:23:00|     1.8|         AVE|      Turista|27.25| Promo +|  261|{\"Turista\": {\"Pro...|2020-09-28 16:12:...|                         261|\n",
       "|37404728|  renfe|   MADRID|    CÓRDOBA|2020-10-07 16:35:00|2020-10-07 18:17:00|     1.7|         AVE|      Turista| 63.4|Flexible|  240|{\"Turista\": {\"Fle...|2020-09-28 16:12:...|                         240|\n",
       "|37404890|  renfe|  SEVILLA|     MADRID|2020-10-04 19:45:00|2020-10-04 22:16:48|    2.53|         AVE| Turista Plus| 69.4| Promo +|  108|{\"Turista\": {\"Fle...|2020-09-28 16:13:...|                         311|\n",
       "|37405075|  renfe| VALENCIA|  BARCELONA|2020-11-14 09:15:00|2020-11-14 11:55:12|    2.67|     EUROMED|      Turista|33.65| Promo +|  235|{\"Turista\": {\"Pro...|2020-09-28 16:13:...|                         235|\n",
       "|37405127|  renfe| VALENCIA|  BARCELONA|2020-11-13 09:15:00|2020-11-13 11:55:12|    2.67|     EUROMED|      Turista|33.65| Promo +|  234|{\"Turista\": {\"Pro...|2020-09-28 16:13:...|                         234|\n",
       "|37405279|  renfe|   MADRID|   ZARAGOZA|2020-10-05 18:30:00|2020-10-05 19:45:00|    1.25|         AVE|      Turista| 55.7|Flexible|   37|{\"Turista\": {\"Fle...|2020-09-28 16:13:...|                          37|\n",
       "|37405631|  renfe|   MADRID|   ZARAGOZA|2020-11-16 07:30:00|2020-11-16 08:51:00|    1.35|         AVE|      Turista| 55.7|Flexible|  264|{\"Turista\": {\"Fle...|2020-09-28 16:13:...|                         264|\n",
       "+--------+-------+---------+-----------+-------------------+-------------------+--------+------------+-------------+-----+--------+-----+--------------------+--------------------+----------------------------+\n",
       "only showing top 20 rows"
      ]
     },
     "execution_count": 16,
     "metadata": {},
     "output_type": "execute_result"
    }
   ],
   "source": [
    "sdf_filtered = sdf_filtered.withColumn('seats_first_class_first_fare', get_first_class_first_fare_seats(sf.col('meta')))\n",
    "\n",
    "sdf_filtered"
   ]
  },
  {
   "cell_type": "markdown",
   "metadata": {},
   "source": [
    "#### rename columns"
   ]
  },
  {
   "cell_type": "code",
   "execution_count": 17,
   "metadata": {},
   "outputs": [
    {
     "data": {
      "text/html": [
       "<table border='1'>\n",
       "<tr><th>id</th><th>company</th><th>origin</th><th>destination</th><th>departure</th><th>arrival</th><th>duration</th><th>vehicle_type</th><th>vehicle_class</th><th>price</th><th>fare</th><th>seats_cheapest_class_cheapest_fare</th><th>meta</th><th>insert_date</th><th>seats_first_class_first_fare</th></tr>\n",
       "<tr><td>37402874</td><td>renfe</td><td>MADRID</td><td>BARCELONA</td><td>2020-10-18 19:00:00</td><td>2020-10-18 21:30:00</td><td>2.5</td><td>AVE</td><td>Turista</td><td>128.5</td><td>Flexible</td><td>259</td><td>{\"Turista\": {\"Fle...</td><td>2020-09-28 16:10:...</td><td>259</td></tr>\n",
       "<tr><td>37403016</td><td>renfe</td><td>MADRID</td><td>BARCELONA</td><td>2020-11-02 07:30:00</td><td>2020-11-02 10:40:12</td><td>3.17</td><td>AVE</td><td>Turista</td><td>91.5</td><td>Promo +</td><td>258</td><td>{\"Turista\": {\"Pro...</td><td>2020-09-28 16:10:...</td><td>258</td></tr>\n",
       "<tr><td>37403170</td><td>renfe</td><td>MADRID</td><td>BARCELONA</td><td>2020-10-27 07:00:00</td><td>2020-10-27 09:30:00</td><td>2.5</td><td>AVE</td><td>Turista</td><td>86.1</td><td>Promo +</td><td>334</td><td>{\"Turista\": {\"Pro...</td><td>2020-09-28 16:10:...</td><td>334</td></tr>\n",
       "<tr><td>37403380</td><td>renfe</td><td>MADRID</td><td>BARCELONA</td><td>2020-11-22 14:30:00</td><td>2020-11-22 17:25:12</td><td>2.92</td><td>AVE</td><td>Turista</td><td>108.9</td><td>Flexible</td><td>246</td><td>{\"Turista\": {\"Fle...</td><td>2020-09-28 16:10:...</td><td>246</td></tr>\n",
       "<tr><td>37403501</td><td>renfe</td><td>MADRID</td><td>BARCELONA</td><td>2020-11-17 09:30:00</td><td>2020-11-17 12:34:12</td><td>3.07</td><td>AVE</td><td>Turista Plus</td><td>87.55</td><td>Promo +</td><td>50</td><td>{\"Turista\": {\"Fle...</td><td>2020-09-28 16:10:...</td><td>298</td></tr>\n",
       "<tr><td>37403561</td><td>renfe</td><td>BARCELONA</td><td>MADRID</td><td>2020-11-10 19:00:00</td><td>2020-11-10 22:00:00</td><td>3.0</td><td>AVE</td><td>Turista</td><td>108.9</td><td>Flexible</td><td>263</td><td>{\"Turista\": {\"Fle...</td><td>2020-09-28 16:11:...</td><td>263</td></tr>\n",
       "<tr><td>37404034</td><td>renfe</td><td>BARCELONA</td><td>MADRID</td><td>2020-11-26 06:05:00</td><td>2020-11-26 09:20:00</td><td>3.25</td><td>AVE</td><td>Turista</td><td>108.9</td><td>Flexible</td><td>263</td><td>{\"Turista\": {\"Fle...</td><td>2020-09-28 16:11:...</td><td>263</td></tr>\n",
       "<tr><td>37404067</td><td>renfe</td><td>BARCELONA</td><td>MADRID</td><td>2020-11-15 19:00:00</td><td>2020-11-15 22:00:00</td><td>3.0</td><td>AVE</td><td>Turista</td><td>108.9</td><td>Flexible</td><td>331</td><td>{\"Turista\": {\"Fle...</td><td>2020-09-28 16:11:...</td><td>331</td></tr>\n",
       "<tr><td>37404135</td><td>renfe</td><td>BARCELONA</td><td>MADRID</td><td>2020-10-06 17:00:00</td><td>2020-10-06 19:45:00</td><td>2.75</td><td>AVE</td><td>Turista</td><td>108.9</td><td>Flexible</td><td>295</td><td>{\"Turista\": {\"Fle...</td><td>2020-09-28 16:11:...</td><td>295</td></tr>\n",
       "<tr><td>37404388</td><td>renfe</td><td>MADRID</td><td>CÓRDOBA</td><td>2020-11-11 14:35:00</td><td>2020-11-11 16:17:00</td><td>1.7</td><td>AVE</td><td>Turista</td><td>27.25</td><td>Promo +</td><td>294</td><td>{\"Turista\": {\"Pro...</td><td>2020-09-28 16:12:...</td><td>294</td></tr>\n",
       "<tr><td>37404421</td><td>renfe</td><td>MADRID</td><td>CÓRDOBA</td><td>2020-11-15 18:05:00</td><td>2020-11-15 19:50:00</td><td>1.75</td><td>ALVIA</td><td>Turista</td><td>55.9</td><td>Flexible</td><td>148</td><td>{\"Turista\": {\"Fle...</td><td>2020-09-28 16:12:...</td><td>148</td></tr>\n",
       "<tr><td>37404430</td><td>renfe</td><td>MADRID</td><td>CÓRDOBA</td><td>2020-10-03 13:30:00</td><td>2020-10-03 15:15:00</td><td>1.75</td><td>ALVIA</td><td>Turista</td><td>46.95</td><td>Promo +</td><td>18</td><td>{\"Turista\": {\"Pro...</td><td>2020-09-28 16:12:...</td><td>18</td></tr>\n",
       "<tr><td>37404601</td><td>renfe</td><td>MADRID</td><td>CÓRDOBA</td><td>2020-10-01 17:00:00</td><td>2020-10-01 18:52:12</td><td>1.87</td><td>AVE</td><td>Turista</td><td>63.4</td><td>Flexible</td><td>195</td><td>{\"Turista\": {\"Fle...</td><td>2020-09-28 16:12:...</td><td>195</td></tr>\n",
       "<tr><td>37404713</td><td>renfe</td><td>MADRID</td><td>CÓRDOBA</td><td>2020-11-03 17:35:00</td><td>2020-11-03 19:23:00</td><td>1.8</td><td>AVE</td><td>Turista</td><td>27.25</td><td>Promo +</td><td>261</td><td>{\"Turista\": {\"Pro...</td><td>2020-09-28 16:12:...</td><td>261</td></tr>\n",
       "<tr><td>37404728</td><td>renfe</td><td>MADRID</td><td>CÓRDOBA</td><td>2020-10-07 16:35:00</td><td>2020-10-07 18:17:00</td><td>1.7</td><td>AVE</td><td>Turista</td><td>63.4</td><td>Flexible</td><td>240</td><td>{\"Turista\": {\"Fle...</td><td>2020-09-28 16:12:...</td><td>240</td></tr>\n",
       "<tr><td>37404890</td><td>renfe</td><td>SEVILLA</td><td>MADRID</td><td>2020-10-04 19:45:00</td><td>2020-10-04 22:16:48</td><td>2.53</td><td>AVE</td><td>Turista Plus</td><td>69.4</td><td>Promo +</td><td>108</td><td>{\"Turista\": {\"Fle...</td><td>2020-09-28 16:13:...</td><td>311</td></tr>\n",
       "<tr><td>37405075</td><td>renfe</td><td>VALENCIA</td><td>BARCELONA</td><td>2020-11-14 09:15:00</td><td>2020-11-14 11:55:12</td><td>2.67</td><td>EUROMED</td><td>Turista</td><td>33.65</td><td>Promo +</td><td>235</td><td>{\"Turista\": {\"Pro...</td><td>2020-09-28 16:13:...</td><td>235</td></tr>\n",
       "<tr><td>37405127</td><td>renfe</td><td>VALENCIA</td><td>BARCELONA</td><td>2020-11-13 09:15:00</td><td>2020-11-13 11:55:12</td><td>2.67</td><td>EUROMED</td><td>Turista</td><td>33.65</td><td>Promo +</td><td>234</td><td>{\"Turista\": {\"Pro...</td><td>2020-09-28 16:13:...</td><td>234</td></tr>\n",
       "<tr><td>37405279</td><td>renfe</td><td>MADRID</td><td>ZARAGOZA</td><td>2020-10-05 18:30:00</td><td>2020-10-05 19:45:00</td><td>1.25</td><td>AVE</td><td>Turista</td><td>55.7</td><td>Flexible</td><td>37</td><td>{\"Turista\": {\"Fle...</td><td>2020-09-28 16:13:...</td><td>37</td></tr>\n",
       "<tr><td>37405631</td><td>renfe</td><td>MADRID</td><td>ZARAGOZA</td><td>2020-11-16 07:30:00</td><td>2020-11-16 08:51:00</td><td>1.35</td><td>AVE</td><td>Turista</td><td>55.7</td><td>Flexible</td><td>264</td><td>{\"Turista\": {\"Fle...</td><td>2020-09-28 16:13:...</td><td>264</td></tr>\n",
       "</table>\n",
       "only showing top 20 rows\n"
      ],
      "text/plain": [
       "+--------+-------+---------+-----------+-------------------+-------------------+--------+------------+-------------+-----+--------+----------------------------------+--------------------+--------------------+----------------------------+\n",
       "|      id|company|   origin|destination|          departure|            arrival|duration|vehicle_type|vehicle_class|price|    fare|seats_cheapest_class_cheapest_fare|                meta|         insert_date|seats_first_class_first_fare|\n",
       "+--------+-------+---------+-----------+-------------------+-------------------+--------+------------+-------------+-----+--------+----------------------------------+--------------------+--------------------+----------------------------+\n",
       "|37402874|  renfe|   MADRID|  BARCELONA|2020-10-18 19:00:00|2020-10-18 21:30:00|     2.5|         AVE|      Turista|128.5|Flexible|                               259|{\"Turista\": {\"Fle...|2020-09-28 16:10:...|                         259|\n",
       "|37403016|  renfe|   MADRID|  BARCELONA|2020-11-02 07:30:00|2020-11-02 10:40:12|    3.17|         AVE|      Turista| 91.5| Promo +|                               258|{\"Turista\": {\"Pro...|2020-09-28 16:10:...|                         258|\n",
       "|37403170|  renfe|   MADRID|  BARCELONA|2020-10-27 07:00:00|2020-10-27 09:30:00|     2.5|         AVE|      Turista| 86.1| Promo +|                               334|{\"Turista\": {\"Pro...|2020-09-28 16:10:...|                         334|\n",
       "|37403380|  renfe|   MADRID|  BARCELONA|2020-11-22 14:30:00|2020-11-22 17:25:12|    2.92|         AVE|      Turista|108.9|Flexible|                               246|{\"Turista\": {\"Fle...|2020-09-28 16:10:...|                         246|\n",
       "|37403501|  renfe|   MADRID|  BARCELONA|2020-11-17 09:30:00|2020-11-17 12:34:12|    3.07|         AVE| Turista Plus|87.55| Promo +|                                50|{\"Turista\": {\"Fle...|2020-09-28 16:10:...|                         298|\n",
       "|37403561|  renfe|BARCELONA|     MADRID|2020-11-10 19:00:00|2020-11-10 22:00:00|     3.0|         AVE|      Turista|108.9|Flexible|                               263|{\"Turista\": {\"Fle...|2020-09-28 16:11:...|                         263|\n",
       "|37404034|  renfe|BARCELONA|     MADRID|2020-11-26 06:05:00|2020-11-26 09:20:00|    3.25|         AVE|      Turista|108.9|Flexible|                               263|{\"Turista\": {\"Fle...|2020-09-28 16:11:...|                         263|\n",
       "|37404067|  renfe|BARCELONA|     MADRID|2020-11-15 19:00:00|2020-11-15 22:00:00|     3.0|         AVE|      Turista|108.9|Flexible|                               331|{\"Turista\": {\"Fle...|2020-09-28 16:11:...|                         331|\n",
       "|37404135|  renfe|BARCELONA|     MADRID|2020-10-06 17:00:00|2020-10-06 19:45:00|    2.75|         AVE|      Turista|108.9|Flexible|                               295|{\"Turista\": {\"Fle...|2020-09-28 16:11:...|                         295|\n",
       "|37404388|  renfe|   MADRID|    CÓRDOBA|2020-11-11 14:35:00|2020-11-11 16:17:00|     1.7|         AVE|      Turista|27.25| Promo +|                               294|{\"Turista\": {\"Pro...|2020-09-28 16:12:...|                         294|\n",
       "|37404421|  renfe|   MADRID|    CÓRDOBA|2020-11-15 18:05:00|2020-11-15 19:50:00|    1.75|       ALVIA|      Turista| 55.9|Flexible|                               148|{\"Turista\": {\"Fle...|2020-09-28 16:12:...|                         148|\n",
       "|37404430|  renfe|   MADRID|    CÓRDOBA|2020-10-03 13:30:00|2020-10-03 15:15:00|    1.75|       ALVIA|      Turista|46.95| Promo +|                                18|{\"Turista\": {\"Pro...|2020-09-28 16:12:...|                          18|\n",
       "|37404601|  renfe|   MADRID|    CÓRDOBA|2020-10-01 17:00:00|2020-10-01 18:52:12|    1.87|         AVE|      Turista| 63.4|Flexible|                               195|{\"Turista\": {\"Fle...|2020-09-28 16:12:...|                         195|\n",
       "|37404713|  renfe|   MADRID|    CÓRDOBA|2020-11-03 17:35:00|2020-11-03 19:23:00|     1.8|         AVE|      Turista|27.25| Promo +|                               261|{\"Turista\": {\"Pro...|2020-09-28 16:12:...|                         261|\n",
       "|37404728|  renfe|   MADRID|    CÓRDOBA|2020-10-07 16:35:00|2020-10-07 18:17:00|     1.7|         AVE|      Turista| 63.4|Flexible|                               240|{\"Turista\": {\"Fle...|2020-09-28 16:12:...|                         240|\n",
       "|37404890|  renfe|  SEVILLA|     MADRID|2020-10-04 19:45:00|2020-10-04 22:16:48|    2.53|         AVE| Turista Plus| 69.4| Promo +|                               108|{\"Turista\": {\"Fle...|2020-09-28 16:13:...|                         311|\n",
       "|37405075|  renfe| VALENCIA|  BARCELONA|2020-11-14 09:15:00|2020-11-14 11:55:12|    2.67|     EUROMED|      Turista|33.65| Promo +|                               235|{\"Turista\": {\"Pro...|2020-09-28 16:13:...|                         235|\n",
       "|37405127|  renfe| VALENCIA|  BARCELONA|2020-11-13 09:15:00|2020-11-13 11:55:12|    2.67|     EUROMED|      Turista|33.65| Promo +|                               234|{\"Turista\": {\"Pro...|2020-09-28 16:13:...|                         234|\n",
       "|37405279|  renfe|   MADRID|   ZARAGOZA|2020-10-05 18:30:00|2020-10-05 19:45:00|    1.25|         AVE|      Turista| 55.7|Flexible|                                37|{\"Turista\": {\"Fle...|2020-09-28 16:13:...|                          37|\n",
       "|37405631|  renfe|   MADRID|   ZARAGOZA|2020-11-16 07:30:00|2020-11-16 08:51:00|    1.35|         AVE|      Turista| 55.7|Flexible|                               264|{\"Turista\": {\"Fle...|2020-09-28 16:13:...|                         264|\n",
       "+--------+-------+---------+-----------+-------------------+-------------------+--------+------------+-------------+-----+--------+----------------------------------+--------------------+--------------------+----------------------------+\n",
       "only showing top 20 rows"
      ]
     },
     "execution_count": 17,
     "metadata": {},
     "output_type": "execute_result"
    }
   ],
   "source": [
    "sdf_filtered = sdf_filtered.withColumnRenamed('seats', 'seats_cheapest_class_cheapest_fare')\n",
    "\n",
    "sdf_filtered"
   ]
  },
  {
   "cell_type": "markdown",
   "metadata": {},
   "source": [
    "#### create virtual sql tables and query them"
   ]
  },
  {
   "cell_type": "code",
   "execution_count": 18,
   "metadata": {},
   "outputs": [],
   "source": [
    "sdf_filtered.createTempView('renfe_big_data_class')"
   ]
  },
  {
   "cell_type": "code",
   "execution_count": 19,
   "metadata": {},
   "outputs": [],
   "source": [
    "SQL_QUERY = \"\"\"\n",
    "select\n",
    "origin,\n",
    "destination,\n",
    "avg(price) as mean_price, \n",
    "avg(seats_cheapest_class_cheapest_fare) as mean_seats\n",
    "from renfe_big_data_class\n",
    "group by origin, destination\n",
    "order by mean_price desc\n",
    "\"\"\""
   ]
  },
  {
   "cell_type": "code",
   "execution_count": 20,
   "metadata": {},
   "outputs": [
    {
     "data": {
      "text/html": [
       "<table border='1'>\n",
       "<tr><th>origin</th><th>destination</th><th>mean_price</th><th>mean_seats</th></tr>\n",
       "<tr><td>MADRID</td><td>BARCELONA</td><td>81.89261602034317</td><td>262.15956770502225</td></tr>\n",
       "<tr><td>BARCELONA</td><td>MADRID</td><td>81.57739938080479</td><td>268.4984520123839</td></tr>\n",
       "<tr><td>MÁLAGA</td><td>MADRID</td><td>56.82871759890891</td><td>240.4556616643929</td></tr>\n",
       "<tr><td>MADRID</td><td>MÁLAGA</td><td>56.49381250000039</td><td>242.92375</td></tr>\n",
       "<tr><td>MADRID</td><td>SEVILLA</td><td>53.02640109890138</td><td>223.46813186813188</td></tr>\n",
       "<tr><td>SEVILLA</td><td>MADRID</td><td>51.40903648802761</td><td>219.3568985176739</td></tr>\n",
       "<tr><td>MADRID</td><td>MALAGA</td><td>51.020959264126745</td><td>232.5203679369251</td></tr>\n",
       "<tr><td>MALAGA</td><td>MADRID</td><td>49.42875968992303</td><td>235.34883720930233</td></tr>\n",
       "<tr><td>CÓRDOBA</td><td>MADRID</td><td>48.94294510005174</td><td>219.66854797331965</td></tr>\n",
       "<tr><td>MADRID</td><td>CÓRDOBA</td><td>48.557590132827656</td><td>220.14753320683113</td></tr>\n",
       "<tr><td>CORDOBA</td><td>MADRID</td><td>45.82846938775479</td><td>225.4938775510204</td></tr>\n",
       "<tr><td>MADRID</td><td>CORDOBA</td><td>45.543652392947</td><td>226.64735516372795</td></tr>\n",
       "<tr><td>ZARAGOZA</td><td>MADRID</td><td>44.62390364422449</td><td>254.83817171093267</td></tr>\n",
       "<tr><td>MADRID</td><td>ZARAGOZA</td><td>44.26541476159339</td><td>240.33768778576095</td></tr>\n",
       "<tr><td>ZARAGOZA</td><td>BARCELONA</td><td>43.70668456032713</td><td>240.71651329243355</td></tr>\n",
       "<tr><td>BARCELONA</td><td>ZARAGOZA</td><td>42.99571802935023</td><td>246.98794549266248</td></tr>\n",
       "<tr><td>VALENCIA</td><td>MADRID</td><td>39.471798188873954</td><td>244.23415265200518</td></tr>\n",
       "<tr><td>MADRID</td><td>VALENCIA</td><td>37.06644462947496</td><td>241.97460449625314</td></tr>\n",
       "<tr><td>LEON</td><td>MADRID</td><td>35.8471962616824</td><td>180.55607476635515</td></tr>\n",
       "<tr><td>MADRID</td><td>LEON</td><td>35.610778985507366</td><td>198.06159420289856</td></tr>\n",
       "</table>\n",
       "only showing top 20 rows\n"
      ],
      "text/plain": [
       "+---------+-----------+------------------+------------------+\n",
       "|   origin|destination|        mean_price|        mean_seats|\n",
       "+---------+-----------+------------------+------------------+\n",
       "|   MADRID|  BARCELONA| 81.89261602034317|262.15956770502225|\n",
       "|BARCELONA|     MADRID| 81.57739938080479| 268.4984520123839|\n",
       "|   MÁLAGA|     MADRID| 56.82871759890891| 240.4556616643929|\n",
       "|   MADRID|     MÁLAGA| 56.49381250000039|         242.92375|\n",
       "|   MADRID|    SEVILLA| 53.02640109890138|223.46813186813188|\n",
       "|  SEVILLA|     MADRID| 51.40903648802761| 219.3568985176739|\n",
       "|   MADRID|     MALAGA|51.020959264126745| 232.5203679369251|\n",
       "|   MALAGA|     MADRID| 49.42875968992303|235.34883720930233|\n",
       "|  CÓRDOBA|     MADRID| 48.94294510005174|219.66854797331965|\n",
       "|   MADRID|    CÓRDOBA|48.557590132827656|220.14753320683113|\n",
       "|  CORDOBA|     MADRID| 45.82846938775479| 225.4938775510204|\n",
       "|   MADRID|    CORDOBA|   45.543652392947|226.64735516372795|\n",
       "| ZARAGOZA|     MADRID| 44.62390364422449|254.83817171093267|\n",
       "|   MADRID|   ZARAGOZA| 44.26541476159339|240.33768778576095|\n",
       "| ZARAGOZA|  BARCELONA| 43.70668456032713|240.71651329243355|\n",
       "|BARCELONA|   ZARAGOZA| 42.99571802935023|246.98794549266248|\n",
       "| VALENCIA|     MADRID|39.471798188873954|244.23415265200518|\n",
       "|   MADRID|   VALENCIA| 37.06644462947496|241.97460449625314|\n",
       "|     LEON|     MADRID|  35.8471962616824|180.55607476635515|\n",
       "|   MADRID|       LEON|35.610778985507366|198.06159420289856|\n",
       "+---------+-----------+------------------+------------------+\n",
       "only showing top 20 rows"
      ]
     },
     "execution_count": 20,
     "metadata": {},
     "output_type": "execute_result"
    }
   ],
   "source": [
    "routes_prices_sdf = spark.sql(SQL_QUERY)\n",
    "\n",
    "routes_prices_sdf"
   ]
  },
  {
   "cell_type": "markdown",
   "metadata": {},
   "source": [
    "#### transform Spark DataFrame into pandas DataFrame"
   ]
  },
  {
   "cell_type": "code",
   "execution_count": 21,
   "metadata": {},
   "outputs": [
    {
     "data": {
      "text/html": [
       "<div>\n",
       "<style scoped>\n",
       "    .dataframe tbody tr th:only-of-type {\n",
       "        vertical-align: middle;\n",
       "    }\n",
       "\n",
       "    .dataframe tbody tr th {\n",
       "        vertical-align: top;\n",
       "    }\n",
       "\n",
       "    .dataframe thead th {\n",
       "        text-align: right;\n",
       "    }\n",
       "</style>\n",
       "<table border=\"1\" class=\"dataframe\">\n",
       "  <thead>\n",
       "    <tr style=\"text-align: right;\">\n",
       "      <th></th>\n",
       "      <th>origin</th>\n",
       "      <th>destination</th>\n",
       "      <th>mean_price</th>\n",
       "      <th>mean_seats</th>\n",
       "    </tr>\n",
       "  </thead>\n",
       "  <tbody>\n",
       "    <tr>\n",
       "      <th>0</th>\n",
       "      <td>MADRID</td>\n",
       "      <td>BARCELONA</td>\n",
       "      <td>81.892616</td>\n",
       "      <td>262.159568</td>\n",
       "    </tr>\n",
       "    <tr>\n",
       "      <th>1</th>\n",
       "      <td>BARCELONA</td>\n",
       "      <td>MADRID</td>\n",
       "      <td>81.577399</td>\n",
       "      <td>268.498452</td>\n",
       "    </tr>\n",
       "    <tr>\n",
       "      <th>2</th>\n",
       "      <td>MÁLAGA</td>\n",
       "      <td>MADRID</td>\n",
       "      <td>56.828718</td>\n",
       "      <td>240.455662</td>\n",
       "    </tr>\n",
       "    <tr>\n",
       "      <th>3</th>\n",
       "      <td>MADRID</td>\n",
       "      <td>MÁLAGA</td>\n",
       "      <td>56.493813</td>\n",
       "      <td>242.923750</td>\n",
       "    </tr>\n",
       "    <tr>\n",
       "      <th>4</th>\n",
       "      <td>MADRID</td>\n",
       "      <td>SEVILLA</td>\n",
       "      <td>53.026401</td>\n",
       "      <td>223.468132</td>\n",
       "    </tr>\n",
       "    <tr>\n",
       "      <th>5</th>\n",
       "      <td>SEVILLA</td>\n",
       "      <td>MADRID</td>\n",
       "      <td>51.409036</td>\n",
       "      <td>219.356899</td>\n",
       "    </tr>\n",
       "    <tr>\n",
       "      <th>6</th>\n",
       "      <td>MADRID</td>\n",
       "      <td>MALAGA</td>\n",
       "      <td>51.020959</td>\n",
       "      <td>232.520368</td>\n",
       "    </tr>\n",
       "    <tr>\n",
       "      <th>7</th>\n",
       "      <td>MALAGA</td>\n",
       "      <td>MADRID</td>\n",
       "      <td>49.428760</td>\n",
       "      <td>235.348837</td>\n",
       "    </tr>\n",
       "    <tr>\n",
       "      <th>8</th>\n",
       "      <td>CÓRDOBA</td>\n",
       "      <td>MADRID</td>\n",
       "      <td>48.942945</td>\n",
       "      <td>219.668548</td>\n",
       "    </tr>\n",
       "    <tr>\n",
       "      <th>9</th>\n",
       "      <td>MADRID</td>\n",
       "      <td>CÓRDOBA</td>\n",
       "      <td>48.557590</td>\n",
       "      <td>220.147533</td>\n",
       "    </tr>\n",
       "    <tr>\n",
       "      <th>10</th>\n",
       "      <td>CORDOBA</td>\n",
       "      <td>MADRID</td>\n",
       "      <td>45.828469</td>\n",
       "      <td>225.493878</td>\n",
       "    </tr>\n",
       "    <tr>\n",
       "      <th>11</th>\n",
       "      <td>MADRID</td>\n",
       "      <td>CORDOBA</td>\n",
       "      <td>45.543652</td>\n",
       "      <td>226.647355</td>\n",
       "    </tr>\n",
       "    <tr>\n",
       "      <th>12</th>\n",
       "      <td>ZARAGOZA</td>\n",
       "      <td>MADRID</td>\n",
       "      <td>44.623904</td>\n",
       "      <td>254.838172</td>\n",
       "    </tr>\n",
       "    <tr>\n",
       "      <th>13</th>\n",
       "      <td>MADRID</td>\n",
       "      <td>ZARAGOZA</td>\n",
       "      <td>44.265415</td>\n",
       "      <td>240.337688</td>\n",
       "    </tr>\n",
       "    <tr>\n",
       "      <th>14</th>\n",
       "      <td>ZARAGOZA</td>\n",
       "      <td>BARCELONA</td>\n",
       "      <td>43.706685</td>\n",
       "      <td>240.716513</td>\n",
       "    </tr>\n",
       "    <tr>\n",
       "      <th>15</th>\n",
       "      <td>BARCELONA</td>\n",
       "      <td>ZARAGOZA</td>\n",
       "      <td>42.995718</td>\n",
       "      <td>246.987945</td>\n",
       "    </tr>\n",
       "    <tr>\n",
       "      <th>16</th>\n",
       "      <td>VALENCIA</td>\n",
       "      <td>MADRID</td>\n",
       "      <td>39.471798</td>\n",
       "      <td>244.234153</td>\n",
       "    </tr>\n",
       "    <tr>\n",
       "      <th>17</th>\n",
       "      <td>MADRID</td>\n",
       "      <td>VALENCIA</td>\n",
       "      <td>37.066445</td>\n",
       "      <td>241.974604</td>\n",
       "    </tr>\n",
       "    <tr>\n",
       "      <th>18</th>\n",
       "      <td>LEON</td>\n",
       "      <td>MADRID</td>\n",
       "      <td>35.847196</td>\n",
       "      <td>180.556075</td>\n",
       "    </tr>\n",
       "    <tr>\n",
       "      <th>19</th>\n",
       "      <td>MADRID</td>\n",
       "      <td>LEON</td>\n",
       "      <td>35.610779</td>\n",
       "      <td>198.061594</td>\n",
       "    </tr>\n",
       "    <tr>\n",
       "      <th>20</th>\n",
       "      <td>LEÓN</td>\n",
       "      <td>MADRID</td>\n",
       "      <td>34.359615</td>\n",
       "      <td>194.775000</td>\n",
       "    </tr>\n",
       "    <tr>\n",
       "      <th>21</th>\n",
       "      <td>MADRID</td>\n",
       "      <td>VALLADOLID</td>\n",
       "      <td>32.486967</td>\n",
       "      <td>186.810178</td>\n",
       "    </tr>\n",
       "    <tr>\n",
       "      <th>22</th>\n",
       "      <td>MADRID</td>\n",
       "      <td>LEÓN</td>\n",
       "      <td>32.447048</td>\n",
       "      <td>210.472325</td>\n",
       "    </tr>\n",
       "    <tr>\n",
       "      <th>23</th>\n",
       "      <td>VALLADOLID</td>\n",
       "      <td>MADRID</td>\n",
       "      <td>32.214733</td>\n",
       "      <td>197.818972</td>\n",
       "    </tr>\n",
       "    <tr>\n",
       "      <th>24</th>\n",
       "      <td>VALENCIA</td>\n",
       "      <td>BARCELONA</td>\n",
       "      <td>28.911594</td>\n",
       "      <td>210.628465</td>\n",
       "    </tr>\n",
       "    <tr>\n",
       "      <th>25</th>\n",
       "      <td>BARCELONA</td>\n",
       "      <td>VALENCIA</td>\n",
       "      <td>28.215749</td>\n",
       "      <td>209.316578</td>\n",
       "    </tr>\n",
       "  </tbody>\n",
       "</table>\n",
       "</div>"
      ],
      "text/plain": [
       "        origin destination  mean_price  mean_seats\n",
       "0       MADRID   BARCELONA   81.892616  262.159568\n",
       "1    BARCELONA      MADRID   81.577399  268.498452\n",
       "2       MÁLAGA      MADRID   56.828718  240.455662\n",
       "3       MADRID      MÁLAGA   56.493813  242.923750\n",
       "4       MADRID     SEVILLA   53.026401  223.468132\n",
       "5      SEVILLA      MADRID   51.409036  219.356899\n",
       "6       MADRID      MALAGA   51.020959  232.520368\n",
       "7       MALAGA      MADRID   49.428760  235.348837\n",
       "8      CÓRDOBA      MADRID   48.942945  219.668548\n",
       "9       MADRID     CÓRDOBA   48.557590  220.147533\n",
       "10     CORDOBA      MADRID   45.828469  225.493878\n",
       "11      MADRID     CORDOBA   45.543652  226.647355\n",
       "12    ZARAGOZA      MADRID   44.623904  254.838172\n",
       "13      MADRID    ZARAGOZA   44.265415  240.337688\n",
       "14    ZARAGOZA   BARCELONA   43.706685  240.716513\n",
       "15   BARCELONA    ZARAGOZA   42.995718  246.987945\n",
       "16    VALENCIA      MADRID   39.471798  244.234153\n",
       "17      MADRID    VALENCIA   37.066445  241.974604\n",
       "18        LEON      MADRID   35.847196  180.556075\n",
       "19      MADRID        LEON   35.610779  198.061594\n",
       "20        LEÓN      MADRID   34.359615  194.775000\n",
       "21      MADRID  VALLADOLID   32.486967  186.810178\n",
       "22      MADRID        LEÓN   32.447048  210.472325\n",
       "23  VALLADOLID      MADRID   32.214733  197.818972\n",
       "24    VALENCIA   BARCELONA   28.911594  210.628465\n",
       "25   BARCELONA    VALENCIA   28.215749  209.316578"
      ]
     },
     "execution_count": 21,
     "metadata": {},
     "output_type": "execute_result"
    }
   ],
   "source": [
    "routes_prices_df = routes_prices_sdf.toPandas()\n",
    "\n",
    "routes_prices_df"
   ]
  },
  {
   "cell_type": "markdown",
   "metadata": {},
   "source": [
    "### 5.2 Supermarket products"
   ]
  },
  {
   "cell_type": "code",
   "execution_count": 22,
   "metadata": {},
   "outputs": [
    {
     "data": {
      "text/html": [
       "<table border='1'>\n",
       "<tr><th>id</th><th>supermarket</th><th>category</th><th>name</th><th>description</th><th>price</th><th>reference_price</th><th>reference_unit</th><th>insert_date</th></tr>\n",
       "<tr><td>120682</td><td>carrefour-es</td><td>el_mercado_pescad...</td><td>Bonito en rodaja ...</td><td>null</td><td>4.25</td><td>8.5</td><td>kg</td><td>2020-07-21 17:30:00</td></tr>\n",
       "<tr><td>120904</td><td>carrefour-es</td><td>el_mercado_carnic...</td><td>Estofado de añojo...</td><td>Envase De  500.0 ...</td><td>5.95</td><td>11.9</td><td>kg</td><td>2020-07-21 17:30:00</td></tr>\n",
       "<tr><td>120912</td><td>carrefour-es</td><td>el_mercado_carnic...</td><td>Jamoncito de poll...</td><td>null</td><td>3.49</td><td>10.9</td><td>kg</td><td>2020-07-21 17:30:00</td></tr>\n",
       "<tr><td>120923</td><td>carrefour-es</td><td>el_mercado_carnic...</td><td>Contramuslo de po...</td><td>Bandeja De 1000.0...</td><td>2.59</td><td>2.59</td><td>kg</td><td>2020-07-21 17:30:00</td></tr>\n",
       "<tr><td>120924</td><td>carrefour-es</td><td>el_mercado_carnic...</td><td>Chuleta de pavo m...</td><td>Bandeja De 600.0 ...</td><td>3.48</td><td>5.8</td><td>kg</td><td>2020-07-21 17:30:00</td></tr>\n",
       "<tr><td>120929</td><td>carrefour-es</td><td>el_mercado_carnic...</td><td>Pollo campero lim...</td><td>Bandeja De 1400.0...</td><td>7.7</td><td>5.5</td><td>kg</td><td>2020-07-21 17:30:00</td></tr>\n",
       "<tr><td>120937</td><td>carrefour-es</td><td>el_mercado_carnic...</td><td>Traseros de pollo...</td><td>Bandeja De 880.0 ...</td><td>3.74</td><td>4.25</td><td>kg</td><td>2020-07-21 17:30:00</td></tr>\n",
       "<tr><td>120949</td><td>carrefour-es</td><td>el_mercado_carnic...</td><td>Chuletón de vacun...</td><td>650 G Aprox 650.0...</td><td>9.07</td><td>13.95</td><td>kg</td><td>2020-07-21 17:30:00</td></tr>\n",
       "<tr><td>120959</td><td>carrefour-es</td><td>el_mercado_carnic...</td><td>Entrecot de terne...</td><td>null</td><td>10.75</td><td>21.5</td><td>kg</td><td>2020-07-21 17:30:00</td></tr>\n",
       "<tr><td>120973</td><td>carrefour-es</td><td>el_mercado_carnic...</td><td>Jamón de cerdo tr...</td><td>Bandeja De  500.0...</td><td>2.65</td><td>5.3</td><td>kg</td><td>2020-07-21 17:30:00</td></tr>\n",
       "<tr><td>120983</td><td>carrefour-es</td><td>el_mercado_carnic...</td><td>Secreto de cerdo ...</td><td>null</td><td>3.45</td><td>6.9</td><td>kg</td><td>2020-07-21 17:30:00</td></tr>\n",
       "<tr><td>120985</td><td>carrefour-es</td><td>el_mercado_carnic...</td><td>Filetes finos de ...</td><td>null</td><td>3.56</td><td>6.59</td><td>kg</td><td>2020-07-21 17:30:00</td></tr>\n",
       "<tr><td>120989</td><td>carrefour-es</td><td>el_mercado_carnic...</td><td>Paletilla de cord...</td><td>null</td><td>6.07</td><td>13.5</td><td>kg</td><td>2020-07-21 17:30:00</td></tr>\n",
       "<tr><td>120990</td><td>carrefour-es</td><td>el_mercado_carnic...</td><td>Cuello de cordero...</td><td>Envase De 400.0 G...</td><td>2.76</td><td>6.9</td><td>kg</td><td>2020-07-21 17:30:00</td></tr>\n",
       "<tr><td>121003</td><td>carrefour-es</td><td>el_mercado_carnic...</td><td>Solomillo de cerd...</td><td>Bandeja De 500.0 ...</td><td>4.8</td><td>9.6</td><td>kg</td><td>2020-07-21 17:30:00</td></tr>\n",
       "<tr><td>121005</td><td>carrefour-es</td><td>el_mercado_carnic...</td><td>Pincho de jamón d...</td><td>null</td><td>4.68</td><td>5.85</td><td>kg</td><td>2020-07-21 17:30:00</td></tr>\n",
       "<tr><td>121009</td><td>carrefour-es</td><td>el_mercado_carnic...</td><td>Pincho de jamón d...</td><td>null</td><td>4.68</td><td>5.85</td><td>kg</td><td>2020-07-21 17:30:00</td></tr>\n",
       "<tr><td>121026</td><td>carrefour-es</td><td>el_mercado_carnic...</td><td>Hamburguesa mixta...</td><td>Bandeja De 6x90 G.</td><td>3.35</td><td>3.35</td><td>ud</td><td>2020-07-21 17:30:00</td></tr>\n",
       "<tr><td>121031</td><td>carrefour-es</td><td>el_mercado_carnic...</td><td>Hamburguesas de p...</td><td>Envase De</td><td>2.9</td><td>11.6</td><td>kg</td><td>2020-07-21 17:30:00</td></tr>\n",
       "<tr><td>121033</td><td>carrefour-es</td><td>el_mercado_carnic...</td><td>Hamburguesa de pa...</td><td>Envase De</td><td>3.5</td><td>6.48</td><td>kg</td><td>2020-07-21 17:30:00</td></tr>\n",
       "</table>\n",
       "only showing top 20 rows\n"
      ],
      "text/plain": [
       "+------+------------+--------------------+--------------------+--------------------+-----+---------------+--------------+-------------------+\n",
       "|    id| supermarket|            category|                name|         description|price|reference_price|reference_unit|        insert_date|\n",
       "+------+------------+--------------------+--------------------+--------------------+-----+---------------+--------------+-------------------+\n",
       "|120682|carrefour-es|el_mercado_pescad...|Bonito en rodaja ...|                null| 4.25|            8.5|            kg|2020-07-21 17:30:00|\n",
       "|120904|carrefour-es|el_mercado_carnic...|Estofado de añojo...|Envase De  500.0 ...| 5.95|           11.9|            kg|2020-07-21 17:30:00|\n",
       "|120912|carrefour-es|el_mercado_carnic...|Jamoncito de poll...|                null| 3.49|           10.9|            kg|2020-07-21 17:30:00|\n",
       "|120923|carrefour-es|el_mercado_carnic...|Contramuslo de po...|Bandeja De 1000.0...| 2.59|           2.59|            kg|2020-07-21 17:30:00|\n",
       "|120924|carrefour-es|el_mercado_carnic...|Chuleta de pavo m...|Bandeja De 600.0 ...| 3.48|            5.8|            kg|2020-07-21 17:30:00|\n",
       "|120929|carrefour-es|el_mercado_carnic...|Pollo campero lim...|Bandeja De 1400.0...|  7.7|            5.5|            kg|2020-07-21 17:30:00|\n",
       "|120937|carrefour-es|el_mercado_carnic...|Traseros de pollo...|Bandeja De 880.0 ...| 3.74|           4.25|            kg|2020-07-21 17:30:00|\n",
       "|120949|carrefour-es|el_mercado_carnic...|Chuletón de vacun...|650 G Aprox 650.0...| 9.07|          13.95|            kg|2020-07-21 17:30:00|\n",
       "|120959|carrefour-es|el_mercado_carnic...|Entrecot de terne...|                null|10.75|           21.5|            kg|2020-07-21 17:30:00|\n",
       "|120973|carrefour-es|el_mercado_carnic...|Jamón de cerdo tr...|Bandeja De  500.0...| 2.65|            5.3|            kg|2020-07-21 17:30:00|\n",
       "|120983|carrefour-es|el_mercado_carnic...|Secreto de cerdo ...|                null| 3.45|            6.9|            kg|2020-07-21 17:30:00|\n",
       "|120985|carrefour-es|el_mercado_carnic...|Filetes finos de ...|                null| 3.56|           6.59|            kg|2020-07-21 17:30:00|\n",
       "|120989|carrefour-es|el_mercado_carnic...|Paletilla de cord...|                null| 6.07|           13.5|            kg|2020-07-21 17:30:00|\n",
       "|120990|carrefour-es|el_mercado_carnic...|Cuello de cordero...|Envase De 400.0 G...| 2.76|            6.9|            kg|2020-07-21 17:30:00|\n",
       "|121003|carrefour-es|el_mercado_carnic...|Solomillo de cerd...|Bandeja De 500.0 ...|  4.8|            9.6|            kg|2020-07-21 17:30:00|\n",
       "|121005|carrefour-es|el_mercado_carnic...|Pincho de jamón d...|                null| 4.68|           5.85|            kg|2020-07-21 17:30:00|\n",
       "|121009|carrefour-es|el_mercado_carnic...|Pincho de jamón d...|                null| 4.68|           5.85|            kg|2020-07-21 17:30:00|\n",
       "|121026|carrefour-es|el_mercado_carnic...|Hamburguesa mixta...|  Bandeja De 6x90 G.| 3.35|           3.35|            ud|2020-07-21 17:30:00|\n",
       "|121031|carrefour-es|el_mercado_carnic...|Hamburguesas de p...|           Envase De|  2.9|           11.6|            kg|2020-07-21 17:30:00|\n",
       "|121033|carrefour-es|el_mercado_carnic...|Hamburguesa de pa...|           Envase De|  3.5|           6.48|            kg|2020-07-21 17:30:00|\n",
       "+------+------------+--------------------+--------------------+--------------------+-----+---------------+--------------+-------------------+\n",
       "only showing top 20 rows"
      ]
     },
     "execution_count": 22,
     "metadata": {},
     "output_type": "execute_result"
    }
   ],
   "source": [
    "DATA_PATH = '/home/ubuntu/Desktop/supermarkets.csv'\n",
    "\n",
    "sdf = spark.read.csv(DATA_PATH, \n",
    "                     header=True, \n",
    "                     inferSchema=True)\n",
    "\n",
    "sdf"
   ]
  },
  {
   "cell_type": "markdown",
   "metadata": {},
   "source": [
    "#### write partitioned"
   ]
  },
  {
   "cell_type": "code",
   "execution_count": 23,
   "metadata": {},
   "outputs": [
    {
     "data": {
      "text/html": [
       "<table border='1'>\n",
       "<tr><th>id</th><th>supermarket</th><th>category</th><th>name</th><th>description</th><th>price</th><th>reference_price</th><th>reference_unit</th><th>insert_date</th><th>year</th><th>month</th><th>day</th></tr>\n",
       "<tr><td>120682</td><td>carrefour-es</td><td>el_mercado_pescad...</td><td>Bonito en rodaja ...</td><td>null</td><td>4.25</td><td>8.5</td><td>kg</td><td>2020-07-21 17:30:00</td><td>2020</td><td>7</td><td>21</td></tr>\n",
       "<tr><td>120904</td><td>carrefour-es</td><td>el_mercado_carnic...</td><td>Estofado de añojo...</td><td>Envase De  500.0 ...</td><td>5.95</td><td>11.9</td><td>kg</td><td>2020-07-21 17:30:00</td><td>2020</td><td>7</td><td>21</td></tr>\n",
       "<tr><td>120912</td><td>carrefour-es</td><td>el_mercado_carnic...</td><td>Jamoncito de poll...</td><td>null</td><td>3.49</td><td>10.9</td><td>kg</td><td>2020-07-21 17:30:00</td><td>2020</td><td>7</td><td>21</td></tr>\n",
       "<tr><td>120923</td><td>carrefour-es</td><td>el_mercado_carnic...</td><td>Contramuslo de po...</td><td>Bandeja De 1000.0...</td><td>2.59</td><td>2.59</td><td>kg</td><td>2020-07-21 17:30:00</td><td>2020</td><td>7</td><td>21</td></tr>\n",
       "<tr><td>120924</td><td>carrefour-es</td><td>el_mercado_carnic...</td><td>Chuleta de pavo m...</td><td>Bandeja De 600.0 ...</td><td>3.48</td><td>5.8</td><td>kg</td><td>2020-07-21 17:30:00</td><td>2020</td><td>7</td><td>21</td></tr>\n",
       "<tr><td>120929</td><td>carrefour-es</td><td>el_mercado_carnic...</td><td>Pollo campero lim...</td><td>Bandeja De 1400.0...</td><td>7.7</td><td>5.5</td><td>kg</td><td>2020-07-21 17:30:00</td><td>2020</td><td>7</td><td>21</td></tr>\n",
       "<tr><td>120937</td><td>carrefour-es</td><td>el_mercado_carnic...</td><td>Traseros de pollo...</td><td>Bandeja De 880.0 ...</td><td>3.74</td><td>4.25</td><td>kg</td><td>2020-07-21 17:30:00</td><td>2020</td><td>7</td><td>21</td></tr>\n",
       "<tr><td>120949</td><td>carrefour-es</td><td>el_mercado_carnic...</td><td>Chuletón de vacun...</td><td>650 G Aprox 650.0...</td><td>9.07</td><td>13.95</td><td>kg</td><td>2020-07-21 17:30:00</td><td>2020</td><td>7</td><td>21</td></tr>\n",
       "<tr><td>120959</td><td>carrefour-es</td><td>el_mercado_carnic...</td><td>Entrecot de terne...</td><td>null</td><td>10.75</td><td>21.5</td><td>kg</td><td>2020-07-21 17:30:00</td><td>2020</td><td>7</td><td>21</td></tr>\n",
       "<tr><td>120973</td><td>carrefour-es</td><td>el_mercado_carnic...</td><td>Jamón de cerdo tr...</td><td>Bandeja De  500.0...</td><td>2.65</td><td>5.3</td><td>kg</td><td>2020-07-21 17:30:00</td><td>2020</td><td>7</td><td>21</td></tr>\n",
       "<tr><td>120983</td><td>carrefour-es</td><td>el_mercado_carnic...</td><td>Secreto de cerdo ...</td><td>null</td><td>3.45</td><td>6.9</td><td>kg</td><td>2020-07-21 17:30:00</td><td>2020</td><td>7</td><td>21</td></tr>\n",
       "<tr><td>120985</td><td>carrefour-es</td><td>el_mercado_carnic...</td><td>Filetes finos de ...</td><td>null</td><td>3.56</td><td>6.59</td><td>kg</td><td>2020-07-21 17:30:00</td><td>2020</td><td>7</td><td>21</td></tr>\n",
       "<tr><td>120989</td><td>carrefour-es</td><td>el_mercado_carnic...</td><td>Paletilla de cord...</td><td>null</td><td>6.07</td><td>13.5</td><td>kg</td><td>2020-07-21 17:30:00</td><td>2020</td><td>7</td><td>21</td></tr>\n",
       "<tr><td>120990</td><td>carrefour-es</td><td>el_mercado_carnic...</td><td>Cuello de cordero...</td><td>Envase De 400.0 G...</td><td>2.76</td><td>6.9</td><td>kg</td><td>2020-07-21 17:30:00</td><td>2020</td><td>7</td><td>21</td></tr>\n",
       "<tr><td>121003</td><td>carrefour-es</td><td>el_mercado_carnic...</td><td>Solomillo de cerd...</td><td>Bandeja De 500.0 ...</td><td>4.8</td><td>9.6</td><td>kg</td><td>2020-07-21 17:30:00</td><td>2020</td><td>7</td><td>21</td></tr>\n",
       "<tr><td>121005</td><td>carrefour-es</td><td>el_mercado_carnic...</td><td>Pincho de jamón d...</td><td>null</td><td>4.68</td><td>5.85</td><td>kg</td><td>2020-07-21 17:30:00</td><td>2020</td><td>7</td><td>21</td></tr>\n",
       "<tr><td>121009</td><td>carrefour-es</td><td>el_mercado_carnic...</td><td>Pincho de jamón d...</td><td>null</td><td>4.68</td><td>5.85</td><td>kg</td><td>2020-07-21 17:30:00</td><td>2020</td><td>7</td><td>21</td></tr>\n",
       "<tr><td>121026</td><td>carrefour-es</td><td>el_mercado_carnic...</td><td>Hamburguesa mixta...</td><td>Bandeja De 6x90 G.</td><td>3.35</td><td>3.35</td><td>ud</td><td>2020-07-21 17:30:00</td><td>2020</td><td>7</td><td>21</td></tr>\n",
       "<tr><td>121031</td><td>carrefour-es</td><td>el_mercado_carnic...</td><td>Hamburguesas de p...</td><td>Envase De</td><td>2.9</td><td>11.6</td><td>kg</td><td>2020-07-21 17:30:00</td><td>2020</td><td>7</td><td>21</td></tr>\n",
       "<tr><td>121033</td><td>carrefour-es</td><td>el_mercado_carnic...</td><td>Hamburguesa de pa...</td><td>Envase De</td><td>3.5</td><td>6.48</td><td>kg</td><td>2020-07-21 17:30:00</td><td>2020</td><td>7</td><td>21</td></tr>\n",
       "</table>\n",
       "only showing top 20 rows\n"
      ],
      "text/plain": [
       "+------+------------+--------------------+--------------------+--------------------+-----+---------------+--------------+-------------------+----+-----+---+\n",
       "|    id| supermarket|            category|                name|         description|price|reference_price|reference_unit|        insert_date|year|month|day|\n",
       "+------+------------+--------------------+--------------------+--------------------+-----+---------------+--------------+-------------------+----+-----+---+\n",
       "|120682|carrefour-es|el_mercado_pescad...|Bonito en rodaja ...|                null| 4.25|            8.5|            kg|2020-07-21 17:30:00|2020|    7| 21|\n",
       "|120904|carrefour-es|el_mercado_carnic...|Estofado de añojo...|Envase De  500.0 ...| 5.95|           11.9|            kg|2020-07-21 17:30:00|2020|    7| 21|\n",
       "|120912|carrefour-es|el_mercado_carnic...|Jamoncito de poll...|                null| 3.49|           10.9|            kg|2020-07-21 17:30:00|2020|    7| 21|\n",
       "|120923|carrefour-es|el_mercado_carnic...|Contramuslo de po...|Bandeja De 1000.0...| 2.59|           2.59|            kg|2020-07-21 17:30:00|2020|    7| 21|\n",
       "|120924|carrefour-es|el_mercado_carnic...|Chuleta de pavo m...|Bandeja De 600.0 ...| 3.48|            5.8|            kg|2020-07-21 17:30:00|2020|    7| 21|\n",
       "|120929|carrefour-es|el_mercado_carnic...|Pollo campero lim...|Bandeja De 1400.0...|  7.7|            5.5|            kg|2020-07-21 17:30:00|2020|    7| 21|\n",
       "|120937|carrefour-es|el_mercado_carnic...|Traseros de pollo...|Bandeja De 880.0 ...| 3.74|           4.25|            kg|2020-07-21 17:30:00|2020|    7| 21|\n",
       "|120949|carrefour-es|el_mercado_carnic...|Chuletón de vacun...|650 G Aprox 650.0...| 9.07|          13.95|            kg|2020-07-21 17:30:00|2020|    7| 21|\n",
       "|120959|carrefour-es|el_mercado_carnic...|Entrecot de terne...|                null|10.75|           21.5|            kg|2020-07-21 17:30:00|2020|    7| 21|\n",
       "|120973|carrefour-es|el_mercado_carnic...|Jamón de cerdo tr...|Bandeja De  500.0...| 2.65|            5.3|            kg|2020-07-21 17:30:00|2020|    7| 21|\n",
       "|120983|carrefour-es|el_mercado_carnic...|Secreto de cerdo ...|                null| 3.45|            6.9|            kg|2020-07-21 17:30:00|2020|    7| 21|\n",
       "|120985|carrefour-es|el_mercado_carnic...|Filetes finos de ...|                null| 3.56|           6.59|            kg|2020-07-21 17:30:00|2020|    7| 21|\n",
       "|120989|carrefour-es|el_mercado_carnic...|Paletilla de cord...|                null| 6.07|           13.5|            kg|2020-07-21 17:30:00|2020|    7| 21|\n",
       "|120990|carrefour-es|el_mercado_carnic...|Cuello de cordero...|Envase De 400.0 G...| 2.76|            6.9|            kg|2020-07-21 17:30:00|2020|    7| 21|\n",
       "|121003|carrefour-es|el_mercado_carnic...|Solomillo de cerd...|Bandeja De 500.0 ...|  4.8|            9.6|            kg|2020-07-21 17:30:00|2020|    7| 21|\n",
       "|121005|carrefour-es|el_mercado_carnic...|Pincho de jamón d...|                null| 4.68|           5.85|            kg|2020-07-21 17:30:00|2020|    7| 21|\n",
       "|121009|carrefour-es|el_mercado_carnic...|Pincho de jamón d...|                null| 4.68|           5.85|            kg|2020-07-21 17:30:00|2020|    7| 21|\n",
       "|121026|carrefour-es|el_mercado_carnic...|Hamburguesa mixta...|  Bandeja De 6x90 G.| 3.35|           3.35|            ud|2020-07-21 17:30:00|2020|    7| 21|\n",
       "|121031|carrefour-es|el_mercado_carnic...|Hamburguesas de p...|           Envase De|  2.9|           11.6|            kg|2020-07-21 17:30:00|2020|    7| 21|\n",
       "|121033|carrefour-es|el_mercado_carnic...|Hamburguesa de pa...|           Envase De|  3.5|           6.48|            kg|2020-07-21 17:30:00|2020|    7| 21|\n",
       "+------+------------+--------------------+--------------------+--------------------+-----+---------------+--------------+-------------------+----+-----+---+\n",
       "only showing top 20 rows"
      ]
     },
     "execution_count": 23,
     "metadata": {},
     "output_type": "execute_result"
    }
   ],
   "source": [
    "date_col = 'insert_date'\n",
    "\n",
    "sdf = sdf.withColumn('year', sf.year(date_col))\n",
    "sdf = sdf.withColumn('month', sf.month(date_col))\n",
    "sdf = sdf.withColumn('day', sf.dayofmonth(date_col))\n",
    "\n",
    "sdf"
   ]
  },
  {
   "cell_type": "code",
   "execution_count": 24,
   "metadata": {},
   "outputs": [],
   "source": [
    "OUTPUT_PATH = '/home/ubuntu/Desktop/supermarkets_partitioned'\n",
    "\n",
    "sdf.write.partitionBy('year', 'month', 'day').mode('overwrite').parquet(OUTPUT_PATH)"
   ]
  },
  {
   "cell_type": "markdown",
   "metadata": {},
   "source": [
    "#### eda"
   ]
  },
  {
   "cell_type": "code",
   "execution_count": 25,
   "metadata": {},
   "outputs": [
    {
     "data": {
      "text/html": [
       "<table border='1'>\n",
       "<tr><th>supermarket</th><th>count</th></tr>\n",
       "<tr><td>carrefour-es</td><td>29658</td></tr>\n",
       "<tr><td>dia-es</td><td>8934</td></tr>\n",
       "<tr><td>mercadona-es</td><td>6690</td></tr>\n",
       "</table>\n"
      ],
      "text/plain": [
       "+------------+-----+\n",
       "| supermarket|count|\n",
       "+------------+-----+\n",
       "|carrefour-es|29658|\n",
       "|      dia-es| 8934|\n",
       "|mercadona-es| 6690|\n",
       "+------------+-----+"
      ]
     },
     "execution_count": 25,
     "metadata": {},
     "output_type": "execute_result"
    }
   ],
   "source": [
    "sdf.select('supermarket', 'name').distinct().groupby('supermarket').count()"
   ]
  },
  {
   "cell_type": "code",
   "execution_count": 26,
   "metadata": {},
   "outputs": [
    {
     "data": {
      "text/html": [
       "<table border='1'>\n",
       "<tr><th>min(insert_date)</th></tr>\n",
       "<tr><td>2020-07-21 16:06:00</td></tr>\n",
       "</table>\n"
      ],
      "text/plain": [
       "+-------------------+\n",
       "|   min(insert_date)|\n",
       "+-------------------+\n",
       "|2020-07-21 16:06:00|\n",
       "+-------------------+"
      ]
     },
     "execution_count": 26,
     "metadata": {},
     "output_type": "execute_result"
    }
   ],
   "source": [
    "sdf.select(sf.min(date_col))"
   ]
  },
  {
   "cell_type": "code",
   "execution_count": 27,
   "metadata": {},
   "outputs": [
    {
     "data": {
      "text/html": [
       "<table border='1'>\n",
       "<tr><th>max(insert_date)</th></tr>\n",
       "<tr><td>2021-01-13 00:00:00</td></tr>\n",
       "</table>\n"
      ],
      "text/plain": [
       "+-------------------+\n",
       "|   max(insert_date)|\n",
       "+-------------------+\n",
       "|2021-01-13 00:00:00|\n",
       "+-------------------+"
      ]
     },
     "execution_count": 27,
     "metadata": {},
     "output_type": "execute_result"
    }
   ],
   "source": [
    "sdf.select(sf.max(date_col))"
   ]
  },
  {
   "cell_type": "code",
   "execution_count": 28,
   "metadata": {},
   "outputs": [
    {
     "data": {
      "text/plain": [
       "datetime.datetime(2021, 1, 13, 1, 0)"
      ]
     },
     "execution_count": 28,
     "metadata": {},
     "output_type": "execute_result"
    }
   ],
   "source": [
    "max_insert_date = sdf.select(sf.max(date_col).alias('max_insert_date')).collect()[0]['max_insert_date']\n",
    "\n",
    "max_insert_date"
   ]
  },
  {
   "cell_type": "code",
   "execution_count": 29,
   "metadata": {},
   "outputs": [
    {
     "data": {
      "text/html": [
       "<table border='1'>\n",
       "<tr><th>supermarket</th><th>category</th><th>min_price</th></tr>\n",
       "<tr><td>dia-es</td><td>especial_navidad_...</td><td>0.1</td></tr>\n",
       "<tr><td>mercadona-es</td><td>panaderia_y_paste...</td><td>0.1</td></tr>\n",
       "<tr><td>dia-es</td><td>especial_navidad_...</td><td>0.1</td></tr>\n",
       "<tr><td>dia-es</td><td>especial_navidad_...</td><td>0.13</td></tr>\n",
       "<tr><td>carrefour-es</td><td>bebidas_aguas_y_z...</td><td>0.15</td></tr>\n",
       "<tr><td>dia-es</td><td>especial_navidad_...</td><td>0.17</td></tr>\n",
       "<tr><td>mercadona-es</td><td>agua_y_refrescos_...</td><td>0.18</td></tr>\n",
       "<tr><td>dia-es</td><td>especial_navidad_...</td><td>0.19</td></tr>\n",
       "<tr><td>mercadona-es</td><td>panaderia_y_paste...</td><td>0.22</td></tr>\n",
       "<tr><td>carrefour-es</td><td>la_despensa_alime...</td><td>0.22</td></tr>\n",
       "<tr><td>mercadona-es</td><td>aceite_especias_y...</td><td>0.23</td></tr>\n",
       "<tr><td>carrefour-es</td><td>bebidas_refrescos...</td><td>0.23</td></tr>\n",
       "<tr><td>carrefour-es</td><td>bebidas_aguas_y_z...</td><td>0.24</td></tr>\n",
       "<tr><td>mercadona-es</td><td>agua_y_refrescos_...</td><td>0.25</td></tr>\n",
       "<tr><td>mercadona-es</td><td>fruta_y_verdura_f...</td><td>0.25</td></tr>\n",
       "<tr><td>carrefour-es</td><td>bebidas_cerveza_t...</td><td>0.25</td></tr>\n",
       "<tr><td>carrefour-es</td><td>bebidas_cerveza_r...</td><td>0.25</td></tr>\n",
       "<tr><td>dia-es</td><td>frescos_fruta_pla...</td><td>0.26</td></tr>\n",
       "<tr><td>mercadona-es</td><td>bodega_cerveza</td><td>0.27</td></tr>\n",
       "<tr><td>dia-es</td><td>bebidas_gaseosas_...</td><td>0.28</td></tr>\n",
       "</table>\n",
       "only showing top 20 rows\n"
      ],
      "text/plain": [
       "+------------+--------------------+---------+\n",
       "| supermarket|            category|min_price|\n",
       "+------------+--------------------+---------+\n",
       "|      dia-es|especial_navidad_...|      0.1|\n",
       "|mercadona-es|panaderia_y_paste...|      0.1|\n",
       "|      dia-es|especial_navidad_...|      0.1|\n",
       "|      dia-es|especial_navidad_...|     0.13|\n",
       "|carrefour-es|bebidas_aguas_y_z...|     0.15|\n",
       "|      dia-es|especial_navidad_...|     0.17|\n",
       "|mercadona-es|agua_y_refrescos_...|     0.18|\n",
       "|      dia-es|especial_navidad_...|     0.19|\n",
       "|carrefour-es|la_despensa_alime...|     0.22|\n",
       "|mercadona-es|panaderia_y_paste...|     0.22|\n",
       "|carrefour-es|bebidas_refrescos...|     0.23|\n",
       "|mercadona-es|aceite_especias_y...|     0.23|\n",
       "|carrefour-es|bebidas_aguas_y_z...|     0.24|\n",
       "|carrefour-es|bebidas_cerveza_r...|     0.25|\n",
       "|mercadona-es|agua_y_refrescos_...|     0.25|\n",
       "|carrefour-es|bebidas_cerveza_t...|     0.25|\n",
       "|mercadona-es|fruta_y_verdura_f...|     0.25|\n",
       "|      dia-es|frescos_fruta_pla...|     0.26|\n",
       "|mercadona-es|      bodega_cerveza|     0.27|\n",
       "|      dia-es|bebidas_gaseosas_...|     0.28|\n",
       "+------------+--------------------+---------+\n",
       "only showing top 20 rows"
      ]
     },
     "execution_count": 29,
     "metadata": {},
     "output_type": "execute_result"
    }
   ],
   "source": [
    "sdf.filter(sf.col(date_col) == max_insert_date) \\\n",
    "  .groupby('supermarket', 'category') \\\n",
    "  .agg(sf.min('price') \\\n",
    "  .alias('min_price')) \\\n",
    "  .sort('min_price')"
   ]
  },
  {
   "cell_type": "code",
   "execution_count": 30,
   "metadata": {},
   "outputs": [
    {
     "data": {
      "text/html": [
       "<table border='1'>\n",
       "<tr><th>id</th><th>supermarket</th><th>category</th><th>name</th><th>description</th><th>price</th><th>reference_price</th><th>reference_unit</th><th>insert_date</th><th>year</th><th>month</th><th>day</th></tr>\n",
       "<tr><td>11033123</td><td>mercadona-es</td><td>panaderia_y_paste...</td><td>Panecillo</td><td>null</td><td>0.1</td><td>0.22</td><td>100 g</td><td>2021-01-13 00:00:00</td><td>2021</td><td>1</td><td>13</td></tr>\n",
       "<tr><td>11033113</td><td>mercadona-es</td><td>panaderia_y_paste...</td><td>Pan mini semillas</td><td>null</td><td>0.25</td><td>2.78</td><td>kg</td><td>2021-01-13 00:00:00</td><td>2021</td><td>1</td><td>13</td></tr>\n",
       "<tr><td>11033110</td><td>mercadona-es</td><td>panaderia_y_paste...</td><td>Pan de cristal re...</td><td>null</td><td>0.35</td><td>4.49</td><td>kg</td><td>2021-01-13 00:00:00</td><td>2021</td><td>1</td><td>13</td></tr>\n",
       "<tr><td>11033098</td><td>mercadona-es</td><td>panaderia_y_paste...</td><td>Barra de pan camp...</td><td>null</td><td>0.55</td><td>2.2</td><td>kg</td><td>2021-01-13 00:00:00</td><td>2021</td><td>1</td><td>13</td></tr>\n",
       "<tr><td>11033112</td><td>mercadona-es</td><td>panaderia_y_paste...</td><td>4 Panes chapata d...</td><td>Pack-4</td><td>1.0</td><td>3.51</td><td>kg</td><td>2021-01-13 00:00:00</td><td>2021</td><td>1</td><td>13</td></tr>\n",
       "<tr><td>11033089</td><td>mercadona-es</td><td>panaderia_y_paste...</td><td>3 Barras de pan</td><td>null</td><td>1.1</td><td>1.47</td><td>kg</td><td>2021-01-13 00:00:00</td><td>2021</td><td>1</td><td>13</td></tr>\n",
       "<tr><td>11033132</td><td>mercadona-es</td><td>panaderia_y_paste...</td><td>Barra pan de pueb...</td><td>null</td><td>1.15</td><td>1.44</td><td>kg</td><td>2021-01-13 00:00:00</td><td>2021</td><td>1</td><td>13</td></tr>\n",
       "<tr><td>11033135</td><td>mercadona-es</td><td>panaderia_y_paste...</td><td>3 Barras de pan a...</td><td>null</td><td>1.3</td><td>2.17</td><td>kg</td><td>2021-01-13 00:00:00</td><td>2021</td><td>1</td><td>13</td></tr>\n",
       "</table>\n"
      ],
      "text/plain": [
       "+--------+------------+--------------------+--------------------+-----------+-----+---------------+--------------+-------------------+----+-----+---+\n",
       "|      id| supermarket|            category|                name|description|price|reference_price|reference_unit|        insert_date|year|month|day|\n",
       "+--------+------------+--------------------+--------------------+-----------+-----+---------------+--------------+-------------------+----+-----+---+\n",
       "|11033123|mercadona-es|panaderia_y_paste...|           Panecillo|       null|  0.1|           0.22|         100 g|2021-01-13 00:00:00|2021|    1| 13|\n",
       "|11033113|mercadona-es|panaderia_y_paste...|   Pan mini semillas|       null| 0.25|           2.78|            kg|2021-01-13 00:00:00|2021|    1| 13|\n",
       "|11033110|mercadona-es|panaderia_y_paste...|Pan de cristal re...|       null| 0.35|           4.49|            kg|2021-01-13 00:00:00|2021|    1| 13|\n",
       "|11033098|mercadona-es|panaderia_y_paste...|Barra de pan camp...|       null| 0.55|            2.2|            kg|2021-01-13 00:00:00|2021|    1| 13|\n",
       "|11033112|mercadona-es|panaderia_y_paste...|4 Panes chapata d...|     Pack-4|  1.0|           3.51|            kg|2021-01-13 00:00:00|2021|    1| 13|\n",
       "|11033089|mercadona-es|panaderia_y_paste...|     3 Barras de pan|       null|  1.1|           1.47|            kg|2021-01-13 00:00:00|2021|    1| 13|\n",
       "|11033132|mercadona-es|panaderia_y_paste...|Barra pan de pueb...|       null| 1.15|           1.44|            kg|2021-01-13 00:00:00|2021|    1| 13|\n",
       "|11033135|mercadona-es|panaderia_y_paste...|3 Barras de pan a...|       null|  1.3|           2.17|            kg|2021-01-13 00:00:00|2021|    1| 13|\n",
       "+--------+------------+--------------------+--------------------+-----------+-----+---------------+--------------+-------------------+----+-----+---+"
      ]
     },
     "execution_count": 30,
     "metadata": {},
     "output_type": "execute_result"
    }
   ],
   "source": [
    "supermarket_filter = sf.col('supermarket') == 'mercadona-es'\n",
    "category_filter = sf.col('category') == 'panaderia_y_pasteleria_pan_de_horno'\n",
    "date_filter = sf.col(date_col) == max_insert_date\n",
    "\n",
    "sdf.filter(supermarket_filter & category_filter & date_filter).sort('price', sf.col('reference_price').desc())"
   ]
  },
  {
   "cell_type": "markdown",
   "metadata": {},
   "source": [
    "<div style=\"padding-top: 25px; float: right\">\n",
    "    <div>    \n",
    "        <i>&nbsp;&nbsp;© Copyright by</i>\n",
    "    </div>\n",
    "    <div>\n",
    "        <a href=\"https://whiteboxml.com\">\n",
    "            <img src=\"https://whiteboxml.com/static/img/logo/black_bg_white.svg\" width=\"125\">\n",
    "        </a>\n",
    "    </div>\n",
    "</div>"
   ]
  }
 ],
 "metadata": {
  "kernelspec": {
   "display_name": "Python [conda env:ironhack_env]",
   "language": "python",
   "name": "conda-env-ironhack_env-py"
  },
  "language_info": {
   "codemirror_mode": {
    "name": "ipython",
    "version": 3
   },
   "file_extension": ".py",
   "mimetype": "text/x-python",
   "name": "python",
   "nbconvert_exporter": "python",
   "pygments_lexer": "ipython3",
   "version": "3.7.9"
  }
 },
 "nbformat": 4,
 "nbformat_minor": 4
}
