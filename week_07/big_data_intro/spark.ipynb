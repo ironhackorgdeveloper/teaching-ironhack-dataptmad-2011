{
 "cells": [
  {
   "cell_type": "markdown",
   "metadata": {},
   "source": [
    "<div style=\"float:right; padding-top: 15px; padding-right: 15px\">\n",
    "    <div>\n",
    "        <a href=\"https://whiteboxml.com\">\n",
    "            <img src=\"https://whiteboxml.com/static/img/logo/black_bg_white.svg\" width=\"250\">\n",
    "        </a>\n",
    "    </div>\n",
    "</div>"
   ]
  },
  {
   "cell_type": "markdown",
   "metadata": {},
   "source": [
    "# Spark"
   ]
  },
  {
   "cell_type": "markdown",
   "metadata": {},
   "source": [
    "## 1. Introduction"
   ]
  },
  {
   "cell_type": "markdown",
   "metadata": {},
   "source": [
    "* When dataset size exceeds your computer memory (RAM or even storage), [Big Data](https://en.wikipedia.org/wiki/Big_data) tools are used to break the dataset in chunks and process it step by step\n",
    "* Big Data tools allow you to make this process automatically and take care of everything under the hood with little extra code\n",
    "* [Spark](https://spark.apache.org/) is the most popular Big Data framework so far\n",
    "* Spark syntax resembles pandas API with some differences"
   ]
  },
  {
   "cell_type": "markdown",
   "metadata": {},
   "source": [
    "## 2. Installation"
   ]
  },
  {
   "cell_type": "markdown",
   "metadata": {},
   "source": [
    "You need Java to run Spark. It is written in [Scala](https://www.scala-lang.org/), a JVM based (and functional style) language"
   ]
  },
  {
   "cell_type": "markdown",
   "metadata": {},
   "source": [
    "### 2.1 Java installation"
   ]
  },
  {
   "cell_type": "markdown",
   "metadata": {},
   "source": [
    "#### 2.1.1 Conda"
   ]
  },
  {
   "cell_type": "markdown",
   "metadata": {},
   "source": [
    "```\n",
    "conda install openjdk -y\n",
    "```"
   ]
  },
  {
   "cell_type": "markdown",
   "metadata": {},
   "source": [
    "#### 2.1.2 Apt"
   ]
  },
  {
   "cell_type": "markdown",
   "metadata": {},
   "source": [
    "```\n",
    "sudo apt install default-jdk\n",
    "```"
   ]
  },
  {
   "cell_type": "markdown",
   "metadata": {},
   "source": [
    "### 2.2 PySpark installation"
   ]
  },
  {
   "cell_type": "markdown",
   "metadata": {},
   "source": [
    "#### 2.2.1 Conda"
   ]
  },
  {
   "cell_type": "markdown",
   "metadata": {},
   "source": [
    "At this moment it only works with Python 3.7\n",
    "\n",
    "```\n",
    "conda install pyspark -y\n",
    "```"
   ]
  },
  {
   "cell_type": "markdown",
   "metadata": {},
   "source": [
    "#### 2.2.2 Pip"
   ]
  },
  {
   "cell_type": "markdown",
   "metadata": {},
   "source": [
    "```\n",
    "pip install pyspark\n",
    "```"
   ]
  },
  {
   "cell_type": "markdown",
   "metadata": {},
   "source": [
    "## 3. Setup"
   ]
  },
  {
   "cell_type": "code",
   "execution_count": 1,
   "metadata": {},
   "outputs": [],
   "source": [
    "from pyspark.sql import SparkSession\n",
    "\n",
    "spark = SparkSession.builder \\\n",
    "            .appName('big_data_session') \\\n",
    "            .master('local[*]') \\\n",
    "            .config('spark.ui.showConsoleProgress', True) \\\n",
    "            .config('spark.sql.repl.eagerEval.enabled', True) \\\n",
    "            .getOrCreate()"
   ]
  },
  {
   "cell_type": "code",
   "execution_count": 2,
   "metadata": {},
   "outputs": [
    {
     "data": {
      "text/html": [
       "\n",
       "            <div>\n",
       "                <p><b>SparkSession - in-memory</b></p>\n",
       "                \n",
       "        <div>\n",
       "            <p><b>SparkContext</b></p>\n",
       "\n",
       "            <p><a href=\"http://192.168.1.133:4040\">Spark UI</a></p>\n",
       "\n",
       "            <dl>\n",
       "              <dt>Version</dt>\n",
       "                <dd><code>v3.0.0</code></dd>\n",
       "              <dt>Master</dt>\n",
       "                <dd><code>local[*]</code></dd>\n",
       "              <dt>AppName</dt>\n",
       "                <dd><code>big_data_session</code></dd>\n",
       "            </dl>\n",
       "        </div>\n",
       "        \n",
       "            </div>\n",
       "        "
      ],
      "text/plain": [
       "<pyspark.sql.session.SparkSession at 0x7fc1172b5310>"
      ]
     },
     "execution_count": 2,
     "metadata": {},
     "output_type": "execute_result"
    }
   ],
   "source": [
    "spark"
   ]
  },
  {
   "cell_type": "markdown",
   "metadata": {},
   "source": [
    "## 4. Data processing"
   ]
  },
  {
   "cell_type": "markdown",
   "metadata": {},
   "source": [
    "Data can be downloaded from the following url:\n",
    "\n",
    "- [Spanish Rail Tickets Pricing](https://www.kaggle.com/thegurusteam/spanish-high-speed-rail-system-ticket-pricing)"
   ]
  },
  {
   "cell_type": "code",
   "execution_count": 3,
   "metadata": {},
   "outputs": [
    {
     "data": {
      "text/html": [
       "<table border='1'>\n",
       "<tr><th>id</th><th>company</th><th>origin</th><th>destination</th><th>departure</th><th>arrival</th><th>duration</th><th>vehicle_type</th><th>vehicle_class</th><th>price</th><th>fare</th><th>seats</th><th>meta</th><th>insert_date</th></tr>\n",
       "<tr><td>1</td><td>renfe</td><td>MADRID</td><td>BARCELONA</td><td>2019-04-18 05:50:00</td><td>2019-04-18 08:55:00</td><td>3.08</td><td>AVE</td><td>Preferente</td><td>68.95</td><td>Promo</td><td>null</td><td>{}</td><td>2019-04-11 21:49:46</td></tr>\n",
       "<tr><td>2</td><td>renfe</td><td>MADRID</td><td>BARCELONA</td><td>2019-04-18 13:25:00</td><td>2019-04-18 16:24:00</td><td>2.98</td><td>AVE-TGV</td><td>Turista</td><td>107.7</td><td>Flexible</td><td>null</td><td>{}</td><td>2019-04-11 21:49:46</td></tr>\n",
       "<tr><td>3</td><td>renfe</td><td>MADRID</td><td>BARCELONA</td><td>2019-04-18 06:30:00</td><td>2019-04-18 09:20:00</td><td>2.83</td><td>AVE</td><td>Turista</td><td>75.4</td><td>Promo</td><td>null</td><td>{}</td><td>2019-04-11 21:49:46</td></tr>\n",
       "<tr><td>4</td><td>renfe</td><td>MADRID</td><td>BARCELONA</td><td>2019-04-18 15:30:00</td><td>2019-04-18 18:40:00</td><td>3.17</td><td>AVE</td><td>Preferente</td><td>null</td><td>Promo</td><td>null</td><td>{}</td><td>2019-04-11 21:49:46</td></tr>\n",
       "<tr><td>5</td><td>renfe</td><td>MADRID</td><td>BARCELONA</td><td>2019-04-18 07:00:00</td><td>2019-04-18 09:30:00</td><td>2.5</td><td>AVE</td><td>Turista Plus</td><td>106.75</td><td>Promo</td><td>null</td><td>{}</td><td>2019-04-11 21:49:46</td></tr>\n",
       "<tr><td>6</td><td>renfe</td><td>MADRID</td><td>BARCELONA</td><td>2019-04-18 06:30:00</td><td>2019-04-18 09:20:00</td><td>2.83</td><td>AVE</td><td>Turista</td><td>75.4</td><td>Promo</td><td>null</td><td>{}</td><td>2019-04-11 21:49:46</td></tr>\n",
       "<tr><td>7</td><td>renfe</td><td>MADRID</td><td>BARCELONA</td><td>2019-04-18 07:30:00</td><td>2019-04-18 10:40:00</td><td>3.17</td><td>AVE</td><td>Turista Plus</td><td>90.5</td><td>Promo</td><td>null</td><td>{}</td><td>2019-04-11 21:49:46</td></tr>\n",
       "<tr><td>8</td><td>renfe</td><td>MADRID</td><td>BARCELONA</td><td>2019-04-18 19:00:00</td><td>2019-04-18 21:30:00</td><td>2.5</td><td>AVE</td><td>Preferente</td><td>115.65</td><td>Promo</td><td>null</td><td>{}</td><td>2019-04-11 21:49:46</td></tr>\n",
       "<tr><td>9</td><td>renfe</td><td>MADRID</td><td>BARCELONA</td><td>2019-04-18 08:00:00</td><td>2019-04-18 10:30:00</td><td>2.5</td><td>AVE</td><td>Turista</td><td>88.95</td><td>Promo</td><td>null</td><td>{}</td><td>2019-04-11 21:49:46</td></tr>\n",
       "<tr><td>10</td><td>renfe</td><td>MADRID</td><td>BARCELONA</td><td>2019-04-18 08:00:00</td><td>2019-04-18 10:30:00</td><td>2.5</td><td>AVE</td><td>Turista</td><td>88.95</td><td>Promo</td><td>null</td><td>{}</td><td>2019-04-11 21:49:46</td></tr>\n",
       "<tr><td>11</td><td>renfe</td><td>MADRID</td><td>BARCELONA</td><td>2019-04-18 08:30:00</td><td>2019-04-18 11:15:00</td><td>2.75</td><td>AVE</td><td>Turista</td><td>107.7</td><td>Flexible</td><td>null</td><td>{}</td><td>2019-04-11 21:49:46</td></tr>\n",
       "<tr><td>12</td><td>renfe</td><td>MADRID</td><td>BARCELONA</td><td>2019-04-18 19:30:00</td><td>2019-04-18 22:40:00</td><td>3.17</td><td>AVE</td><td>Turista</td><td>85.1</td><td>Promo</td><td>null</td><td>{}</td><td>2019-04-11 21:49:46</td></tr>\n",
       "<tr><td>13</td><td>renfe</td><td>MADRID</td><td>BARCELONA</td><td>2019-04-18 09:30:00</td><td>2019-04-18 12:34:00</td><td>3.07</td><td>AVE</td><td>Turista</td><td>107.7</td><td>Flexible</td><td>null</td><td>{}</td><td>2019-04-11 21:49:46</td></tr>\n",
       "<tr><td>14</td><td>renfe</td><td>MADRID</td><td>BARCELONA</td><td>2019-04-18 16:30:00</td><td>2019-04-18 19:15:00</td><td>2.75</td><td>AVE</td><td>Turista Plus</td><td>102.15</td><td>Promo</td><td>null</td><td>{}</td><td>2019-04-11 21:49:46</td></tr>\n",
       "<tr><td>15</td><td>renfe</td><td>MADRID</td><td>BARCELONA</td><td>2019-04-18 10:30:00</td><td>2019-04-18 13:15:00</td><td>2.75</td><td>AVE</td><td>Turista Plus</td><td>102.15</td><td>Promo</td><td>null</td><td>{}</td><td>2019-04-11 21:49:46</td></tr>\n",
       "<tr><td>16</td><td>renfe</td><td>MADRID</td><td>BARCELONA</td><td>2019-04-18 11:30:00</td><td>2019-04-18 14:40:00</td><td>3.17</td><td>AVE</td><td>Turista Plus</td><td>102.15</td><td>Promo</td><td>null</td><td>{}</td><td>2019-04-11 21:49:46</td></tr>\n",
       "<tr><td>17</td><td>renfe</td><td>MADRID</td><td>BARCELONA</td><td>2019-04-18 11:30:00</td><td>2019-04-18 14:40:00</td><td>3.17</td><td>AVE</td><td>Turista Plus</td><td>102.15</td><td>Promo</td><td>null</td><td>{}</td><td>2019-04-11 21:49:46</td></tr>\n",
       "<tr><td>18</td><td>renfe</td><td>MADRID</td><td>BARCELONA</td><td>2019-04-18 18:30:00</td><td>2019-04-18 21:20:00</td><td>2.83</td><td>AVE</td><td>Turista Plus</td><td>90.5</td><td>Promo</td><td>null</td><td>{}</td><td>2019-04-11 21:49:46</td></tr>\n",
       "<tr><td>19</td><td>renfe</td><td>MADRID</td><td>BARCELONA</td><td>2019-04-18 12:30:00</td><td>2019-04-18 15:30:00</td><td>3.0</td><td>AVE</td><td>Turista</td><td>107.7</td><td>Flexible</td><td>null</td><td>{}</td><td>2019-04-11 21:49:46</td></tr>\n",
       "<tr><td>20</td><td>renfe</td><td>MADRID</td><td>BARCELONA</td><td>2019-04-18 07:30:00</td><td>2019-04-18 10:40:00</td><td>3.17</td><td>AVE</td><td>Turista Plus</td><td>90.5</td><td>Promo</td><td>null</td><td>{}</td><td>2019-04-11 21:49:46</td></tr>\n",
       "</table>\n",
       "only showing top 20 rows\n"
      ],
      "text/plain": [
       "+---+-------+------+-----------+-------------------+-------------------+--------+------------+-------------+------+--------+-----+----+-------------------+\n",
       "| id|company|origin|destination|          departure|            arrival|duration|vehicle_type|vehicle_class| price|    fare|seats|meta|        insert_date|\n",
       "+---+-------+------+-----------+-------------------+-------------------+--------+------------+-------------+------+--------+-----+----+-------------------+\n",
       "|  1|  renfe|MADRID|  BARCELONA|2019-04-18 05:50:00|2019-04-18 08:55:00|    3.08|         AVE|   Preferente| 68.95|   Promo| null|  {}|2019-04-11 21:49:46|\n",
       "|  2|  renfe|MADRID|  BARCELONA|2019-04-18 13:25:00|2019-04-18 16:24:00|    2.98|     AVE-TGV|      Turista| 107.7|Flexible| null|  {}|2019-04-11 21:49:46|\n",
       "|  3|  renfe|MADRID|  BARCELONA|2019-04-18 06:30:00|2019-04-18 09:20:00|    2.83|         AVE|      Turista|  75.4|   Promo| null|  {}|2019-04-11 21:49:46|\n",
       "|  4|  renfe|MADRID|  BARCELONA|2019-04-18 15:30:00|2019-04-18 18:40:00|    3.17|         AVE|   Preferente|  null|   Promo| null|  {}|2019-04-11 21:49:46|\n",
       "|  5|  renfe|MADRID|  BARCELONA|2019-04-18 07:00:00|2019-04-18 09:30:00|     2.5|         AVE| Turista Plus|106.75|   Promo| null|  {}|2019-04-11 21:49:46|\n",
       "|  6|  renfe|MADRID|  BARCELONA|2019-04-18 06:30:00|2019-04-18 09:20:00|    2.83|         AVE|      Turista|  75.4|   Promo| null|  {}|2019-04-11 21:49:46|\n",
       "|  7|  renfe|MADRID|  BARCELONA|2019-04-18 07:30:00|2019-04-18 10:40:00|    3.17|         AVE| Turista Plus|  90.5|   Promo| null|  {}|2019-04-11 21:49:46|\n",
       "|  8|  renfe|MADRID|  BARCELONA|2019-04-18 19:00:00|2019-04-18 21:30:00|     2.5|         AVE|   Preferente|115.65|   Promo| null|  {}|2019-04-11 21:49:46|\n",
       "|  9|  renfe|MADRID|  BARCELONA|2019-04-18 08:00:00|2019-04-18 10:30:00|     2.5|         AVE|      Turista| 88.95|   Promo| null|  {}|2019-04-11 21:49:46|\n",
       "| 10|  renfe|MADRID|  BARCELONA|2019-04-18 08:00:00|2019-04-18 10:30:00|     2.5|         AVE|      Turista| 88.95|   Promo| null|  {}|2019-04-11 21:49:46|\n",
       "| 11|  renfe|MADRID|  BARCELONA|2019-04-18 08:30:00|2019-04-18 11:15:00|    2.75|         AVE|      Turista| 107.7|Flexible| null|  {}|2019-04-11 21:49:46|\n",
       "| 12|  renfe|MADRID|  BARCELONA|2019-04-18 19:30:00|2019-04-18 22:40:00|    3.17|         AVE|      Turista|  85.1|   Promo| null|  {}|2019-04-11 21:49:46|\n",
       "| 13|  renfe|MADRID|  BARCELONA|2019-04-18 09:30:00|2019-04-18 12:34:00|    3.07|         AVE|      Turista| 107.7|Flexible| null|  {}|2019-04-11 21:49:46|\n",
       "| 14|  renfe|MADRID|  BARCELONA|2019-04-18 16:30:00|2019-04-18 19:15:00|    2.75|         AVE| Turista Plus|102.15|   Promo| null|  {}|2019-04-11 21:49:46|\n",
       "| 15|  renfe|MADRID|  BARCELONA|2019-04-18 10:30:00|2019-04-18 13:15:00|    2.75|         AVE| Turista Plus|102.15|   Promo| null|  {}|2019-04-11 21:49:46|\n",
       "| 16|  renfe|MADRID|  BARCELONA|2019-04-18 11:30:00|2019-04-18 14:40:00|    3.17|         AVE| Turista Plus|102.15|   Promo| null|  {}|2019-04-11 21:49:46|\n",
       "| 17|  renfe|MADRID|  BARCELONA|2019-04-18 11:30:00|2019-04-18 14:40:00|    3.17|         AVE| Turista Plus|102.15|   Promo| null|  {}|2019-04-11 21:49:46|\n",
       "| 18|  renfe|MADRID|  BARCELONA|2019-04-18 18:30:00|2019-04-18 21:20:00|    2.83|         AVE| Turista Plus|  90.5|   Promo| null|  {}|2019-04-11 21:49:46|\n",
       "| 19|  renfe|MADRID|  BARCELONA|2019-04-18 12:30:00|2019-04-18 15:30:00|     3.0|         AVE|      Turista| 107.7|Flexible| null|  {}|2019-04-11 21:49:46|\n",
       "| 20|  renfe|MADRID|  BARCELONA|2019-04-18 07:30:00|2019-04-18 10:40:00|    3.17|         AVE| Turista Plus|  90.5|   Promo| null|  {}|2019-04-11 21:49:46|\n",
       "+---+-------+------+-----------+-------------------+-------------------+--------+------------+-------------+------+--------+-----+----+-------------------+\n",
       "only showing top 20 rows"
      ]
     },
     "execution_count": 3,
     "metadata": {},
     "output_type": "execute_result"
    }
   ],
   "source": [
    "DATA_PATH = '/home/ubuntu/Desktop/renfe.csv'\n",
    "\n",
    "sdf = spark.read.option('quote', '\"').option('escape', '\"').csv(DATA_PATH, \n",
    "                                                                header=True, \n",
    "                                                                inferSchema=True)\n",
    "\n",
    "sdf"
   ]
  },
  {
   "cell_type": "markdown",
   "metadata": {},
   "source": [
    "__VERY IMPORTANT INFO: sdf is a Spark DataFrame, which means it is a distributed DataFrame, not a typical Python object that lives in RAM memory (Pandas DataFrame)__\n",
    "\n",
    "- From DataBricks (Spark creators) about what a Spark DataFrame is:\n",
    "\n",
    "_\"In Spark, a DataFrame is a distributed collection of data organized into named columns. It is conceptually equivalent to a table in a relational database or a dataframe in Python, but with richer optimizations under the hood. DataFrames can be constructed from a wide array of sources such as: structured data files, tables in Hive, external databases, or existing RDDs (Resilient Distributed Datasets)\"_\n",
    "\n",
    "- Spark DataFrames do no live in computers / cluster nodes memory, they are evaluated at the time some calculations are required"
   ]
  },
  {
   "cell_type": "markdown",
   "metadata": {},
   "source": [
    "#### types"
   ]
  },
  {
   "cell_type": "code",
   "execution_count": 4,
   "metadata": {},
   "outputs": [
    {
     "data": {
      "text/plain": [
       "[('id', 'int'),\n",
       " ('company', 'string'),\n",
       " ('origin', 'string'),\n",
       " ('destination', 'string'),\n",
       " ('departure', 'string'),\n",
       " ('arrival', 'string'),\n",
       " ('duration', 'double'),\n",
       " ('vehicle_type', 'string'),\n",
       " ('vehicle_class', 'string'),\n",
       " ('price', 'double'),\n",
       " ('fare', 'string'),\n",
       " ('seats', 'int'),\n",
       " ('meta', 'string'),\n",
       " ('insert_date', 'string')]"
      ]
     },
     "execution_count": 4,
     "metadata": {},
     "output_type": "execute_result"
    }
   ],
   "source": [
    "sdf.dtypes"
   ]
  },
  {
   "cell_type": "code",
   "execution_count": 5,
   "metadata": {},
   "outputs": [
    {
     "data": {
      "text/html": [
       "<table border='1'>\n",
       "<tr><th>id</th><th>company</th><th>origin</th><th>destination</th><th>departure</th><th>arrival</th><th>duration</th><th>vehicle_type</th><th>vehicle_class</th><th>price</th><th>fare</th><th>seats</th><th>meta</th><th>insert_date</th></tr>\n",
       "<tr><td>1</td><td>renfe</td><td>MADRID</td><td>BARCELONA</td><td>2019-04-18 05:50:00</td><td>2019-04-18 08:55:00</td><td>3.08</td><td>AVE</td><td>Preferente</td><td>68.95</td><td>Promo</td><td>null</td><td>{}</td><td>2019-04-11 21:49:46</td></tr>\n",
       "<tr><td>2</td><td>renfe</td><td>MADRID</td><td>BARCELONA</td><td>2019-04-18 13:25:00</td><td>2019-04-18 16:24:00</td><td>2.98</td><td>AVE-TGV</td><td>Turista</td><td>107.7</td><td>Flexible</td><td>null</td><td>{}</td><td>2019-04-11 21:49:46</td></tr>\n",
       "<tr><td>3</td><td>renfe</td><td>MADRID</td><td>BARCELONA</td><td>2019-04-18 06:30:00</td><td>2019-04-18 09:20:00</td><td>2.83</td><td>AVE</td><td>Turista</td><td>75.4</td><td>Promo</td><td>null</td><td>{}</td><td>2019-04-11 21:49:46</td></tr>\n",
       "<tr><td>4</td><td>renfe</td><td>MADRID</td><td>BARCELONA</td><td>2019-04-18 15:30:00</td><td>2019-04-18 18:40:00</td><td>3.17</td><td>AVE</td><td>Preferente</td><td>null</td><td>Promo</td><td>null</td><td>{}</td><td>2019-04-11 21:49:46</td></tr>\n",
       "<tr><td>5</td><td>renfe</td><td>MADRID</td><td>BARCELONA</td><td>2019-04-18 07:00:00</td><td>2019-04-18 09:30:00</td><td>2.5</td><td>AVE</td><td>Turista Plus</td><td>106.75</td><td>Promo</td><td>null</td><td>{}</td><td>2019-04-11 21:49:46</td></tr>\n",
       "<tr><td>6</td><td>renfe</td><td>MADRID</td><td>BARCELONA</td><td>2019-04-18 06:30:00</td><td>2019-04-18 09:20:00</td><td>2.83</td><td>AVE</td><td>Turista</td><td>75.4</td><td>Promo</td><td>null</td><td>{}</td><td>2019-04-11 21:49:46</td></tr>\n",
       "<tr><td>7</td><td>renfe</td><td>MADRID</td><td>BARCELONA</td><td>2019-04-18 07:30:00</td><td>2019-04-18 10:40:00</td><td>3.17</td><td>AVE</td><td>Turista Plus</td><td>90.5</td><td>Promo</td><td>null</td><td>{}</td><td>2019-04-11 21:49:46</td></tr>\n",
       "<tr><td>8</td><td>renfe</td><td>MADRID</td><td>BARCELONA</td><td>2019-04-18 19:00:00</td><td>2019-04-18 21:30:00</td><td>2.5</td><td>AVE</td><td>Preferente</td><td>115.65</td><td>Promo</td><td>null</td><td>{}</td><td>2019-04-11 21:49:46</td></tr>\n",
       "<tr><td>9</td><td>renfe</td><td>MADRID</td><td>BARCELONA</td><td>2019-04-18 08:00:00</td><td>2019-04-18 10:30:00</td><td>2.5</td><td>AVE</td><td>Turista</td><td>88.95</td><td>Promo</td><td>null</td><td>{}</td><td>2019-04-11 21:49:46</td></tr>\n",
       "<tr><td>10</td><td>renfe</td><td>MADRID</td><td>BARCELONA</td><td>2019-04-18 08:00:00</td><td>2019-04-18 10:30:00</td><td>2.5</td><td>AVE</td><td>Turista</td><td>88.95</td><td>Promo</td><td>null</td><td>{}</td><td>2019-04-11 21:49:46</td></tr>\n",
       "<tr><td>11</td><td>renfe</td><td>MADRID</td><td>BARCELONA</td><td>2019-04-18 08:30:00</td><td>2019-04-18 11:15:00</td><td>2.75</td><td>AVE</td><td>Turista</td><td>107.7</td><td>Flexible</td><td>null</td><td>{}</td><td>2019-04-11 21:49:46</td></tr>\n",
       "<tr><td>12</td><td>renfe</td><td>MADRID</td><td>BARCELONA</td><td>2019-04-18 19:30:00</td><td>2019-04-18 22:40:00</td><td>3.17</td><td>AVE</td><td>Turista</td><td>85.1</td><td>Promo</td><td>null</td><td>{}</td><td>2019-04-11 21:49:46</td></tr>\n",
       "<tr><td>13</td><td>renfe</td><td>MADRID</td><td>BARCELONA</td><td>2019-04-18 09:30:00</td><td>2019-04-18 12:34:00</td><td>3.07</td><td>AVE</td><td>Turista</td><td>107.7</td><td>Flexible</td><td>null</td><td>{}</td><td>2019-04-11 21:49:46</td></tr>\n",
       "<tr><td>14</td><td>renfe</td><td>MADRID</td><td>BARCELONA</td><td>2019-04-18 16:30:00</td><td>2019-04-18 19:15:00</td><td>2.75</td><td>AVE</td><td>Turista Plus</td><td>102.15</td><td>Promo</td><td>null</td><td>{}</td><td>2019-04-11 21:49:46</td></tr>\n",
       "<tr><td>15</td><td>renfe</td><td>MADRID</td><td>BARCELONA</td><td>2019-04-18 10:30:00</td><td>2019-04-18 13:15:00</td><td>2.75</td><td>AVE</td><td>Turista Plus</td><td>102.15</td><td>Promo</td><td>null</td><td>{}</td><td>2019-04-11 21:49:46</td></tr>\n",
       "<tr><td>16</td><td>renfe</td><td>MADRID</td><td>BARCELONA</td><td>2019-04-18 11:30:00</td><td>2019-04-18 14:40:00</td><td>3.17</td><td>AVE</td><td>Turista Plus</td><td>102.15</td><td>Promo</td><td>null</td><td>{}</td><td>2019-04-11 21:49:46</td></tr>\n",
       "<tr><td>17</td><td>renfe</td><td>MADRID</td><td>BARCELONA</td><td>2019-04-18 11:30:00</td><td>2019-04-18 14:40:00</td><td>3.17</td><td>AVE</td><td>Turista Plus</td><td>102.15</td><td>Promo</td><td>null</td><td>{}</td><td>2019-04-11 21:49:46</td></tr>\n",
       "<tr><td>18</td><td>renfe</td><td>MADRID</td><td>BARCELONA</td><td>2019-04-18 18:30:00</td><td>2019-04-18 21:20:00</td><td>2.83</td><td>AVE</td><td>Turista Plus</td><td>90.5</td><td>Promo</td><td>null</td><td>{}</td><td>2019-04-11 21:49:46</td></tr>\n",
       "<tr><td>19</td><td>renfe</td><td>MADRID</td><td>BARCELONA</td><td>2019-04-18 12:30:00</td><td>2019-04-18 15:30:00</td><td>3.0</td><td>AVE</td><td>Turista</td><td>107.7</td><td>Flexible</td><td>null</td><td>{}</td><td>2019-04-11 21:49:46</td></tr>\n",
       "<tr><td>20</td><td>renfe</td><td>MADRID</td><td>BARCELONA</td><td>2019-04-18 07:30:00</td><td>2019-04-18 10:40:00</td><td>3.17</td><td>AVE</td><td>Turista Plus</td><td>90.5</td><td>Promo</td><td>null</td><td>{}</td><td>2019-04-11 21:49:46</td></tr>\n",
       "</table>\n",
       "only showing top 20 rows\n"
      ],
      "text/plain": [
       "+---+-------+------+-----------+-------------------+-------------------+--------+------------+-------------+------+--------+-----+----+-------------------+\n",
       "| id|company|origin|destination|          departure|            arrival|duration|vehicle_type|vehicle_class| price|    fare|seats|meta|        insert_date|\n",
       "+---+-------+------+-----------+-------------------+-------------------+--------+------------+-------------+------+--------+-----+----+-------------------+\n",
       "|  1|  renfe|MADRID|  BARCELONA|2019-04-18 05:50:00|2019-04-18 08:55:00|    3.08|         AVE|   Preferente| 68.95|   Promo| null|  {}|2019-04-11 21:49:46|\n",
       "|  2|  renfe|MADRID|  BARCELONA|2019-04-18 13:25:00|2019-04-18 16:24:00|    2.98|     AVE-TGV|      Turista| 107.7|Flexible| null|  {}|2019-04-11 21:49:46|\n",
       "|  3|  renfe|MADRID|  BARCELONA|2019-04-18 06:30:00|2019-04-18 09:20:00|    2.83|         AVE|      Turista|  75.4|   Promo| null|  {}|2019-04-11 21:49:46|\n",
       "|  4|  renfe|MADRID|  BARCELONA|2019-04-18 15:30:00|2019-04-18 18:40:00|    3.17|         AVE|   Preferente|  null|   Promo| null|  {}|2019-04-11 21:49:46|\n",
       "|  5|  renfe|MADRID|  BARCELONA|2019-04-18 07:00:00|2019-04-18 09:30:00|     2.5|         AVE| Turista Plus|106.75|   Promo| null|  {}|2019-04-11 21:49:46|\n",
       "|  6|  renfe|MADRID|  BARCELONA|2019-04-18 06:30:00|2019-04-18 09:20:00|    2.83|         AVE|      Turista|  75.4|   Promo| null|  {}|2019-04-11 21:49:46|\n",
       "|  7|  renfe|MADRID|  BARCELONA|2019-04-18 07:30:00|2019-04-18 10:40:00|    3.17|         AVE| Turista Plus|  90.5|   Promo| null|  {}|2019-04-11 21:49:46|\n",
       "|  8|  renfe|MADRID|  BARCELONA|2019-04-18 19:00:00|2019-04-18 21:30:00|     2.5|         AVE|   Preferente|115.65|   Promo| null|  {}|2019-04-11 21:49:46|\n",
       "|  9|  renfe|MADRID|  BARCELONA|2019-04-18 08:00:00|2019-04-18 10:30:00|     2.5|         AVE|      Turista| 88.95|   Promo| null|  {}|2019-04-11 21:49:46|\n",
       "| 10|  renfe|MADRID|  BARCELONA|2019-04-18 08:00:00|2019-04-18 10:30:00|     2.5|         AVE|      Turista| 88.95|   Promo| null|  {}|2019-04-11 21:49:46|\n",
       "| 11|  renfe|MADRID|  BARCELONA|2019-04-18 08:30:00|2019-04-18 11:15:00|    2.75|         AVE|      Turista| 107.7|Flexible| null|  {}|2019-04-11 21:49:46|\n",
       "| 12|  renfe|MADRID|  BARCELONA|2019-04-18 19:30:00|2019-04-18 22:40:00|    3.17|         AVE|      Turista|  85.1|   Promo| null|  {}|2019-04-11 21:49:46|\n",
       "| 13|  renfe|MADRID|  BARCELONA|2019-04-18 09:30:00|2019-04-18 12:34:00|    3.07|         AVE|      Turista| 107.7|Flexible| null|  {}|2019-04-11 21:49:46|\n",
       "| 14|  renfe|MADRID|  BARCELONA|2019-04-18 16:30:00|2019-04-18 19:15:00|    2.75|         AVE| Turista Plus|102.15|   Promo| null|  {}|2019-04-11 21:49:46|\n",
       "| 15|  renfe|MADRID|  BARCELONA|2019-04-18 10:30:00|2019-04-18 13:15:00|    2.75|         AVE| Turista Plus|102.15|   Promo| null|  {}|2019-04-11 21:49:46|\n",
       "| 16|  renfe|MADRID|  BARCELONA|2019-04-18 11:30:00|2019-04-18 14:40:00|    3.17|         AVE| Turista Plus|102.15|   Promo| null|  {}|2019-04-11 21:49:46|\n",
       "| 17|  renfe|MADRID|  BARCELONA|2019-04-18 11:30:00|2019-04-18 14:40:00|    3.17|         AVE| Turista Plus|102.15|   Promo| null|  {}|2019-04-11 21:49:46|\n",
       "| 18|  renfe|MADRID|  BARCELONA|2019-04-18 18:30:00|2019-04-18 21:20:00|    2.83|         AVE| Turista Plus|  90.5|   Promo| null|  {}|2019-04-11 21:49:46|\n",
       "| 19|  renfe|MADRID|  BARCELONA|2019-04-18 12:30:00|2019-04-18 15:30:00|     3.0|         AVE|      Turista| 107.7|Flexible| null|  {}|2019-04-11 21:49:46|\n",
       "| 20|  renfe|MADRID|  BARCELONA|2019-04-18 07:30:00|2019-04-18 10:40:00|    3.17|         AVE| Turista Plus|  90.5|   Promo| null|  {}|2019-04-11 21:49:46|\n",
       "+---+-------+------+-----------+-------------------+-------------------+--------+------------+-------------+------+--------+-----+----+-------------------+\n",
       "only showing top 20 rows"
      ]
     },
     "execution_count": 5,
     "metadata": {},
     "output_type": "execute_result"
    }
   ],
   "source": [
    "from pyspark.sql import functions as sf\n",
    "\n",
    "from pyspark.sql.types import TimestampType\n",
    "\n",
    "for dt_column in ['departure', 'arrival', 'insert_date']:\n",
    "    sdf = sdf.withColumn('departure', sdf['departure'].cast(TimestampType()))\n",
    "\n",
    "sdf"
   ]
  },
  {
   "cell_type": "code",
   "execution_count": 6,
   "metadata": {},
   "outputs": [
    {
     "data": {
      "text/plain": [
       "[('id', 'int'),\n",
       " ('company', 'string'),\n",
       " ('origin', 'string'),\n",
       " ('destination', 'string'),\n",
       " ('departure', 'timestamp'),\n",
       " ('arrival', 'string'),\n",
       " ('duration', 'double'),\n",
       " ('vehicle_type', 'string'),\n",
       " ('vehicle_class', 'string'),\n",
       " ('price', 'double'),\n",
       " ('fare', 'string'),\n",
       " ('seats', 'int'),\n",
       " ('meta', 'string'),\n",
       " ('insert_date', 'string')]"
      ]
     },
     "execution_count": 6,
     "metadata": {},
     "output_type": "execute_result"
    }
   ],
   "source": [
    "sdf.dtypes"
   ]
  },
  {
   "cell_type": "markdown",
   "metadata": {},
   "source": [
    "#### sample data"
   ]
  },
  {
   "cell_type": "code",
   "execution_count": 7,
   "metadata": {},
   "outputs": [
    {
     "data": {
      "text/html": [
       "<table border='1'>\n",
       "<tr><th>id</th><th>company</th><th>origin</th><th>destination</th><th>departure</th><th>arrival</th><th>duration</th><th>vehicle_type</th><th>vehicle_class</th><th>price</th><th>fare</th><th>seats</th><th>meta</th><th>insert_date</th></tr>\n",
       "<tr><td>122</td><td>renfe</td><td>MADRID</td><td>BARCELONA</td><td>2019-05-22 19:00:00</td><td>2019-05-22 21:30:00</td><td>2.5</td><td>AVE</td><td>Turista Plus</td><td>82.35</td><td>Promo</td><td>null</td><td>{}</td><td>2019-04-11 21:50:04</td></tr>\n",
       "<tr><td>189</td><td>renfe</td><td>MADRID</td><td>BARCELONA</td><td>2019-04-27 10:30:00</td><td>2019-04-27 13:15:00</td><td>2.75</td><td>AVE</td><td>Turista</td><td>58.15</td><td>Promo</td><td>null</td><td>{}</td><td>2019-04-11 21:50:20</td></tr>\n",
       "<tr><td>207</td><td>renfe</td><td>MADRID</td><td>BARCELONA</td><td>2019-04-27 19:30:00</td><td>2019-04-27 22:40:00</td><td>3.17</td><td>AVE</td><td>Turista Plus</td><td>90.5</td><td>Promo</td><td>null</td><td>{}</td><td>2019-04-11 21:50:20</td></tr>\n",
       "<tr><td>255</td><td>renfe</td><td>MADRID</td><td>BARCELONA</td><td>2019-05-28 17:00:00</td><td>2019-05-28 19:30:00</td><td>2.5</td><td>AVE</td><td>Turista</td><td>88.95</td><td>Promo</td><td>null</td><td>{}</td><td>2019-04-11 21:50:23</td></tr>\n",
       "<tr><td>271</td><td>renfe</td><td>MADRID</td><td>BARCELONA</td><td>2019-05-28 08:20:00</td><td>2019-05-28 11:05:00</td><td>2.75</td><td>AVE</td><td>Turista</td><td>75.4</td><td>Promo</td><td>null</td><td>{}</td><td>2019-04-11 21:50:23</td></tr>\n",
       "<tr><td>292</td><td>renfe</td><td>MADRID</td><td>SEVILLA</td><td>2019-06-01 13:10:00</td><td>2019-06-01 20:51:00</td><td>7.68</td><td>MD-LD</td><td>Preferente</td><td>null</td><td>Promo</td><td>null</td><td>{}</td><td>2019-04-11 21:50:34</td></tr>\n",
       "<tr><td>329</td><td>renfe</td><td>MADRID</td><td>SEVILLA</td><td>2019-06-02 19:00:00</td><td>2019-06-02 21:38:00</td><td>2.63</td><td>AVE</td><td>Preferente</td><td>69.4</td><td>Promo</td><td>null</td><td>{}</td><td>2019-04-11 21:50:38</td></tr>\n",
       "<tr><td>668</td><td>renfe</td><td>MADRID</td><td>SEVILLA</td><td>2019-05-21 08:00:00</td><td>2019-05-21 10:32:00</td><td>2.53</td><td>AVE</td><td>Turista</td><td>47.3</td><td>Promo</td><td>null</td><td>{}</td><td>2019-04-11 21:51:50</td></tr>\n",
       "<tr><td>777</td><td>renfe</td><td>MADRID</td><td>SEVILLA</td><td>2019-04-22 18:00:00</td><td>2019-04-22 20:32:00</td><td>2.53</td><td>AVE</td><td>Turista</td><td>53.4</td><td>Promo</td><td>null</td><td>{}</td><td>2019-04-11 21:51:53</td></tr>\n",
       "<tr><td>857</td><td>renfe</td><td>MADRID</td><td>BARCELONA</td><td>2019-06-01 20:30:00</td><td>2019-06-01 23:40:00</td><td>3.17</td><td>AVE</td><td>Turista Plus</td><td>59.5</td><td>Promo</td><td>null</td><td>{}</td><td>2019-04-11 21:52:08</td></tr>\n",
       "<tr><td>866</td><td>renfe</td><td>MADRID</td><td>BARCELONA</td><td>2019-06-01 19:30:00</td><td>2019-06-01 22:40:00</td><td>3.17</td><td>AVE</td><td>Turista Plus</td><td>38.8</td><td>Promo</td><td>null</td><td>{}</td><td>2019-04-11 21:52:08</td></tr>\n",
       "<tr><td>899</td><td>renfe</td><td>MADRID</td><td>VALENCIA</td><td>2019-05-12 14:10:00</td><td>2019-05-12 16:03:00</td><td>1.88</td><td>AVE</td><td>Turista</td><td>45.3</td><td>Promo</td><td>null</td><td>{}</td><td>2019-04-11 21:52:27</td></tr>\n",
       "<tr><td>924</td><td>renfe</td><td>MADRID</td><td>VALENCIA</td><td>2019-05-11 15:30:00</td><td>2019-05-11 22:31:00</td><td>7.02</td><td>AVE-MD</td><td>Turista con enlace</td><td>null</td><td>Flexible</td><td>null</td><td>{}</td><td>2019-04-11 21:52:27</td></tr>\n",
       "<tr><td>1036</td><td>renfe</td><td>MADRID</td><td>VALENCIA</td><td>2019-06-08 08:00:00</td><td>2019-06-08 14:10:00</td><td>6.17</td><td>REGIONAL</td><td>Turista</td><td>28.35</td><td>Adulto ida</td><td>null</td><td>{}</td><td>2019-04-11 21:53:16</td></tr>\n",
       "<tr><td>1200</td><td>renfe</td><td>MADRID</td><td>VALENCIA</td><td>2019-04-30 11:55:00</td><td>2019-04-30 13:35:00</td><td>1.67</td><td>AVE</td><td>Turista</td><td>33.65</td><td>Promo</td><td>null</td><td>{}</td><td>2019-04-11 21:53:47</td></tr>\n",
       "<tr><td>1236</td><td>renfe</td><td>MADRID</td><td>SEVILLA</td><td>2019-05-04 07:00:00</td><td>2019-05-04 09:55:00</td><td>2.92</td><td>AV City</td><td>Turista Plus</td><td>58.95</td><td>Promo</td><td>null</td><td>{}</td><td>2019-04-11 21:53:47</td></tr>\n",
       "<tr><td>1243</td><td>renfe</td><td>MADRID</td><td>SEVILLA</td><td>2019-05-04 10:00:00</td><td>2019-05-04 12:32:00</td><td>2.53</td><td>AVE</td><td>Turista con enlace</td><td>null</td><td>Promo +</td><td>null</td><td>{}</td><td>2019-04-11 21:53:47</td></tr>\n",
       "<tr><td>1318</td><td>renfe</td><td>MADRID</td><td>SEVILLA</td><td>2019-05-19 13:00:00</td><td>2019-05-19 15:40:00</td><td>2.67</td><td>AVE</td><td>Turista</td><td>53.4</td><td>Promo</td><td>null</td><td>{}</td><td>2019-04-11 21:54:01</td></tr>\n",
       "<tr><td>1427</td><td>renfe</td><td>MADRID</td><td>VALENCIA</td><td>2019-05-15 15:30:00</td><td>2019-05-15 22:31:00</td><td>7.02</td><td>AVE-MD</td><td>Turista con enlace</td><td>53.25</td><td>Promo +</td><td>null</td><td>{}</td><td>2019-04-11 21:54:17</td></tr>\n",
       "<tr><td>1504</td><td>renfe</td><td>MADRID</td><td>VALENCIA</td><td>2019-04-14 06:20:00</td><td>2019-04-14 12:55:00</td><td>6.58</td><td>REGIONAL</td><td>Turista</td><td>28.35</td><td>Adulto ida</td><td>null</td><td>{}</td><td>2019-04-11 21:54:33</td></tr>\n",
       "</table>\n",
       "only showing top 20 rows\n"
      ],
      "text/plain": [
       "+----+-------+------+-----------+-------------------+-------------------+--------+------------+------------------+-----+----------+-----+----+-------------------+\n",
       "|  id|company|origin|destination|          departure|            arrival|duration|vehicle_type|     vehicle_class|price|      fare|seats|meta|        insert_date|\n",
       "+----+-------+------+-----------+-------------------+-------------------+--------+------------+------------------+-----+----------+-----+----+-------------------+\n",
       "| 122|  renfe|MADRID|  BARCELONA|2019-05-22 19:00:00|2019-05-22 21:30:00|     2.5|         AVE|      Turista Plus|82.35|     Promo| null|  {}|2019-04-11 21:50:04|\n",
       "| 189|  renfe|MADRID|  BARCELONA|2019-04-27 10:30:00|2019-04-27 13:15:00|    2.75|         AVE|           Turista|58.15|     Promo| null|  {}|2019-04-11 21:50:20|\n",
       "| 207|  renfe|MADRID|  BARCELONA|2019-04-27 19:30:00|2019-04-27 22:40:00|    3.17|         AVE|      Turista Plus| 90.5|     Promo| null|  {}|2019-04-11 21:50:20|\n",
       "| 255|  renfe|MADRID|  BARCELONA|2019-05-28 17:00:00|2019-05-28 19:30:00|     2.5|         AVE|           Turista|88.95|     Promo| null|  {}|2019-04-11 21:50:23|\n",
       "| 271|  renfe|MADRID|  BARCELONA|2019-05-28 08:20:00|2019-05-28 11:05:00|    2.75|         AVE|           Turista| 75.4|     Promo| null|  {}|2019-04-11 21:50:23|\n",
       "| 292|  renfe|MADRID|    SEVILLA|2019-06-01 13:10:00|2019-06-01 20:51:00|    7.68|       MD-LD|        Preferente| null|     Promo| null|  {}|2019-04-11 21:50:34|\n",
       "| 329|  renfe|MADRID|    SEVILLA|2019-06-02 19:00:00|2019-06-02 21:38:00|    2.63|         AVE|        Preferente| 69.4|     Promo| null|  {}|2019-04-11 21:50:38|\n",
       "| 668|  renfe|MADRID|    SEVILLA|2019-05-21 08:00:00|2019-05-21 10:32:00|    2.53|         AVE|           Turista| 47.3|     Promo| null|  {}|2019-04-11 21:51:50|\n",
       "| 777|  renfe|MADRID|    SEVILLA|2019-04-22 18:00:00|2019-04-22 20:32:00|    2.53|         AVE|           Turista| 53.4|     Promo| null|  {}|2019-04-11 21:51:53|\n",
       "| 857|  renfe|MADRID|  BARCELONA|2019-06-01 20:30:00|2019-06-01 23:40:00|    3.17|         AVE|      Turista Plus| 59.5|     Promo| null|  {}|2019-04-11 21:52:08|\n",
       "| 866|  renfe|MADRID|  BARCELONA|2019-06-01 19:30:00|2019-06-01 22:40:00|    3.17|         AVE|      Turista Plus| 38.8|     Promo| null|  {}|2019-04-11 21:52:08|\n",
       "| 899|  renfe|MADRID|   VALENCIA|2019-05-12 14:10:00|2019-05-12 16:03:00|    1.88|         AVE|           Turista| 45.3|     Promo| null|  {}|2019-04-11 21:52:27|\n",
       "| 924|  renfe|MADRID|   VALENCIA|2019-05-11 15:30:00|2019-05-11 22:31:00|    7.02|      AVE-MD|Turista con enlace| null|  Flexible| null|  {}|2019-04-11 21:52:27|\n",
       "|1036|  renfe|MADRID|   VALENCIA|2019-06-08 08:00:00|2019-06-08 14:10:00|    6.17|    REGIONAL|           Turista|28.35|Adulto ida| null|  {}|2019-04-11 21:53:16|\n",
       "|1200|  renfe|MADRID|   VALENCIA|2019-04-30 11:55:00|2019-04-30 13:35:00|    1.67|         AVE|           Turista|33.65|     Promo| null|  {}|2019-04-11 21:53:47|\n",
       "|1236|  renfe|MADRID|    SEVILLA|2019-05-04 07:00:00|2019-05-04 09:55:00|    2.92|     AV City|      Turista Plus|58.95|     Promo| null|  {}|2019-04-11 21:53:47|\n",
       "|1243|  renfe|MADRID|    SEVILLA|2019-05-04 10:00:00|2019-05-04 12:32:00|    2.53|         AVE|Turista con enlace| null|   Promo +| null|  {}|2019-04-11 21:53:47|\n",
       "|1318|  renfe|MADRID|    SEVILLA|2019-05-19 13:00:00|2019-05-19 15:40:00|    2.67|         AVE|           Turista| 53.4|     Promo| null|  {}|2019-04-11 21:54:01|\n",
       "|1427|  renfe|MADRID|   VALENCIA|2019-05-15 15:30:00|2019-05-15 22:31:00|    7.02|      AVE-MD|Turista con enlace|53.25|   Promo +| null|  {}|2019-04-11 21:54:17|\n",
       "|1504|  renfe|MADRID|   VALENCIA|2019-04-14 06:20:00|2019-04-14 12:55:00|    6.58|    REGIONAL|           Turista|28.35|Adulto ida| null|  {}|2019-04-11 21:54:33|\n",
       "+----+-------+------+-----------+-------------------+-------------------+--------+------------+------------------+-----+----------+-----+----+-------------------+\n",
       "only showing top 20 rows"
      ]
     },
     "execution_count": 7,
     "metadata": {},
     "output_type": "execute_result"
    }
   ],
   "source": [
    "sdf_sample = sdf.sample(fraction=0.01, withReplacement=False)\n",
    "\n",
    "sdf_sample"
   ]
  },
  {
   "cell_type": "markdown",
   "metadata": {},
   "source": [
    "#### persist data"
   ]
  },
  {
   "cell_type": "code",
   "execution_count": 8,
   "metadata": {},
   "outputs": [],
   "source": [
    "SAMPLE_PATH = '/home/ubuntu/Desktop/renfe_sample'\n",
    "\n",
    "sdf_sample.write.mode('overwrite').parquet(SAMPLE_PATH)"
   ]
  },
  {
   "cell_type": "markdown",
   "metadata": {},
   "source": [
    "#### query data"
   ]
  },
  {
   "cell_type": "code",
   "execution_count": 9,
   "metadata": {},
   "outputs": [
    {
     "data": {
      "text/html": [
       "<table border='1'>\n",
       "<tr><th>id</th><th>company</th><th>origin</th><th>destination</th><th>departure</th><th>arrival</th><th>duration</th><th>vehicle_type</th><th>vehicle_class</th><th>price</th><th>fare</th><th>seats</th><th>meta</th><th>insert_date</th></tr>\n",
       "<tr><td>27299680</td><td>renfe</td><td>MADRID</td><td>GIRONA</td><td>2020-05-24 06:20:00</td><td>2020-05-24 10:23:00</td><td>4.05</td><td>AVE</td><td>null</td><td>null</td><td>null</td><td>null</td><td>{}</td><td>2020-03-15 12:19:09</td></tr>\n",
       "<tr><td>27299730</td><td>renfe</td><td>MADRID</td><td>LLEIDA</td><td>2020-03-30 15:30:00</td><td>2020-03-30 17:35:00</td><td>2.08</td><td>AVE</td><td>null</td><td>null</td><td>null</td><td>null</td><td>{}</td><td>2020-03-15 12:19:10</td></tr>\n",
       "<tr><td>27299837</td><td>renfe</td><td>MADRID</td><td>GIRONA</td><td>2020-05-27 19:00:00</td><td>2020-05-27 22:18:00</td><td>3.3</td><td>AVE</td><td>null</td><td>null</td><td>null</td><td>null</td><td>{}</td><td>2020-03-15 12:19:12</td></tr>\n",
       "<tr><td>27299972</td><td>renfe</td><td>MADRID</td><td>LLEIDA</td><td>2020-04-16 11:30:00</td><td>2020-04-16 13:35:00</td><td>2.08</td><td>AVE</td><td>null</td><td>null</td><td>null</td><td>null</td><td>{}</td><td>2020-03-15 12:19:15</td></tr>\n",
       "<tr><td>27300049</td><td>renfe</td><td>MADRID</td><td>LLEIDA</td><td>2020-05-03 09:30:00</td><td>2020-05-03 11:29:00</td><td>1.98</td><td>AVE</td><td>null</td><td>null</td><td>null</td><td>null</td><td>{}</td><td>2020-03-15 12:19:50</td></tr>\n",
       "<tr><td>27300479</td><td>renfe</td><td>MADRID</td><td>LLEIDA</td><td>2020-05-07 09:30:00</td><td>2020-05-07 11:29:00</td><td>1.98</td><td>AVE</td><td>null</td><td>null</td><td>null</td><td>null</td><td>{}</td><td>2020-03-15 12:19:59</td></tr>\n",
       "<tr><td>27300508</td><td>renfe</td><td>TARRAGONA</td><td>MADRID</td><td>2020-04-17 08:33:00</td><td>2020-04-17 11:10:00</td><td>2.62</td><td>AVE</td><td>null</td><td>null</td><td>null</td><td>null</td><td>{}</td><td>2020-03-15 12:20:00</td></tr>\n",
       "<tr><td>27300757</td><td>renfe</td><td>MADRID</td><td>LLEIDA</td><td>2020-05-08 17:30:00</td><td>2020-05-08 19:35:00</td><td>2.08</td><td>AVE</td><td>null</td><td>null</td><td>null</td><td>null</td><td>{}</td><td>2020-03-15 12:20:04</td></tr>\n",
       "<tr><td>27300861</td><td>renfe</td><td>TARRAGONA</td><td>MADRID</td><td>2020-04-20 07:57:00</td><td>2020-04-20 10:01:00</td><td>2.07</td><td>AVE</td><td>null</td><td>null</td><td>null</td><td>null</td><td>{}</td><td>2020-03-15 12:20:07</td></tr>\n",
       "<tr><td>27300865</td><td>renfe</td><td>MADRID</td><td>LLEIDA</td><td>2020-04-21 07:30:00</td><td>2020-04-21 09:35:00</td><td>2.08</td><td>AVE</td><td>null</td><td>null</td><td>null</td><td>null</td><td>{}</td><td>2020-03-15 12:20:07</td></tr>\n",
       "<tr><td>27300878</td><td>renfe</td><td>TARRAGONA</td><td>MADRID</td><td>2020-05-07 07:57:00</td><td>2020-05-07 10:01:00</td><td>2.07</td><td>AVE</td><td>null</td><td>null</td><td>null</td><td>null</td><td>{}</td><td>2020-03-15 12:20:07</td></tr>\n",
       "<tr><td>27301035</td><td>renfe</td><td>MADRID</td><td>BARCELONA</td><td>2020-04-09 18:30:00</td><td>2020-04-09 21:20:00</td><td>2.83</td><td>AVE</td><td>null</td><td>null</td><td>null</td><td>null</td><td>{}</td><td>2020-03-15 12:20:19</td></tr>\n",
       "<tr><td>27301041</td><td>renfe</td><td>MADRID</td><td>ZARAGOZA</td><td>2020-05-31 11:30:00</td><td>2020-05-31 12:51:00</td><td>1.35</td><td>AVE</td><td>null</td><td>null</td><td>null</td><td>null</td><td>{}</td><td>2020-03-15 12:20:19</td></tr>\n",
       "<tr><td>27301046</td><td>renfe</td><td>MADRID</td><td>ZARAGOZA</td><td>2020-05-23 17:30:00</td><td>2020-05-23 18:51:00</td><td>1.35</td><td>AVE</td><td>null</td><td>null</td><td>null</td><td>null</td><td>{}</td><td>2020-03-15 12:20:19</td></tr>\n",
       "<tr><td>27301303</td><td>renfe</td><td>MADRID</td><td>ZARAGOZA</td><td>2020-05-22 16:35:00</td><td>2020-05-22 17:56:00</td><td>1.35</td><td>AVE</td><td>null</td><td>null</td><td>null</td><td>null</td><td>{}</td><td>2020-03-15 12:20:20</td></tr>\n",
       "<tr><td>27301356</td><td>renfe</td><td>MADRID</td><td>BARCELONA</td><td>2020-03-15 21:25:00</td><td>2020-03-15 23:55:00</td><td>2.5</td><td>AVE</td><td>Turista</td><td>81.7</td><td>Promo +</td><td>null</td><td>{&quot;Turista&quot;: {&quot;Mes...</td><td>2020-03-15 12:20:21</td></tr>\n",
       "<tr><td>27301516</td><td>renfe</td><td>MADRID</td><td>BARCELONA</td><td>2020-03-25 07:00:00</td><td>2020-03-25 09:30:00</td><td>2.5</td><td>AVE</td><td>null</td><td>null</td><td>null</td><td>null</td><td>{}</td><td>2020-03-15 12:20:23</td></tr>\n",
       "<tr><td>27301733</td><td>renfe</td><td>MADRID</td><td>ZARAGOZA</td><td>2020-05-12 17:30:00</td><td>2020-05-12 18:51:00</td><td>1.35</td><td>AVE</td><td>null</td><td>null</td><td>null</td><td>null</td><td>{}</td><td>2020-03-15 12:20:26</td></tr>\n",
       "<tr><td>27301819</td><td>renfe</td><td>MADRID</td><td>BARCELONA</td><td>2020-03-26 20:30:00</td><td>2020-03-26 23:40:00</td><td>3.17</td><td>AVE</td><td>null</td><td>null</td><td>null</td><td>null</td><td>{}</td><td>2020-03-15 12:20:27</td></tr>\n",
       "<tr><td>27301898</td><td>renfe</td><td>MADRID</td><td>ZARAGOZA</td><td>2020-03-21 16:30:00</td><td>2020-03-21 17:45:00</td><td>1.25</td><td>AVE</td><td>null</td><td>null</td><td>null</td><td>null</td><td>{}</td><td>2020-03-15 12:20:27</td></tr>\n",
       "</table>\n",
       "only showing top 20 rows\n"
      ],
      "text/plain": [
       "+--------+-------+---------+-----------+-------------------+-------------------+--------+------------+-------------+-----+-------+-----+--------------------+-------------------+\n",
       "|      id|company|   origin|destination|          departure|            arrival|duration|vehicle_type|vehicle_class|price|   fare|seats|                meta|        insert_date|\n",
       "+--------+-------+---------+-----------+-------------------+-------------------+--------+------------+-------------+-----+-------+-----+--------------------+-------------------+\n",
       "|27299680|  renfe|   MADRID|     GIRONA|2020-05-24 06:20:00|2020-05-24 10:23:00|    4.05|         AVE|         null| null|   null| null|                  {}|2020-03-15 12:19:09|\n",
       "|27299730|  renfe|   MADRID|     LLEIDA|2020-03-30 15:30:00|2020-03-30 17:35:00|    2.08|         AVE|         null| null|   null| null|                  {}|2020-03-15 12:19:10|\n",
       "|27299837|  renfe|   MADRID|     GIRONA|2020-05-27 19:00:00|2020-05-27 22:18:00|     3.3|         AVE|         null| null|   null| null|                  {}|2020-03-15 12:19:12|\n",
       "|27299972|  renfe|   MADRID|     LLEIDA|2020-04-16 11:30:00|2020-04-16 13:35:00|    2.08|         AVE|         null| null|   null| null|                  {}|2020-03-15 12:19:15|\n",
       "|27300049|  renfe|   MADRID|     LLEIDA|2020-05-03 09:30:00|2020-05-03 11:29:00|    1.98|         AVE|         null| null|   null| null|                  {}|2020-03-15 12:19:50|\n",
       "|27300479|  renfe|   MADRID|     LLEIDA|2020-05-07 09:30:00|2020-05-07 11:29:00|    1.98|         AVE|         null| null|   null| null|                  {}|2020-03-15 12:19:59|\n",
       "|27300508|  renfe|TARRAGONA|     MADRID|2020-04-17 08:33:00|2020-04-17 11:10:00|    2.62|         AVE|         null| null|   null| null|                  {}|2020-03-15 12:20:00|\n",
       "|27300757|  renfe|   MADRID|     LLEIDA|2020-05-08 17:30:00|2020-05-08 19:35:00|    2.08|         AVE|         null| null|   null| null|                  {}|2020-03-15 12:20:04|\n",
       "|27300861|  renfe|TARRAGONA|     MADRID|2020-04-20 07:57:00|2020-04-20 10:01:00|    2.07|         AVE|         null| null|   null| null|                  {}|2020-03-15 12:20:07|\n",
       "|27300865|  renfe|   MADRID|     LLEIDA|2020-04-21 07:30:00|2020-04-21 09:35:00|    2.08|         AVE|         null| null|   null| null|                  {}|2020-03-15 12:20:07|\n",
       "|27300878|  renfe|TARRAGONA|     MADRID|2020-05-07 07:57:00|2020-05-07 10:01:00|    2.07|         AVE|         null| null|   null| null|                  {}|2020-03-15 12:20:07|\n",
       "|27301035|  renfe|   MADRID|  BARCELONA|2020-04-09 18:30:00|2020-04-09 21:20:00|    2.83|         AVE|         null| null|   null| null|                  {}|2020-03-15 12:20:19|\n",
       "|27301041|  renfe|   MADRID|   ZARAGOZA|2020-05-31 11:30:00|2020-05-31 12:51:00|    1.35|         AVE|         null| null|   null| null|                  {}|2020-03-15 12:20:19|\n",
       "|27301046|  renfe|   MADRID|   ZARAGOZA|2020-05-23 17:30:00|2020-05-23 18:51:00|    1.35|         AVE|         null| null|   null| null|                  {}|2020-03-15 12:20:19|\n",
       "|27301303|  renfe|   MADRID|   ZARAGOZA|2020-05-22 16:35:00|2020-05-22 17:56:00|    1.35|         AVE|         null| null|   null| null|                  {}|2020-03-15 12:20:20|\n",
       "|27301356|  renfe|   MADRID|  BARCELONA|2020-03-15 21:25:00|2020-03-15 23:55:00|     2.5|         AVE|      Turista| 81.7|Promo +| null|{\"Turista\": {\"Mes...|2020-03-15 12:20:21|\n",
       "|27301516|  renfe|   MADRID|  BARCELONA|2020-03-25 07:00:00|2020-03-25 09:30:00|     2.5|         AVE|         null| null|   null| null|                  {}|2020-03-15 12:20:23|\n",
       "|27301733|  renfe|   MADRID|   ZARAGOZA|2020-05-12 17:30:00|2020-05-12 18:51:00|    1.35|         AVE|         null| null|   null| null|                  {}|2020-03-15 12:20:26|\n",
       "|27301819|  renfe|   MADRID|  BARCELONA|2020-03-26 20:30:00|2020-03-26 23:40:00|    3.17|         AVE|         null| null|   null| null|                  {}|2020-03-15 12:20:27|\n",
       "|27301898|  renfe|   MADRID|   ZARAGOZA|2020-03-21 16:30:00|2020-03-21 17:45:00|    1.25|         AVE|         null| null|   null| null|                  {}|2020-03-15 12:20:27|\n",
       "+--------+-------+---------+-----------+-------------------+-------------------+--------+------------+-------------+-----+-------+-----+--------------------+-------------------+\n",
       "only showing top 20 rows"
      ]
     },
     "execution_count": 9,
     "metadata": {},
     "output_type": "execute_result"
    }
   ],
   "source": [
    "sdf_sample = spark.read.parquet(SAMPLE_PATH)\n",
    "\n",
    "sdf_sample"
   ]
  },
  {
   "cell_type": "code",
   "execution_count": 10,
   "metadata": {},
   "outputs": [
    {
     "data": {
      "text/html": [
       "<table border='1'>\n",
       "<tr><th>origin</th><th>destination</th></tr>\n",
       "<tr><td>MADRID</td><td>GIRONA</td></tr>\n",
       "<tr><td>MADRID</td><td>LLEIDA</td></tr>\n",
       "<tr><td>MADRID</td><td>GIRONA</td></tr>\n",
       "<tr><td>MADRID</td><td>LLEIDA</td></tr>\n",
       "<tr><td>MADRID</td><td>LLEIDA</td></tr>\n",
       "</table>\n"
      ],
      "text/plain": [
       "+------+-----------+\n",
       "|origin|destination|\n",
       "+------+-----------+\n",
       "|MADRID|     GIRONA|\n",
       "|MADRID|     LLEIDA|\n",
       "|MADRID|     GIRONA|\n",
       "|MADRID|     LLEIDA|\n",
       "|MADRID|     LLEIDA|\n",
       "+------+-----------+"
      ]
     },
     "execution_count": 10,
     "metadata": {},
     "output_type": "execute_result"
    }
   ],
   "source": [
    "sdf_sample.select(['origin', 'destination']).limit(5)"
   ]
  },
  {
   "cell_type": "markdown",
   "metadata": {},
   "source": [
    "#### filter data"
   ]
  },
  {
   "cell_type": "code",
   "execution_count": 11,
   "metadata": {},
   "outputs": [
    {
     "data": {
      "text/html": [
       "<table border='1'>\n",
       "<tr><th>id</th><th>company</th><th>origin</th><th>destination</th><th>departure</th><th>arrival</th><th>duration</th><th>vehicle_type</th><th>vehicle_class</th><th>price</th><th>fare</th><th>seats</th><th>meta</th><th>insert_date</th></tr>\n",
       "<tr><td>37403110</td><td>renfe</td><td>MADRID</td><td>BARCELONA</td><td>2020-10-15 09:40:00</td><td>2020-10-15 16:17:48</td><td>6.63</td><td>AVE-LD</td><td>Turista con enlace</td><td>50.6</td><td>Promo +</td><td>232</td><td>{&quot;Turista con enl...</td><td>2020-09-28 16:10:...</td></tr>\n",
       "<tr><td>37403347</td><td>renfe</td><td>MADRID</td><td>BARCELONA</td><td>2020-10-07 09:40:00</td><td>2020-10-07 16:17:48</td><td>6.63</td><td>AVE-LD</td><td>Turista con enlace</td><td>41.4</td><td>Promo +</td><td>216</td><td>{&quot;Turista con enl...</td><td>2020-09-28 16:10:...</td></tr>\n",
       "<tr><td>37403576</td><td>renfe</td><td>BARCELONA</td><td>MADRID</td><td>2020-11-07 09:03:00</td><td>2020-11-07 18:07:12</td><td>9.07</td><td>REG.EXP.</td><td>Turista</td><td>43.25</td><td>Adulto ida</td><td>209</td><td>{&quot;Turista&quot;: {&quot;Adu...</td><td>2020-09-28 16:11:...</td></tr>\n",
       "<tr><td>37403767</td><td>renfe</td><td>BARCELONA</td><td>VALENCIA</td><td>2020-11-11 10:00:00</td><td>2020-11-11 15:07:48</td><td>5.13</td><td>REG.EXP.</td><td>Turista</td><td>29.55</td><td>Adulto ida</td><td>209</td><td>{&quot;Turista&quot;: {&quot;Adu...</td><td>2020-09-28 16:11:...</td></tr>\n",
       "<tr><td>37404286</td><td>renfe</td><td>LEÓN</td><td>MADRID</td><td>2020-11-20 20:31:00</td><td>2020-11-20 22:46:00</td><td>2.25</td><td>ALVIA</td><td>Turista</td><td>27.6</td><td>Promo +</td><td>236</td><td>{&quot;Turista&quot;: {&quot;Pro...</td><td>2020-09-28 16:12:...</td></tr>\n",
       "<tr><td>37404324</td><td>renfe</td><td>MADRID</td><td>CÓRDOBA</td><td>2020-10-04 13:30:00</td><td>2020-10-04 15:15:00</td><td>1.75</td><td>ALVIA</td><td>Turista</td><td>55.9</td><td>Flexible</td><td>21</td><td>{&quot;Turista&quot;: {&quot;Fle...</td><td>2020-09-28 16:12:...</td></tr>\n",
       "<tr><td>37404397</td><td>renfe</td><td>LEÓN</td><td>MADRID</td><td>2020-10-29 15:50:00</td><td>2020-10-29 20:48:12</td><td>4.97</td><td>MD</td><td>Turista</td><td>38.85</td><td>Adulto ida</td><td>245</td><td>{&quot;Turista&quot;: {&quot;Adu...</td><td>2020-09-28 16:12:...</td></tr>\n",
       "<tr><td>37404439</td><td>renfe</td><td>LEÓN</td><td>MADRID</td><td>2020-10-27 15:50:00</td><td>2020-10-27 20:48:12</td><td>4.97</td><td>MD</td><td>Turista</td><td>38.85</td><td>Adulto ida</td><td>245</td><td>{&quot;Turista&quot;: {&quot;Adu...</td><td>2020-09-28 16:12:...</td></tr>\n",
       "<tr><td>37404836</td><td>renfe</td><td>VALENCIA</td><td>BARCELONA</td><td>2020-11-21 19:15:00</td><td>2020-11-21 21:55:12</td><td>2.67</td><td>EUROMED</td><td>Turista</td><td>28.5</td><td>Promo +</td><td>236</td><td>{&quot;Turista&quot;: {&quot;Pro...</td><td>2020-09-28 16:13:...</td></tr>\n",
       "<tr><td>37404905</td><td>renfe</td><td>SEVILLA</td><td>MADRID</td><td>2020-11-24 10:45:00</td><td>2020-11-24 13:16:48</td><td>2.53</td><td>AVE</td><td>Turista</td><td>27.0</td><td>Promo +</td><td>267</td><td>{&quot;Turista&quot;: {&quot;Pro...</td><td>2020-09-28 16:13:...</td></tr>\n",
       "<tr><td>37405039</td><td>renfe</td><td>VALENCIA</td><td>BARCELONA</td><td>2020-11-24 16:38:00</td><td>2020-11-24 22:06:48</td><td>5.48</td><td>REG.EXP.</td><td>Turista</td><td>29.55</td><td>Adulto ida</td><td>221</td><td>{&quot;Turista&quot;: {&quot;Adu...</td><td>2020-09-28 16:13:...</td></tr>\n",
       "<tr><td>37405088</td><td>renfe</td><td>SEVILLA</td><td>MADRID</td><td>2020-10-05 19:45:00</td><td>2020-10-05 22:16:48</td><td>2.53</td><td>AVE</td><td>Turista</td><td>51.65</td><td>Promo +</td><td>240</td><td>{&quot;Turista&quot;: {&quot;Pro...</td><td>2020-09-28 16:13:...</td></tr>\n",
       "<tr><td>37405098</td><td>renfe</td><td>VALENCIA</td><td>BARCELONA</td><td>2020-11-09 07:05:00</td><td>2020-11-09 09:45:12</td><td>2.67</td><td>EUROMED</td><td>Turista</td><td>28.5</td><td>Promo +</td><td>236</td><td>{&quot;Turista&quot;: {&quot;Pro...</td><td>2020-09-28 16:13:...</td></tr>\n",
       "<tr><td>37405106</td><td>renfe</td><td>VALENCIA</td><td>BARCELONA</td><td>2020-11-16 07:05:00</td><td>2020-11-16 09:45:12</td><td>2.67</td><td>EUROMED</td><td>Turista</td><td>28.5</td><td>Promo +</td><td>236</td><td>{&quot;Turista&quot;: {&quot;Pro...</td><td>2020-09-28 16:13:...</td></tr>\n",
       "<tr><td>37405177</td><td>renfe</td><td>VALENCIA</td><td>BARCELONA</td><td>2020-11-12 11:15:00</td><td>2020-11-12 13:55:12</td><td>2.67</td><td>EUROMED</td><td>Turista</td><td>28.5</td><td>Promo +</td><td>236</td><td>{&quot;Turista&quot;: {&quot;Pro...</td><td>2020-09-28 16:13:...</td></tr>\n",
       "<tr><td>37405262</td><td>renfe</td><td>MADRID</td><td>ZARAGOZA</td><td>2020-10-03 12:30:00</td><td>2020-10-03 13:45:00</td><td>1.25</td><td>AVE</td><td>Turista</td><td>55.7</td><td>Flexible</td><td>278</td><td>{&quot;Turista&quot;: {&quot;Fle...</td><td>2020-09-28 16:13:...</td></tr>\n",
       "<tr><td>37405265</td><td>renfe</td><td>MADRID</td><td>ZARAGOZA</td><td>2020-10-03 17:30:00</td><td>2020-10-03 18:51:00</td><td>1.35</td><td>AVE</td><td>Turista</td><td>55.7</td><td>Flexible</td><td>275</td><td>{&quot;Turista&quot;: {&quot;Fle...</td><td>2020-09-28 16:13:...</td></tr>\n",
       "<tr><td>37405382</td><td>renfe</td><td>VALLADOLID</td><td>MADRID</td><td>2020-10-01 06:23:00</td><td>2020-10-01 07:27:48</td><td>1.08</td><td>AVANT</td><td>Turista</td><td>31.1</td><td>Adulto ida</td><td>42</td><td>{&quot;Turista&quot;: {&quot;Adu...</td><td>2020-09-28 16:13:...</td></tr>\n",
       "<tr><td>37405404</td><td>renfe</td><td>MÁLAGA</td><td>MADRID</td><td>2020-11-25 16:02:00</td><td>2020-11-25 18:41:00</td><td>2.65</td><td>AVE</td><td>Turista</td><td>28.4</td><td>Promo +</td><td>262</td><td>{&quot;Turista&quot;: {&quot;Pro...</td><td>2020-09-28 16:13:...</td></tr>\n",
       "<tr><td>37405546</td><td>renfe</td><td>MADRID</td><td>ZARAGOZA</td><td>2020-11-19 20:30:00</td><td>2020-11-19 21:54:00</td><td>1.4</td><td>AVE</td><td>Turista</td><td>55.7</td><td>Flexible</td><td>332</td><td>{&quot;Turista&quot;: {&quot;Fle...</td><td>2020-09-28 16:13:...</td></tr>\n",
       "</table>\n",
       "only showing top 20 rows\n"
      ],
      "text/plain": [
       "+--------+-------+----------+-----------+-------------------+-------------------+--------+------------+------------------+-----+----------+-----+--------------------+--------------------+\n",
       "|      id|company|    origin|destination|          departure|            arrival|duration|vehicle_type|     vehicle_class|price|      fare|seats|                meta|         insert_date|\n",
       "+--------+-------+----------+-----------+-------------------+-------------------+--------+------------+------------------+-----+----------+-----+--------------------+--------------------+\n",
       "|37403110|  renfe|    MADRID|  BARCELONA|2020-10-15 09:40:00|2020-10-15 16:17:48|    6.63|      AVE-LD|Turista con enlace| 50.6|   Promo +|  232|{\"Turista con enl...|2020-09-28 16:10:...|\n",
       "|37403347|  renfe|    MADRID|  BARCELONA|2020-10-07 09:40:00|2020-10-07 16:17:48|    6.63|      AVE-LD|Turista con enlace| 41.4|   Promo +|  216|{\"Turista con enl...|2020-09-28 16:10:...|\n",
       "|37403576|  renfe| BARCELONA|     MADRID|2020-11-07 09:03:00|2020-11-07 18:07:12|    9.07|    REG.EXP.|           Turista|43.25|Adulto ida|  209|{\"Turista\": {\"Adu...|2020-09-28 16:11:...|\n",
       "|37403767|  renfe| BARCELONA|   VALENCIA|2020-11-11 10:00:00|2020-11-11 15:07:48|    5.13|    REG.EXP.|           Turista|29.55|Adulto ida|  209|{\"Turista\": {\"Adu...|2020-09-28 16:11:...|\n",
       "|37404286|  renfe|      LEÓN|     MADRID|2020-11-20 20:31:00|2020-11-20 22:46:00|    2.25|       ALVIA|           Turista| 27.6|   Promo +|  236|{\"Turista\": {\"Pro...|2020-09-28 16:12:...|\n",
       "|37404324|  renfe|    MADRID|    CÓRDOBA|2020-10-04 13:30:00|2020-10-04 15:15:00|    1.75|       ALVIA|           Turista| 55.9|  Flexible|   21|{\"Turista\": {\"Fle...|2020-09-28 16:12:...|\n",
       "|37404397|  renfe|      LEÓN|     MADRID|2020-10-29 15:50:00|2020-10-29 20:48:12|    4.97|          MD|           Turista|38.85|Adulto ida|  245|{\"Turista\": {\"Adu...|2020-09-28 16:12:...|\n",
       "|37404439|  renfe|      LEÓN|     MADRID|2020-10-27 15:50:00|2020-10-27 20:48:12|    4.97|          MD|           Turista|38.85|Adulto ida|  245|{\"Turista\": {\"Adu...|2020-09-28 16:12:...|\n",
       "|37404836|  renfe|  VALENCIA|  BARCELONA|2020-11-21 19:15:00|2020-11-21 21:55:12|    2.67|     EUROMED|           Turista| 28.5|   Promo +|  236|{\"Turista\": {\"Pro...|2020-09-28 16:13:...|\n",
       "|37404905|  renfe|   SEVILLA|     MADRID|2020-11-24 10:45:00|2020-11-24 13:16:48|    2.53|         AVE|           Turista| 27.0|   Promo +|  267|{\"Turista\": {\"Pro...|2020-09-28 16:13:...|\n",
       "|37405039|  renfe|  VALENCIA|  BARCELONA|2020-11-24 16:38:00|2020-11-24 22:06:48|    5.48|    REG.EXP.|           Turista|29.55|Adulto ida|  221|{\"Turista\": {\"Adu...|2020-09-28 16:13:...|\n",
       "|37405088|  renfe|   SEVILLA|     MADRID|2020-10-05 19:45:00|2020-10-05 22:16:48|    2.53|         AVE|           Turista|51.65|   Promo +|  240|{\"Turista\": {\"Pro...|2020-09-28 16:13:...|\n",
       "|37405098|  renfe|  VALENCIA|  BARCELONA|2020-11-09 07:05:00|2020-11-09 09:45:12|    2.67|     EUROMED|           Turista| 28.5|   Promo +|  236|{\"Turista\": {\"Pro...|2020-09-28 16:13:...|\n",
       "|37405106|  renfe|  VALENCIA|  BARCELONA|2020-11-16 07:05:00|2020-11-16 09:45:12|    2.67|     EUROMED|           Turista| 28.5|   Promo +|  236|{\"Turista\": {\"Pro...|2020-09-28 16:13:...|\n",
       "|37405177|  renfe|  VALENCIA|  BARCELONA|2020-11-12 11:15:00|2020-11-12 13:55:12|    2.67|     EUROMED|           Turista| 28.5|   Promo +|  236|{\"Turista\": {\"Pro...|2020-09-28 16:13:...|\n",
       "|37405262|  renfe|    MADRID|   ZARAGOZA|2020-10-03 12:30:00|2020-10-03 13:45:00|    1.25|         AVE|           Turista| 55.7|  Flexible|  278|{\"Turista\": {\"Fle...|2020-09-28 16:13:...|\n",
       "|37405265|  renfe|    MADRID|   ZARAGOZA|2020-10-03 17:30:00|2020-10-03 18:51:00|    1.35|         AVE|           Turista| 55.7|  Flexible|  275|{\"Turista\": {\"Fle...|2020-09-28 16:13:...|\n",
       "|37405382|  renfe|VALLADOLID|     MADRID|2020-10-01 06:23:00|2020-10-01 07:27:48|    1.08|       AVANT|           Turista| 31.1|Adulto ida|   42|{\"Turista\": {\"Adu...|2020-09-28 16:13:...|\n",
       "|37405404|  renfe|    MÁLAGA|     MADRID|2020-11-25 16:02:00|2020-11-25 18:41:00|    2.65|         AVE|           Turista| 28.4|   Promo +|  262|{\"Turista\": {\"Pro...|2020-09-28 16:13:...|\n",
       "|37405546|  renfe|    MADRID|   ZARAGOZA|2020-11-19 20:30:00|2020-11-19 21:54:00|     1.4|         AVE|           Turista| 55.7|  Flexible|  332|{\"Turista\": {\"Fle...|2020-09-28 16:13:...|\n",
       "+--------+-------+----------+-----------+-------------------+-------------------+--------+------------+------------------+-----+----------+-----+--------------------+--------------------+\n",
       "only showing top 20 rows"
      ]
     },
     "execution_count": 11,
     "metadata": {},
     "output_type": "execute_result"
    }
   ],
   "source": [
    "sdf_filtered = sdf_sample.filter((sf.col('meta') != '{}') & (sf.col('price') < 60) & (sf.col('seats').isNotNull()))\n",
    "\n",
    "sdf_filtered"
   ]
  },
  {
   "cell_type": "markdown",
   "metadata": {},
   "source": [
    "#### create new columns"
   ]
  },
  {
   "cell_type": "code",
   "execution_count": 12,
   "metadata": {},
   "outputs": [
    {
     "data": {
      "text/html": [
       "<table border='1'>\n",
       "<tr><th>id</th><th>company</th><th>origin</th><th>destination</th><th>departure</th><th>arrival</th><th>duration</th><th>vehicle_type</th><th>vehicle_class</th><th>price</th><th>fare</th><th>seats</th><th>meta</th><th>insert_date</th><th>duration_computed</th></tr>\n",
       "<tr><td>37403110</td><td>renfe</td><td>MADRID</td><td>BARCELONA</td><td>2020-10-15 09:40:00</td><td>2020-10-15 16:17:48</td><td>6.63</td><td>AVE-LD</td><td>Turista con enlace</td><td>50.6</td><td>Promo +</td><td>232</td><td>{&quot;Turista con enl...</td><td>2020-09-28 16:10:...</td><td>null</td></tr>\n",
       "<tr><td>37403347</td><td>renfe</td><td>MADRID</td><td>BARCELONA</td><td>2020-10-07 09:40:00</td><td>2020-10-07 16:17:48</td><td>6.63</td><td>AVE-LD</td><td>Turista con enlace</td><td>41.4</td><td>Promo +</td><td>216</td><td>{&quot;Turista con enl...</td><td>2020-09-28 16:10:...</td><td>null</td></tr>\n",
       "<tr><td>37403576</td><td>renfe</td><td>BARCELONA</td><td>MADRID</td><td>2020-11-07 09:03:00</td><td>2020-11-07 18:07:12</td><td>9.07</td><td>REG.EXP.</td><td>Turista</td><td>43.25</td><td>Adulto ida</td><td>209</td><td>{&quot;Turista&quot;: {&quot;Adu...</td><td>2020-09-28 16:11:...</td><td>null</td></tr>\n",
       "<tr><td>37403767</td><td>renfe</td><td>BARCELONA</td><td>VALENCIA</td><td>2020-11-11 10:00:00</td><td>2020-11-11 15:07:48</td><td>5.13</td><td>REG.EXP.</td><td>Turista</td><td>29.55</td><td>Adulto ida</td><td>209</td><td>{&quot;Turista&quot;: {&quot;Adu...</td><td>2020-09-28 16:11:...</td><td>null</td></tr>\n",
       "<tr><td>37404286</td><td>renfe</td><td>LEÓN</td><td>MADRID</td><td>2020-11-20 20:31:00</td><td>2020-11-20 22:46:00</td><td>2.25</td><td>ALVIA</td><td>Turista</td><td>27.6</td><td>Promo +</td><td>236</td><td>{&quot;Turista&quot;: {&quot;Pro...</td><td>2020-09-28 16:12:...</td><td>null</td></tr>\n",
       "<tr><td>37404324</td><td>renfe</td><td>MADRID</td><td>CÓRDOBA</td><td>2020-10-04 13:30:00</td><td>2020-10-04 15:15:00</td><td>1.75</td><td>ALVIA</td><td>Turista</td><td>55.9</td><td>Flexible</td><td>21</td><td>{&quot;Turista&quot;: {&quot;Fle...</td><td>2020-09-28 16:12:...</td><td>null</td></tr>\n",
       "<tr><td>37404397</td><td>renfe</td><td>LEÓN</td><td>MADRID</td><td>2020-10-29 15:50:00</td><td>2020-10-29 20:48:12</td><td>4.97</td><td>MD</td><td>Turista</td><td>38.85</td><td>Adulto ida</td><td>245</td><td>{&quot;Turista&quot;: {&quot;Adu...</td><td>2020-09-28 16:12:...</td><td>null</td></tr>\n",
       "<tr><td>37404439</td><td>renfe</td><td>LEÓN</td><td>MADRID</td><td>2020-10-27 15:50:00</td><td>2020-10-27 20:48:12</td><td>4.97</td><td>MD</td><td>Turista</td><td>38.85</td><td>Adulto ida</td><td>245</td><td>{&quot;Turista&quot;: {&quot;Adu...</td><td>2020-09-28 16:12:...</td><td>null</td></tr>\n",
       "<tr><td>37404836</td><td>renfe</td><td>VALENCIA</td><td>BARCELONA</td><td>2020-11-21 19:15:00</td><td>2020-11-21 21:55:12</td><td>2.67</td><td>EUROMED</td><td>Turista</td><td>28.5</td><td>Promo +</td><td>236</td><td>{&quot;Turista&quot;: {&quot;Pro...</td><td>2020-09-28 16:13:...</td><td>null</td></tr>\n",
       "<tr><td>37404905</td><td>renfe</td><td>SEVILLA</td><td>MADRID</td><td>2020-11-24 10:45:00</td><td>2020-11-24 13:16:48</td><td>2.53</td><td>AVE</td><td>Turista</td><td>27.0</td><td>Promo +</td><td>267</td><td>{&quot;Turista&quot;: {&quot;Pro...</td><td>2020-09-28 16:13:...</td><td>null</td></tr>\n",
       "<tr><td>37405039</td><td>renfe</td><td>VALENCIA</td><td>BARCELONA</td><td>2020-11-24 16:38:00</td><td>2020-11-24 22:06:48</td><td>5.48</td><td>REG.EXP.</td><td>Turista</td><td>29.55</td><td>Adulto ida</td><td>221</td><td>{&quot;Turista&quot;: {&quot;Adu...</td><td>2020-09-28 16:13:...</td><td>null</td></tr>\n",
       "<tr><td>37405088</td><td>renfe</td><td>SEVILLA</td><td>MADRID</td><td>2020-10-05 19:45:00</td><td>2020-10-05 22:16:48</td><td>2.53</td><td>AVE</td><td>Turista</td><td>51.65</td><td>Promo +</td><td>240</td><td>{&quot;Turista&quot;: {&quot;Pro...</td><td>2020-09-28 16:13:...</td><td>null</td></tr>\n",
       "<tr><td>37405098</td><td>renfe</td><td>VALENCIA</td><td>BARCELONA</td><td>2020-11-09 07:05:00</td><td>2020-11-09 09:45:12</td><td>2.67</td><td>EUROMED</td><td>Turista</td><td>28.5</td><td>Promo +</td><td>236</td><td>{&quot;Turista&quot;: {&quot;Pro...</td><td>2020-09-28 16:13:...</td><td>null</td></tr>\n",
       "<tr><td>37405106</td><td>renfe</td><td>VALENCIA</td><td>BARCELONA</td><td>2020-11-16 07:05:00</td><td>2020-11-16 09:45:12</td><td>2.67</td><td>EUROMED</td><td>Turista</td><td>28.5</td><td>Promo +</td><td>236</td><td>{&quot;Turista&quot;: {&quot;Pro...</td><td>2020-09-28 16:13:...</td><td>null</td></tr>\n",
       "<tr><td>37405177</td><td>renfe</td><td>VALENCIA</td><td>BARCELONA</td><td>2020-11-12 11:15:00</td><td>2020-11-12 13:55:12</td><td>2.67</td><td>EUROMED</td><td>Turista</td><td>28.5</td><td>Promo +</td><td>236</td><td>{&quot;Turista&quot;: {&quot;Pro...</td><td>2020-09-28 16:13:...</td><td>null</td></tr>\n",
       "<tr><td>37405262</td><td>renfe</td><td>MADRID</td><td>ZARAGOZA</td><td>2020-10-03 12:30:00</td><td>2020-10-03 13:45:00</td><td>1.25</td><td>AVE</td><td>Turista</td><td>55.7</td><td>Flexible</td><td>278</td><td>{&quot;Turista&quot;: {&quot;Fle...</td><td>2020-09-28 16:13:...</td><td>null</td></tr>\n",
       "<tr><td>37405265</td><td>renfe</td><td>MADRID</td><td>ZARAGOZA</td><td>2020-10-03 17:30:00</td><td>2020-10-03 18:51:00</td><td>1.35</td><td>AVE</td><td>Turista</td><td>55.7</td><td>Flexible</td><td>275</td><td>{&quot;Turista&quot;: {&quot;Fle...</td><td>2020-09-28 16:13:...</td><td>null</td></tr>\n",
       "<tr><td>37405382</td><td>renfe</td><td>VALLADOLID</td><td>MADRID</td><td>2020-10-01 06:23:00</td><td>2020-10-01 07:27:48</td><td>1.08</td><td>AVANT</td><td>Turista</td><td>31.1</td><td>Adulto ida</td><td>42</td><td>{&quot;Turista&quot;: {&quot;Adu...</td><td>2020-09-28 16:13:...</td><td>null</td></tr>\n",
       "<tr><td>37405404</td><td>renfe</td><td>MÁLAGA</td><td>MADRID</td><td>2020-11-25 16:02:00</td><td>2020-11-25 18:41:00</td><td>2.65</td><td>AVE</td><td>Turista</td><td>28.4</td><td>Promo +</td><td>262</td><td>{&quot;Turista&quot;: {&quot;Pro...</td><td>2020-09-28 16:13:...</td><td>null</td></tr>\n",
       "<tr><td>37405546</td><td>renfe</td><td>MADRID</td><td>ZARAGOZA</td><td>2020-11-19 20:30:00</td><td>2020-11-19 21:54:00</td><td>1.4</td><td>AVE</td><td>Turista</td><td>55.7</td><td>Flexible</td><td>332</td><td>{&quot;Turista&quot;: {&quot;Fle...</td><td>2020-09-28 16:13:...</td><td>null</td></tr>\n",
       "</table>\n",
       "only showing top 20 rows\n"
      ],
      "text/plain": [
       "+--------+-------+----------+-----------+-------------------+-------------------+--------+------------+------------------+-----+----------+-----+--------------------+--------------------+-----------------+\n",
       "|      id|company|    origin|destination|          departure|            arrival|duration|vehicle_type|     vehicle_class|price|      fare|seats|                meta|         insert_date|duration_computed|\n",
       "+--------+-------+----------+-----------+-------------------+-------------------+--------+------------+------------------+-----+----------+-----+--------------------+--------------------+-----------------+\n",
       "|37403110|  renfe|    MADRID|  BARCELONA|2020-10-15 09:40:00|2020-10-15 16:17:48|    6.63|      AVE-LD|Turista con enlace| 50.6|   Promo +|  232|{\"Turista con enl...|2020-09-28 16:10:...|             null|\n",
       "|37403347|  renfe|    MADRID|  BARCELONA|2020-10-07 09:40:00|2020-10-07 16:17:48|    6.63|      AVE-LD|Turista con enlace| 41.4|   Promo +|  216|{\"Turista con enl...|2020-09-28 16:10:...|             null|\n",
       "|37403576|  renfe| BARCELONA|     MADRID|2020-11-07 09:03:00|2020-11-07 18:07:12|    9.07|    REG.EXP.|           Turista|43.25|Adulto ida|  209|{\"Turista\": {\"Adu...|2020-09-28 16:11:...|             null|\n",
       "|37403767|  renfe| BARCELONA|   VALENCIA|2020-11-11 10:00:00|2020-11-11 15:07:48|    5.13|    REG.EXP.|           Turista|29.55|Adulto ida|  209|{\"Turista\": {\"Adu...|2020-09-28 16:11:...|             null|\n",
       "|37404286|  renfe|      LEÓN|     MADRID|2020-11-20 20:31:00|2020-11-20 22:46:00|    2.25|       ALVIA|           Turista| 27.6|   Promo +|  236|{\"Turista\": {\"Pro...|2020-09-28 16:12:...|             null|\n",
       "|37404324|  renfe|    MADRID|    CÓRDOBA|2020-10-04 13:30:00|2020-10-04 15:15:00|    1.75|       ALVIA|           Turista| 55.9|  Flexible|   21|{\"Turista\": {\"Fle...|2020-09-28 16:12:...|             null|\n",
       "|37404397|  renfe|      LEÓN|     MADRID|2020-10-29 15:50:00|2020-10-29 20:48:12|    4.97|          MD|           Turista|38.85|Adulto ida|  245|{\"Turista\": {\"Adu...|2020-09-28 16:12:...|             null|\n",
       "|37404439|  renfe|      LEÓN|     MADRID|2020-10-27 15:50:00|2020-10-27 20:48:12|    4.97|          MD|           Turista|38.85|Adulto ida|  245|{\"Turista\": {\"Adu...|2020-09-28 16:12:...|             null|\n",
       "|37404836|  renfe|  VALENCIA|  BARCELONA|2020-11-21 19:15:00|2020-11-21 21:55:12|    2.67|     EUROMED|           Turista| 28.5|   Promo +|  236|{\"Turista\": {\"Pro...|2020-09-28 16:13:...|             null|\n",
       "|37404905|  renfe|   SEVILLA|     MADRID|2020-11-24 10:45:00|2020-11-24 13:16:48|    2.53|         AVE|           Turista| 27.0|   Promo +|  267|{\"Turista\": {\"Pro...|2020-09-28 16:13:...|             null|\n",
       "|37405039|  renfe|  VALENCIA|  BARCELONA|2020-11-24 16:38:00|2020-11-24 22:06:48|    5.48|    REG.EXP.|           Turista|29.55|Adulto ida|  221|{\"Turista\": {\"Adu...|2020-09-28 16:13:...|             null|\n",
       "|37405088|  renfe|   SEVILLA|     MADRID|2020-10-05 19:45:00|2020-10-05 22:16:48|    2.53|         AVE|           Turista|51.65|   Promo +|  240|{\"Turista\": {\"Pro...|2020-09-28 16:13:...|             null|\n",
       "|37405098|  renfe|  VALENCIA|  BARCELONA|2020-11-09 07:05:00|2020-11-09 09:45:12|    2.67|     EUROMED|           Turista| 28.5|   Promo +|  236|{\"Turista\": {\"Pro...|2020-09-28 16:13:...|             null|\n",
       "|37405106|  renfe|  VALENCIA|  BARCELONA|2020-11-16 07:05:00|2020-11-16 09:45:12|    2.67|     EUROMED|           Turista| 28.5|   Promo +|  236|{\"Turista\": {\"Pro...|2020-09-28 16:13:...|             null|\n",
       "|37405177|  renfe|  VALENCIA|  BARCELONA|2020-11-12 11:15:00|2020-11-12 13:55:12|    2.67|     EUROMED|           Turista| 28.5|   Promo +|  236|{\"Turista\": {\"Pro...|2020-09-28 16:13:...|             null|\n",
       "|37405262|  renfe|    MADRID|   ZARAGOZA|2020-10-03 12:30:00|2020-10-03 13:45:00|    1.25|         AVE|           Turista| 55.7|  Flexible|  278|{\"Turista\": {\"Fle...|2020-09-28 16:13:...|             null|\n",
       "|37405265|  renfe|    MADRID|   ZARAGOZA|2020-10-03 17:30:00|2020-10-03 18:51:00|    1.35|         AVE|           Turista| 55.7|  Flexible|  275|{\"Turista\": {\"Fle...|2020-09-28 16:13:...|             null|\n",
       "|37405382|  renfe|VALLADOLID|     MADRID|2020-10-01 06:23:00|2020-10-01 07:27:48|    1.08|       AVANT|           Turista| 31.1|Adulto ida|   42|{\"Turista\": {\"Adu...|2020-09-28 16:13:...|             null|\n",
       "|37405404|  renfe|    MÁLAGA|     MADRID|2020-11-25 16:02:00|2020-11-25 18:41:00|    2.65|         AVE|           Turista| 28.4|   Promo +|  262|{\"Turista\": {\"Pro...|2020-09-28 16:13:...|             null|\n",
       "|37405546|  renfe|    MADRID|   ZARAGOZA|2020-11-19 20:30:00|2020-11-19 21:54:00|     1.4|         AVE|           Turista| 55.7|  Flexible|  332|{\"Turista\": {\"Fle...|2020-09-28 16:13:...|             null|\n",
       "+--------+-------+----------+-----------+-------------------+-------------------+--------+------------+------------------+-----+----------+-----+--------------------+--------------------+-----------------+\n",
       "only showing top 20 rows"
      ]
     },
     "execution_count": 12,
     "metadata": {},
     "output_type": "execute_result"
    }
   ],
   "source": [
    "from pyspark.sql.types import IntegerType\n",
    "\n",
    "sdf_filtered.withColumn('duration_computed', (sf.col('arrival').cast(IntegerType()) - sf.col('departure').cast(IntegerType())) / 3600)"
   ]
  },
  {
   "cell_type": "markdown",
   "metadata": {},
   "source": [
    "#### make aggregations"
   ]
  },
  {
   "cell_type": "code",
   "execution_count": 13,
   "metadata": {},
   "outputs": [
    {
     "data": {
      "text/html": [
       "<table border='1'>\n",
       "<tr><th>origin</th><th>destination</th><th>avg(price)</th></tr>\n",
       "<tr><td>BARCELONA</td><td>VALENCIA</td><td>28.352215189873405</td></tr>\n",
       "<tr><td>ZARAGOZA</td><td>MADRID</td><td>44.739653179190796</td></tr>\n",
       "<tr><td>MADRID</td><td>CÓRDOBA</td><td>42.75325670498077</td></tr>\n",
       "<tr><td>MADRID</td><td>ZARAGOZA</td><td>47.28177419354846</td></tr>\n",
       "<tr><td>MÁLAGA</td><td>MADRID</td><td>40.98489932885911</td></tr>\n",
       "<tr><td>VALLADOLID</td><td>MADRID</td><td>31.55361560418648</td></tr>\n",
       "<tr><td>MADRID</td><td>BARCELONA</td><td>49.275781249999994</td></tr>\n",
       "<tr><td>MADRID</td><td>VALLADOLID</td><td>31.587778810408857</td></tr>\n",
       "<tr><td>ZARAGOZA</td><td>BARCELONA</td><td>36.241572815533964</td></tr>\n",
       "<tr><td>CÓRDOBA</td><td>MADRID</td><td>43.8485604606525</td></tr>\n",
       "<tr><td>SEVILLA</td><td>MADRID</td><td>42.68211206896551</td></tr>\n",
       "<tr><td>MADRID</td><td>LEÓN</td><td>33.764170040485816</td></tr>\n",
       "<tr><td>MADRID</td><td>SEVILLA</td><td>43.31225961538459</td></tr>\n",
       "<tr><td>BARCELONA</td><td>MADRID</td><td>47.93766233766234</td></tr>\n",
       "<tr><td>VALENCIA</td><td>BARCELONA</td><td>29.602408477841987</td></tr>\n",
       "<tr><td>MADRID</td><td>VALENCIA</td><td>36.01772151898745</td></tr>\n",
       "<tr><td>MADRID</td><td>MÁLAGA</td><td>40.703472222222274</td></tr>\n",
       "<tr><td>BARCELONA</td><td>ZARAGOZA</td><td>36.63709949409784</td></tr>\n",
       "<tr><td>VALENCIA</td><td>MADRID</td><td>36.69794188861992</td></tr>\n",
       "<tr><td>LEÓN</td><td>MADRID</td><td>35.63710526315786</td></tr>\n",
       "</table>\n"
      ],
      "text/plain": [
       "+----------+-----------+------------------+\n",
       "|    origin|destination|        avg(price)|\n",
       "+----------+-----------+------------------+\n",
       "| BARCELONA|   VALENCIA|28.352215189873405|\n",
       "|  ZARAGOZA|     MADRID|44.739653179190796|\n",
       "|    MADRID|    CÓRDOBA| 42.75325670498077|\n",
       "|    MADRID|   ZARAGOZA| 47.28177419354846|\n",
       "|    MÁLAGA|     MADRID| 40.98489932885911|\n",
       "|VALLADOLID|     MADRID| 31.55361560418648|\n",
       "|    MADRID|  BARCELONA|49.275781249999994|\n",
       "|    MADRID| VALLADOLID|31.587778810408857|\n",
       "|  ZARAGOZA|  BARCELONA|36.241572815533964|\n",
       "|   CÓRDOBA|     MADRID|  43.8485604606525|\n",
       "|   SEVILLA|     MADRID| 42.68211206896551|\n",
       "|    MADRID|       LEÓN|33.764170040485816|\n",
       "|    MADRID|    SEVILLA| 43.31225961538459|\n",
       "| BARCELONA|     MADRID| 47.93766233766234|\n",
       "|  VALENCIA|  BARCELONA|29.602408477841987|\n",
       "|    MADRID|   VALENCIA| 36.01772151898745|\n",
       "|    MADRID|     MÁLAGA|40.703472222222274|\n",
       "| BARCELONA|   ZARAGOZA| 36.63709949409784|\n",
       "|  VALENCIA|     MADRID| 36.69794188861992|\n",
       "|      LEÓN|     MADRID| 35.63710526315786|\n",
       "+----------+-----------+------------------+"
      ]
     },
     "execution_count": 13,
     "metadata": {},
     "output_type": "execute_result"
    }
   ],
   "source": [
    "sdf_filtered.groupby(['origin', 'destination']).agg({'price': 'mean'})"
   ]
  },
  {
   "cell_type": "code",
   "execution_count": 14,
   "metadata": {},
   "outputs": [
    {
     "data": {
      "text/plain": [
       "9298"
      ]
     },
     "execution_count": 14,
     "metadata": {},
     "output_type": "execute_result"
    }
   ],
   "source": [
    "sdf_filtered.count()"
   ]
  },
  {
   "cell_type": "markdown",
   "metadata": {},
   "source": [
    "#### apply custom functions"
   ]
  },
  {
   "cell_type": "code",
   "execution_count": 15,
   "metadata": {},
   "outputs": [
    {
     "name": "stdout",
     "output_type": "stream",
     "text": [
      "+--------------------------------------------------------------------------------------------------------------------------------------------------------------------------------------------------------+\n",
      "|meta                                                                                                                                                                                                    |\n",
      "+--------------------------------------------------------------------------------------------------------------------------------------------------------------------------------------------------------+\n",
      "|{\"Turista con enlace\": {\"Promo +\": {\"price\": 50.6, \"seats\": 232}, \"Flexible\": {\"price\": 92.0, \"seats\": 232}}}                                                                                           |\n",
      "|{\"Turista con enlace\": {\"Promo +\": {\"price\": 41.4, \"seats\": 216}, \"Flexible\": {\"price\": 92.0, \"seats\": 216}}}                                                                                           |\n",
      "|{\"Turista\": {\"Adulto ida\": {\"price\": 43.25, \"seats\": 209}}}                                                                                                                                             |\n",
      "|{\"Turista\": {\"Adulto ida\": {\"price\": 29.55, \"seats\": 209}}}                                                                                                                                             |\n",
      "|{\"Turista\": {\"Promo +\": {\"price\": 27.6, \"seats\": 236}, \"Flexible\": {\"price\": 50.2, \"seats\": 236}}, \"Turista Plus\": {\"Promo +\": {\"price\": 33.15, \"seats\": 23}, \"Flexible\": {\"price\": 60.3, \"seats\": 23}}}|\n",
      "|{\"Turista\": {\"Flexible\": {\"price\": 55.9, \"seats\": 21}}, \"Turista Plus\": {\"Flexible\": {\"price\": 67.0, \"seats\": 19}}}                                                                                     |\n",
      "|{\"Turista\": {\"Adulto ida\": {\"price\": 38.85, \"seats\": 245}}}                                                                                                                                             |\n",
      "|{\"Turista\": {\"Adulto ida\": {\"price\": 38.85, \"seats\": 245}}}                                                                                                                                             |\n",
      "|{\"Turista\": {\"Promo +\": {\"price\": 28.5, \"seats\": 236}, \"Flexible\": {\"price\": 51.8, \"seats\": 236}}, \"Turista Plus\": {\"Promo +\": {\"price\": 40.45, \"seats\": 23}, \"Flexible\": {\"price\": 62.2, \"seats\": 23}}}|\n",
      "|{\"Turista\": {\"Promo +\": {\"price\": 27.0, \"seats\": 267}, \"Flexible\": {\"price\": 77.1, \"seats\": 267}}, \"Turista Plus\": {\"Promo +\": {\"price\": 54.6, \"seats\": 34}, \"Flexible\": {\"price\": 92.5, \"seats\": 34}}} |\n",
      "|{\"Turista\": {\"Adulto ida\": {\"price\": 29.55, \"seats\": 221}}}                                                                                                                                             |\n",
      "|{\"Turista\": {\"Promo +\": {\"price\": 51.65, \"seats\": 240}, \"Flexible\": {\"price\": 77.1, \"seats\": 240}}, \"Turista Plus\": {\"Promo +\": {\"price\": 54.6, \"seats\": 62}, \"Flexible\": {\"price\": 92.5, \"seats\": 62}}}|\n",
      "|{\"Turista\": {\"Promo +\": {\"price\": 28.5, \"seats\": 236}, \"Flexible\": {\"price\": 51.8, \"seats\": 236}}, \"Turista Plus\": {\"Promo +\": {\"price\": 40.45, \"seats\": 23}, \"Flexible\": {\"price\": 62.2, \"seats\": 23}}}|\n",
      "|{\"Turista\": {\"Promo +\": {\"price\": 28.5, \"seats\": 236}, \"Flexible\": {\"price\": 51.8, \"seats\": 236}}, \"Turista Plus\": {\"Promo +\": {\"price\": 40.45, \"seats\": 23}, \"Flexible\": {\"price\": 62.2, \"seats\": 23}}}|\n",
      "|{\"Turista\": {\"Promo +\": {\"price\": 28.5, \"seats\": 236}, \"Flexible\": {\"price\": 51.8, \"seats\": 236}}, \"Turista Plus\": {\"Promo +\": {\"price\": 40.45, \"seats\": 23}, \"Flexible\": {\"price\": 62.2, \"seats\": 23}}}|\n",
      "|{\"Turista\": {\"Flexible\": {\"price\": 55.7, \"seats\": 278}}, \"Turista Plus\": {\"Promo +\": {\"price\": 56.1, \"seats\": 59}, \"Flexible\": {\"price\": 66.8, \"seats\": 59}}}                                           |\n",
      "|{\"Turista\": {\"Flexible\": {\"price\": 55.7, \"seats\": 275}}, \"Turista Plus\": {\"Flexible\": {\"price\": 66.8, \"seats\": 58}}}                                                                                    |\n",
      "|{\"Turista\": {\"Adulto ida\": {\"price\": 31.1, \"seats\": 42}}}                                                                                                                                               |\n",
      "|{\"Turista\": {\"Promo +\": {\"price\": 28.4, \"seats\": 262}, \"Flexible\": {\"price\": 81.2, \"seats\": 262}}, \"Turista Plus\": {\"Flexible\": {\"price\": 97.5, \"seats\": 26}}}                                          |\n",
      "|{\"Turista\": {\"Flexible\": {\"price\": 55.7, \"seats\": 332}}, \"Turista Plus\": {\"Flexible\": {\"price\": 66.8, \"seats\": 50}}}                                                                                    |\n",
      "+--------------------------------------------------------------------------------------------------------------------------------------------------------------------------------------------------------+\n",
      "only showing top 20 rows\n",
      "\n"
     ]
    }
   ],
   "source": [
    "sdf_filtered.select(['meta']).show(truncate=False)"
   ]
  },
  {
   "cell_type": "code",
   "execution_count": 16,
   "metadata": {},
   "outputs": [],
   "source": [
    "import json\n",
    "\n",
    "@sf.udf('integer')\n",
    "def get_first_class_fare_seats(meta):\n",
    "    try:\n",
    "        meta_dict = eval(meta)\n",
    "        first_available_class = [*meta_dict][0]\n",
    "        first_available_fare = [*meta_dict[first_available_class]][0]\n",
    "        seats = meta_dict[first_available_class][first_available_fare]['seats']\n",
    "        return seats\n",
    "\n",
    "    except:\n",
    "        return 0"
   ]
  },
  {
   "cell_type": "code",
   "execution_count": 17,
   "metadata": {},
   "outputs": [
    {
     "data": {
      "text/html": [
       "<table border='1'>\n",
       "<tr><th>id</th><th>company</th><th>origin</th><th>destination</th><th>departure</th><th>arrival</th><th>duration</th><th>vehicle_type</th><th>vehicle_class</th><th>price</th><th>fare</th><th>seats</th><th>meta</th><th>insert_date</th><th>seats_first_class_fare</th></tr>\n",
       "<tr><td>37403110</td><td>renfe</td><td>MADRID</td><td>BARCELONA</td><td>2020-10-15 09:40:00</td><td>2020-10-15 16:17:48</td><td>6.63</td><td>AVE-LD</td><td>Turista con enlace</td><td>50.6</td><td>Promo +</td><td>232</td><td>{&quot;Turista con enl...</td><td>2020-09-28 16:10:...</td><td>232</td></tr>\n",
       "<tr><td>37403347</td><td>renfe</td><td>MADRID</td><td>BARCELONA</td><td>2020-10-07 09:40:00</td><td>2020-10-07 16:17:48</td><td>6.63</td><td>AVE-LD</td><td>Turista con enlace</td><td>41.4</td><td>Promo +</td><td>216</td><td>{&quot;Turista con enl...</td><td>2020-09-28 16:10:...</td><td>216</td></tr>\n",
       "<tr><td>37403576</td><td>renfe</td><td>BARCELONA</td><td>MADRID</td><td>2020-11-07 09:03:00</td><td>2020-11-07 18:07:12</td><td>9.07</td><td>REG.EXP.</td><td>Turista</td><td>43.25</td><td>Adulto ida</td><td>209</td><td>{&quot;Turista&quot;: {&quot;Adu...</td><td>2020-09-28 16:11:...</td><td>209</td></tr>\n",
       "<tr><td>37403767</td><td>renfe</td><td>BARCELONA</td><td>VALENCIA</td><td>2020-11-11 10:00:00</td><td>2020-11-11 15:07:48</td><td>5.13</td><td>REG.EXP.</td><td>Turista</td><td>29.55</td><td>Adulto ida</td><td>209</td><td>{&quot;Turista&quot;: {&quot;Adu...</td><td>2020-09-28 16:11:...</td><td>209</td></tr>\n",
       "<tr><td>37404286</td><td>renfe</td><td>LEÓN</td><td>MADRID</td><td>2020-11-20 20:31:00</td><td>2020-11-20 22:46:00</td><td>2.25</td><td>ALVIA</td><td>Turista</td><td>27.6</td><td>Promo +</td><td>236</td><td>{&quot;Turista&quot;: {&quot;Pro...</td><td>2020-09-28 16:12:...</td><td>236</td></tr>\n",
       "<tr><td>37404324</td><td>renfe</td><td>MADRID</td><td>CÓRDOBA</td><td>2020-10-04 13:30:00</td><td>2020-10-04 15:15:00</td><td>1.75</td><td>ALVIA</td><td>Turista</td><td>55.9</td><td>Flexible</td><td>21</td><td>{&quot;Turista&quot;: {&quot;Fle...</td><td>2020-09-28 16:12:...</td><td>21</td></tr>\n",
       "<tr><td>37404397</td><td>renfe</td><td>LEÓN</td><td>MADRID</td><td>2020-10-29 15:50:00</td><td>2020-10-29 20:48:12</td><td>4.97</td><td>MD</td><td>Turista</td><td>38.85</td><td>Adulto ida</td><td>245</td><td>{&quot;Turista&quot;: {&quot;Adu...</td><td>2020-09-28 16:12:...</td><td>245</td></tr>\n",
       "<tr><td>37404439</td><td>renfe</td><td>LEÓN</td><td>MADRID</td><td>2020-10-27 15:50:00</td><td>2020-10-27 20:48:12</td><td>4.97</td><td>MD</td><td>Turista</td><td>38.85</td><td>Adulto ida</td><td>245</td><td>{&quot;Turista&quot;: {&quot;Adu...</td><td>2020-09-28 16:12:...</td><td>245</td></tr>\n",
       "<tr><td>37404836</td><td>renfe</td><td>VALENCIA</td><td>BARCELONA</td><td>2020-11-21 19:15:00</td><td>2020-11-21 21:55:12</td><td>2.67</td><td>EUROMED</td><td>Turista</td><td>28.5</td><td>Promo +</td><td>236</td><td>{&quot;Turista&quot;: {&quot;Pro...</td><td>2020-09-28 16:13:...</td><td>236</td></tr>\n",
       "<tr><td>37404905</td><td>renfe</td><td>SEVILLA</td><td>MADRID</td><td>2020-11-24 10:45:00</td><td>2020-11-24 13:16:48</td><td>2.53</td><td>AVE</td><td>Turista</td><td>27.0</td><td>Promo +</td><td>267</td><td>{&quot;Turista&quot;: {&quot;Pro...</td><td>2020-09-28 16:13:...</td><td>267</td></tr>\n",
       "<tr><td>37405039</td><td>renfe</td><td>VALENCIA</td><td>BARCELONA</td><td>2020-11-24 16:38:00</td><td>2020-11-24 22:06:48</td><td>5.48</td><td>REG.EXP.</td><td>Turista</td><td>29.55</td><td>Adulto ida</td><td>221</td><td>{&quot;Turista&quot;: {&quot;Adu...</td><td>2020-09-28 16:13:...</td><td>221</td></tr>\n",
       "<tr><td>37405088</td><td>renfe</td><td>SEVILLA</td><td>MADRID</td><td>2020-10-05 19:45:00</td><td>2020-10-05 22:16:48</td><td>2.53</td><td>AVE</td><td>Turista</td><td>51.65</td><td>Promo +</td><td>240</td><td>{&quot;Turista&quot;: {&quot;Pro...</td><td>2020-09-28 16:13:...</td><td>240</td></tr>\n",
       "<tr><td>37405098</td><td>renfe</td><td>VALENCIA</td><td>BARCELONA</td><td>2020-11-09 07:05:00</td><td>2020-11-09 09:45:12</td><td>2.67</td><td>EUROMED</td><td>Turista</td><td>28.5</td><td>Promo +</td><td>236</td><td>{&quot;Turista&quot;: {&quot;Pro...</td><td>2020-09-28 16:13:...</td><td>236</td></tr>\n",
       "<tr><td>37405106</td><td>renfe</td><td>VALENCIA</td><td>BARCELONA</td><td>2020-11-16 07:05:00</td><td>2020-11-16 09:45:12</td><td>2.67</td><td>EUROMED</td><td>Turista</td><td>28.5</td><td>Promo +</td><td>236</td><td>{&quot;Turista&quot;: {&quot;Pro...</td><td>2020-09-28 16:13:...</td><td>236</td></tr>\n",
       "<tr><td>37405177</td><td>renfe</td><td>VALENCIA</td><td>BARCELONA</td><td>2020-11-12 11:15:00</td><td>2020-11-12 13:55:12</td><td>2.67</td><td>EUROMED</td><td>Turista</td><td>28.5</td><td>Promo +</td><td>236</td><td>{&quot;Turista&quot;: {&quot;Pro...</td><td>2020-09-28 16:13:...</td><td>236</td></tr>\n",
       "<tr><td>37405262</td><td>renfe</td><td>MADRID</td><td>ZARAGOZA</td><td>2020-10-03 12:30:00</td><td>2020-10-03 13:45:00</td><td>1.25</td><td>AVE</td><td>Turista</td><td>55.7</td><td>Flexible</td><td>278</td><td>{&quot;Turista&quot;: {&quot;Fle...</td><td>2020-09-28 16:13:...</td><td>278</td></tr>\n",
       "<tr><td>37405265</td><td>renfe</td><td>MADRID</td><td>ZARAGOZA</td><td>2020-10-03 17:30:00</td><td>2020-10-03 18:51:00</td><td>1.35</td><td>AVE</td><td>Turista</td><td>55.7</td><td>Flexible</td><td>275</td><td>{&quot;Turista&quot;: {&quot;Fle...</td><td>2020-09-28 16:13:...</td><td>275</td></tr>\n",
       "<tr><td>37405382</td><td>renfe</td><td>VALLADOLID</td><td>MADRID</td><td>2020-10-01 06:23:00</td><td>2020-10-01 07:27:48</td><td>1.08</td><td>AVANT</td><td>Turista</td><td>31.1</td><td>Adulto ida</td><td>42</td><td>{&quot;Turista&quot;: {&quot;Adu...</td><td>2020-09-28 16:13:...</td><td>42</td></tr>\n",
       "<tr><td>37405404</td><td>renfe</td><td>MÁLAGA</td><td>MADRID</td><td>2020-11-25 16:02:00</td><td>2020-11-25 18:41:00</td><td>2.65</td><td>AVE</td><td>Turista</td><td>28.4</td><td>Promo +</td><td>262</td><td>{&quot;Turista&quot;: {&quot;Pro...</td><td>2020-09-28 16:13:...</td><td>262</td></tr>\n",
       "<tr><td>37405546</td><td>renfe</td><td>MADRID</td><td>ZARAGOZA</td><td>2020-11-19 20:30:00</td><td>2020-11-19 21:54:00</td><td>1.4</td><td>AVE</td><td>Turista</td><td>55.7</td><td>Flexible</td><td>332</td><td>{&quot;Turista&quot;: {&quot;Fle...</td><td>2020-09-28 16:13:...</td><td>332</td></tr>\n",
       "</table>\n",
       "only showing top 20 rows\n"
      ],
      "text/plain": [
       "+--------+-------+----------+-----------+-------------------+-------------------+--------+------------+------------------+-----+----------+-----+--------------------+--------------------+----------------------+\n",
       "|      id|company|    origin|destination|          departure|            arrival|duration|vehicle_type|     vehicle_class|price|      fare|seats|                meta|         insert_date|seats_first_class_fare|\n",
       "+--------+-------+----------+-----------+-------------------+-------------------+--------+------------+------------------+-----+----------+-----+--------------------+--------------------+----------------------+\n",
       "|37403110|  renfe|    MADRID|  BARCELONA|2020-10-15 09:40:00|2020-10-15 16:17:48|    6.63|      AVE-LD|Turista con enlace| 50.6|   Promo +|  232|{\"Turista con enl...|2020-09-28 16:10:...|                   232|\n",
       "|37403347|  renfe|    MADRID|  BARCELONA|2020-10-07 09:40:00|2020-10-07 16:17:48|    6.63|      AVE-LD|Turista con enlace| 41.4|   Promo +|  216|{\"Turista con enl...|2020-09-28 16:10:...|                   216|\n",
       "|37403576|  renfe| BARCELONA|     MADRID|2020-11-07 09:03:00|2020-11-07 18:07:12|    9.07|    REG.EXP.|           Turista|43.25|Adulto ida|  209|{\"Turista\": {\"Adu...|2020-09-28 16:11:...|                   209|\n",
       "|37403767|  renfe| BARCELONA|   VALENCIA|2020-11-11 10:00:00|2020-11-11 15:07:48|    5.13|    REG.EXP.|           Turista|29.55|Adulto ida|  209|{\"Turista\": {\"Adu...|2020-09-28 16:11:...|                   209|\n",
       "|37404286|  renfe|      LEÓN|     MADRID|2020-11-20 20:31:00|2020-11-20 22:46:00|    2.25|       ALVIA|           Turista| 27.6|   Promo +|  236|{\"Turista\": {\"Pro...|2020-09-28 16:12:...|                   236|\n",
       "|37404324|  renfe|    MADRID|    CÓRDOBA|2020-10-04 13:30:00|2020-10-04 15:15:00|    1.75|       ALVIA|           Turista| 55.9|  Flexible|   21|{\"Turista\": {\"Fle...|2020-09-28 16:12:...|                    21|\n",
       "|37404397|  renfe|      LEÓN|     MADRID|2020-10-29 15:50:00|2020-10-29 20:48:12|    4.97|          MD|           Turista|38.85|Adulto ida|  245|{\"Turista\": {\"Adu...|2020-09-28 16:12:...|                   245|\n",
       "|37404439|  renfe|      LEÓN|     MADRID|2020-10-27 15:50:00|2020-10-27 20:48:12|    4.97|          MD|           Turista|38.85|Adulto ida|  245|{\"Turista\": {\"Adu...|2020-09-28 16:12:...|                   245|\n",
       "|37404836|  renfe|  VALENCIA|  BARCELONA|2020-11-21 19:15:00|2020-11-21 21:55:12|    2.67|     EUROMED|           Turista| 28.5|   Promo +|  236|{\"Turista\": {\"Pro...|2020-09-28 16:13:...|                   236|\n",
       "|37404905|  renfe|   SEVILLA|     MADRID|2020-11-24 10:45:00|2020-11-24 13:16:48|    2.53|         AVE|           Turista| 27.0|   Promo +|  267|{\"Turista\": {\"Pro...|2020-09-28 16:13:...|                   267|\n",
       "|37405039|  renfe|  VALENCIA|  BARCELONA|2020-11-24 16:38:00|2020-11-24 22:06:48|    5.48|    REG.EXP.|           Turista|29.55|Adulto ida|  221|{\"Turista\": {\"Adu...|2020-09-28 16:13:...|                   221|\n",
       "|37405088|  renfe|   SEVILLA|     MADRID|2020-10-05 19:45:00|2020-10-05 22:16:48|    2.53|         AVE|           Turista|51.65|   Promo +|  240|{\"Turista\": {\"Pro...|2020-09-28 16:13:...|                   240|\n",
       "|37405098|  renfe|  VALENCIA|  BARCELONA|2020-11-09 07:05:00|2020-11-09 09:45:12|    2.67|     EUROMED|           Turista| 28.5|   Promo +|  236|{\"Turista\": {\"Pro...|2020-09-28 16:13:...|                   236|\n",
       "|37405106|  renfe|  VALENCIA|  BARCELONA|2020-11-16 07:05:00|2020-11-16 09:45:12|    2.67|     EUROMED|           Turista| 28.5|   Promo +|  236|{\"Turista\": {\"Pro...|2020-09-28 16:13:...|                   236|\n",
       "|37405177|  renfe|  VALENCIA|  BARCELONA|2020-11-12 11:15:00|2020-11-12 13:55:12|    2.67|     EUROMED|           Turista| 28.5|   Promo +|  236|{\"Turista\": {\"Pro...|2020-09-28 16:13:...|                   236|\n",
       "|37405262|  renfe|    MADRID|   ZARAGOZA|2020-10-03 12:30:00|2020-10-03 13:45:00|    1.25|         AVE|           Turista| 55.7|  Flexible|  278|{\"Turista\": {\"Fle...|2020-09-28 16:13:...|                   278|\n",
       "|37405265|  renfe|    MADRID|   ZARAGOZA|2020-10-03 17:30:00|2020-10-03 18:51:00|    1.35|         AVE|           Turista| 55.7|  Flexible|  275|{\"Turista\": {\"Fle...|2020-09-28 16:13:...|                   275|\n",
       "|37405382|  renfe|VALLADOLID|     MADRID|2020-10-01 06:23:00|2020-10-01 07:27:48|    1.08|       AVANT|           Turista| 31.1|Adulto ida|   42|{\"Turista\": {\"Adu...|2020-09-28 16:13:...|                    42|\n",
       "|37405404|  renfe|    MÁLAGA|     MADRID|2020-11-25 16:02:00|2020-11-25 18:41:00|    2.65|         AVE|           Turista| 28.4|   Promo +|  262|{\"Turista\": {\"Pro...|2020-09-28 16:13:...|                   262|\n",
       "|37405546|  renfe|    MADRID|   ZARAGOZA|2020-11-19 20:30:00|2020-11-19 21:54:00|     1.4|         AVE|           Turista| 55.7|  Flexible|  332|{\"Turista\": {\"Fle...|2020-09-28 16:13:...|                   332|\n",
       "+--------+-------+----------+-----------+-------------------+-------------------+--------+------------+------------------+-----+----------+-----+--------------------+--------------------+----------------------+\n",
       "only showing top 20 rows"
      ]
     },
     "execution_count": 17,
     "metadata": {},
     "output_type": "execute_result"
    }
   ],
   "source": [
    "sdf_filtered = sdf_filtered.withColumn('seats_first_class_fare', get_first_class_fare_seats(sf.col('meta')))\n",
    "\n",
    "sdf_filtered"
   ]
  },
  {
   "cell_type": "markdown",
   "metadata": {},
   "source": [
    "#### rename columns"
   ]
  },
  {
   "cell_type": "code",
   "execution_count": 18,
   "metadata": {},
   "outputs": [
    {
     "data": {
      "text/html": [
       "<table border='1'>\n",
       "<tr><th>id</th><th>company</th><th>origin</th><th>destination</th><th>departure</th><th>arrival</th><th>duration</th><th>vehicle_type</th><th>vehicle_class</th><th>price</th><th>fare</th><th>seats_cheapest_class_fare</th><th>meta</th><th>insert_date</th><th>seats_first_class_fare</th></tr>\n",
       "<tr><td>37403110</td><td>renfe</td><td>MADRID</td><td>BARCELONA</td><td>2020-10-15 09:40:00</td><td>2020-10-15 16:17:48</td><td>6.63</td><td>AVE-LD</td><td>Turista con enlace</td><td>50.6</td><td>Promo +</td><td>232</td><td>{&quot;Turista con enl...</td><td>2020-09-28 16:10:...</td><td>232</td></tr>\n",
       "<tr><td>37403347</td><td>renfe</td><td>MADRID</td><td>BARCELONA</td><td>2020-10-07 09:40:00</td><td>2020-10-07 16:17:48</td><td>6.63</td><td>AVE-LD</td><td>Turista con enlace</td><td>41.4</td><td>Promo +</td><td>216</td><td>{&quot;Turista con enl...</td><td>2020-09-28 16:10:...</td><td>216</td></tr>\n",
       "<tr><td>37403576</td><td>renfe</td><td>BARCELONA</td><td>MADRID</td><td>2020-11-07 09:03:00</td><td>2020-11-07 18:07:12</td><td>9.07</td><td>REG.EXP.</td><td>Turista</td><td>43.25</td><td>Adulto ida</td><td>209</td><td>{&quot;Turista&quot;: {&quot;Adu...</td><td>2020-09-28 16:11:...</td><td>209</td></tr>\n",
       "<tr><td>37403767</td><td>renfe</td><td>BARCELONA</td><td>VALENCIA</td><td>2020-11-11 10:00:00</td><td>2020-11-11 15:07:48</td><td>5.13</td><td>REG.EXP.</td><td>Turista</td><td>29.55</td><td>Adulto ida</td><td>209</td><td>{&quot;Turista&quot;: {&quot;Adu...</td><td>2020-09-28 16:11:...</td><td>209</td></tr>\n",
       "<tr><td>37404286</td><td>renfe</td><td>LEÓN</td><td>MADRID</td><td>2020-11-20 20:31:00</td><td>2020-11-20 22:46:00</td><td>2.25</td><td>ALVIA</td><td>Turista</td><td>27.6</td><td>Promo +</td><td>236</td><td>{&quot;Turista&quot;: {&quot;Pro...</td><td>2020-09-28 16:12:...</td><td>236</td></tr>\n",
       "<tr><td>37404324</td><td>renfe</td><td>MADRID</td><td>CÓRDOBA</td><td>2020-10-04 13:30:00</td><td>2020-10-04 15:15:00</td><td>1.75</td><td>ALVIA</td><td>Turista</td><td>55.9</td><td>Flexible</td><td>21</td><td>{&quot;Turista&quot;: {&quot;Fle...</td><td>2020-09-28 16:12:...</td><td>21</td></tr>\n",
       "<tr><td>37404397</td><td>renfe</td><td>LEÓN</td><td>MADRID</td><td>2020-10-29 15:50:00</td><td>2020-10-29 20:48:12</td><td>4.97</td><td>MD</td><td>Turista</td><td>38.85</td><td>Adulto ida</td><td>245</td><td>{&quot;Turista&quot;: {&quot;Adu...</td><td>2020-09-28 16:12:...</td><td>245</td></tr>\n",
       "<tr><td>37404439</td><td>renfe</td><td>LEÓN</td><td>MADRID</td><td>2020-10-27 15:50:00</td><td>2020-10-27 20:48:12</td><td>4.97</td><td>MD</td><td>Turista</td><td>38.85</td><td>Adulto ida</td><td>245</td><td>{&quot;Turista&quot;: {&quot;Adu...</td><td>2020-09-28 16:12:...</td><td>245</td></tr>\n",
       "<tr><td>37404836</td><td>renfe</td><td>VALENCIA</td><td>BARCELONA</td><td>2020-11-21 19:15:00</td><td>2020-11-21 21:55:12</td><td>2.67</td><td>EUROMED</td><td>Turista</td><td>28.5</td><td>Promo +</td><td>236</td><td>{&quot;Turista&quot;: {&quot;Pro...</td><td>2020-09-28 16:13:...</td><td>236</td></tr>\n",
       "<tr><td>37404905</td><td>renfe</td><td>SEVILLA</td><td>MADRID</td><td>2020-11-24 10:45:00</td><td>2020-11-24 13:16:48</td><td>2.53</td><td>AVE</td><td>Turista</td><td>27.0</td><td>Promo +</td><td>267</td><td>{&quot;Turista&quot;: {&quot;Pro...</td><td>2020-09-28 16:13:...</td><td>267</td></tr>\n",
       "<tr><td>37405039</td><td>renfe</td><td>VALENCIA</td><td>BARCELONA</td><td>2020-11-24 16:38:00</td><td>2020-11-24 22:06:48</td><td>5.48</td><td>REG.EXP.</td><td>Turista</td><td>29.55</td><td>Adulto ida</td><td>221</td><td>{&quot;Turista&quot;: {&quot;Adu...</td><td>2020-09-28 16:13:...</td><td>221</td></tr>\n",
       "<tr><td>37405088</td><td>renfe</td><td>SEVILLA</td><td>MADRID</td><td>2020-10-05 19:45:00</td><td>2020-10-05 22:16:48</td><td>2.53</td><td>AVE</td><td>Turista</td><td>51.65</td><td>Promo +</td><td>240</td><td>{&quot;Turista&quot;: {&quot;Pro...</td><td>2020-09-28 16:13:...</td><td>240</td></tr>\n",
       "<tr><td>37405098</td><td>renfe</td><td>VALENCIA</td><td>BARCELONA</td><td>2020-11-09 07:05:00</td><td>2020-11-09 09:45:12</td><td>2.67</td><td>EUROMED</td><td>Turista</td><td>28.5</td><td>Promo +</td><td>236</td><td>{&quot;Turista&quot;: {&quot;Pro...</td><td>2020-09-28 16:13:...</td><td>236</td></tr>\n",
       "<tr><td>37405106</td><td>renfe</td><td>VALENCIA</td><td>BARCELONA</td><td>2020-11-16 07:05:00</td><td>2020-11-16 09:45:12</td><td>2.67</td><td>EUROMED</td><td>Turista</td><td>28.5</td><td>Promo +</td><td>236</td><td>{&quot;Turista&quot;: {&quot;Pro...</td><td>2020-09-28 16:13:...</td><td>236</td></tr>\n",
       "<tr><td>37405177</td><td>renfe</td><td>VALENCIA</td><td>BARCELONA</td><td>2020-11-12 11:15:00</td><td>2020-11-12 13:55:12</td><td>2.67</td><td>EUROMED</td><td>Turista</td><td>28.5</td><td>Promo +</td><td>236</td><td>{&quot;Turista&quot;: {&quot;Pro...</td><td>2020-09-28 16:13:...</td><td>236</td></tr>\n",
       "<tr><td>37405262</td><td>renfe</td><td>MADRID</td><td>ZARAGOZA</td><td>2020-10-03 12:30:00</td><td>2020-10-03 13:45:00</td><td>1.25</td><td>AVE</td><td>Turista</td><td>55.7</td><td>Flexible</td><td>278</td><td>{&quot;Turista&quot;: {&quot;Fle...</td><td>2020-09-28 16:13:...</td><td>278</td></tr>\n",
       "<tr><td>37405265</td><td>renfe</td><td>MADRID</td><td>ZARAGOZA</td><td>2020-10-03 17:30:00</td><td>2020-10-03 18:51:00</td><td>1.35</td><td>AVE</td><td>Turista</td><td>55.7</td><td>Flexible</td><td>275</td><td>{&quot;Turista&quot;: {&quot;Fle...</td><td>2020-09-28 16:13:...</td><td>275</td></tr>\n",
       "<tr><td>37405382</td><td>renfe</td><td>VALLADOLID</td><td>MADRID</td><td>2020-10-01 06:23:00</td><td>2020-10-01 07:27:48</td><td>1.08</td><td>AVANT</td><td>Turista</td><td>31.1</td><td>Adulto ida</td><td>42</td><td>{&quot;Turista&quot;: {&quot;Adu...</td><td>2020-09-28 16:13:...</td><td>42</td></tr>\n",
       "<tr><td>37405404</td><td>renfe</td><td>MÁLAGA</td><td>MADRID</td><td>2020-11-25 16:02:00</td><td>2020-11-25 18:41:00</td><td>2.65</td><td>AVE</td><td>Turista</td><td>28.4</td><td>Promo +</td><td>262</td><td>{&quot;Turista&quot;: {&quot;Pro...</td><td>2020-09-28 16:13:...</td><td>262</td></tr>\n",
       "<tr><td>37405546</td><td>renfe</td><td>MADRID</td><td>ZARAGOZA</td><td>2020-11-19 20:30:00</td><td>2020-11-19 21:54:00</td><td>1.4</td><td>AVE</td><td>Turista</td><td>55.7</td><td>Flexible</td><td>332</td><td>{&quot;Turista&quot;: {&quot;Fle...</td><td>2020-09-28 16:13:...</td><td>332</td></tr>\n",
       "</table>\n",
       "only showing top 20 rows\n"
      ],
      "text/plain": [
       "+--------+-------+----------+-----------+-------------------+-------------------+--------+------------+------------------+-----+----------+-------------------------+--------------------+--------------------+----------------------+\n",
       "|      id|company|    origin|destination|          departure|            arrival|duration|vehicle_type|     vehicle_class|price|      fare|seats_cheapest_class_fare|                meta|         insert_date|seats_first_class_fare|\n",
       "+--------+-------+----------+-----------+-------------------+-------------------+--------+------------+------------------+-----+----------+-------------------------+--------------------+--------------------+----------------------+\n",
       "|37403110|  renfe|    MADRID|  BARCELONA|2020-10-15 09:40:00|2020-10-15 16:17:48|    6.63|      AVE-LD|Turista con enlace| 50.6|   Promo +|                      232|{\"Turista con enl...|2020-09-28 16:10:...|                   232|\n",
       "|37403347|  renfe|    MADRID|  BARCELONA|2020-10-07 09:40:00|2020-10-07 16:17:48|    6.63|      AVE-LD|Turista con enlace| 41.4|   Promo +|                      216|{\"Turista con enl...|2020-09-28 16:10:...|                   216|\n",
       "|37403576|  renfe| BARCELONA|     MADRID|2020-11-07 09:03:00|2020-11-07 18:07:12|    9.07|    REG.EXP.|           Turista|43.25|Adulto ida|                      209|{\"Turista\": {\"Adu...|2020-09-28 16:11:...|                   209|\n",
       "|37403767|  renfe| BARCELONA|   VALENCIA|2020-11-11 10:00:00|2020-11-11 15:07:48|    5.13|    REG.EXP.|           Turista|29.55|Adulto ida|                      209|{\"Turista\": {\"Adu...|2020-09-28 16:11:...|                   209|\n",
       "|37404286|  renfe|      LEÓN|     MADRID|2020-11-20 20:31:00|2020-11-20 22:46:00|    2.25|       ALVIA|           Turista| 27.6|   Promo +|                      236|{\"Turista\": {\"Pro...|2020-09-28 16:12:...|                   236|\n",
       "|37404324|  renfe|    MADRID|    CÓRDOBA|2020-10-04 13:30:00|2020-10-04 15:15:00|    1.75|       ALVIA|           Turista| 55.9|  Flexible|                       21|{\"Turista\": {\"Fle...|2020-09-28 16:12:...|                    21|\n",
       "|37404397|  renfe|      LEÓN|     MADRID|2020-10-29 15:50:00|2020-10-29 20:48:12|    4.97|          MD|           Turista|38.85|Adulto ida|                      245|{\"Turista\": {\"Adu...|2020-09-28 16:12:...|                   245|\n",
       "|37404439|  renfe|      LEÓN|     MADRID|2020-10-27 15:50:00|2020-10-27 20:48:12|    4.97|          MD|           Turista|38.85|Adulto ida|                      245|{\"Turista\": {\"Adu...|2020-09-28 16:12:...|                   245|\n",
       "|37404836|  renfe|  VALENCIA|  BARCELONA|2020-11-21 19:15:00|2020-11-21 21:55:12|    2.67|     EUROMED|           Turista| 28.5|   Promo +|                      236|{\"Turista\": {\"Pro...|2020-09-28 16:13:...|                   236|\n",
       "|37404905|  renfe|   SEVILLA|     MADRID|2020-11-24 10:45:00|2020-11-24 13:16:48|    2.53|         AVE|           Turista| 27.0|   Promo +|                      267|{\"Turista\": {\"Pro...|2020-09-28 16:13:...|                   267|\n",
       "|37405039|  renfe|  VALENCIA|  BARCELONA|2020-11-24 16:38:00|2020-11-24 22:06:48|    5.48|    REG.EXP.|           Turista|29.55|Adulto ida|                      221|{\"Turista\": {\"Adu...|2020-09-28 16:13:...|                   221|\n",
       "|37405088|  renfe|   SEVILLA|     MADRID|2020-10-05 19:45:00|2020-10-05 22:16:48|    2.53|         AVE|           Turista|51.65|   Promo +|                      240|{\"Turista\": {\"Pro...|2020-09-28 16:13:...|                   240|\n",
       "|37405098|  renfe|  VALENCIA|  BARCELONA|2020-11-09 07:05:00|2020-11-09 09:45:12|    2.67|     EUROMED|           Turista| 28.5|   Promo +|                      236|{\"Turista\": {\"Pro...|2020-09-28 16:13:...|                   236|\n",
       "|37405106|  renfe|  VALENCIA|  BARCELONA|2020-11-16 07:05:00|2020-11-16 09:45:12|    2.67|     EUROMED|           Turista| 28.5|   Promo +|                      236|{\"Turista\": {\"Pro...|2020-09-28 16:13:...|                   236|\n",
       "|37405177|  renfe|  VALENCIA|  BARCELONA|2020-11-12 11:15:00|2020-11-12 13:55:12|    2.67|     EUROMED|           Turista| 28.5|   Promo +|                      236|{\"Turista\": {\"Pro...|2020-09-28 16:13:...|                   236|\n",
       "|37405262|  renfe|    MADRID|   ZARAGOZA|2020-10-03 12:30:00|2020-10-03 13:45:00|    1.25|         AVE|           Turista| 55.7|  Flexible|                      278|{\"Turista\": {\"Fle...|2020-09-28 16:13:...|                   278|\n",
       "|37405265|  renfe|    MADRID|   ZARAGOZA|2020-10-03 17:30:00|2020-10-03 18:51:00|    1.35|         AVE|           Turista| 55.7|  Flexible|                      275|{\"Turista\": {\"Fle...|2020-09-28 16:13:...|                   275|\n",
       "|37405382|  renfe|VALLADOLID|     MADRID|2020-10-01 06:23:00|2020-10-01 07:27:48|    1.08|       AVANT|           Turista| 31.1|Adulto ida|                       42|{\"Turista\": {\"Adu...|2020-09-28 16:13:...|                    42|\n",
       "|37405404|  renfe|    MÁLAGA|     MADRID|2020-11-25 16:02:00|2020-11-25 18:41:00|    2.65|         AVE|           Turista| 28.4|   Promo +|                      262|{\"Turista\": {\"Pro...|2020-09-28 16:13:...|                   262|\n",
       "|37405546|  renfe|    MADRID|   ZARAGOZA|2020-11-19 20:30:00|2020-11-19 21:54:00|     1.4|         AVE|           Turista| 55.7|  Flexible|                      332|{\"Turista\": {\"Fle...|2020-09-28 16:13:...|                   332|\n",
       "+--------+-------+----------+-----------+-------------------+-------------------+--------+------------+------------------+-----+----------+-------------------------+--------------------+--------------------+----------------------+\n",
       "only showing top 20 rows"
      ]
     },
     "execution_count": 18,
     "metadata": {},
     "output_type": "execute_result"
    }
   ],
   "source": [
    "sdf_filtered = sdf_filtered.withColumnRenamed('seats', 'seats_cheapest_class_fare')\n",
    "\n",
    "sdf_filtered"
   ]
  },
  {
   "cell_type": "markdown",
   "metadata": {},
   "source": [
    "#### create virtual sql tables and query them"
   ]
  },
  {
   "cell_type": "code",
   "execution_count": 19,
   "metadata": {},
   "outputs": [],
   "source": [
    "sdf_filtered.createTempView('renfe')"
   ]
  },
  {
   "cell_type": "code",
   "execution_count": 20,
   "metadata": {},
   "outputs": [],
   "source": [
    "SQL_QUERY = \"\"\"\n",
    "select\n",
    "origin,\n",
    "destination,\n",
    "avg(price) as mean_price, \n",
    "avg(seats_cheapest_class_fare) as mean_seats\n",
    "from renfe\n",
    "group by origin, destination\n",
    "order by mean_price desc\n",
    "\"\"\""
   ]
  },
  {
   "cell_type": "code",
   "execution_count": 21,
   "metadata": {},
   "outputs": [
    {
     "data": {
      "text/html": [
       "<table border='1'>\n",
       "<tr><th>origin</th><th>destination</th><th>mean_price</th><th>mean_seats</th></tr>\n",
       "<tr><td>MADRID</td><td>BARCELONA</td><td>49.275781249999994</td><td>243.5</td></tr>\n",
       "<tr><td>BARCELONA</td><td>MADRID</td><td>47.93766233766234</td><td>240.71428571428572</td></tr>\n",
       "<tr><td>MADRID</td><td>ZARAGOZA</td><td>47.28177419354846</td><td>198.02956989247312</td></tr>\n",
       "<tr><td>ZARAGOZA</td><td>MADRID</td><td>44.739653179190796</td><td>235.6242774566474</td></tr>\n",
       "<tr><td>CÓRDOBA</td><td>MADRID</td><td>43.8485604606525</td><td>216.2476007677543</td></tr>\n",
       "<tr><td>MADRID</td><td>SEVILLA</td><td>43.31225961538459</td><td>236.47596153846155</td></tr>\n",
       "<tr><td>MADRID</td><td>CÓRDOBA</td><td>42.75325670498077</td><td>220.84291187739464</td></tr>\n",
       "<tr><td>SEVILLA</td><td>MADRID</td><td>42.68211206896551</td><td>238.81896551724137</td></tr>\n",
       "<tr><td>MÁLAGA</td><td>MADRID</td><td>40.98489932885911</td><td>260.4295302013423</td></tr>\n",
       "<tr><td>MADRID</td><td>MÁLAGA</td><td>40.703472222222274</td><td>256.78472222222223</td></tr>\n",
       "<tr><td>VALENCIA</td><td>MADRID</td><td>36.69794188861992</td><td>233.4600484261501</td></tr>\n",
       "<tr><td>BARCELONA</td><td>ZARAGOZA</td><td>36.63709949409784</td><td>231.6037099494098</td></tr>\n",
       "<tr><td>ZARAGOZA</td><td>BARCELONA</td><td>36.241572815533964</td><td>210.9495145631068</td></tr>\n",
       "<tr><td>MADRID</td><td>VALENCIA</td><td>36.01772151898745</td><td>242.1121157323689</td></tr>\n",
       "<tr><td>LEÓN</td><td>MADRID</td><td>35.63710526315786</td><td>207.5</td></tr>\n",
       "<tr><td>MADRID</td><td>LEÓN</td><td>33.764170040485816</td><td>207.04453441295547</td></tr>\n",
       "<tr><td>MADRID</td><td>VALLADOLID</td><td>31.587778810408857</td><td>190.1728624535316</td></tr>\n",
       "<tr><td>VALLADOLID</td><td>MADRID</td><td>31.55361560418648</td><td>198.104662226451</td></tr>\n",
       "<tr><td>VALENCIA</td><td>BARCELONA</td><td>29.602408477841987</td><td>205.48747591522158</td></tr>\n",
       "<tr><td>BARCELONA</td><td>VALENCIA</td><td>28.352215189873405</td><td>209.18354430379748</td></tr>\n",
       "</table>\n"
      ],
      "text/plain": [
       "+----------+-----------+------------------+------------------+\n",
       "|    origin|destination|        mean_price|        mean_seats|\n",
       "+----------+-----------+------------------+------------------+\n",
       "|    MADRID|  BARCELONA|49.275781249999994|             243.5|\n",
       "| BARCELONA|     MADRID| 47.93766233766234|240.71428571428572|\n",
       "|    MADRID|   ZARAGOZA| 47.28177419354846|198.02956989247312|\n",
       "|  ZARAGOZA|     MADRID|44.739653179190796| 235.6242774566474|\n",
       "|   CÓRDOBA|     MADRID|  43.8485604606525| 216.2476007677543|\n",
       "|    MADRID|    SEVILLA| 43.31225961538459|236.47596153846155|\n",
       "|    MADRID|    CÓRDOBA| 42.75325670498077|220.84291187739464|\n",
       "|   SEVILLA|     MADRID| 42.68211206896551|238.81896551724137|\n",
       "|    MÁLAGA|     MADRID| 40.98489932885911| 260.4295302013423|\n",
       "|    MADRID|     MÁLAGA|40.703472222222274|256.78472222222223|\n",
       "|  VALENCIA|     MADRID| 36.69794188861992| 233.4600484261501|\n",
       "| BARCELONA|   ZARAGOZA| 36.63709949409784| 231.6037099494098|\n",
       "|  ZARAGOZA|  BARCELONA|36.241572815533964| 210.9495145631068|\n",
       "|    MADRID|   VALENCIA| 36.01772151898745| 242.1121157323689|\n",
       "|      LEÓN|     MADRID| 35.63710526315786|             207.5|\n",
       "|    MADRID|       LEÓN|33.764170040485816|207.04453441295547|\n",
       "|    MADRID| VALLADOLID|31.587778810408857| 190.1728624535316|\n",
       "|VALLADOLID|     MADRID| 31.55361560418648|  198.104662226451|\n",
       "|  VALENCIA|  BARCELONA|29.602408477841987|205.48747591522158|\n",
       "| BARCELONA|   VALENCIA|28.352215189873405|209.18354430379748|\n",
       "+----------+-----------+------------------+------------------+"
      ]
     },
     "execution_count": 21,
     "metadata": {},
     "output_type": "execute_result"
    }
   ],
   "source": [
    "routes_prices_sdf = spark.sql(SQL_QUERY)\n",
    "\n",
    "routes_prices_sdf"
   ]
  },
  {
   "cell_type": "markdown",
   "metadata": {},
   "source": [
    "#### transform Spark DataFrame into pandas DataFrame"
   ]
  },
  {
   "cell_type": "code",
   "execution_count": 22,
   "metadata": {},
   "outputs": [
    {
     "data": {
      "text/html": [
       "<div>\n",
       "<style scoped>\n",
       "    .dataframe tbody tr th:only-of-type {\n",
       "        vertical-align: middle;\n",
       "    }\n",
       "\n",
       "    .dataframe tbody tr th {\n",
       "        vertical-align: top;\n",
       "    }\n",
       "\n",
       "    .dataframe thead th {\n",
       "        text-align: right;\n",
       "    }\n",
       "</style>\n",
       "<table border=\"1\" class=\"dataframe\">\n",
       "  <thead>\n",
       "    <tr style=\"text-align: right;\">\n",
       "      <th></th>\n",
       "      <th>origin</th>\n",
       "      <th>destination</th>\n",
       "      <th>mean_price</th>\n",
       "      <th>mean_seats</th>\n",
       "    </tr>\n",
       "  </thead>\n",
       "  <tbody>\n",
       "    <tr>\n",
       "      <th>0</th>\n",
       "      <td>MADRID</td>\n",
       "      <td>BARCELONA</td>\n",
       "      <td>49.275781</td>\n",
       "      <td>243.500000</td>\n",
       "    </tr>\n",
       "    <tr>\n",
       "      <th>1</th>\n",
       "      <td>BARCELONA</td>\n",
       "      <td>MADRID</td>\n",
       "      <td>47.937662</td>\n",
       "      <td>240.714286</td>\n",
       "    </tr>\n",
       "    <tr>\n",
       "      <th>2</th>\n",
       "      <td>MADRID</td>\n",
       "      <td>ZARAGOZA</td>\n",
       "      <td>47.281774</td>\n",
       "      <td>198.029570</td>\n",
       "    </tr>\n",
       "    <tr>\n",
       "      <th>3</th>\n",
       "      <td>ZARAGOZA</td>\n",
       "      <td>MADRID</td>\n",
       "      <td>44.739653</td>\n",
       "      <td>235.624277</td>\n",
       "    </tr>\n",
       "    <tr>\n",
       "      <th>4</th>\n",
       "      <td>CÓRDOBA</td>\n",
       "      <td>MADRID</td>\n",
       "      <td>43.848560</td>\n",
       "      <td>216.247601</td>\n",
       "    </tr>\n",
       "    <tr>\n",
       "      <th>5</th>\n",
       "      <td>MADRID</td>\n",
       "      <td>SEVILLA</td>\n",
       "      <td>43.312260</td>\n",
       "      <td>236.475962</td>\n",
       "    </tr>\n",
       "    <tr>\n",
       "      <th>6</th>\n",
       "      <td>MADRID</td>\n",
       "      <td>CÓRDOBA</td>\n",
       "      <td>42.753257</td>\n",
       "      <td>220.842912</td>\n",
       "    </tr>\n",
       "    <tr>\n",
       "      <th>7</th>\n",
       "      <td>SEVILLA</td>\n",
       "      <td>MADRID</td>\n",
       "      <td>42.682112</td>\n",
       "      <td>238.818966</td>\n",
       "    </tr>\n",
       "    <tr>\n",
       "      <th>8</th>\n",
       "      <td>MÁLAGA</td>\n",
       "      <td>MADRID</td>\n",
       "      <td>40.984899</td>\n",
       "      <td>260.429530</td>\n",
       "    </tr>\n",
       "    <tr>\n",
       "      <th>9</th>\n",
       "      <td>MADRID</td>\n",
       "      <td>MÁLAGA</td>\n",
       "      <td>40.703472</td>\n",
       "      <td>256.784722</td>\n",
       "    </tr>\n",
       "    <tr>\n",
       "      <th>10</th>\n",
       "      <td>VALENCIA</td>\n",
       "      <td>MADRID</td>\n",
       "      <td>36.697942</td>\n",
       "      <td>233.460048</td>\n",
       "    </tr>\n",
       "    <tr>\n",
       "      <th>11</th>\n",
       "      <td>BARCELONA</td>\n",
       "      <td>ZARAGOZA</td>\n",
       "      <td>36.637099</td>\n",
       "      <td>231.603710</td>\n",
       "    </tr>\n",
       "    <tr>\n",
       "      <th>12</th>\n",
       "      <td>ZARAGOZA</td>\n",
       "      <td>BARCELONA</td>\n",
       "      <td>36.241573</td>\n",
       "      <td>210.949515</td>\n",
       "    </tr>\n",
       "    <tr>\n",
       "      <th>13</th>\n",
       "      <td>MADRID</td>\n",
       "      <td>VALENCIA</td>\n",
       "      <td>36.017722</td>\n",
       "      <td>242.112116</td>\n",
       "    </tr>\n",
       "    <tr>\n",
       "      <th>14</th>\n",
       "      <td>LEÓN</td>\n",
       "      <td>MADRID</td>\n",
       "      <td>35.637105</td>\n",
       "      <td>207.500000</td>\n",
       "    </tr>\n",
       "    <tr>\n",
       "      <th>15</th>\n",
       "      <td>MADRID</td>\n",
       "      <td>LEÓN</td>\n",
       "      <td>33.764170</td>\n",
       "      <td>207.044534</td>\n",
       "    </tr>\n",
       "    <tr>\n",
       "      <th>16</th>\n",
       "      <td>MADRID</td>\n",
       "      <td>VALLADOLID</td>\n",
       "      <td>31.587779</td>\n",
       "      <td>190.172862</td>\n",
       "    </tr>\n",
       "    <tr>\n",
       "      <th>17</th>\n",
       "      <td>VALLADOLID</td>\n",
       "      <td>MADRID</td>\n",
       "      <td>31.553616</td>\n",
       "      <td>198.104662</td>\n",
       "    </tr>\n",
       "    <tr>\n",
       "      <th>18</th>\n",
       "      <td>VALENCIA</td>\n",
       "      <td>BARCELONA</td>\n",
       "      <td>29.602408</td>\n",
       "      <td>205.487476</td>\n",
       "    </tr>\n",
       "    <tr>\n",
       "      <th>19</th>\n",
       "      <td>BARCELONA</td>\n",
       "      <td>VALENCIA</td>\n",
       "      <td>28.352215</td>\n",
       "      <td>209.183544</td>\n",
       "    </tr>\n",
       "  </tbody>\n",
       "</table>\n",
       "</div>"
      ],
      "text/plain": [
       "        origin destination  mean_price  mean_seats\n",
       "0       MADRID   BARCELONA   49.275781  243.500000\n",
       "1    BARCELONA      MADRID   47.937662  240.714286\n",
       "2       MADRID    ZARAGOZA   47.281774  198.029570\n",
       "3     ZARAGOZA      MADRID   44.739653  235.624277\n",
       "4      CÓRDOBA      MADRID   43.848560  216.247601\n",
       "5       MADRID     SEVILLA   43.312260  236.475962\n",
       "6       MADRID     CÓRDOBA   42.753257  220.842912\n",
       "7      SEVILLA      MADRID   42.682112  238.818966\n",
       "8       MÁLAGA      MADRID   40.984899  260.429530\n",
       "9       MADRID      MÁLAGA   40.703472  256.784722\n",
       "10    VALENCIA      MADRID   36.697942  233.460048\n",
       "11   BARCELONA    ZARAGOZA   36.637099  231.603710\n",
       "12    ZARAGOZA   BARCELONA   36.241573  210.949515\n",
       "13      MADRID    VALENCIA   36.017722  242.112116\n",
       "14        LEÓN      MADRID   35.637105  207.500000\n",
       "15      MADRID        LEÓN   33.764170  207.044534\n",
       "16      MADRID  VALLADOLID   31.587779  190.172862\n",
       "17  VALLADOLID      MADRID   31.553616  198.104662\n",
       "18    VALENCIA   BARCELONA   29.602408  205.487476\n",
       "19   BARCELONA    VALENCIA   28.352215  209.183544"
      ]
     },
     "execution_count": 22,
     "metadata": {},
     "output_type": "execute_result"
    }
   ],
   "source": [
    "routes_prices_df = routes_prices_sdf.toPandas()\n",
    "\n",
    "routes_prices_df"
   ]
  },
  {
   "cell_type": "markdown",
   "metadata": {},
   "source": [
    "<div style=\"padding-top: 25px; float: right\">\n",
    "    <div>    \n",
    "        <i>&nbsp;&nbsp;© Copyright by</i>\n",
    "    </div>\n",
    "    <div>\n",
    "        <a href=\"https://whiteboxml.com\">\n",
    "            <img src=\"https://whiteboxml.com/static/img/logo/black_bg_white.svg\" width=\"125\">\n",
    "        </a>\n",
    "    </div>\n",
    "</div>"
   ]
  }
 ],
 "metadata": {
  "kernelspec": {
   "display_name": "Python [conda env:ironhack_env]",
   "language": "python",
   "name": "conda-env-ironhack_env-py"
  },
  "language_info": {
   "codemirror_mode": {
    "name": "ipython",
    "version": 3
   },
   "file_extension": ".py",
   "mimetype": "text/x-python",
   "name": "python",
   "nbconvert_exporter": "python",
   "pygments_lexer": "ipython3",
   "version": "3.7.9"
  }
 },
 "nbformat": 4,
 "nbformat_minor": 4
}
