{
 "cells": [
  {
   "cell_type": "markdown",
   "metadata": {},
   "source": [
    "<div style=\"float:right; padding-top: 15px; padding-right: 15px\">\n",
    "    <div>\n",
    "        <a href=\"https://whiteboxml.com\">\n",
    "            <img src=\"https://whiteboxml.com/static/img/logo/black_bg_white.svg\" width=\"250\">\n",
    "        </a>\n",
    "    </div>\n",
    "</div>"
   ]
  },
  {
   "cell_type": "markdown",
   "metadata": {},
   "source": [
    "# object oriented programming (classes 😎)"
   ]
  },
  {
   "cell_type": "markdown",
   "metadata": {},
   "source": [
    "## 0. introduction"
   ]
  },
  {
   "cell_type": "markdown",
   "metadata": {},
   "source": [
    "- you do not really need to be an expert in object oriented programming to do things with data, but...\n",
    "- as classes are a core part of Python, it is almost mandatory to understand the concept.\n",
    "- most libraries are implemented with an object oriented api (understand api as the way to interface with the library, not a web api this time :-D).\n",
    "- classes are a way of abstraction, code abstraction is something you learn with time.\n",
    "- classes are a 'hard' to understand concept for new programmers."
   ]
  },
  {
   "cell_type": "markdown",
   "metadata": {},
   "source": [
    "first of all:"
   ]
  },
  {
   "cell_type": "code",
   "execution_count": 1,
   "metadata": {},
   "outputs": [
    {
     "name": "stdout",
     "output_type": "stream",
     "text": [
      "The Zen of Python, by Tim Peters\n",
      "\n",
      "Beautiful is better than ugly.\n",
      "Explicit is better than implicit.\n",
      "Simple is better than complex.\n",
      "Complex is better than complicated.\n",
      "Flat is better than nested.\n",
      "Sparse is better than dense.\n",
      "Readability counts.\n",
      "Special cases aren't special enough to break the rules.\n",
      "Although practicality beats purity.\n",
      "Errors should never pass silently.\n",
      "Unless explicitly silenced.\n",
      "In the face of ambiguity, refuse the temptation to guess.\n",
      "There should be one-- and preferably only one --obvious way to do it.\n",
      "Although that way may not be obvious at first unless you're Dutch.\n",
      "Now is better than never.\n",
      "Although never is often better than *right* now.\n",
      "If the implementation is hard to explain, it's a bad idea.\n",
      "If the implementation is easy to explain, it may be a good idea.\n",
      "Namespaces are one honking great idea -- let's do more of those!\n"
     ]
    }
   ],
   "source": [
    "import this"
   ]
  },
  {
   "cell_type": "markdown",
   "metadata": {},
   "source": [
    "https://www.python.org/dev/peps/pep-0008/"
   ]
  },
  {
   "cell_type": "markdown",
   "metadata": {},
   "source": [
    "## 1. a class"
   ]
  },
  {
   "cell_type": "markdown",
   "metadata": {},
   "source": [
    "First, let's define a class representing someone..."
   ]
  },
  {
   "cell_type": "code",
   "execution_count": 2,
   "metadata": {},
   "outputs": [
    {
     "data": {
      "text/plain": [
       "\u001b[0;31mInit signature:\u001b[0m \u001b[0mobject\u001b[0m\u001b[0;34m(\u001b[0m\u001b[0;34m)\u001b[0m\u001b[0;34m\u001b[0m\u001b[0;34m\u001b[0m\u001b[0m\n",
       "\u001b[0;31mDocstring:\u001b[0m      The most base type\n",
       "\u001b[0;31mType:\u001b[0m           type\n",
       "\u001b[0;31mSubclasses:\u001b[0m     type, weakref, weakcallableproxy, weakproxy, int, bytearray, bytes, list, NoneType, NotImplementedType, ...\n"
      ]
     },
     "metadata": {},
     "output_type": "display_data"
    }
   ],
   "source": [
    "?object"
   ]
  },
  {
   "cell_type": "code",
   "execution_count": 3,
   "metadata": {},
   "outputs": [],
   "source": [
    "class Human(object):\n",
    "    pass"
   ]
  },
  {
   "cell_type": "markdown",
   "metadata": {},
   "source": [
    "## 2. the init function"
   ]
  },
  {
   "cell_type": "markdown",
   "metadata": {},
   "source": [
    "what attributes define a person?"
   ]
  },
  {
   "cell_type": "code",
   "execution_count": 4,
   "metadata": {},
   "outputs": [],
   "source": [
    "import random\n",
    "\n",
    "class Human(object):  # classes are usually camel cased\n",
    "    \n",
    "    GENDER = ['male', 'female']\n",
    "    \n",
    "    def __init__(self, # self makes reference to the instance\n",
    "                 name, \n",
    "                 family_name, \n",
    "                 age, \n",
    "                 height, \n",
    "                 weight):\n",
    "        \n",
    "        self.name = name\n",
    "        self.family_name = family_name\n",
    "        self.age = age\n",
    "        self.height = height\n",
    "        self.weight = weight\n",
    "        self.gender = random.choice(self.GENDER)"
   ]
  },
  {
   "cell_type": "markdown",
   "metadata": {},
   "source": [
    "let's create a human..."
   ]
  },
  {
   "cell_type": "code",
   "execution_count": 5,
   "metadata": {},
   "outputs": [],
   "source": [
    "david = Human(name='david', \n",
    "              family_name='cañones', \n",
    "              age=30, \n",
    "              height=180, \n",
    "              weight=65)"
   ]
  },
  {
   "cell_type": "markdown",
   "metadata": {},
   "source": [
    "let's inspect its attributes..."
   ]
  },
  {
   "cell_type": "code",
   "execution_count": 6,
   "metadata": {},
   "outputs": [
    {
     "data": {
      "text/plain": [
       "'david'"
      ]
     },
     "execution_count": 6,
     "metadata": {},
     "output_type": "execute_result"
    }
   ],
   "source": [
    "david.name"
   ]
  },
  {
   "cell_type": "code",
   "execution_count": 7,
   "metadata": {},
   "outputs": [
    {
     "data": {
      "text/plain": [
       "'cañones'"
      ]
     },
     "execution_count": 7,
     "metadata": {},
     "output_type": "execute_result"
    }
   ],
   "source": [
    "david.family_name"
   ]
  },
  {
   "cell_type": "code",
   "execution_count": 8,
   "metadata": {},
   "outputs": [
    {
     "data": {
      "text/plain": [
       "30"
      ]
     },
     "execution_count": 8,
     "metadata": {},
     "output_type": "execute_result"
    }
   ],
   "source": [
    "david.age"
   ]
  },
  {
   "cell_type": "code",
   "execution_count": 9,
   "metadata": {},
   "outputs": [
    {
     "data": {
      "text/plain": [
       "'female'"
      ]
     },
     "execution_count": 9,
     "metadata": {},
     "output_type": "execute_result"
    }
   ],
   "source": [
    "david.gender"
   ]
  },
  {
   "cell_type": "markdown",
   "metadata": {},
   "source": [
    "let's create some more humans to populate this world..."
   ]
  },
  {
   "cell_type": "code",
   "execution_count": 10,
   "metadata": {},
   "outputs": [],
   "source": [
    "# here"
   ]
  },
  {
   "cell_type": "markdown",
   "metadata": {},
   "source": [
    "## 3. methods"
   ]
  },
  {
   "cell_type": "markdown",
   "metadata": {},
   "source": [
    "you have been using methods all this time..."
   ]
  },
  {
   "cell_type": "code",
   "execution_count": 11,
   "metadata": {},
   "outputs": [],
   "source": [
    "my_string = 'asdf,fdsa'"
   ]
  },
  {
   "cell_type": "code",
   "execution_count": 12,
   "metadata": {},
   "outputs": [
    {
     "data": {
      "text/plain": [
       "['asdf', 'fdsa']"
      ]
     },
     "execution_count": 12,
     "metadata": {},
     "output_type": "execute_result"
    }
   ],
   "source": [
    "my_string.split(',')"
   ]
  },
  {
   "cell_type": "markdown",
   "metadata": {},
   "source": [
    "a method is a function which applies to an instance of a class..."
   ]
  },
  {
   "cell_type": "code",
   "execution_count": 13,
   "metadata": {},
   "outputs": [],
   "source": [
    "class Human(object):  # classes are usually capitalized.\n",
    "    \n",
    "    GENDER = ['male', 'female']\n",
    "    \n",
    "    def __init__(self, \n",
    "                 name, \n",
    "                 family_name, \n",
    "                 age, \n",
    "                 height, \n",
    "                 weight):\n",
    "                \n",
    "        self.name = name\n",
    "        self.family_name = family_name\n",
    "        self.age = age\n",
    "        self.height = height\n",
    "        self.weight = weight\n",
    "        self.gender = random.choice(self.GENDER)\n",
    "        \n",
    "    def greet(self):\n",
    "        print(f'hi!, my name is {self.name}, how are you?')"
   ]
  },
  {
   "cell_type": "markdown",
   "metadata": {},
   "source": [
    "let's create this improved human able to greet!"
   ]
  },
  {
   "cell_type": "code",
   "execution_count": 14,
   "metadata": {},
   "outputs": [],
   "source": [
    "john = Human(name='john', \n",
    "             family_name='smith',\n",
    "             age=30, \n",
    "             height=175, \n",
    "             weight=90)"
   ]
  },
  {
   "cell_type": "code",
   "execution_count": 15,
   "metadata": {},
   "outputs": [],
   "source": [
    "perry = Human(name='perry', \n",
    "              family_name='mason', \n",
    "              age=40, \n",
    "              height=80, \n",
    "              weight=80)"
   ]
  },
  {
   "cell_type": "markdown",
   "metadata": {},
   "source": [
    "let's greet..."
   ]
  },
  {
   "cell_type": "code",
   "execution_count": 16,
   "metadata": {},
   "outputs": [
    {
     "name": "stdout",
     "output_type": "stream",
     "text": [
      "hi!, my name is john, how are you?\n"
     ]
    }
   ],
   "source": [
    "john.greet()"
   ]
  },
  {
   "cell_type": "code",
   "execution_count": 17,
   "metadata": {},
   "outputs": [
    {
     "name": "stdout",
     "output_type": "stream",
     "text": [
      "hi!, my name is perry, how are you?\n"
     ]
    }
   ],
   "source": [
    "perry.greet()"
   ]
  },
  {
   "cell_type": "markdown",
   "metadata": {},
   "source": [
    "a more complicated example... a human able to greet other human using its name!"
   ]
  },
  {
   "cell_type": "code",
   "execution_count": 18,
   "metadata": {},
   "outputs": [],
   "source": [
    "class Human(object):  # classes are usually capitalized.\n",
    "    \n",
    "    GENDER = ['male', 'female']\n",
    "    \n",
    "    def __init__(self, \n",
    "                 name, \n",
    "                 family_name, \n",
    "                 age, \n",
    "                 height, \n",
    "                 weight):\n",
    "                \n",
    "        self.name = name\n",
    "        self.family_name = family_name\n",
    "        self.age = age\n",
    "        self.height = height\n",
    "        self.weight = weight\n",
    "        self.gender = random.choice(self.GENDER)\n",
    "        \n",
    "    def greet(self, other):\n",
    "        print(f'hi!, my name is {self.name} {self.family_name}, how are you {other.name} {other.family_name}?')"
   ]
  },
  {
   "cell_type": "code",
   "execution_count": 19,
   "metadata": {},
   "outputs": [],
   "source": [
    "john = Human(name='john',\n",
    "             family_name='smith',\n",
    "             age=30,\n",
    "             height=175,\n",
    "             weight=90)\n",
    "\n",
    "perry = Human(name='perry', \n",
    "              family_name='mason', \n",
    "              age=40,\n",
    "              height=80,\n",
    "              weight=80)"
   ]
  },
  {
   "cell_type": "code",
   "execution_count": 20,
   "metadata": {},
   "outputs": [
    {
     "name": "stdout",
     "output_type": "stream",
     "text": [
      "hi!, my name is john smith, how are you perry mason?\n"
     ]
    }
   ],
   "source": [
    "john.greet(perry)"
   ]
  },
  {
   "cell_type": "markdown",
   "metadata": {},
   "source": [
    "## 4. making things more beautiful"
   ]
  },
  {
   "cell_type": "markdown",
   "metadata": {},
   "source": [
    "what happens when we print our brand new instance of our brand new class?"
   ]
  },
  {
   "cell_type": "code",
   "execution_count": 21,
   "metadata": {},
   "outputs": [
    {
     "name": "stdout",
     "output_type": "stream",
     "text": [
      "<__main__.Human object at 0x7f0a84887710>\n"
     ]
    }
   ],
   "source": [
    "print(perry)"
   ]
  },
  {
   "cell_type": "code",
   "execution_count": 22,
   "metadata": {},
   "outputs": [
    {
     "name": "stdout",
     "output_type": "stream",
     "text": [
      "<__main__.Human object at 0x7f0a84887750>\n"
     ]
    }
   ],
   "source": [
    "print(john)"
   ]
  },
  {
   "cell_type": "markdown",
   "metadata": {},
   "source": [
    "ugg!"
   ]
  },
  {
   "cell_type": "code",
   "execution_count": 23,
   "metadata": {},
   "outputs": [
    {
     "data": {
      "text/plain": [
       "<__main__.Human at 0x7f0a84887710>"
      ]
     },
     "execution_count": 23,
     "metadata": {},
     "output_type": "execute_result"
    }
   ],
   "source": [
    "perry"
   ]
  },
  {
   "cell_type": "code",
   "execution_count": 24,
   "metadata": {},
   "outputs": [
    {
     "data": {
      "text/plain": [
       "<__main__.Human at 0x7f0a84887750>"
      ]
     },
     "execution_count": 24,
     "metadata": {},
     "output_type": "execute_result"
    }
   ],
   "source": [
    "john"
   ]
  },
  {
   "cell_type": "markdown",
   "metadata": {},
   "source": [
    "ugg!"
   ]
  },
  {
   "cell_type": "markdown",
   "metadata": {},
   "source": [
    "let's create a `__repr__` and `__str__` methods..."
   ]
  },
  {
   "cell_type": "code",
   "execution_count": 25,
   "metadata": {},
   "outputs": [],
   "source": [
    "class Human(object):  # classes are usually capitalized.\n",
    "    \n",
    "    GENDER = ['male', 'female']\n",
    "    \n",
    "    def __init__(self, name, family_name, age, height, weight):\n",
    "        \n",
    "        self.name = name\n",
    "        self.family_name = family_name\n",
    "        self.age = age\n",
    "        self.height = height\n",
    "        self.weight = weight\n",
    "        self.gender = random.choice(self.GENDER)\n",
    "        \n",
    "    def greet(self, other):\n",
    "        print(f'hi!, my name is {self.name} {self.family_name}, how are you {other.name} {other.family_name}?')\n",
    "    \n",
    "    def __repr__(self):\n",
    "        return f\"<Human(name: '{self.name}', family_name: '{self.family_name}')>\"\n",
    "    \n",
    "    def __str__(self):\n",
    "        return f\"'{self.name}'\""
   ]
  },
  {
   "cell_type": "code",
   "execution_count": 26,
   "metadata": {},
   "outputs": [],
   "source": [
    "david = Human(name='david', \n",
    "              family_name='no_family', \n",
    "              age=18, \n",
    "              height=150, \n",
    "              weight=60)"
   ]
  },
  {
   "cell_type": "markdown",
   "metadata": {},
   "source": [
    "let's see if looks better now..."
   ]
  },
  {
   "cell_type": "code",
   "execution_count": 27,
   "metadata": {},
   "outputs": [
    {
     "name": "stdout",
     "output_type": "stream",
     "text": [
      "'david'\n"
     ]
    }
   ],
   "source": [
    "print(david)"
   ]
  },
  {
   "cell_type": "code",
   "execution_count": 28,
   "metadata": {},
   "outputs": [
    {
     "data": {
      "text/plain": [
       "<Human(name: 'david', family_name: 'no_family')>"
      ]
     },
     "execution_count": 28,
     "metadata": {},
     "output_type": "execute_result"
    }
   ],
   "source": [
    "david"
   ]
  },
  {
   "cell_type": "markdown",
   "metadata": {},
   "source": [
    "## 5. inheritance"
   ]
  },
  {
   "cell_type": "markdown",
   "metadata": {},
   "source": [
    "this allows to extend classes, inheriting all methods and attributes"
   ]
  },
  {
   "cell_type": "code",
   "execution_count": 29,
   "metadata": {},
   "outputs": [],
   "source": [
    "class FootballPlayer(Human):\n",
    "    \n",
    "    def __init__(self, \n",
    "                 name, \n",
    "                 family_name, \n",
    "                 age, \n",
    "                 height, \n",
    "                 weight, \n",
    "                 team):\n",
    "        \n",
    "        super().__init__(name, family_name, age, height, weight)\n",
    "        \n",
    "        self.team = team\n",
    "        \n",
    "    def __repr__(self):\n",
    "        return f\"<Footballer(name: '{self.name}', family_name: '{self.family_name}', team: '{self.team}')>\"\n",
    "    \n",
    "    def __str__(self):\n",
    "        return f\"'{self.name}'\""
   ]
  },
  {
   "cell_type": "code",
   "execution_count": 30,
   "metadata": {},
   "outputs": [],
   "source": [
    "messi = FootballPlayer(name='Lionel', \n",
    "                       family_name='Messi', \n",
    "                       age=32, \n",
    "                       height=170, \n",
    "                       weight=72, \n",
    "                       team='Barcelona')"
   ]
  },
  {
   "cell_type": "code",
   "execution_count": 31,
   "metadata": {},
   "outputs": [
    {
     "name": "stdout",
     "output_type": "stream",
     "text": [
      "'Lionel'\n"
     ]
    }
   ],
   "source": [
    "print(messi)"
   ]
  },
  {
   "cell_type": "code",
   "execution_count": 32,
   "metadata": {},
   "outputs": [
    {
     "data": {
      "text/plain": [
       "<Footballer(name: 'Lionel', family_name: 'Messi', team: 'Barcelona')>"
      ]
     },
     "execution_count": 32,
     "metadata": {},
     "output_type": "execute_result"
    }
   ],
   "source": [
    "messi"
   ]
  },
  {
   "cell_type": "markdown",
   "metadata": {},
   "source": [
    "## 6. some fun"
   ]
  },
  {
   "cell_type": "markdown",
   "metadata": {},
   "source": [
    "let's create some artificial human inside this jupyter..."
   ]
  },
  {
   "cell_type": "code",
   "execution_count": 33,
   "metadata": {},
   "outputs": [],
   "source": [
    "import random\n",
    "import secrets\n",
    "\n",
    "import numpy as np"
   ]
  },
  {
   "cell_type": "code",
   "execution_count": 34,
   "metadata": {},
   "outputs": [],
   "source": [
    "class Human(object):\n",
    "    \n",
    "    GENDERS = ['male', 'female']\n",
    "    \n",
    "    def __init__(self):\n",
    "        \n",
    "        # existence\n",
    "        self.exists = False\n",
    "        self.is_dead = None\n",
    "        \n",
    "        # identity\n",
    "        self.name = None\n",
    "        self.family_name = None\n",
    "        \n",
    "        # modify class attribute to implement incremental ID\n",
    "        self.id = secrets.token_urlsafe(16)\n",
    "        \n",
    "        # traits\n",
    "        self.gender = None\n",
    "        self.age = None\n",
    "        self.height = None\n",
    "        self.weight = None\n",
    "        \n",
    "        # day to day\n",
    "        self.awake = None\n",
    "        \n",
    "        # relationships\n",
    "        self.spouse = None\n",
    "        self.friends = []\n",
    "        \n",
    "        # add new attributes here (clothes and more)\n",
    "        \n",
    "    def born(self):\n",
    "        \n",
    "        if self.exists:\n",
    "            raise AssertionError('you can only born once...')\n",
    "        \n",
    "        self.gender = random.choice(self.GENDERS)\n",
    "        \n",
    "        # add random weight and height\n",
    "        self.weight = np.random.normal(3, 0.5)\n",
    "        self.height = np.random.normal(25, 15)\n",
    "        self.exists = True\n",
    "        self.awake = True\n",
    "    \n",
    "        \n",
    "        print(f'a new human was born on earth today, '\n",
    "              f'and is a: {self.gender} with id: {self.id}')\n",
    "        \n",
    "    def give_name(self, name, family_name):\n",
    "        \n",
    "        if not self.exists:\n",
    "            raise AssertionError('this human is not born...')\n",
    "        elif self.is_dead:\n",
    "            raise AssertionError('a dead human can not change name...')\n",
    "            \n",
    "        self.name = name\n",
    "        self.family_name = family_name\n",
    "        \n",
    "        print(f'human with id: {self.id} is now named: {self.name} {self.family_name}')\n",
    "        \n",
    "    def sleep(self):\n",
    "        if self.awake == True:\n",
    "            self.awake = False\n",
    "            print(f'human {self.id} is sleeping now...')\n",
    "        else:\n",
    "            print(f'human {self.id} is already asleep...')\n",
    "        \n",
    "    def wake_up(self):\n",
    "        raise NotImplementedError\n",
    "\n",
    "    def live_a_day(self, lifestyle):\n",
    "        raise NotImplementedError\n",
    "        \n",
    "    def live_a_year(self, lifestyle):\n",
    "        raise NotImplementedError\n",
    "        \n",
    "    def get_married(self, another_human):\n",
    "        raise NotImplementedError\n",
    "        \n",
    "    def have_a_baby(self, another_human):\n",
    "        raise NotImplementedError\n",
    "        \n",
    "    def eat(self):\n",
    "        raise NotImplementedError\n",
    "        \n",
    "    def exercise(self):\n",
    "        raise NotImplementedError\n",
    "        \n",
    "    def get_friends(self, another_human):\n",
    "        if isinstance(another_human, Human):\n",
    "            if another_human not in self.friends:\n",
    "                self.friends.append(another_human)\n",
    "                print(f'{self.name} {self.family_name} become '\n",
    "                  f'friends with {another_human.name} {another_human.family_name}')\n",
    "        \n",
    "    def greet(self, other):\n",
    "        print(f'hi!, my name is {self.name} {self.family_name}',\n",
    "              f'how are you {other.name} {other.family_name}?')\n",
    "    \n",
    "    def __repr__(self):\n",
    "        return f\"<Human(name: '{self.name}' family_name: '{self.family_name}')>\"\n",
    "    \n",
    "    def __str__(self):\n",
    "        return f\"'{self.name}'\""
   ]
  },
  {
   "cell_type": "markdown",
   "metadata": {},
   "source": [
    "let's simulate some human life here..."
   ]
  },
  {
   "cell_type": "code",
   "execution_count": 35,
   "metadata": {},
   "outputs": [],
   "source": [
    "david = Human()"
   ]
  },
  {
   "cell_type": "code",
   "execution_count": 36,
   "metadata": {},
   "outputs": [
    {
     "name": "stdout",
     "output_type": "stream",
     "text": [
      "a new human was born on earth today, and is a: female with id: 1ui1UiO1e0243_HynUKxXQ\n",
      "human with id: 1ui1UiO1e0243_HynUKxXQ is now named: david cañones\n"
     ]
    }
   ],
   "source": [
    "david.born()\n",
    "david.give_name('david', 'cañones')"
   ]
  },
  {
   "cell_type": "code",
   "execution_count": 37,
   "metadata": {},
   "outputs": [
    {
     "data": {
      "text/plain": [
       "3.2217067653613496"
      ]
     },
     "execution_count": 37,
     "metadata": {},
     "output_type": "execute_result"
    }
   ],
   "source": [
    "david.weight"
   ]
  },
  {
   "cell_type": "code",
   "execution_count": 38,
   "metadata": {},
   "outputs": [
    {
     "name": "stdout",
     "output_type": "stream",
     "text": [
      "human 1ui1UiO1e0243_HynUKxXQ is sleeping now...\n"
     ]
    }
   ],
   "source": [
    "david.sleep()"
   ]
  },
  {
   "cell_type": "markdown",
   "metadata": {},
   "source": [
    "let's implement the following methods..."
   ]
  },
  {
   "cell_type": "code",
   "execution_count": 39,
   "metadata": {},
   "outputs": [
    {
     "ename": "NotImplementedError",
     "evalue": "",
     "output_type": "error",
     "traceback": [
      "\u001b[0;31m---------------------------------------------------------------------------\u001b[0m",
      "\u001b[0;31mNotImplementedError\u001b[0m                       Traceback (most recent call last)",
      "\u001b[0;32m<ipython-input-39-b199dfc8ec09>\u001b[0m in \u001b[0;36m<module>\u001b[0;34m\u001b[0m\n\u001b[0;32m----> 1\u001b[0;31m \u001b[0mdavid\u001b[0m\u001b[0;34m.\u001b[0m\u001b[0mwake_up\u001b[0m\u001b[0;34m(\u001b[0m\u001b[0;34m)\u001b[0m\u001b[0;34m\u001b[0m\u001b[0;34m\u001b[0m\u001b[0m\n\u001b[0m",
      "\u001b[0;32m<ipython-input-34-65ab0991707c>\u001b[0m in \u001b[0;36mwake_up\u001b[0;34m(self)\u001b[0m\n\u001b[1;32m     68\u001b[0m \u001b[0;34m\u001b[0m\u001b[0m\n\u001b[1;32m     69\u001b[0m     \u001b[0;32mdef\u001b[0m \u001b[0mwake_up\u001b[0m\u001b[0;34m(\u001b[0m\u001b[0mself\u001b[0m\u001b[0;34m)\u001b[0m\u001b[0;34m:\u001b[0m\u001b[0;34m\u001b[0m\u001b[0;34m\u001b[0m\u001b[0m\n\u001b[0;32m---> 70\u001b[0;31m         \u001b[0;32mraise\u001b[0m \u001b[0mNotImplementedError\u001b[0m\u001b[0;34m\u001b[0m\u001b[0;34m\u001b[0m\u001b[0m\n\u001b[0m\u001b[1;32m     71\u001b[0m \u001b[0;34m\u001b[0m\u001b[0m\n\u001b[1;32m     72\u001b[0m     \u001b[0;32mdef\u001b[0m \u001b[0mlive_a_day\u001b[0m\u001b[0;34m(\u001b[0m\u001b[0mself\u001b[0m\u001b[0;34m,\u001b[0m \u001b[0mlifestyle\u001b[0m\u001b[0;34m)\u001b[0m\u001b[0;34m:\u001b[0m\u001b[0;34m\u001b[0m\u001b[0;34m\u001b[0m\u001b[0m\n",
      "\u001b[0;31mNotImplementedError\u001b[0m: "
     ]
    }
   ],
   "source": [
    "david.wake_up()"
   ]
  },
  {
   "cell_type": "code",
   "execution_count": 40,
   "metadata": {},
   "outputs": [
    {
     "ename": "NotImplementedError",
     "evalue": "",
     "output_type": "error",
     "traceback": [
      "\u001b[0;31m---------------------------------------------------------------------------\u001b[0m",
      "\u001b[0;31mNotImplementedError\u001b[0m                       Traceback (most recent call last)",
      "\u001b[0;32m<ipython-input-40-b199dfc8ec09>\u001b[0m in \u001b[0;36m<module>\u001b[0;34m\u001b[0m\n\u001b[0;32m----> 1\u001b[0;31m \u001b[0mdavid\u001b[0m\u001b[0;34m.\u001b[0m\u001b[0mwake_up\u001b[0m\u001b[0;34m(\u001b[0m\u001b[0;34m)\u001b[0m\u001b[0;34m\u001b[0m\u001b[0;34m\u001b[0m\u001b[0m\n\u001b[0m",
      "\u001b[0;32m<ipython-input-34-65ab0991707c>\u001b[0m in \u001b[0;36mwake_up\u001b[0;34m(self)\u001b[0m\n\u001b[1;32m     68\u001b[0m \u001b[0;34m\u001b[0m\u001b[0m\n\u001b[1;32m     69\u001b[0m     \u001b[0;32mdef\u001b[0m \u001b[0mwake_up\u001b[0m\u001b[0;34m(\u001b[0m\u001b[0mself\u001b[0m\u001b[0;34m)\u001b[0m\u001b[0;34m:\u001b[0m\u001b[0;34m\u001b[0m\u001b[0;34m\u001b[0m\u001b[0m\n\u001b[0;32m---> 70\u001b[0;31m         \u001b[0;32mraise\u001b[0m \u001b[0mNotImplementedError\u001b[0m\u001b[0;34m\u001b[0m\u001b[0;34m\u001b[0m\u001b[0m\n\u001b[0m\u001b[1;32m     71\u001b[0m \u001b[0;34m\u001b[0m\u001b[0m\n\u001b[1;32m     72\u001b[0m     \u001b[0;32mdef\u001b[0m \u001b[0mlive_a_day\u001b[0m\u001b[0;34m(\u001b[0m\u001b[0mself\u001b[0m\u001b[0;34m,\u001b[0m \u001b[0mlifestyle\u001b[0m\u001b[0;34m)\u001b[0m\u001b[0;34m:\u001b[0m\u001b[0;34m\u001b[0m\u001b[0;34m\u001b[0m\u001b[0m\n",
      "\u001b[0;31mNotImplementedError\u001b[0m: "
     ]
    }
   ],
   "source": [
    "david.wake_up()"
   ]
  },
  {
   "cell_type": "code",
   "execution_count": 41,
   "metadata": {},
   "outputs": [
    {
     "ename": "NotImplementedError",
     "evalue": "",
     "output_type": "error",
     "traceback": [
      "\u001b[0;31m---------------------------------------------------------------------------\u001b[0m",
      "\u001b[0;31mNotImplementedError\u001b[0m                       Traceback (most recent call last)",
      "\u001b[0;32m<ipython-input-41-dc1c8ba9fb25>\u001b[0m in \u001b[0;36m<module>\u001b[0;34m\u001b[0m\n\u001b[0;32m----> 1\u001b[0;31m \u001b[0mdavid\u001b[0m\u001b[0;34m.\u001b[0m\u001b[0mexercise\u001b[0m\u001b[0;34m(\u001b[0m\u001b[0;34m)\u001b[0m\u001b[0;34m\u001b[0m\u001b[0;34m\u001b[0m\u001b[0m\n\u001b[0m",
      "\u001b[0;32m<ipython-input-34-65ab0991707c>\u001b[0m in \u001b[0;36mexercise\u001b[0;34m(self)\u001b[0m\n\u001b[1;32m     86\u001b[0m \u001b[0;34m\u001b[0m\u001b[0m\n\u001b[1;32m     87\u001b[0m     \u001b[0;32mdef\u001b[0m \u001b[0mexercise\u001b[0m\u001b[0;34m(\u001b[0m\u001b[0mself\u001b[0m\u001b[0;34m)\u001b[0m\u001b[0;34m:\u001b[0m\u001b[0;34m\u001b[0m\u001b[0;34m\u001b[0m\u001b[0m\n\u001b[0;32m---> 88\u001b[0;31m         \u001b[0;32mraise\u001b[0m \u001b[0mNotImplementedError\u001b[0m\u001b[0;34m\u001b[0m\u001b[0;34m\u001b[0m\u001b[0m\n\u001b[0m\u001b[1;32m     89\u001b[0m \u001b[0;34m\u001b[0m\u001b[0m\n\u001b[1;32m     90\u001b[0m     \u001b[0;32mdef\u001b[0m \u001b[0mget_friends\u001b[0m\u001b[0;34m(\u001b[0m\u001b[0mself\u001b[0m\u001b[0;34m,\u001b[0m \u001b[0manother_human\u001b[0m\u001b[0;34m)\u001b[0m\u001b[0;34m:\u001b[0m\u001b[0;34m\u001b[0m\u001b[0;34m\u001b[0m\u001b[0m\n",
      "\u001b[0;31mNotImplementedError\u001b[0m: "
     ]
    }
   ],
   "source": [
    "david.exercise()"
   ]
  },
  {
   "cell_type": "code",
   "execution_count": 42,
   "metadata": {},
   "outputs": [
    {
     "name": "stdout",
     "output_type": "stream",
     "text": [
      "a new human was born on earth today, and is a: female with id: 1vgNh34pjd5nekom8L3log\n",
      "human with id: 1vgNh34pjd5nekom8L3log is now named: pedro muñoz\n"
     ]
    }
   ],
   "source": [
    "pedro = Human()\n",
    "pedro.born()\n",
    "pedro.give_name('pedro', 'muñoz')"
   ]
  },
  {
   "cell_type": "code",
   "execution_count": 43,
   "metadata": {},
   "outputs": [
    {
     "name": "stdout",
     "output_type": "stream",
     "text": [
      "david cañones become friends with pedro muñoz\n"
     ]
    }
   ],
   "source": [
    "david.get_friends(pedro)"
   ]
  },
  {
   "cell_type": "code",
   "execution_count": 44,
   "metadata": {},
   "outputs": [
    {
     "data": {
      "text/plain": [
       "[<Human(name: 'pedro' family_name: 'muñoz')>]"
      ]
     },
     "execution_count": 44,
     "metadata": {},
     "output_type": "execute_result"
    }
   ],
   "source": [
    "david.friends"
   ]
  },
  {
   "cell_type": "code",
   "execution_count": 45,
   "metadata": {},
   "outputs": [
    {
     "name": "stdout",
     "output_type": "stream",
     "text": [
      "a new human was born on earth today, and is a: female with id: cEEsJPYJwj1fPMyAuJtzYA\n",
      "human with id: cEEsJPYJwj1fPMyAuJtzYA is now named: cristina ruiz\n"
     ]
    }
   ],
   "source": [
    "cristina = Human()\n",
    "cristina.born()\n",
    "cristina.give_name('cristina', 'ruiz')"
   ]
  },
  {
   "cell_type": "markdown",
   "metadata": {},
   "source": [
    "## 7. real usage in a data science environment"
   ]
  },
  {
   "cell_type": "markdown",
   "metadata": {},
   "source": [
    "### classes in a real project..."
   ]
  },
  {
   "cell_type": "markdown",
   "metadata": {},
   "source": [
    "real examples from real world projects..."
   ]
  },
  {
   "cell_type": "markdown",
   "metadata": {},
   "source": [
    "### classes as machine learning models"
   ]
  },
  {
   "cell_type": "code",
   "execution_count": 46,
   "metadata": {},
   "outputs": [],
   "source": [
    "from sklearn.datasets import make_classification\n",
    "from sklearn.linear_model import LogisticRegression"
   ]
  },
  {
   "cell_type": "code",
   "execution_count": 47,
   "metadata": {},
   "outputs": [],
   "source": [
    "X, y = make_classification()"
   ]
  },
  {
   "cell_type": "markdown",
   "metadata": {},
   "source": [
    "and the ML algorithm is implemented as a class :-D"
   ]
  },
  {
   "cell_type": "code",
   "execution_count": 48,
   "metadata": {},
   "outputs": [],
   "source": [
    "lr = LogisticRegression(solver='lbfgs')"
   ]
  },
  {
   "cell_type": "code",
   "execution_count": 49,
   "metadata": {},
   "outputs": [
    {
     "data": {
      "text/plain": [
       "LogisticRegression(C=1.0, class_weight=None, dual=False, fit_intercept=True,\n",
       "                   intercept_scaling=1, l1_ratio=None, max_iter=100,\n",
       "                   multi_class='auto', n_jobs=None, penalty='l2',\n",
       "                   random_state=None, solver='lbfgs', tol=0.0001, verbose=0,\n",
       "                   warm_start=False)"
      ]
     },
     "execution_count": 49,
     "metadata": {},
     "output_type": "execute_result"
    }
   ],
   "source": [
    "lr.fit(X, y)"
   ]
  },
  {
   "cell_type": "code",
   "execution_count": 50,
   "metadata": {},
   "outputs": [
    {
     "data": {
      "text/plain": [
       "array([1, 0, 1, 1, 0])"
      ]
     },
     "execution_count": 50,
     "metadata": {},
     "output_type": "execute_result"
    }
   ],
   "source": [
    "lr.predict(X[:5,:])"
   ]
  },
  {
   "cell_type": "markdown",
   "metadata": {},
   "source": [
    "<div style=\"padding-top: 25px; float: right\">\n",
    "    <div>    \n",
    "        <i>&nbsp;&nbsp;© Copyright by</i>\n",
    "    </div>\n",
    "    <div>\n",
    "        <a href=\"https://whiteboxml.com\">\n",
    "            <img src=\"https://whiteboxml.com/static/img/logo/black_bg_white.svg\" width=\"125\">\n",
    "        </a>\n",
    "    </div>\n",
    "</div>"
   ]
  }
 ],
 "metadata": {
  "kernelspec": {
   "display_name": "Python [conda env:ml_env]",
   "language": "python",
   "name": "conda-env-ml_env-py"
  },
  "language_info": {
   "codemirror_mode": {
    "name": "ipython",
    "version": 3
   },
   "file_extension": ".py",
   "mimetype": "text/x-python",
   "name": "python",
   "nbconvert_exporter": "python",
   "pygments_lexer": "ipython3",
   "version": "3.8.5"
  }
 },
 "nbformat": 4,
 "nbformat_minor": 4
}
